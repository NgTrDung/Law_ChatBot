{
 "cells": [
  {
   "cell_type": "markdown",
   "metadata": {},
   "source": [
    "# 1. Thư viện"
   ]
  },
  {
   "cell_type": "code",
   "execution_count": 1,
   "metadata": {},
   "outputs": [
    {
     "name": "stderr",
     "output_type": "stream",
     "text": [
      "d:\\Download_Python\\lib\\importlib\\__init__.py:127: LangChainDeprecationWarning: As of langchain-core 0.3.0, LangChain uses pydantic v2 internally. The langchain_core.pydantic_v1 module was a compatibility shim for pydantic v1, and should no longer be used. Please update the code to import from Pydantic directly.\n",
      "\n",
      "For example, replace imports like: `from langchain_core.pydantic_v1 import BaseModel`\n",
      "with: `from pydantic import BaseModel`\n",
      "or the v1 compatibility namespace if you are working in a code base that has not been fully upgraded to pydantic 2 yet. \tfrom pydantic.v1 import BaseModel\n",
      "\n",
      "  return _bootstrap._gcd_import(name[level:], package, level)\n"
     ]
    },
    {
     "name": "stdout",
     "output_type": "stream",
     "text": [
      "WARNING:tensorflow:From d:\\Download_Python\\lib\\site-packages\\tf_keras\\src\\losses.py:2976: The name tf.losses.sparse_softmax_cross_entropy is deprecated. Please use tf.compat.v1.losses.sparse_softmax_cross_entropy instead.\n",
      "\n"
     ]
    }
   ],
   "source": [
    "import os\n",
    "import re\n",
    "\n",
    "from dotenv import load_dotenv\n",
    "from langchain_qdrant import Qdrant\n",
    "from qdrant_client.models import Filter, FieldCondition, MatchValue\n",
    "from langchain_community.embeddings import HuggingFaceBgeEmbeddings\n",
    "from apikeys_GEMINI import APIKeyManager\n",
    "\n",
    "from langchain.load import dumps, loads\n",
    "from langchain_core.prompts import ChatPromptTemplate\n",
    "from langchain_google_genai import ChatGoogleGenerativeAI\n",
    "from langchain_core.output_parsers import StrOutputParser\n",
    "\n",
    "from sentence_transformers import SentenceTransformer\n",
    "\n",
    "from sklearn.feature_extraction.text import TfidfVectorizer\n",
    "from sklearn.metrics.pairwise import cosine_similarity"
   ]
  },
  {
   "cell_type": "code",
   "execution_count": 2,
   "metadata": {},
   "outputs": [],
   "source": [
    "load_dotenv()\n",
    "\n",
    "MODEL_GEMINI = os.getenv(\"MODEL_GEMIMI\")\n",
    "if MODEL_GEMINI is None:\n",
    "    raise ValueError(\"Environment variable MODEL_GEMINI is not set\")\n",
    "elif not MODEL_GEMINI.startswith(\"models/\"):\n",
    "    MODEL_GEMINI = f\"models/{MODEL_GEMINI}\"\n",
    "\n",
    "APIS_GEMINI_LIST = os.getenv('APIS_GEMINI_LIST').split(',')\n",
    "key_manager = APIKeyManager(APIS_GEMINI_LIST)\n",
    "\n",
    "URL_QDRANT_3 = os.getenv(\"URL_QDRANT_3\")\n",
    "API_QDRANT_3 = os.getenv(\"API_QDRANT_3\")\n",
    "\n",
    "MAX_DOCS_FOR_CONTENT = 5"
   ]
  },
  {
   "cell_type": "markdown",
   "metadata": {},
   "source": [
    "# 2. Mô hình embedding"
   ]
  },
  {
   "cell_type": "markdown",
   "metadata": {},
   "source": [
    "## 2.1. Mô hình bkai cho Qdrant"
   ]
  },
  {
   "cell_type": "code",
   "execution_count": 3,
   "metadata": {},
   "outputs": [],
   "source": [
    "EMBEDDINGS_MODEL_bkai = \"bkai-foundation-models/vietnamese-bi-encoder\"\n",
    "model_kwargs = {\"device\": \"cpu\"}\n",
    "encode_kwargs = {\"normalize_embeddings\": True}\n",
    "\n",
    "embeddings_bkai = HuggingFaceBgeEmbeddings(\n",
    "    model_name=EMBEDDINGS_MODEL_bkai,\n",
    "    model_kwargs=model_kwargs,\n",
    "    encode_kwargs=encode_kwargs\n",
    ")"
   ]
  },
  {
   "cell_type": "markdown",
   "metadata": {},
   "source": [
    "## 2.2. Mô hình paraphrase-multilingual-mpnet-base-v2"
   ]
  },
  {
   "cell_type": "code",
   "execution_count": 4,
   "metadata": {},
   "outputs": [
    {
     "name": "stderr",
     "output_type": "stream",
     "text": [
      "d:\\Download_Python\\lib\\site-packages\\transformers\\tokenization_utils_base.py:1601: FutureWarning: `clean_up_tokenization_spaces` was not set. It will be set to `True` by default. This behavior will be depracted in transformers v4.45, and will be then set to `False` by default. For more details check this issue: https://github.com/huggingface/transformers/issues/31884\n",
      "  warnings.warn(\n"
     ]
    }
   ],
   "source": [
    "MODEL_RERANK = 'sentence-transformers/paraphrase-multilingual-mpnet-base-v2'\n",
    "rerank_model = SentenceTransformer(MODEL_RERANK)"
   ]
  },
  {
   "cell_type": "markdown",
   "metadata": {},
   "source": [
    "# 3. Kết nối đến Collection"
   ]
  },
  {
   "cell_type": "markdown",
   "metadata": {},
   "source": [
    "## 3.1. Luat_bkai_Article-Section_More_Keywords"
   ]
  },
  {
   "cell_type": "code",
   "execution_count": 5,
   "metadata": {},
   "outputs": [],
   "source": [
    "exist_ASMK_Collection = Qdrant.from_existing_collection(\n",
    "    embedding = embeddings_bkai,\n",
    "    url = URL_QDRANT_3,\n",
    "    api_key = API_QDRANT_3,\n",
    "    prefer_grpc=True,\n",
    "    collection_name = \"Luat_bkai_Article-Section_More_Keywords\",\n",
    "\tmetadata_payload_key=\"metadata\"\n",
    ")"
   ]
  },
  {
   "cell_type": "markdown",
   "metadata": {},
   "source": [
    "## 3.2. Luat_bkai_Article_More_Keywords"
   ]
  },
  {
   "cell_type": "code",
   "execution_count": 6,
   "metadata": {},
   "outputs": [],
   "source": [
    "exist_AMK_Collection = Qdrant.from_existing_collection(\n",
    "    embedding = embeddings_bkai,\n",
    "    url = URL_QDRANT_3,\n",
    "    api_key = API_QDRANT_3,\n",
    "    prefer_grpc=True,\n",
    "    collection_name = \"Luat_bkai_Article_More_Keywords\",\n",
    "\tmetadata_payload_key=\"metadata\"\n",
    ")"
   ]
  },
  {
   "cell_type": "markdown",
   "metadata": {},
   "source": [
    "# 4. Hàm sinh ra Similarity Queries"
   ]
  },
  {
   "cell_type": "code",
   "execution_count": 7,
   "metadata": {},
   "outputs": [],
   "source": [
    "def query_generator(original_query: str, key_manager) -> list[str]:\n",
    "    \"\"\"Generate queries from original query\"\"\"\n",
    "    # Câu truy vấn gốc\n",
    "    query = original_query\n",
    "    \n",
    "    # Cập nhật prompt để yêu cầu rõ ràng chỉ trả về 3 câu truy vấn và câu gốc\n",
    "    prompt = ChatPromptTemplate.from_messages(\n",
    "        [\n",
    "            (\"system\", \"Bạn là một trợ lý hữu ích và có nhiệm vụ tạo ra nhiều truy vấn tìm kiếm dựa trên một truy vấn gốc.\"),\n",
    "            (\"human\", \"\"\"Tạo chính xác 3 câu truy vấn tìm kiếm liên quan đến: {original_query}. Mỗi câu truy vấn trên một dòng mới. \n",
    "            Không được trả về nhiều hơn hoặc ít hơn 3 câu truy vấn. Đảm bảo không thêm bất kỳ văn bản nào khác ngoài 3 câu truy vấn này.\"\"\"),\n",
    "        ]\n",
    "    )\n",
    "    \n",
    "    model = ChatGoogleGenerativeAI(\n",
    "        # key api google gemini, nếu test mà bị báo lỗi api core thì lấy api khác trong .env để test\n",
    "        google_api_key=key_manager.get_next_key(),\n",
    "        model=MODEL_GEMINI,\n",
    "        temperature=0.15\n",
    "    )\n",
    "    \n",
    "    query_generator_chain = (\n",
    "        prompt | model | StrOutputParser()\n",
    "    )\n",
    "    \n",
    "    # Kết quả sẽ là một chuỗi các câu truy vấn cách nhau bằng dấu xuống dòng\n",
    "    result = query_generator_chain.invoke({\"original_query\": query})\n",
    "    \n",
    "    # Tách kết quả thành danh sách các câu truy vấn\n",
    "    generated_queries = result.strip().split('\\n')\n",
    "    \n",
    "    # Đảm bảo chỉ lấy 3 câu truy vấn nếu có nhiều hơn 3 câu sinh ra\n",
    "    if len(generated_queries) > 3:\n",
    "        generated_queries = generated_queries[:len(generated_queries) - 1]\n",
    "    \n",
    "    # Kết hợp câu gốc với các câu truy vấn sinh ra\n",
    "    queries = [query] + generated_queries\n",
    "    \n",
    "    return queries"
   ]
  },
  {
   "cell_type": "markdown",
   "metadata": {},
   "source": [
    "# 5. Tách Keywords"
   ]
  },
  {
   "cell_type": "markdown",
   "metadata": {},
   "source": [
    "## 5.1. Tách keywords"
   ]
  },
  {
   "cell_type": "code",
   "execution_count": 8,
   "metadata": {},
   "outputs": [],
   "source": [
    "# Hàm trích xuất từ khóa từ văn bản, loại bỏ dấu câu ngoại trừ \"/\" và \"-\"\n",
    "def extract_keywords(text):\n",
    "    text = re.sub(r'[^\\w\\s/-]', '', text)  # Loại bỏ các dấu câu không mong muốn\n",
    "    words = text.split()                   # Tách các từ theo khoảng trắng\n",
    "    unique_words = list(dict.fromkeys(words))  # Loại bỏ từ trùng lặp\n",
    "    return unique_words"
   ]
  },
  {
   "cell_type": "markdown",
   "metadata": {},
   "source": [
    "## 5.2. Xử lý lower case"
   ]
  },
  {
   "cell_type": "code",
   "execution_count": 9,
   "metadata": {},
   "outputs": [],
   "source": [
    "# Hàm xử lý các từ khóa: chuyển về chữ thường, giữ nguyên số La Mã và từ khóa có \"/\" hoặc \"-\"\n",
    "def process_keywords(keywords):\n",
    "    result = []\n",
    "    roman_numeral_pattern = re.compile(r\"^(?=[MDCLXVI])M{0,4}(CM|CD|D?C{0,3})(XC|XL|L?X{0,3})(IX|IV|V?I{0,3})$\")\n",
    "    \n",
    "    for word in keywords:\n",
    "        if roman_numeral_pattern.match(word) or any(c in word for c in \"/-\"):\n",
    "            result.append(word)\n",
    "        else:\n",
    "            result.append(word.lower())  # Chuyển các từ còn lại thành chữ thường\n",
    "    return result"
   ]
  },
  {
   "cell_type": "markdown",
   "metadata": {},
   "source": [
    "# 6. Truy vấn"
   ]
  },
  {
   "cell_type": "markdown",
   "metadata": {},
   "source": [
    "## 6.1. Hàm print_Results"
   ]
  },
  {
   "cell_type": "code",
   "execution_count": 10,
   "metadata": {},
   "outputs": [],
   "source": [
    "def print_Results_MoreKeywords(results):\n",
    "    # for doc,score in results:\n",
    "    #     print(\"Page_Content:\\n\",doc.page_content)\n",
    "    #     # print(\"Context:\\n\",doc.metadata['context'],\"\\n\")\n",
    "        # print(\"Stt:\",doc.metadata['stt'])\n",
    "        # print(\"Số hiệu:\",doc.metadata['so_hieu'])\n",
    "        # print(\"Chủ đề:\",doc.metadata['chu_de'])\n",
    "        # print(\"Chương:\",doc.metadata[\"Chapter\"])\n",
    "        # print(\"Mục:\",doc.metadata[\"Section\"])\n",
    "        # print(\"Tiểu mục:\",doc.metadata[\"Mini-Section\"])\n",
    "        # print(\"Điều:\",doc.metadata[\"Article\"])\n",
    "        # print(\"Khoản:\",doc.metadata[\"Article-Section\"])\n",
    "    #     print(\"Score:\",score,\"\\n\",\"-----------------------\")\n",
    "    for result in results:\n",
    "        doc = result[0]  # lấy phần tử đầu tiên\n",
    "        score_Qdrant = result[1]  # lấy phần tử thứ hai\n",
    "        score_Rerank = result[2]\n",
    "        print(\"Page_Content:\\n\", doc.page_content)\n",
    "        print(\"Stt:\",doc.metadata['stt'])\n",
    "        print(\"Số hiệu:\",doc.metadata['so_hieu'])\n",
    "        print(\"Chủ đề:\",doc.metadata['chu_de'])\n",
    "        print(\"Chương:\",doc.metadata[\"Chapter\"])\n",
    "        print(\"Mục:\",doc.metadata[\"Section\"])\n",
    "        print(\"Tiểu mục:\",doc.metadata[\"Mini-Section\"])\n",
    "        print(\"Điều:\",doc.metadata[\"Article\"])\n",
    "        print(\"Khoản:\",doc.metadata[\"Article-Section\"])\n",
    "        print(\"Page_Rerank:\", score_Rerank)\n",
    "        print(\"Score Qdrant:\",score_Qdrant,\"\\n\",\"-----------------------\")"
   ]
  },
  {
   "cell_type": "markdown",
   "metadata": {},
   "source": [
    "## 6.2. Tạo Filter"
   ]
  },
  {
   "cell_type": "code",
   "execution_count": 11,
   "metadata": {},
   "outputs": [],
   "source": [
    "def create_should_filter(user_keywords, metadata_fields):\n",
    "    should_conditions = []\n",
    "\n",
    "    for keyword in user_keywords:\n",
    "        for field in metadata_fields:\n",
    "            should_conditions.append(FieldCondition(\n",
    "                key=field, \n",
    "                match=MatchValue(value=keyword)\n",
    "            ))\n",
    "\n",
    "    # Trả về bộ lọc với các điều kiện `should`\n",
    "    return Filter(\n",
    "        should=should_conditions\n",
    "    )"
   ]
  },
  {
   "cell_type": "markdown",
   "metadata": {},
   "source": [
    "## 6.3. Truy vấn với Filter"
   ]
  },
  {
   "cell_type": "code",
   "execution_count": 12,
   "metadata": {},
   "outputs": [],
   "source": [
    "def search_documents_with_should_filter(user_query, metadata_fields, top_k=5):\n",
    "    # Tách keywords từ query của user\n",
    "    user_keywords = process_keywords(extract_keywords(user_query))\n",
    "    \n",
    "    # Tạo bộ lọc `should`\n",
    "    filter_conditions = create_should_filter(user_keywords, metadata_fields)\n",
    "    \n",
    "    # Thực hiện tìm kiếm trên Qdrant với filter `should`\n",
    "    search_results = exist_ASMK_Collection.similarity_search_with_score(\n",
    "        query=user_query,\n",
    "        filter=filter_conditions,\n",
    "        k=top_k\n",
    "    )\n",
    "    \n",
    "    return search_results"
   ]
  },
  {
   "cell_type": "code",
   "execution_count": 13,
   "metadata": {},
   "outputs": [],
   "source": [
    "def combined_search(user_query: str, key_manager, metadata_fields, top_k=5):\n",
    "    # Gọi hàm query_generator để sinh ra 3 truy vấn từ query gốc\n",
    "    queries = query_generator(user_query, key_manager)\n",
    "\n",
    "    print(\"4 câu queries:\\n\")\n",
    "    for q in queries:\n",
    "        print(q)\n",
    "\n",
    "    print(\"\\nCác kết quả trả về:\\n\")\n",
    "    # Lưu trữ kết quả cho từng query\n",
    "    query_results = []\n",
    "\n",
    "    # Thực hiện tìm kiếm cho mỗi query trong danh sách queries\n",
    "    for query in queries:\n",
    "        search_results = search_documents_with_should_filter(query, metadata_fields, top_k=top_k)\n",
    "        query_results.extend(search_results)  # Lưu kết quả riêng cho từng query\n",
    "\n",
    "    # Dictionary để lưu các kết quả unique, key là `doc.page_content`\n",
    "    unique_results = {}\n",
    "\n",
    "    # Duyệt qua từng kết quả\n",
    "    for doc, score in query_results:\n",
    "        # Kiểm tra nếu `doc.page_content` đã tồn tại trong unique_results\n",
    "        if doc.page_content in unique_results:\n",
    "            # Nếu tồn tại, so sánh score và giữ lại cái có score cao hơn\n",
    "            if score > unique_results[doc.page_content][1]:\n",
    "                unique_results[doc.page_content] = (doc, score)\n",
    "        else:\n",
    "            # Nếu chưa tồn tại, thêm vào unique_results\n",
    "            unique_results[doc.page_content] = (doc, score)\n",
    "\n",
    "    # Trả về danh sách kết quả duy nhất, với các giá trị từ dictionary\n",
    "    return list(unique_results.values())"
   ]
  },
  {
   "cell_type": "markdown",
   "metadata": {},
   "source": [
    "## 6.4. Re-rank theo trọng số Similarity và TF-IDF"
   ]
  },
  {
   "cell_type": "code",
   "execution_count": 14,
   "metadata": {},
   "outputs": [],
   "source": [
    "def calculate_scores(user_query, unique_results):\n",
    "    # Tạo danh sách các doc.page_content từ unique_results\n",
    "    documents = [doc.page_content for doc, _ in unique_results]\n",
    "    \n",
    "    # Tính cosine similarity\n",
    "    user_query_embedding = rerank_model.encode(user_query)\n",
    "    document_embeddings = rerank_model.encode(documents)\n",
    "    cosine_similarities = cosine_similarity([user_query_embedding], document_embeddings)[0]\n",
    "\n",
    "    # Tính TF-IDF\n",
    "    vectorizer = TfidfVectorizer()\n",
    "    tfidf_matrix = vectorizer.fit_transform([user_query] + documents)\n",
    "    tfidf_scores = tfidf_matrix.toarray()[0][1:]  # Lấy chỉ số TF-IDF cho các documents\n",
    "\n",
    "    # Tính điểm tổng hợp\n",
    "    combined_scores = []\n",
    "    for cos_sim, tfidf_score in zip(cosine_similarities, tfidf_scores):\n",
    "        combined_score = 0.7 * cos_sim + 0.3 * tfidf_score\n",
    "        combined_scores.append(combined_score)\n",
    "\n",
    "    # Tạo danh sách kết quả với điểm số\n",
    "    results_with_scores = [(unique_results[i][0], unique_results[i][1], combined_scores[i]) for i in range(len(unique_results))]\n",
    "\n",
    "    # Sắp xếp kết quả theo điểm số giảm dần\n",
    "    results_with_scores.sort(key=lambda x: x[2], reverse=True)\n",
    "\n",
    "    # Lấy top 5 kết quả\n",
    "    top_results = results_with_scores[:5]\n",
    "    \n",
    "    return top_results"
   ]
  },
  {
   "cell_type": "markdown",
   "metadata": {},
   "source": [
    "## 6.5. Các metadata cần filter"
   ]
  },
  {
   "cell_type": "code",
   "execution_count": 15,
   "metadata": {},
   "outputs": [],
   "source": [
    "# Các metadata fields cần lọc\n",
    "metadata_fields = [\n",
    "    \"metadata.loai_van_ban_Keywords\", \n",
    "    \"metadata.noi_ban_hanh_Keywords\", \n",
    "    \"metadata.so_hieu\", \n",
    "    \"metadata.linhvuc_nganh_Keywords\", \n",
    "    \"metadata.ngay_ban_hanh\", \n",
    "    \"metadata.ngay_hieu_luc\", \n",
    "    \"metadata.chu_de_Keywords\", \n",
    "    \"metadata.Chapter_Keywords\", \n",
    "    \"metadata.Section_Keywords\",  \n",
    "    \"metadata.Mini-Section_Keywords\", \n",
    "    \"metadata.Article_Keywords\",\n",
    "    \"metadata.Article-Section_Keywords\",\n",
    "    \"metadata.Content_Keywords\",\n",
    "    \"metadata.combine_Article_Content_Keywords\"\n",
    "]"
   ]
  },
  {
   "cell_type": "markdown",
   "metadata": {},
   "source": [
    "## 6.6. Thực hiện truy vấn Khoản"
   ]
  },
  {
   "cell_type": "code",
   "execution_count": 16,
   "metadata": {},
   "outputs": [
    {
     "name": "stdout",
     "output_type": "stream",
     "text": [
      "4 câu queries:\n",
      "\n",
      "Luật quy định như thế nào về việc thành viên trong tổ hợp tác hoặc hợp tác xã sử dụng quyền hạn cho mục đích cá nhân? Có điều khoản nào ngăn cấm việc này không?\n",
      "Quy định pháp luật về việc thành viên tổ hợp tác, hợp tác xã lợi dụng chức vụ quyền hạn谋取 lợi ích cá nhân\n",
      "Điều khoản nào cấm thành viên tổ hợp tác, hợp tác xã lạm dụng quyền hạn vì mục đích cá nhân?\n",
      "Trách nhiệm của thành viên tổ hợp tác, hợp tác xã khi sử dụng quyền hạn cho mục đích cá nhân trái quy định pháp luật\n",
      "\n",
      "Các kết quả trả về:\n",
      "\n",
      "Page_Content:\n",
      " 3. Đối với thành viên của tổ hợp tác, hợp tác xã, liên hiệp hợp tác xã:\n",
      "a) Lợi dụng chức vụ, quyền hạn vì lợi ích cá nhân hoặc của một nhóm thành viên;\n",
      "b) Cung cấp thông tin không trung thực cho tổ hợp tác, hợp tác xã, liên hiệp hợp tác xã.\n",
      "Stt: 8\n",
      "Số hiệu: 17/2023/QH15\n",
      "Chủ đề: Hợp tác xã\n",
      "Chương: Chương I: NHỮNG QUY ĐỊNH CHUNG\n",
      "Mục: None\n",
      "Tiểu mục: None\n",
      "Điều: Điều 7. Hành vi bị nghiêm cấm liên quan đến tổ hợp tác, hợp tác xã, liên hiệp hợp tác xã\n",
      "Khoản: Khoản 3\n",
      "Page_Rerank: 0.5611519455909728\n",
      "Score Qdrant: 0.5256299376487732 \n",
      " -----------------------\n",
      "Page_Content:\n",
      " 2. Hợp tác xã, liên hiệp hợp tác xã thực hiện quyền, nghĩa vụ của mình với tư cách là thành viên, cổ đông của doanh nghiệp theo quy định của pháp luật về doanh nghiệp và pháp luật có liên quan.\n",
      "Stt: 8\n",
      "Số hiệu: 17/2023/QH15\n",
      "Chủ đề: Hợp tác xã\n",
      "Chương: Chương VI: TÀI SẢN, TÀI CHÍNH CỦA HỢP TÁC XÃ, LIÊN HIỆP HỢP TÁC XÃ\n",
      "Mục: None\n",
      "Tiểu mục: None\n",
      "Điều: Điều 82. Góp vốn, mua cổ phần tham gia doanh nghiệp\n",
      "Khoản: Khoản 2\n",
      "Page_Rerank: 0.5450656294822692\n",
      "Score Qdrant: 0.4432389438152313 \n",
      " -----------------------\n",
      "Page_Content:\n",
      " 4. Trường hợp thành viên chính thức, thành viên liên kết góp vốn là cá nhân biệt tích thì quyền, nghĩa vụ của thành viên được thực hiện thông qua người quản lý tài sản của thành viên đó theo quy định của pháp luật về dân sự.\n",
      "Stt: 8\n",
      "Số hiệu: 17/2023/QH15\n",
      "Chủ đề: Hợp tác xã\n",
      "Chương: Chương VI: TÀI SẢN, TÀI CHÍNH CỦA HỢP TÁC XÃ, LIÊN HIỆP HỢP TÁC XÃ\n",
      "Mục: None\n",
      "Tiểu mục: None\n",
      "Điều: Điều 90. Trả lại, thừa kế phần vốn góp\n",
      "Khoản: Khoản 4\n",
      "Page_Rerank: 0.5336606621742248\n",
      "Score Qdrant: 0.44576629996299744 \n",
      " -----------------------\n",
      "Page_Content:\n",
      " 7. Chịu trách nhiệm khi nhân danh ngân hàng hợp tác xã, quỹ tín dụng nhân dân dưới mọi hình thức để thực hiện hành vi vi phạm pháp luật, tiến hành kinh doanh, giao dịch khác để tư lợi hoặc phục vụ lợi ích của tổ chức, cá nhân khác.\n",
      "Stt: 19\n",
      "Số hiệu: 32/2024/QH15\n",
      "Chủ đề: Các tổ chức tín dụng\n",
      "Chương: Chương IV: TỔ CHỨC, QUẢN TRỊ, ĐIỀU HÀNH CỦA TỔ CHỨC TÍN DỤNG, CHI NHÁNH NGÂN HÀNG NƯỚC NGOÀI\n",
      "Mục: Mục 6. TỔ CHỨC TÍN DỤNG LÀ HỢP TÁC XÃ\n",
      "Tiểu mục: None\n",
      "Điều: Điều 85. Nghĩa vụ của thành viên\n",
      "Khoản: Khoản 7\n",
      "Page_Rerank: 0.4781056523323059\n",
      "Score Qdrant: 0.5064963698387146 \n",
      " -----------------------\n",
      "Page_Content:\n",
      " 5. Trường hợp thành viên là cá nhân bị Tòa án tuyên bố bị hạn chế hoặc mất năng lực hành vi dân sự, có khó khăn trong nhận thức, làm chủ hành vi thì quyền, nghĩa vụ của thành viên được thực hiện thông qua người giám hộ hoặc người đại diện theo pháp luật của thành viên đó theo quy định của pháp luật về dân sự.\n",
      "Stt: 8\n",
      "Số hiệu: 17/2023/QH15\n",
      "Chủ đề: Hợp tác xã\n",
      "Chương: Chương VI: TÀI SẢN, TÀI CHÍNH CỦA HỢP TÁC XÃ, LIÊN HIỆP HỢP TÁC XÃ\n",
      "Mục: None\n",
      "Tiểu mục: None\n",
      "Điều: Điều 90. Trả lại, thừa kế phần vốn góp\n",
      "Khoản: Khoản 5\n",
      "Page_Rerank: 0.46772899627685544\n",
      "Score Qdrant: 0.4611833095550537 \n",
      " -----------------------\n"
     ]
    }
   ],
   "source": [
    "# Ví dụ sử dụng\n",
    "user_query= \"Luật quy định như thế nào về việc thành viên trong tổ hợp tác hoặc hợp tác xã sử dụng quyền hạn cho mục đích cá nhân? Có điều khoản nào ngăn cấm việc này không?\"\n",
    "\n",
    "search_Results = combined_search(user_query, key_manager, metadata_fields, top_k=5)\n",
    "\n",
    "re_Rank_Results = calculate_scores(user_query, search_Results)\n",
    "\n",
    "# In ra kết quả top 5 tài liệu\n",
    "print_Results_MoreKeywords(re_Rank_Results)"
   ]
  },
  {
   "cell_type": "markdown",
   "metadata": {},
   "source": [
    "## 6.7. Lấy metadata để truy xuất Điều"
   ]
  },
  {
   "cell_type": "code",
   "execution_count": 17,
   "metadata": {},
   "outputs": [],
   "source": [
    "def extract_unique_metadata(top_results):\n",
    "    metadata_list = []\n",
    "    metadata_dict_set = set()  # Sử dụng set để lưu trữ các metadata duy nhất\n",
    "\n",
    "    # Truy cập vào từng result trong top_results\n",
    "    for result in top_results:\n",
    "        doc = result[0]  # Lấy doc từ result\n",
    "        \n",
    "        # Tạo một dictionary chứa các thuộc tính từ metadata\n",
    "        metadata = {\n",
    "            \"stt\": doc.metadata.get('stt'),\n",
    "            \"loai_van_ban\": doc.metadata.get('loai_van_ban'),\n",
    "            \"noi_ban_hanh\": doc.metadata.get('noi_ban_hanh'),\n",
    "            \"so_hieu\": doc.metadata.get('so_hieu'),\n",
    "            \"linhvuc_nganh\": doc.metadata.get('linhvuc_nganh'),\n",
    "            \"ngay_ban_hanh\": doc.metadata.get('ngay_ban_hanh'),\n",
    "            \"ngay_hieu_luc\": doc.metadata.get('ngay_hieu_luc'),\n",
    "            \"chu_de\": doc.metadata.get('chu_de'),\n",
    "            \"Chapter\": doc.metadata.get('Chapter'),\n",
    "            \"Section\": doc.metadata.get('Section'),\n",
    "            \"Mini-Section\": doc.metadata.get('Mini-Section'),\n",
    "            \"Article\": doc.metadata.get('Article'),\n",
    "        }\n",
    "\n",
    "        # Lọc bỏ các key-value có giá trị None\n",
    "        filtered_metadata = {key: value for key, value in metadata.items() if value is not None}\n",
    "\n",
    "        # Chuyển đổi dict thành tuple để thêm vào set\n",
    "        metadata_tuple = tuple(filtered_metadata.items())\n",
    "        \n",
    "        # Kiểm tra và thêm vào set nếu chưa có\n",
    "        metadata_dict_set.add(metadata_tuple)\n",
    "\n",
    "    # Chuyển đổi lại set thành list và định dạng lại thành dict\n",
    "    for metadata_tuple in metadata_dict_set:\n",
    "        metadata_dict = dict(metadata_tuple)\n",
    "        metadata_list.append(metadata_dict)\n",
    "\n",
    "    return metadata_list"
   ]
  },
  {
   "cell_type": "code",
   "execution_count": 18,
   "metadata": {},
   "outputs": [
    {
     "name": "stdout",
     "output_type": "stream",
     "text": [
      "[{'stt': '19', 'loai_van_ban': 'Luật', 'noi_ban_hanh': 'Quốc hội', 'so_hieu': '32/2024/QH15', 'linhvuc_nganh': 'Tiền tệ - Ngân hàng', 'ngay_ban_hanh': '18/01/2024', 'ngay_hieu_luc': '01/07/2024', 'chu_de': 'Các tổ chức tín dụng', 'Chapter': 'Chương IV: TỔ CHỨC, QUẢN TRỊ, ĐIỀU HÀNH CỦA TỔ CHỨC TÍN DỤNG, CHI NHÁNH NGÂN HÀNG NƯỚC NGOÀI', 'Section': 'Mục 6. TỔ CHỨC TÍN DỤNG LÀ HỢP TÁC XÃ', 'Article': 'Điều 85. Nghĩa vụ của thành viên'}, {'stt': '8', 'loai_van_ban': 'Luật', 'noi_ban_hanh': 'Quốc hội', 'so_hieu': '17/2023/QH15', 'linhvuc_nganh': 'Doanh nghiệp', 'ngay_ban_hanh': '20/06/2023', 'ngay_hieu_luc': '01/07/2024', 'chu_de': 'Hợp tác xã', 'Chapter': 'Chương I: NHỮNG QUY ĐỊNH CHUNG', 'Article': 'Điều 7. Hành vi bị nghiêm cấm liên quan đến tổ hợp tác, hợp tác xã, liên hiệp hợp tác xã'}, {'stt': '8', 'loai_van_ban': 'Luật', 'noi_ban_hanh': 'Quốc hội', 'so_hieu': '17/2023/QH15', 'linhvuc_nganh': 'Doanh nghiệp', 'ngay_ban_hanh': '20/06/2023', 'ngay_hieu_luc': '01/07/2024', 'chu_de': 'Hợp tác xã', 'Chapter': 'Chương VI: TÀI SẢN, TÀI CHÍNH CỦA HỢP TÁC XÃ, LIÊN HIỆP HỢP TÁC XÃ', 'Article': 'Điều 82. Góp vốn, mua cổ phần tham gia doanh nghiệp'}, {'stt': '8', 'loai_van_ban': 'Luật', 'noi_ban_hanh': 'Quốc hội', 'so_hieu': '17/2023/QH15', 'linhvuc_nganh': 'Doanh nghiệp', 'ngay_ban_hanh': '20/06/2023', 'ngay_hieu_luc': '01/07/2024', 'chu_de': 'Hợp tác xã', 'Chapter': 'Chương VI: TÀI SẢN, TÀI CHÍNH CỦA HỢP TÁC XÃ, LIÊN HIỆP HỢP TÁC XÃ', 'Article': 'Điều 90. Trả lại, thừa kế phần vốn góp'}]\n"
     ]
    }
   ],
   "source": [
    "list_Metadata = extract_unique_metadata(re_Rank_Results)\n",
    "print(list_Metadata)"
   ]
  },
  {
   "cell_type": "markdown",
   "metadata": {},
   "source": [
    "## 6.8. Thực hiện truy vấn Điều"
   ]
  },
  {
   "cell_type": "code",
   "execution_count": 19,
   "metadata": {},
   "outputs": [],
   "source": [
    "def search_documents_with_metadata_filter(list_Metadata, top_k=1):\n",
    "    search_results = []\n",
    "\n",
    "    # Duyệt qua từng phần tử trong list_Metadata\n",
    "    for metadata in list_Metadata:        \n",
    "        # Thực hiện tìm kiếm với query trống và bộ lọc\n",
    "        results = exist_AMK_Collection.similarity_search_with_score(\n",
    "            query=\"\",  # Query để trống\n",
    "            filter=metadata,\n",
    "            k=top_k\n",
    "        )\n",
    "        \n",
    "        # Thêm kết quả vào danh sách tìm kiếm\n",
    "        search_results.extend(results)\n",
    "\n",
    "    return search_results"
   ]
  },
  {
   "cell_type": "code",
   "execution_count": 20,
   "metadata": {},
   "outputs": [
    {
     "name": "stdout",
     "output_type": "stream",
     "text": [
      "Stt: 19 \n",
      "\n",
      "Điều và Nội dung Điều:\n",
      " Điều 85. Nghĩa vụ của thành viên\n",
      "1. Tuân thủ tôn chỉ, mục đích, Điều lệ, quy chế của ngân hàng hợp tác xã, quỹ tín dụng nhân dân, nghị quyết, quyết định của Đại hội thành viên, Hội đồng quản trị.\n",
      "2. Góp đầy đủ, đúng thời hạn phần vốn góp đã cam kết theo quy định tại Điều lệ của ngân hàng hợp tác xã, Điều lệ của quỹ tín dụng nhân dân và quy định khác của pháp luật có liên quan.\n",
      "3. Hợp tác, tương trợ giữa các thành viên, góp phần xây dựng và thúc đẩy sự phát triển của ngân hàng hợp tác xã, quỹ tín dụng nhân dân.\n",
      "4. Chịu trách nhiệm về các khoản nợ và nghĩa vụ tài chính của ngân hàng hợp tác xã, quỹ tín dụng nhân dân trong phạm vi phần vốn góp vào ngân hàng hợp tác xã, quỹ tín dụng nhân dân.\n",
      "5. Hoàn trả gốc và lãi tiền vay của ngân hàng hợp tác xã, quỹ tín dụng nhân dân theo đúng cam kết.\n",
      "6. Bồi thường thiệt hại do mình gây ra cho ngân hàng hợp tác xã, quỹ tín dụng nhân dân theo quy định của pháp luật và Điều lệ của ngân hàng hợp tác xã, Điều lệ của quỹ tín dụng nhân dân.\n",
      "7. Chịu trách nhiệm khi nhân danh ngân hàng hợp tác xã, quỹ tín dụng nhân dân dưới mọi hình thức để thực hiện hành vi vi phạm pháp luật, tiến hành kinh doanh, giao dịch khác để tư lợi hoặc phục vụ lợi ích của tổ chức, cá nhân khác.\n",
      "8. Nghĩa vụ khác theo quy định của pháp luật và Điều lệ của ngân hàng hợp tác xã, Điều lệ của quỹ tín dụng nhân dân. \n",
      " -----------------------\n",
      "Stt: 8 \n",
      "\n",
      "Điều và Nội dung Điều:\n",
      " Điều 7. Hành vi bị nghiêm cấm liên quan đến tổ hợp tác, hợp tác xã, liên hiệp hợp tác xã\n",
      "1. Đối với cơ quan quản lý nhà nước:\n",
      "a) Cấp Giấy chứng nhận đăng ký hợp tác xã, Giấy chứng nhận đăng ký tổ hợp tác trong trường hợp không đủ điều kiện; từ chối cấp Giấy chứng nhận đăng ký hợp tác xã, Giấy chứng nhận đăng ký tổ hợp tác trong trường hợp đủ điều kiện theo quy định của Luật này;\n",
      "b) Cản trở việc thực hiện các quyền, nghĩa vụ hợp pháp của tổ hợp tác, hợp tác xã, liên hiệp hợp tác xã, thành viên theo quy định của Luật này;\n",
      "c) Hỗ trợ, ưu đãi cho tổ hợp tác, hợp tác xã, liên hiệp hợp tác xã không đúng nguyên tắc, đối tượng, thẩm quyền, nội dung, trình tự, thủ tục theo quy định của pháp luật;\n",
      "d) Lợi dụng quyền hạn để làm trái với các quy định của pháp luật về hỗ trợ, ưu đãi cho tổ hợp tác, hợp tác xã, liên hiệp hợp tác xã;\n",
      "đ) Gây chậm trễ, phiền hà, cản trở, sách nhiễu tổ hợp tác, hợp tác xã, liên hiệp hợp tác xã, tổ chức, cá nhân có liên quan trong đăng ký, hoạt động và thực hiện hỗ trợ tổ hợp tác, hợp tác xã, liên hiệp hợp tác xã;\n",
      "e) Cố ý báo cáo, cung cấp thông tin sai lệch, không trung thực liên quan đến hỗ trợ, ưu đãi cho tổ hợp tác, hợp tác xã, liên hiệp hợp tác xã.\n",
      "2. Đối với tổ hợp tác, hợp tác xã, liên hiệp hợp tác xã:\n",
      "a) Hoạt động không có giấy chứng nhận đăng ký theo quy định của Luật này; hoạt động khi không đủ điều kiện theo quy định của Luật này và pháp luật có liên quan;\n",
      "b) Kê khai không trung thực, không chính xác nội dung hồ sơ đăng ký tổ hợp tác, hợp tác xã, liên hiệp hợp tác xã;\n",
      "c) Thực hiện không đúng các nguyên tắc tổ chức, quản lý và hoạt động theo quy định của Luật này;\n",
      "d) Cung cấp thông tin giả mạo, không trung thực, làm giả giấy tờ để trục lợi;\n",
      "đ) Sử dụng nguồn lực hỗ trợ không đúng mục đích đã cam kết.\n",
      "3. Đối với thành viên của tổ hợp tác, hợp tác xã, liên hiệp hợp tác xã:\n",
      "a) Lợi dụng chức vụ, quyền hạn vì lợi ích cá nhân hoặc của một nhóm thành viên;\n",
      "b) Cung cấp thông tin không trung thực cho tổ hợp tác, hợp tác xã, liên hiệp hợp tác xã. \n",
      " -----------------------\n",
      "Stt: 8 \n",
      "\n",
      "Điều và Nội dung Điều:\n",
      " Điều 82. Góp vốn, mua cổ phần tham gia doanh nghiệp\n",
      "1. Hợp tác xã, liên hiệp hợp tác xã được góp vốn, mua cổ phần tham gia doanh nghiệp, trừ doanh nghiệp đang là thành viên chính thức hoặc thành viên liên kết góp vốn của hợp tác xã, liên hiệp hợp tác xã nhằm mục tiêu hỗ trợ hoạt động, liên kết, tiêu thụ, sử dụng sản phẩm, dịch vụ của hợp tác xã, liên hiệp hợp tác xã.\n",
      "2. Hợp tác xã, liên hiệp hợp tác xã thực hiện quyền, nghĩa vụ của mình với tư cách là thành viên, cổ đông của doanh nghiệp theo quy định của pháp luật về doanh nghiệp và pháp luật có liên quan.\n",
      "3. Doanh nghiệp được góp vốn, mua cổ phần không được trở thành thành viên chính thức, thành viên liên kết góp vốn của hợp tác xã, liên hiệp hợp tác xã đó.\n",
      "4. Việc góp vốn, mua cả phần tham gia doanh nghiệp của hợp tác xã, liên hiệp hợp tác xã phải bảo đảm các quy định sau đây:\n",
      "a) Được Đại hội thành viên thông qua;\n",
      "b) Không được sử dụng các nguồn vốn thuộc quỹ chung không chia và tài sản chung không chia để góp vốn, mua cổ phần tham gia doanh nghiệp.\n",
      "5. Chính phủ quy định điều kiện góp vốn, mua cổ phần tham gia doanh nghiệp. \n",
      " -----------------------\n",
      "Stt: 8 \n",
      "\n",
      "Điều và Nội dung Điều:\n",
      " Điều 90. Trả lại, thừa kế phần vốn góp\n",
      "1. Hợp tác xã, liên hiệp hợp tác xã trả lại phần vốn góp cho thành viên khi chấm dứt tư cách thành viên hoặc trả lại phần vốn góp vượt quá vốn góp tối đa của thành viên theo quy định của Luật này và Điều lệ.\n",
      "2. Thành viên được trả lại phần vốn góp sau khi đã thực hiện đầy đủ nghĩa vụ tài chính của mình đối với hợp tác xã, liên hiệp hợp tác xã.\n",
      "3. Trường hợp thành viên chính thức, thành viên liên kết góp vốn là cá nhân đã chết thì người hưởng thừa kế nếu đáp ứng đủ điều kiện theo quy định của Luật này và Điều lệ, tự nguyện tham gia hợp tác xã thì trở thành thành viên chính thức hoặc thành viên liên kết góp vốn và tiếp tục thực hiện quyền, nghĩa vụ của thành viên chính thức hoặc thành viên liên kết góp vốn; nếu không tham gia hợp tác xã thì được hưởng thừa kế phần vốn góp theo quy định của pháp luật.\n",
      "4. Trường hợp thành viên chính thức, thành viên liên kết góp vốn là cá nhân biệt tích thì quyền, nghĩa vụ của thành viên được thực hiện thông qua người quản lý tài sản của thành viên đó theo quy định của pháp luật về dân sự.\n",
      "5. Trường hợp thành viên là cá nhân bị Tòa án tuyên bố bị hạn chế hoặc mất năng lực hành vi dân sự, có khó khăn trong nhận thức, làm chủ hành vi thì quyền, nghĩa vụ của thành viên được thực hiện thông qua người giám hộ hoặc người đại diện theo pháp luật của thành viên đó theo quy định của pháp luật về dân sự.\n",
      "6. Trường hợp thành viên là tổ chức chấm dứt tồn tại, giải thể, phá sản thì việc trả lại phần vốn góp được thực hiện theo quy định của pháp luật và Điều lệ. \n",
      " -----------------------\n"
     ]
    }
   ],
   "source": [
    "article_Results = search_documents_with_metadata_filter(list_Metadata)\n",
    "\n",
    "for doc, score in article_Results:\n",
    "    print(\"Stt:\",doc.metadata['stt'],\"\\n\")\n",
    "    print(\"Điều và Nội dung Điều:\\n\",doc.metadata[\"combine_Article_Content\"],\"\\n\",\"-----------------------\")\n",
    "    # print(re)"
   ]
  },
  {
   "cell_type": "code",
   "execution_count": null,
   "metadata": {},
   "outputs": [],
   "source": []
  }
 ],
 "metadata": {
  "kernelspec": {
   "display_name": "Python 3",
   "language": "python",
   "name": "python3"
  },
  "language_info": {
   "codemirror_mode": {
    "name": "ipython",
    "version": 3
   },
   "file_extension": ".py",
   "mimetype": "text/x-python",
   "name": "python",
   "nbconvert_exporter": "python",
   "pygments_lexer": "ipython3",
   "version": "3.9.8"
  }
 },
 "nbformat": 4,
 "nbformat_minor": 2
}
