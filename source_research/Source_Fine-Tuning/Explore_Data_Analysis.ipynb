{
 "cells": [
  {
   "cell_type": "markdown",
   "metadata": {},
   "source": [
    "### 1.Import Library"
   ]
  },
  {
   "cell_type": "code",
   "execution_count": 11,
   "metadata": {},
   "outputs": [],
   "source": [
    "import pandas as pd"
   ]
  },
  {
   "cell_type": "markdown",
   "metadata": {},
   "source": [
    "### 2.Explore Data Analysis"
   ]
  },
  {
   "cell_type": "markdown",
   "metadata": {},
   "source": [
    "> data origin"
   ]
  },
  {
   "cell_type": "code",
   "execution_count": 12,
   "metadata": {},
   "outputs": [],
   "source": [
    "df_bh=pd.read_csv(\"./data/bhxh_bhyt_bhtn_data.csv\")\n",
    "df_chinhsach=pd.read_csv(\"./data/chinhsach_nguoicocong_data.csv\")\n",
    "df_gd_daotao_yte=pd.read_csv(\"./data/giaoduc_daotao_yte_data.csv\")\n",
    "df_gt_xd_tn_mt=pd.read_csv(\"./data/giaothong_xaydung_tainguyen_moitruong_data.csv\")\n",
    "df_laodong_tt=pd.read_csv(\"./data/laodong_tienthuong_data.csv\")\n",
    "df_tc_nh_dt_ct=pd.read_csv(\"./data/taichinh_nganhang_dautu_congthuong_data.csv\")\n",
    "df_linhvuckhac=pd.read_csv(\"./data/linhvuckhac_data.csv\")"
   ]
  },
  {
   "cell_type": "markdown",
   "metadata": {},
   "source": [
    "> merge data"
   ]
  },
  {
   "cell_type": "code",
   "execution_count": 13,
   "metadata": {},
   "outputs": [],
   "source": [
    "# Nối các DataFrame lại thành một DataFrame duy nhất\n",
    "df_tonghop = pd.concat([df_bh, df_chinhsach, df_gd_daotao_yte, df_gt_xd_tn_mt, df_laodong_tt, df_tc_nh_dt_ct, df_linhvuckhac], ignore_index=True)\n",
    "\n",
    "df_tonghop = df_tonghop.drop(columns='Index')\n",
    "\n",
    "# Lưu DataFrame đã nối với việc thêm cột 'index' làm tên cột\n",
    "df_tonghop.to_csv(\"./data/tonghop_data.csv\", index_label='Index')\n"
   ]
  },
  {
   "cell_type": "code",
   "execution_count": 14,
   "metadata": {},
   "outputs": [
    {
     "data": {
      "text/plain": [
       "(12818, 5)"
      ]
     },
     "execution_count": 14,
     "metadata": {},
     "output_type": "execute_result"
    }
   ],
   "source": [
    "df_tonghop.shape"
   ]
  },
  {
   "cell_type": "markdown",
   "metadata": {},
   "source": [
    "> Read CSV"
   ]
  },
  {
   "cell_type": "code",
   "execution_count": 15,
   "metadata": {},
   "outputs": [],
   "source": [
    "df_train = pd.read_csv('./data/tonghop_data.csv')\n",
    "df_alqac = pd.read_csv('./data/ALQAC.csv')"
   ]
  },
  {
   "cell_type": "code",
   "execution_count": 16,
   "metadata": {},
   "outputs": [
    {
     "data": {
      "text/plain": [
       "(530, 3)"
      ]
     },
     "execution_count": 16,
     "metadata": {},
     "output_type": "execute_result"
    }
   ],
   "source": [
    "df_alqac.shape"
   ]
  },
  {
   "cell_type": "markdown",
   "metadata": {},
   "source": [
    "> Rename"
   ]
  },
  {
   "cell_type": "code",
   "execution_count": 17,
   "metadata": {},
   "outputs": [],
   "source": [
    "df_train = df_train.rename(columns={'Question': 'question', 'Situation': 'situation', 'Answer': 'answer'})"
   ]
  },
  {
   "cell_type": "markdown",
   "metadata": {},
   "source": [
    "> Create Context"
   ]
  },
  {
   "cell_type": "code",
   "execution_count": 18,
   "metadata": {},
   "outputs": [],
   "source": [
    "df_train=df_train[['question', 'situation', 'answer']]\n",
    "df_train['context']=df_train['situation']+df_train['answer']"
   ]
  },
  {
   "cell_type": "markdown",
   "metadata": {},
   "source": [
    "> format"
   ]
  },
  {
   "cell_type": "code",
   "execution_count": 19,
   "metadata": {},
   "outputs": [],
   "source": [
    "df_train=df_train[['context', 'question', 'answer']]"
   ]
  },
  {
   "cell_type": "markdown",
   "metadata": {},
   "source": [
    "> To CSV"
   ]
  },
  {
   "cell_type": "code",
   "execution_count": 20,
   "metadata": {},
   "outputs": [],
   "source": [
    "df_merged = pd.concat([df_train, df_alqac], axis=0)"
   ]
  },
  {
   "cell_type": "code",
   "execution_count": 21,
   "metadata": {},
   "outputs": [
    {
     "data": {
      "text/plain": [
       "(13348, 3)"
      ]
     },
     "execution_count": 21,
     "metadata": {},
     "output_type": "execute_result"
    }
   ],
   "source": [
    "df_merged.shape"
   ]
  },
  {
   "cell_type": "markdown",
   "metadata": {},
   "source": [
    "> To CSV"
   ]
  },
  {
   "cell_type": "code",
   "execution_count": 22,
   "metadata": {},
   "outputs": [
    {
     "name": "stdout",
     "output_type": "stream",
     "text": [
      "Chuyển đổi hoàn tất. Kiểm tra số dòng trong file CSV để đảm bảo có đủ 2824 dòng.\n"
     ]
    }
   ],
   "source": [
    "import json\n",
    "import csv\n",
    "def json_to_csv(json_file_path, csv_writer):\n",
    "    with open(json_file_path, 'r', encoding='utf-8') as json_file:\n",
    "        data = json.load(json_file)\n",
    "        for item in data:\n",
    "            for entry in item['data']:\n",
    "                for paragraph in entry['paragraphs']:\n",
    "                    context = paragraph['context']\n",
    "                    for qa in paragraph['qas']:\n",
    "                        question = qa['question']\n",
    "                        \n",
    "                        # Kiểm tra và trích xuất câu trả lời\n",
    "                        is_impossible = qa.get('is_impossible', False)\n",
    "                        if not is_impossible:\n",
    "                            answer = qa['answers'][0]['text'] if qa['answers'] else \"No answer available\"\n",
    "                        else:\n",
    "                            answer = \"No answer available\" \n",
    "                        csv_writer.writerow([context, question, answer])\n",
    "with open('./data/qa_combined_data.csv', 'w', encoding='utf-8', newline='') as csv_file:\n",
    "    writer = csv.writer(csv_file)\n",
    "    writer.writerow(['context', 'question', 'answer'])\n",
    "    json_to_csv('./data/qa_train.json', writer)\n",
    "    json_to_csv('./data/eval.json', writer)\n",
    "\n",
    "print(\"Chuyển đổi hoàn tất. Kiểm tra số dòng trong file CSV để đảm bảo có đủ 2824 dòng.\")\n"
   ]
  },
  {
   "cell_type": "code",
   "execution_count": 23,
   "metadata": {},
   "outputs": [],
   "source": [
    "import pandas as pd\n",
    "data_git=pd.read_csv(\"./data/qa_combined_data.csv\")"
   ]
  },
  {
   "cell_type": "code",
   "execution_count": 24,
   "metadata": {},
   "outputs": [
    {
     "data": {
      "text/plain": [
       "(3977, 3)"
      ]
     },
     "execution_count": 24,
     "metadata": {},
     "output_type": "execute_result"
    }
   ],
   "source": [
    "data_git.shape"
   ]
  },
  {
   "cell_type": "code",
   "execution_count": 25,
   "metadata": {},
   "outputs": [
    {
     "data": {
      "text/plain": [
       "context     0\n",
       "question    0\n",
       "answer      0\n",
       "dtype: int64"
      ]
     },
     "execution_count": 25,
     "metadata": {},
     "output_type": "execute_result"
    }
   ],
   "source": [
    "data_git.isnull().sum()"
   ]
  },
  {
   "cell_type": "markdown",
   "metadata": {},
   "source": [
    ">Final train"
   ]
  },
  {
   "cell_type": "code",
   "execution_count": 26,
   "metadata": {},
   "outputs": [],
   "source": [
    "final_data= pd.concat([df_merged,data_git], axis=0)"
   ]
  },
  {
   "cell_type": "code",
   "execution_count": 27,
   "metadata": {},
   "outputs": [
    {
     "data": {
      "text/plain": [
       "(17325, 3)"
      ]
     },
     "execution_count": 27,
     "metadata": {},
     "output_type": "execute_result"
    }
   ],
   "source": [
    "final_data.shape"
   ]
  },
  {
   "cell_type": "code",
   "execution_count": 28,
   "metadata": {},
   "outputs": [],
   "source": [
    "# import pandas as pd\n",
    "\n",
    "# # Đọc từng file .parquet\n",
    "# file1 = \"./data/data/dieu-00000-of-00005.parquet\"\n",
    "# file2 = \"./data/data/dieu-00001-of-00005.parquet\"\n",
    "# file3 = \"./data/data/dieu-00002-of-00005.parquet\"\n",
    "# file4 = \"./data/data/dieu-00003-of-00005.parquet\"\n",
    "# file5 = \"./data/data/dieu-00004-of-00005.parquet\"\n",
    "\n",
    "# # Load dữ liệu từ các file\n",
    "# df1 = pd.read_parquet(file1)\n",
    "# df2 = pd.read_parquet(file2)\n",
    "# df3 = pd.read_parquet(file3)\n",
    "# df4 = pd.read_parquet(file4)\n",
    "# df5 = pd.read_parquet(file5)\n",
    "\n",
    "# # Ghép cả 5 DataFrame lại với nhau\n",
    "# merged_df = pd.concat([df1, df2, df3, df4, df5], ignore_index=True)\n",
    "\n",
    "# # Xuất ra file CSV\n",
    "# output_file = \"./data/bo_sung.csv\"\n",
    "# merged_df.to_csv(output_file, index=False)\n",
    "\n",
    "# print(f\"Đã ghép file thành công và lưu vào: {output_file}\")\n"
   ]
  },
  {
   "cell_type": "code",
   "execution_count": 29,
   "metadata": {},
   "outputs": [],
   "source": [
    "bo_sung_df=pd.read_csv(\"./data/bo_sung.csv\")"
   ]
  },
  {
   "cell_type": "code",
   "execution_count": 30,
   "metadata": {},
   "outputs": [
    {
     "data": {
      "text/plain": [
       "(10000, 4)"
      ]
     },
     "execution_count": 30,
     "metadata": {},
     "output_type": "execute_result"
    }
   ],
   "source": [
    "bo_sung_df.shape"
   ]
  },
  {
   "cell_type": "code",
   "execution_count": 31,
   "metadata": {},
   "outputs": [],
   "source": [
    "bo_sung_df.rename(columns={\"text\":\"context\",\"content\":\"answer\",\"citation\": \"question\"}, inplace=True)"
   ]
  },
  {
   "cell_type": "code",
   "execution_count": 32,
   "metadata": {},
   "outputs": [],
   "source": [
    "formatted_df = bo_sung_df[[\"context\", \"question\", \"answer\"]]"
   ]
  },
  {
   "cell_type": "code",
   "execution_count": 33,
   "metadata": {},
   "outputs": [
    {
     "data": {
      "text/plain": [
       "(10000, 3)"
      ]
     },
     "execution_count": 33,
     "metadata": {},
     "output_type": "execute_result"
    }
   ],
   "source": [
    "formatted_df.shape"
   ]
  },
  {
   "cell_type": "code",
   "execution_count": 34,
   "metadata": {},
   "outputs": [
    {
     "data": {
      "text/plain": [
       "(27325, 3)"
      ]
     },
     "execution_count": 34,
     "metadata": {},
     "output_type": "execute_result"
    }
   ],
   "source": [
    "final_data= pd.concat([final_data,formatted_df],axis=0)\n",
    "final_data.shape"
   ]
  },
  {
   "cell_type": "code",
   "execution_count": 36,
   "metadata": {},
   "outputs": [],
   "source": [
    "final_data.to_csv(\"./data/final_train.csv\")"
   ]
  },
  {
   "cell_type": "code",
   "execution_count": 37,
   "metadata": {},
   "outputs": [
    {
     "data": {
      "text/plain": [
       "(27325, 3)"
      ]
     },
     "execution_count": 37,
     "metadata": {},
     "output_type": "execute_result"
    }
   ],
   "source": [
    "final_data.shape"
   ]
  }
 ],
 "metadata": {
  "kernelspec": {
   "display_name": "machinelearning-lTTH8rYd",
   "language": "python",
   "name": "python3"
  },
  "language_info": {
   "codemirror_mode": {
    "name": "ipython",
    "version": 3
   },
   "file_extension": ".py",
   "mimetype": "text/x-python",
   "name": "python",
   "nbconvert_exporter": "python",
   "pygments_lexer": "ipython3",
   "version": "3.11.5"
  }
 },
 "nbformat": 4,
 "nbformat_minor": 2
}
