{
 "cells": [
  {
   "cell_type": "markdown",
   "metadata": {},
   "source": [
    "### 1.Import Libary"
   ]
  },
  {
   "cell_type": "code",
   "execution_count": 31,
   "metadata": {},
   "outputs": [
    {
     "name": "stdout",
     "output_type": "stream",
     "text": [
      "WARNING:tensorflow:From c:\\Users\\hdang\\.virtualenvs\\machinelearning-lTTH8rYd\\Lib\\site-packages\\keras\\src\\losses.py:2976: The name tf.losses.sparse_softmax_cross_entropy is deprecated. Please use tf.compat.v1.losses.sparse_softmax_cross_entropy instead.\n",
      "\n"
     ]
    }
   ],
   "source": [
    "import pandas as pd\n",
    "from datasets import Dataset\n",
    "from transformers import AutoModelForQuestionAnswering, AutoTokenizer, TrainingArguments,Trainer\n",
    "import numpy as np\n",
    "import collections\n",
    "from tqdm.auto import tqdm\n",
    "import evaluate\n",
    "import wandb\n",
    "pd.set_option('display.max_columns', None)\n",
    "pd.set_option('display.max_colwidth', None)"
   ]
  },
  {
   "cell_type": "markdown",
   "metadata": {},
   "source": [
    "### 2.Data Preprocessing"
   ]
  },
  {
   "cell_type": "code",
   "execution_count": 7,
   "metadata": {},
   "outputs": [],
   "source": [
    "\n",
    "\n",
    "def read_dataset(file_path):\n",
    "    \"\"\"Đọc dataset từ file CSV.\"\"\"\n",
    "    df = pd.read_csv(file_path)\n",
    "    df['context'] = df['context'].astype(str)\n",
    "    df['question'] = df['question'].astype(str)\n",
    "    df['answer'] = df['answer'].astype(str)\n",
    "    return df\n",
    "\n",
    "def find_start_index(context, answer):\n",
    "    \"\"\"Tìm chỉ số bắt đầu của answer trong context.\"\"\"\n",
    "    return str(context).find(str(answer))\n",
    "\n",
    "def prepare_dataset(df):\n",
    "    TRAIN_RATIO = 0.8\n",
    "    VAL_RATIO = 0.1\n",
    "    \"\"\"Chuẩn bị dataset cho huấn luyện, xác thực và kiểm tra.\"\"\"\n",
    "    df['start_index'] = df.apply(lambda row: find_start_index(context=row['context'], answer=row['answer']), axis=1)\n",
    "    df = df[df['start_index'] != -1]\n",
    "\n",
    "    dataset_temp = []\n",
    "    for _, row in df.iterrows():\n",
    "        sample = {\n",
    "            'context': row['context'],\n",
    "            'question': row['question'],\n",
    "            'answer': {'text': [row['answer']], 'answer_start': [row['start_index']]}\n",
    "        }\n",
    "        dataset_temp.append(sample)\n",
    "\n",
    "    dataset = pd.DataFrame(dataset_temp)\n",
    "\n",
    "    num_of_total_sample = len(dataset)\n",
    "    num_of_train_sample = TRAIN_RATIO * num_of_total_sample\n",
    "    num_of_val_sample = VAL_RATIO * num_of_total_sample\n",
    "\n",
    "    train_set = dataset.sample(n=int(num_of_train_sample), random_state=42)\n",
    "    dataset.drop(index=train_set.index, inplace=True)\n",
    "\n",
    "    val_set = dataset.sample(n=int(num_of_val_sample), random_state=42)\n",
    "    dataset.drop(index=val_set.index, inplace=True)\n",
    "\n",
    "    return Dataset.from_pandas(train_set), Dataset.from_pandas(val_set), Dataset.from_pandas(dataset)\n",
    "\n",
    "def preprocess_training_examples(examples, tokenizer, max_length, stride):\n",
    "    \"\"\"Tiền xử lý ví dụ huấn luyện cho mô hình.\"\"\"\n",
    "    inputs = tokenizer(\n",
    "        examples[\"question\"],\n",
    "        examples[\"context\"],\n",
    "        max_length=max_length,\n",
    "        truncation=\"only_second\",\n",
    "        stride=stride,\n",
    "        return_overflowing_tokens=True,\n",
    "        return_offsets_mapping=True,\n",
    "        padding=\"max_length\",\n",
    "    )\n",
    "\n",
    "    offset_mapping = inputs.pop(\"offset_mapping\")\n",
    "    sample_map = inputs.pop(\"overflow_to_sample_mapping\")\n",
    "    answers = examples[\"answer\"]\n",
    "    start_positions = []\n",
    "    end_positions = []\n",
    "\n",
    "    for i, offset in enumerate(offset_mapping):\n",
    "        sample_idx = sample_map[i]\n",
    "        answer = answers[sample_idx]\n",
    "        start_char = answer[\"answer_start\"][0]\n",
    "        end_char = answer[\"answer_start\"][0] + len(answer[\"text\"][0])\n",
    "        sequence_ids = inputs.sequence_ids(i)\n",
    "\n",
    "        idx = 0\n",
    "        while sequence_ids[idx] != 1:\n",
    "            idx += 1\n",
    "        context_start = idx\n",
    "        while sequence_ids[idx] == 1:\n",
    "            idx += 1\n",
    "        context_end = idx - 1\n",
    "\n",
    "        if offset[context_start][0] > start_char or offset[context_end][1] < end_char:\n",
    "            start_positions.append(0)\n",
    "            end_positions.append(0)\n",
    "        else:\n",
    "            idx = context_start\n",
    "            while idx <= context_end and offset[idx][0] <= start_char:\n",
    "                idx += 1\n",
    "            start_positions.append(idx - 1)\n",
    "\n",
    "            idx = context_end\n",
    "            while idx >= context_start and offset[idx][1] >= end_char:\n",
    "                idx -= 1\n",
    "            end_positions.append(idx + 1)\n",
    "\n",
    "    inputs[\"start_positions\"] = start_positions\n",
    "    inputs[\"end_positions\"] = end_positions\n",
    "    return inputs\n",
    "\n",
    "def preprocess_validation_test_examples(examples, tokenizer, max_length, stride):\n",
    "    \"\"\"Tiền xử lý ví dụ cho bộ kiểm tra và xác thực.\"\"\"\n",
    "    questions = [q.strip() for q in examples[\"question\"]]\n",
    "    inputs = tokenizer(\n",
    "        questions,\n",
    "        examples[\"context\"],\n",
    "        max_length=max_length,\n",
    "        truncation=\"only_second\",\n",
    "        stride=stride,\n",
    "        return_overflowing_tokens=True,\n",
    "        return_offsets_mapping=True,\n",
    "        padding=\"max_length\",\n",
    "    )\n",
    "\n",
    "    sample_map = inputs.pop(\"overflow_to_sample_mapping\")\n",
    "    example_ids = []\n",
    "\n",
    "    for i in range(len(inputs[\"input_ids\"])):\n",
    "        sample_idx = sample_map[i]\n",
    "        example_ids.append(examples[\"question\"][sample_idx])\n",
    "\n",
    "        sequence_ids = inputs.sequence_ids(i)\n",
    "        offset = inputs[\"offset_mapping\"][i]\n",
    "        inputs[\"offset_mapping\"][i] = [\n",
    "            o if sequence_ids[k] == 1 else None for k, o in enumerate(offset)\n",
    "        ]\n",
    "\n",
    "    inputs[\"example_id\"] = example_ids\n",
    "    return inputs\n"
   ]
  },
  {
   "cell_type": "markdown",
   "metadata": {},
   "source": [
    "### 3.Fine-Tuning Model"
   ]
  },
  {
   "cell_type": "markdown",
   "metadata": {},
   "source": [
    "> Function Evaluation"
   ]
  },
  {
   "cell_type": "code",
   "execution_count": 3,
   "metadata": {},
   "outputs": [],
   "source": [
    "\n",
    "metric = evaluate.load(\"squad\")\n",
    "\n",
    "def compute_metrics(start_logits, end_logits, features, examples, n_best, max_answer_length, metric):\n",
    "    example_to_features = collections.defaultdict(list)\n",
    "    for idx, feature in enumerate(features):\n",
    "        example_to_features[feature[\"example_id\"]].append(idx)\n",
    "\n",
    "    predicted_answers = []\n",
    "    for example in tqdm(examples):\n",
    "        example_id = example[\"question\"]\n",
    "        context = example[\"context\"]\n",
    "        answers = []\n",
    "\n",
    "        for feature_index in example_to_features[example_id]:\n",
    "            start_logit = start_logits[feature_index]\n",
    "            end_logit = end_logits[feature_index]\n",
    "            offsets = features[feature_index][\"offset_mapping\"]\n",
    "\n",
    "            start_indexes = np.argsort(start_logit)[-1 : -n_best - 1 : -1].tolist()\n",
    "            end_indexes = np.argsort(end_logit)[-1 : -n_best - 1 : -1].tolist()\n",
    "            for start_index in start_indexes:\n",
    "                for end_index in end_indexes:\n",
    "                    if offsets[start_index] is None or offsets[end_index] is None:\n",
    "                        continue\n",
    "                    if (\n",
    "                        end_index < start_index\n",
    "                        or end_index - start_index + 1 > max_answer_length\n",
    "                    ):\n",
    "                        continue\n",
    "\n",
    "                    answer = {\n",
    "                        \"text\": context[offsets[start_index][0] : offsets[end_index][1]],\n",
    "                        \"logit_score\": start_logit[start_index] + end_logit[end_index],\n",
    "                    }\n",
    "                    answers.append(answer)\n",
    "\n",
    "        if len(answers) > 0:\n",
    "            best_answer = max(answers, key=lambda x: x[\"logit_score\"])\n",
    "            predicted_answers.append(\n",
    "                {\"id\": example_id, \"prediction_text\": best_answer[\"text\"]}\n",
    "            )\n",
    "        else:\n",
    "            predicted_answers.append({\"id\": example_id, \"prediction_text\": \"\"})\n",
    "\n",
    "    theoretical_answers = [{\"id\": ex[\"question\"], \"answers\": ex[\"answer\"]} for ex in examples]\n",
    "    \n",
    "    for i, ii in zip(predicted_answers, theoretical_answers):\n",
    "        print(\"-\"*99)\n",
    "        print(f\"Pred: {i['prediction_text']}\")\n",
    "#         print(\"*\"*20)\n",
    "        print(f\"Goal: {ii['answers']['text'][0]}\")\n",
    "    \n",
    "    return metric.compute(predictions=predicted_answers, references=theoretical_answers)"
   ]
  },
  {
   "cell_type": "markdown",
   "metadata": {},
   "source": [
    "> Function Load Model and Load tokenizer"
   ]
  },
  {
   "cell_type": "code",
   "execution_count": 9,
   "metadata": {},
   "outputs": [],
   "source": [
    "def load_model_and_tokenizer(model_checkpoint):\n",
    "    tokenizer = AutoTokenizer.from_pretrained(model_checkpoint)\n",
    "    model = AutoModelForQuestionAnswering.from_pretrained(model_checkpoint)\n",
    "    return model, tokenizer"
   ]
  },
  {
   "cell_type": "markdown",
   "metadata": {},
   "source": [
    "> declare hyperparameters"
   ]
  },
  {
   "cell_type": "code",
   "execution_count": 5,
   "metadata": {},
   "outputs": [
    {
     "name": "stderr",
     "output_type": "stream",
     "text": [
      "\u001b[34m\u001b[1mwandb\u001b[0m: Using wandb-core as the SDK backend. Please refer to https://wandb.me/wandb-core for more information.\n",
      "\u001b[34m\u001b[1mwandb\u001b[0m: Currently logged in as: \u001b[33mhdang1696\u001b[0m (\u001b[33mhdang1696-no-work-experience\u001b[0m). Use \u001b[1m`wandb login --relogin`\u001b[0m to force relogin\n",
      "\u001b[34m\u001b[1mwandb\u001b[0m: \u001b[33mWARNING\u001b[0m If you're specifying your api key in code, ensure this code is not shared publicly.\n",
      "\u001b[34m\u001b[1mwandb\u001b[0m: \u001b[33mWARNING\u001b[0m Consider setting the WANDB_API_KEY environment variable, or running `wandb login` from the command line.\n",
      "\u001b[34m\u001b[1mwandb\u001b[0m: Appending key for api.wandb.ai to your netrc file: C:\\Users\\hdang\\_netrc\n"
     ]
    },
    {
     "data": {
      "text/plain": [
       "True"
      ]
     },
     "execution_count": 5,
     "metadata": {},
     "output_type": "execute_result"
    }
   ],
   "source": [
    "wandb.login(key = '8a5cbfdaa29778a896996cc679358b1d96cf66b0')"
   ]
  },
  {
   "cell_type": "code",
   "execution_count": 11,
   "metadata": {},
   "outputs": [
    {
     "name": "stderr",
     "output_type": "stream",
     "text": [
      "c:\\Users\\hdang\\.virtualenvs\\machinelearning-lTTH8rYd\\Lib\\site-packages\\transformers\\training_args.py:1545: FutureWarning: `evaluation_strategy` is deprecated and will be removed in version 4.46 of 🤗 Transformers. Use `eval_strategy` instead\n",
      "  warnings.warn(\n"
     ]
    }
   ],
   "source": [
    "\n",
    "MODEL_CHECKPOINT = \"google-bert/bert-base-multilingual-cased\"\n",
    "MAX_LENGTH = 256\n",
    "STRIDE = 50\n",
    "N_BEST = 50\n",
    "MAX_ANSWER_LENGTH = 512\n",
    "TRAINING_ARGS = TrainingArguments(\n",
    "    output_dir='../output',\n",
    "    evaluation_strategy=\"steps\",\n",
    "    eval_steps=500,\n",
    "    save_strategy=\"no\",\n",
    "    per_device_train_batch_size=16,\n",
    "    per_device_eval_batch_size=16,\n",
    "    learning_rate=2e-5,\n",
    "    num_train_epochs=100,\n",
    "    weight_decay=0.01,\n",
    "    fp16=True,\n",
    ")\n"
   ]
  },
  {
   "cell_type": "markdown",
   "metadata": {},
   "source": [
    "> Call functions read dataset"
   ]
  },
  {
   "cell_type": "code",
   "execution_count": 15,
   "metadata": {},
   "outputs": [],
   "source": [
    "df = read_dataset('../data/data_origin/data_train/ALQAC.csv')"
   ]
  },
  {
   "cell_type": "code",
   "execution_count": 8,
   "metadata": {},
   "outputs": [
    {
     "data": {
      "text/html": [
       "<div>\n",
       "<style scoped>\n",
       "    .dataframe tbody tr th:only-of-type {\n",
       "        vertical-align: middle;\n",
       "    }\n",
       "\n",
       "    .dataframe tbody tr th {\n",
       "        vertical-align: top;\n",
       "    }\n",
       "\n",
       "    .dataframe thead th {\n",
       "        text-align: right;\n",
       "    }\n",
       "</style>\n",
       "<table border=\"1\" class=\"dataframe\">\n",
       "  <thead>\n",
       "    <tr style=\"text-align: right;\">\n",
       "      <th></th>\n",
       "      <th>context</th>\n",
       "      <th>question</th>\n",
       "      <th>answer</th>\n",
       "    </tr>\n",
       "  </thead>\n",
       "  <tbody>\n",
       "    <tr>\n",
       "      <th>0</th>\n",
       "      <td>Tội chiếm đoạt hoặc hủy hoại di vật của tử sỹ\\...</td>\n",
       "      <td>Chiếm đoạt di vật của tử sĩ có thể bị phạt tù ...</td>\n",
       "      <td>07 năm</td>\n",
       "    </tr>\n",
       "    <tr>\n",
       "      <th>1</th>\n",
       "      <td>Tù chung thân\\n\\nTù chung thân là hình phạt tù...</td>\n",
       "      <td>Theo Bộ luật Hình sự năm 2017, không áp dụng h...</td>\n",
       "      <td>18 tuổi</td>\n",
       "    </tr>\n",
       "    <tr>\n",
       "      <th>2</th>\n",
       "      <td>Tuổi chịu trách nhiệm hình sự\\n\\n1. Người từ đ...</td>\n",
       "      <td>Theo Bộ luật Hình sự năm 2017, người từ đủ bao...</td>\n",
       "      <td>16 tuổi</td>\n",
       "    </tr>\n",
       "    <tr>\n",
       "      <th>3</th>\n",
       "      <td>Cảnh cáo\\n\\nCảnh cáo được áp dụng đối với ngườ...</td>\n",
       "      <td>Người phạm tội ít nghiêm trọng và có nhiều tìn...</td>\n",
       "      <td>Cảnh cáo</td>\n",
       "    </tr>\n",
       "    <tr>\n",
       "      <th>4</th>\n",
       "      <td>Tử hình\\n\\n1. Tử hình là hình phạt đặc biệt ch...</td>\n",
       "      <td>Trong trường hợp người bị kết án tử hình được ...</td>\n",
       "      <td>tù chung thân</td>\n",
       "    </tr>\n",
       "  </tbody>\n",
       "</table>\n",
       "</div>"
      ],
      "text/plain": [
       "                                             context  \\\n",
       "0  Tội chiếm đoạt hoặc hủy hoại di vật của tử sỹ\\...   \n",
       "1  Tù chung thân\\n\\nTù chung thân là hình phạt tù...   \n",
       "2  Tuổi chịu trách nhiệm hình sự\\n\\n1. Người từ đ...   \n",
       "3  Cảnh cáo\\n\\nCảnh cáo được áp dụng đối với ngườ...   \n",
       "4  Tử hình\\n\\n1. Tử hình là hình phạt đặc biệt ch...   \n",
       "\n",
       "                                            question         answer  \n",
       "0  Chiếm đoạt di vật của tử sĩ có thể bị phạt tù ...         07 năm  \n",
       "1  Theo Bộ luật Hình sự năm 2017, không áp dụng h...        18 tuổi  \n",
       "2  Theo Bộ luật Hình sự năm 2017, người từ đủ bao...        16 tuổi  \n",
       "3  Người phạm tội ít nghiêm trọng và có nhiều tìn...       Cảnh cáo  \n",
       "4  Trong trường hợp người bị kết án tử hình được ...  tù chung thân  "
      ]
     },
     "execution_count": 8,
     "metadata": {},
     "output_type": "execute_result"
    }
   ],
   "source": [
    "df.head(5)"
   ]
  },
  {
   "cell_type": "markdown",
   "metadata": {},
   "source": [
    "> call function  prepare_dateset"
   ]
  },
  {
   "cell_type": "code",
   "execution_count": 16,
   "metadata": {},
   "outputs": [],
   "source": [
    "train_set, val_set, test_set = prepare_dataset(df)"
   ]
  },
  {
   "cell_type": "markdown",
   "metadata": {},
   "source": [
    "> call function Load model and tokenizer"
   ]
  },
  {
   "cell_type": "code",
   "execution_count": 17,
   "metadata": {},
   "outputs": [
    {
     "name": "stderr",
     "output_type": "stream",
     "text": [
      "c:\\Users\\hdang\\.virtualenvs\\machinelearning-lTTH8rYd\\Lib\\site-packages\\transformers\\tokenization_utils_base.py:1617: FutureWarning: `clean_up_tokenization_spaces` was not set. It will be set to `True` by default. This behavior will be deprecated in transformers v4.45, and will be then set to `False` by default. For more details check this issue: https://github.com/huggingface/transformers/issues/31884\n",
      "  warnings.warn(\n",
      "Some weights of BertForQuestionAnswering were not initialized from the model checkpoint at google-bert/bert-base-multilingual-cased and are newly initialized: ['qa_outputs.bias', 'qa_outputs.weight']\n",
      "You should probably TRAIN this model on a down-stream task to be able to use it for predictions and inference.\n"
     ]
    }
   ],
   "source": [
    "model, tokenizer = load_model_and_tokenizer(MODEL_CHECKPOINT)"
   ]
  },
  {
   "cell_type": "markdown",
   "metadata": {},
   "source": [
    "> Embedding "
   ]
  },
  {
   "cell_type": "code",
   "execution_count": 18,
   "metadata": {},
   "outputs": [
    {
     "data": {
      "application/vnd.jupyter.widget-view+json": {
       "model_id": "1f4d17aebd5a46f19d3d03db38544c98",
       "version_major": 2,
       "version_minor": 0
      },
      "text/plain": [
       "Map:   0%|          | 0/415 [00:00<?, ? examples/s]"
      ]
     },
     "metadata": {},
     "output_type": "display_data"
    },
    {
     "data": {
      "application/vnd.jupyter.widget-view+json": {
       "model_id": "8901c1b34bb54381a1136fbc9895d3ae",
       "version_major": 2,
       "version_minor": 0
      },
      "text/plain": [
       "Map:   0%|          | 0/51 [00:00<?, ? examples/s]"
      ]
     },
     "metadata": {},
     "output_type": "display_data"
    },
    {
     "data": {
      "application/vnd.jupyter.widget-view+json": {
       "model_id": "e22b6bac514542c083888b3a929956c6",
       "version_major": 2,
       "version_minor": 0
      },
      "text/plain": [
       "Map:   0%|          | 0/53 [00:00<?, ? examples/s]"
      ]
     },
     "metadata": {},
     "output_type": "display_data"
    }
   ],
   "source": [
    "\n",
    "train_dataset = train_set.map(\n",
    "        lambda examples: preprocess_training_examples(examples, tokenizer, MAX_LENGTH, STRIDE),\n",
    "        batched=True,\n",
    "        remove_columns=train_set.column_names,\n",
    "    )\n",
    "val_dataset = val_set.map(\n",
    "        lambda examples: preprocess_validation_test_examples(examples, tokenizer, MAX_LENGTH, STRIDE),\n",
    "        batched=True,\n",
    "        remove_columns=train_set.column_names,\n",
    "    )\n",
    "test_dataset = test_set.map(\n",
    "        lambda examples: preprocess_validation_test_examples(examples, tokenizer, MAX_LENGTH, STRIDE),\n",
    "        batched=True,\n",
    "        remove_columns=train_set.column_names,\n",
    "    )\n",
    "    "
   ]
  },
  {
   "cell_type": "markdown",
   "metadata": {},
   "source": [
    "> training process"
   ]
  },
  {
   "cell_type": "code",
   "execution_count": 12,
   "metadata": {},
   "outputs": [
    {
     "name": "stderr",
     "output_type": "stream",
     "text": [
      "\u001b[34m\u001b[1mwandb\u001b[0m: \u001b[33mWARNING\u001b[0m The `run_name` is currently set to the same value as `TrainingArguments.output_dir`. If this was not intended, please specify a different run name by setting the `TrainingArguments.run_name` parameter.\n"
     ]
    },
    {
     "data": {
      "text/html": [
       "Tracking run with wandb version 0.18.2"
      ],
      "text/plain": [
       "<IPython.core.display.HTML object>"
      ]
     },
     "metadata": {},
     "output_type": "display_data"
    },
    {
     "data": {
      "text/html": [
       "Run data is saved locally in <code>d:\\DaiHoc\\machinelearning\\TLCN\\DoAnTotNghiep_chat_bot\\source\\wandb\\run-20241016_152346-acq4hela</code>"
      ],
      "text/plain": [
       "<IPython.core.display.HTML object>"
      ]
     },
     "metadata": {},
     "output_type": "display_data"
    },
    {
     "data": {
      "text/html": [
       "Syncing run <strong><a href='https://wandb.ai/hdang1696-no-work-experience/huggingface/runs/acq4hela' target=\"_blank\">../output</a></strong> to <a href='https://wandb.ai/hdang1696-no-work-experience/huggingface' target=\"_blank\">Weights & Biases</a> (<a href='https://wandb.me/run' target=\"_blank\">docs</a>)<br/>"
      ],
      "text/plain": [
       "<IPython.core.display.HTML object>"
      ]
     },
     "metadata": {},
     "output_type": "display_data"
    },
    {
     "data": {
      "text/html": [
       " View project at <a href='https://wandb.ai/hdang1696-no-work-experience/huggingface' target=\"_blank\">https://wandb.ai/hdang1696-no-work-experience/huggingface</a>"
      ],
      "text/plain": [
       "<IPython.core.display.HTML object>"
      ]
     },
     "metadata": {},
     "output_type": "display_data"
    },
    {
     "data": {
      "text/html": [
       " View run at <a href='https://wandb.ai/hdang1696-no-work-experience/huggingface/runs/acq4hela' target=\"_blank\">https://wandb.ai/hdang1696-no-work-experience/huggingface/runs/acq4hela</a>"
      ],
      "text/plain": [
       "<IPython.core.display.HTML object>"
      ]
     },
     "metadata": {},
     "output_type": "display_data"
    },
    {
     "data": {
      "application/vnd.jupyter.widget-view+json": {
       "model_id": "9b6f53898da5490887be76a5cb1ca913",
       "version_major": 2,
       "version_minor": 0
      },
      "text/plain": [
       "  0%|          | 0/4500 [00:00<?, ?it/s]"
      ]
     },
     "metadata": {},
     "output_type": "display_data"
    },
    {
     "ename": "KeyboardInterrupt",
     "evalue": "",
     "output_type": "error",
     "traceback": [
      "\u001b[1;31m---------------------------------------------------------------------------\u001b[0m",
      "\u001b[1;31mKeyboardInterrupt\u001b[0m                         Traceback (most recent call last)",
      "Cell \u001b[1;32mIn[12], line 8\u001b[0m\n\u001b[0;32m      1\u001b[0m trainer \u001b[38;5;241m=\u001b[39m Trainer(\n\u001b[0;32m      2\u001b[0m         model\u001b[38;5;241m=\u001b[39mmodel,\n\u001b[0;32m      3\u001b[0m         args\u001b[38;5;241m=\u001b[39mTRAINING_ARGS,\n\u001b[0;32m      4\u001b[0m         train_dataset\u001b[38;5;241m=\u001b[39mtrain_dataset,\n\u001b[0;32m      5\u001b[0m         tokenizer\u001b[38;5;241m=\u001b[39mtokenizer,\n\u001b[0;32m      6\u001b[0m     )\n\u001b[1;32m----> 8\u001b[0m \u001b[43mtrainer\u001b[49m\u001b[38;5;241;43m.\u001b[39;49m\u001b[43mtrain\u001b[49m\u001b[43m(\u001b[49m\u001b[43m)\u001b[49m\n\u001b[0;32m     10\u001b[0m trainer\u001b[38;5;241m.\u001b[39msave_model(\u001b[38;5;124mr\u001b[39m\u001b[38;5;124m'\u001b[39m\u001b[38;5;124m../output\u001b[39m\u001b[38;5;124m'\u001b[39m)\n",
      "File \u001b[1;32mc:\\Users\\hdang\\.virtualenvs\\machinelearning-lTTH8rYd\\Lib\\site-packages\\transformers\\trainer.py:2052\u001b[0m, in \u001b[0;36mTrainer.train\u001b[1;34m(self, resume_from_checkpoint, trial, ignore_keys_for_eval, **kwargs)\u001b[0m\n\u001b[0;32m   2050\u001b[0m         hf_hub_utils\u001b[38;5;241m.\u001b[39menable_progress_bars()\n\u001b[0;32m   2051\u001b[0m \u001b[38;5;28;01melse\u001b[39;00m:\n\u001b[1;32m-> 2052\u001b[0m     \u001b[38;5;28;01mreturn\u001b[39;00m \u001b[43minner_training_loop\u001b[49m\u001b[43m(\u001b[49m\n\u001b[0;32m   2053\u001b[0m \u001b[43m        \u001b[49m\u001b[43margs\u001b[49m\u001b[38;5;241;43m=\u001b[39;49m\u001b[43margs\u001b[49m\u001b[43m,\u001b[49m\n\u001b[0;32m   2054\u001b[0m \u001b[43m        \u001b[49m\u001b[43mresume_from_checkpoint\u001b[49m\u001b[38;5;241;43m=\u001b[39;49m\u001b[43mresume_from_checkpoint\u001b[49m\u001b[43m,\u001b[49m\n\u001b[0;32m   2055\u001b[0m \u001b[43m        \u001b[49m\u001b[43mtrial\u001b[49m\u001b[38;5;241;43m=\u001b[39;49m\u001b[43mtrial\u001b[49m\u001b[43m,\u001b[49m\n\u001b[0;32m   2056\u001b[0m \u001b[43m        \u001b[49m\u001b[43mignore_keys_for_eval\u001b[49m\u001b[38;5;241;43m=\u001b[39;49m\u001b[43mignore_keys_for_eval\u001b[49m\u001b[43m,\u001b[49m\n\u001b[0;32m   2057\u001b[0m \u001b[43m    \u001b[49m\u001b[43m)\u001b[49m\n",
      "File \u001b[1;32mc:\\Users\\hdang\\.virtualenvs\\machinelearning-lTTH8rYd\\Lib\\site-packages\\transformers\\trainer.py:2388\u001b[0m, in \u001b[0;36mTrainer._inner_training_loop\u001b[1;34m(self, batch_size, args, resume_from_checkpoint, trial, ignore_keys_for_eval)\u001b[0m\n\u001b[0;32m   2385\u001b[0m     \u001b[38;5;28mself\u001b[39m\u001b[38;5;241m.\u001b[39mcontrol \u001b[38;5;241m=\u001b[39m \u001b[38;5;28mself\u001b[39m\u001b[38;5;241m.\u001b[39mcallback_handler\u001b[38;5;241m.\u001b[39mon_step_begin(args, \u001b[38;5;28mself\u001b[39m\u001b[38;5;241m.\u001b[39mstate, \u001b[38;5;28mself\u001b[39m\u001b[38;5;241m.\u001b[39mcontrol)\n\u001b[0;32m   2387\u001b[0m \u001b[38;5;28;01mwith\u001b[39;00m \u001b[38;5;28mself\u001b[39m\u001b[38;5;241m.\u001b[39maccelerator\u001b[38;5;241m.\u001b[39maccumulate(model):\n\u001b[1;32m-> 2388\u001b[0m     tr_loss_step \u001b[38;5;241m=\u001b[39m \u001b[38;5;28;43mself\u001b[39;49m\u001b[38;5;241;43m.\u001b[39;49m\u001b[43mtraining_step\u001b[49m\u001b[43m(\u001b[49m\u001b[43mmodel\u001b[49m\u001b[43m,\u001b[49m\u001b[43m \u001b[49m\u001b[43minputs\u001b[49m\u001b[43m)\u001b[49m\n\u001b[0;32m   2390\u001b[0m \u001b[38;5;28;01mif\u001b[39;00m (\n\u001b[0;32m   2391\u001b[0m     args\u001b[38;5;241m.\u001b[39mlogging_nan_inf_filter\n\u001b[0;32m   2392\u001b[0m     \u001b[38;5;129;01mand\u001b[39;00m \u001b[38;5;129;01mnot\u001b[39;00m is_torch_xla_available()\n\u001b[0;32m   2393\u001b[0m     \u001b[38;5;129;01mand\u001b[39;00m (torch\u001b[38;5;241m.\u001b[39misnan(tr_loss_step) \u001b[38;5;129;01mor\u001b[39;00m torch\u001b[38;5;241m.\u001b[39misinf(tr_loss_step))\n\u001b[0;32m   2394\u001b[0m ):\n\u001b[0;32m   2395\u001b[0m     \u001b[38;5;66;03m# if loss is nan or inf simply add the average of previous logged losses\u001b[39;00m\n\u001b[0;32m   2396\u001b[0m     tr_loss \u001b[38;5;241m+\u001b[39m\u001b[38;5;241m=\u001b[39m tr_loss \u001b[38;5;241m/\u001b[39m (\u001b[38;5;241m1\u001b[39m \u001b[38;5;241m+\u001b[39m \u001b[38;5;28mself\u001b[39m\u001b[38;5;241m.\u001b[39mstate\u001b[38;5;241m.\u001b[39mglobal_step \u001b[38;5;241m-\u001b[39m \u001b[38;5;28mself\u001b[39m\u001b[38;5;241m.\u001b[39m_globalstep_last_logged)\n",
      "File \u001b[1;32mc:\\Users\\hdang\\.virtualenvs\\machinelearning-lTTH8rYd\\Lib\\site-packages\\transformers\\trainer.py:3518\u001b[0m, in \u001b[0;36mTrainer.training_step\u001b[1;34m(***failed resolving arguments***)\u001b[0m\n\u001b[0;32m   3516\u001b[0m         scaled_loss\u001b[38;5;241m.\u001b[39mbackward()\n\u001b[0;32m   3517\u001b[0m \u001b[38;5;28;01melse\u001b[39;00m:\n\u001b[1;32m-> 3518\u001b[0m     \u001b[38;5;28;43mself\u001b[39;49m\u001b[38;5;241;43m.\u001b[39;49m\u001b[43maccelerator\u001b[49m\u001b[38;5;241;43m.\u001b[39;49m\u001b[43mbackward\u001b[49m\u001b[43m(\u001b[49m\u001b[43mloss\u001b[49m\u001b[43m,\u001b[49m\u001b[43m \u001b[49m\u001b[38;5;241;43m*\u001b[39;49m\u001b[38;5;241;43m*\u001b[39;49m\u001b[43mkwargs\u001b[49m\u001b[43m)\u001b[49m\n\u001b[0;32m   3520\u001b[0m \u001b[38;5;28;01mreturn\u001b[39;00m loss\u001b[38;5;241m.\u001b[39mdetach() \u001b[38;5;241m/\u001b[39m \u001b[38;5;28mself\u001b[39m\u001b[38;5;241m.\u001b[39margs\u001b[38;5;241m.\u001b[39mgradient_accumulation_steps\n",
      "File \u001b[1;32mc:\\Users\\hdang\\.virtualenvs\\machinelearning-lTTH8rYd\\Lib\\site-packages\\accelerate\\accelerator.py:2239\u001b[0m, in \u001b[0;36mAccelerator.backward\u001b[1;34m(self, loss, **kwargs)\u001b[0m\n\u001b[0;32m   2237\u001b[0m     \u001b[38;5;28mself\u001b[39m\u001b[38;5;241m.\u001b[39mlomo_backward(loss, learning_rate)\n\u001b[0;32m   2238\u001b[0m \u001b[38;5;28;01melse\u001b[39;00m:\n\u001b[1;32m-> 2239\u001b[0m     \u001b[43mloss\u001b[49m\u001b[38;5;241;43m.\u001b[39;49m\u001b[43mbackward\u001b[49m\u001b[43m(\u001b[49m\u001b[38;5;241;43m*\u001b[39;49m\u001b[38;5;241;43m*\u001b[39;49m\u001b[43mkwargs\u001b[49m\u001b[43m)\u001b[49m\n",
      "File \u001b[1;32mc:\\Users\\hdang\\.virtualenvs\\machinelearning-lTTH8rYd\\Lib\\site-packages\\torch\\_tensor.py:521\u001b[0m, in \u001b[0;36mTensor.backward\u001b[1;34m(self, gradient, retain_graph, create_graph, inputs)\u001b[0m\n\u001b[0;32m    511\u001b[0m \u001b[38;5;28;01mif\u001b[39;00m has_torch_function_unary(\u001b[38;5;28mself\u001b[39m):\n\u001b[0;32m    512\u001b[0m     \u001b[38;5;28;01mreturn\u001b[39;00m handle_torch_function(\n\u001b[0;32m    513\u001b[0m         Tensor\u001b[38;5;241m.\u001b[39mbackward,\n\u001b[0;32m    514\u001b[0m         (\u001b[38;5;28mself\u001b[39m,),\n\u001b[1;32m   (...)\u001b[0m\n\u001b[0;32m    519\u001b[0m         inputs\u001b[38;5;241m=\u001b[39minputs,\n\u001b[0;32m    520\u001b[0m     )\n\u001b[1;32m--> 521\u001b[0m \u001b[43mtorch\u001b[49m\u001b[38;5;241;43m.\u001b[39;49m\u001b[43mautograd\u001b[49m\u001b[38;5;241;43m.\u001b[39;49m\u001b[43mbackward\u001b[49m\u001b[43m(\u001b[49m\n\u001b[0;32m    522\u001b[0m \u001b[43m    \u001b[49m\u001b[38;5;28;43mself\u001b[39;49m\u001b[43m,\u001b[49m\u001b[43m \u001b[49m\u001b[43mgradient\u001b[49m\u001b[43m,\u001b[49m\u001b[43m \u001b[49m\u001b[43mretain_graph\u001b[49m\u001b[43m,\u001b[49m\u001b[43m \u001b[49m\u001b[43mcreate_graph\u001b[49m\u001b[43m,\u001b[49m\u001b[43m \u001b[49m\u001b[43minputs\u001b[49m\u001b[38;5;241;43m=\u001b[39;49m\u001b[43minputs\u001b[49m\n\u001b[0;32m    523\u001b[0m \u001b[43m\u001b[49m\u001b[43m)\u001b[49m\n",
      "File \u001b[1;32mc:\\Users\\hdang\\.virtualenvs\\machinelearning-lTTH8rYd\\Lib\\site-packages\\torch\\autograd\\__init__.py:289\u001b[0m, in \u001b[0;36mbackward\u001b[1;34m(tensors, grad_tensors, retain_graph, create_graph, grad_variables, inputs)\u001b[0m\n\u001b[0;32m    284\u001b[0m     retain_graph \u001b[38;5;241m=\u001b[39m create_graph\n\u001b[0;32m    286\u001b[0m \u001b[38;5;66;03m# The reason we repeat the same comment below is that\u001b[39;00m\n\u001b[0;32m    287\u001b[0m \u001b[38;5;66;03m# some Python versions print out the first line of a multi-line function\u001b[39;00m\n\u001b[0;32m    288\u001b[0m \u001b[38;5;66;03m# calls in the traceback and some print out the last line\u001b[39;00m\n\u001b[1;32m--> 289\u001b[0m \u001b[43m_engine_run_backward\u001b[49m\u001b[43m(\u001b[49m\n\u001b[0;32m    290\u001b[0m \u001b[43m    \u001b[49m\u001b[43mtensors\u001b[49m\u001b[43m,\u001b[49m\n\u001b[0;32m    291\u001b[0m \u001b[43m    \u001b[49m\u001b[43mgrad_tensors_\u001b[49m\u001b[43m,\u001b[49m\n\u001b[0;32m    292\u001b[0m \u001b[43m    \u001b[49m\u001b[43mretain_graph\u001b[49m\u001b[43m,\u001b[49m\n\u001b[0;32m    293\u001b[0m \u001b[43m    \u001b[49m\u001b[43mcreate_graph\u001b[49m\u001b[43m,\u001b[49m\n\u001b[0;32m    294\u001b[0m \u001b[43m    \u001b[49m\u001b[43minputs\u001b[49m\u001b[43m,\u001b[49m\n\u001b[0;32m    295\u001b[0m \u001b[43m    \u001b[49m\u001b[43mallow_unreachable\u001b[49m\u001b[38;5;241;43m=\u001b[39;49m\u001b[38;5;28;43;01mTrue\u001b[39;49;00m\u001b[43m,\u001b[49m\n\u001b[0;32m    296\u001b[0m \u001b[43m    \u001b[49m\u001b[43maccumulate_grad\u001b[49m\u001b[38;5;241;43m=\u001b[39;49m\u001b[38;5;28;43;01mTrue\u001b[39;49;00m\u001b[43m,\u001b[49m\n\u001b[0;32m    297\u001b[0m \u001b[43m\u001b[49m\u001b[43m)\u001b[49m\n",
      "File \u001b[1;32mc:\\Users\\hdang\\.virtualenvs\\machinelearning-lTTH8rYd\\Lib\\site-packages\\torch\\autograd\\graph.py:769\u001b[0m, in \u001b[0;36m_engine_run_backward\u001b[1;34m(t_outputs, *args, **kwargs)\u001b[0m\n\u001b[0;32m    767\u001b[0m     unregister_hooks \u001b[38;5;241m=\u001b[39m _register_logging_hooks_on_whole_graph(t_outputs)\n\u001b[0;32m    768\u001b[0m \u001b[38;5;28;01mtry\u001b[39;00m:\n\u001b[1;32m--> 769\u001b[0m     \u001b[38;5;28;01mreturn\u001b[39;00m \u001b[43mVariable\u001b[49m\u001b[38;5;241;43m.\u001b[39;49m\u001b[43m_execution_engine\u001b[49m\u001b[38;5;241;43m.\u001b[39;49m\u001b[43mrun_backward\u001b[49m\u001b[43m(\u001b[49m\u001b[43m  \u001b[49m\u001b[38;5;66;43;03m# Calls into the C++ engine to run the backward pass\u001b[39;49;00m\n\u001b[0;32m    770\u001b[0m \u001b[43m        \u001b[49m\u001b[43mt_outputs\u001b[49m\u001b[43m,\u001b[49m\u001b[43m \u001b[49m\u001b[38;5;241;43m*\u001b[39;49m\u001b[43margs\u001b[49m\u001b[43m,\u001b[49m\u001b[43m \u001b[49m\u001b[38;5;241;43m*\u001b[39;49m\u001b[38;5;241;43m*\u001b[39;49m\u001b[43mkwargs\u001b[49m\n\u001b[0;32m    771\u001b[0m \u001b[43m    \u001b[49m\u001b[43m)\u001b[49m  \u001b[38;5;66;03m# Calls into the C++ engine to run the backward pass\u001b[39;00m\n\u001b[0;32m    772\u001b[0m \u001b[38;5;28;01mfinally\u001b[39;00m:\n\u001b[0;32m    773\u001b[0m     \u001b[38;5;28;01mif\u001b[39;00m attach_logging_hooks:\n",
      "\u001b[1;31mKeyboardInterrupt\u001b[0m: "
     ]
    }
   ],
   "source": [
    "trainer = Trainer(\n",
    "        model=model,\n",
    "        args=TRAINING_ARGS,\n",
    "        train_dataset=train_dataset,\n",
    "        tokenizer=tokenizer,\n",
    "    )\n",
    "    \n",
    "trainer.train()\n",
    "    \n",
    "trainer.save_model(r'../output')\n"
   ]
  },
  {
   "cell_type": "markdown",
   "metadata": {},
   "source": [
    "> Evaluation"
   ]
  },
  {
   "cell_type": "code",
   "execution_count": null,
   "metadata": {},
   "outputs": [],
   "source": [
    "predictions, _, _ = trainer.predict(test_dataset)\n",
    "start_logits, end_logits = predictions    \n",
    "results = compute_metrics(start_logits, end_logits, test_dataset, test_set, N_BEST, MAX_ANSWER_LENGTH)\n",
    "print(results)"
   ]
  },
  {
   "cell_type": "code",
   "execution_count": 32,
   "metadata": {},
   "outputs": [
    {
     "data": {
      "text/html": [
       "<div>\n",
       "<style scoped>\n",
       "    .dataframe tbody tr th:only-of-type {\n",
       "        vertical-align: middle;\n",
       "    }\n",
       "\n",
       "    .dataframe tbody tr th {\n",
       "        vertical-align: top;\n",
       "    }\n",
       "\n",
       "    .dataframe thead th {\n",
       "        text-align: right;\n",
       "    }\n",
       "</style>\n",
       "<table border=\"1\" class=\"dataframe\">\n",
       "  <thead>\n",
       "    <tr style=\"text-align: right;\">\n",
       "      <th></th>\n",
       "      <th>question</th>\n",
       "      <th>context</th>\n",
       "      <th>answer</th>\n",
       "    </tr>\n",
       "  </thead>\n",
       "  <tbody>\n",
       "    <tr>\n",
       "      <th>0</th>\n",
       "      <td>Nghỉ việc, có phải trả thẻ bảo hiểm y tế?</td>\n",
       "      <td>Do nhu cầu chuyển đổi công việc nên đầu năm 2016 tôi đơn phương chấm dứt hợp đồng lao động. Khi tôi nghỉ thì cơ quan yêu cầu tôi trả lại thẻ bảo hiểm y tế. Việc này có đúng pháp luật không? Các loại bảo hiểm khác tôi sẽ tự đóng thì các chế độ sau này có bị ảnh hưởng gì không?\\nVi Mạnh Hà (tỉnh Khánh Hòa)\\nLuật sư LÊ VĂN HOAN, Trưởng Văn phòng Luật sư Lê Văn (TP.HCM), trả lời: Theo Điều 15 Luật Bảo hiểm y tế năm 2008 (sửa đổi, bổ sung năm 2014) quy định hằng tháng người sử dụng lao động đóng bảo hiểm y tế cho người lao động và trích tiền đóng bảo hiểm y tế từ tiền lương của người lao động để nộp cùng một lúc vào quỹ bảo hiểm y tế. Do đó khi người lao động nghỉ việc thì người sử dụng lao động phải có trách nhiệm báo tăng, giảm với cơ quan bảo hiểm xã hội và thu hồi trả lại thẻ bảo hiểm y tế (nếu thẻ đó còn hiệu lực). Đồng thời doanh nghiệp cũng chốt sổ bảo hiểm xã hội cho người lao động.\\nNhư vậy, việc doanh nghiệp yêu cầu bạn trả lại thẻ bảo hiểm y tế là đúng luật. Bạn có quyền tham gia bảo hiểm y tế tự nguyện cũng như bạn có quyền tham gia bảo hiểm xã hội tự nguyện (nếu không thuộc đối tượng tham gia bảo hiểm xã hội bắt buộc quy định tại khoản 1 Điều 2 Luật Bảo hiểm xã hội).\\nTuy nhiên, người tham gia bảo hiểm xã hội tự nguyện chỉ được hưởng chế độ hưu trí và tử tuất. Trong khi người tham gia bảo hiểm xã hội bắt buộc được hưởng các chế độ gồm ốm đau; thai sản; tai nạn lao động, bệnh nghề nghiệp; hưu trí; tử tuất.</td>\n",
       "      <td>Đúng theo quy định của Luật Bảo hiểm y tế, khi bạn nghỉ việc, doanh nghiệp có quyền yêu cầu bạn trả lại thẻ bảo hiểm y tế (nếu thẻ đó còn hiệu lực). Bạn cũng có quyền tham gia bảo hiểm y tế tự nguyện và bảo hiểm xã hội tự nguyện (nếu không thuộc đối tượng tham gia bảo hiểm xã hội bắt buộc). Tuy nhiên, chỉ có người tham gia bảo hiểm xã hội bắt buộc mới được hưởng các chế độ bảo hiểm như ốm đau, thai sản, tai nạn lao động, bệnh nghề nghiệp, hưu trí và tử tuất. Người tham gia bảo hiểm xã hội tự nguyện chỉ được hưởng chế độ hưu trí và tử tuất.</td>\n",
       "    </tr>\n",
       "    <tr>\n",
       "      <th>1</th>\n",
       "      <td>Chị chồng muốn hưởng tài sản thừa kế của chồng, được không?</td>\n",
       "      <td>Vợ chồng tôi có tài sản chung là căn nhà trị giá năm tỉ đồng ở TP.HCM. Năm 2018, chồng tôi mất không để lại di chúc, tôi vẫn tiếp tục sử dụng căn nhà này. Năm 2021, cha mẹ chồng tôi mất cũng không để lại di chúc. \\nMới đây, chị chồng tôi yêu cầu bán căn nhà chung của hai vợ chồng tôi để chia cho chị ấy.\\n Cho tôi hỏi, theo quy định pháp luật thì tôi có phải chia tài sản là căn nhà của vợ chồng tôi cho người chị chồng không?\\nBạn đọc có địa chỉ mail nguyenhanh….@gmail.com\\nNgười dân đến văn phòng công chứng thực hiện các thủ tục công chứng. Ảnh: NGUYỄN HIỀN\\nLuật sư Hoàng Anh Sơn, Đoàn Luật sư TP.HCM, trả lời: Vì đây là tài sản chung của hai vợ chồng và khi chồng bạn mất không để lại di chúc nên căn cứ quy định tại điểm a, khoản 1 Điều 650 Bộ luật Dân sự thì giá trị một nửa căn nhà là di sản của chồng bạn sẽ được chia thừa kế theo pháp luật.\\nTại Điều 651 Bộ luật Dân sự 2015, những người thừa kế theo pháp luật thứ tự như sau: \\nHàng thừa kế thứ nhất gồm: Vợ, chồng, cha đẻ, mẹ đẻ, cha nuôi, mẹ nuôi, con đẻ, con nuôi của người chết. \\nNhững người thừa kế cùng hàng được hưởng phần di sản bằng nhau.\\nNhư vậy, phần di sản là một nửa căn nhà của chồng bạn khi mất sẽ được chia đều cho bạn, cha, mẹ của chồng bạn.\\n Tuy nhiên, năm 2021 cha và mẹ chồng đều mất (mất sau chồng bạn) nên phần di sản mà cha, mẹ chồng được hưởng từ chồng bạn sẽ được chia thừa kế theo pháp luật. Theo hàng thừa kế thứ nhất của cha, mẹ chồng là chị chồng bạn. \\nVì thế, chị chồng của bạn sẽ được hưởng phần di sản thừa kế mà cha mẹ chồng được hưởng từ chồng bạn.</td>\n",
       "      <td>Theo quy định pháp luật, chị chồng của bạn sẽ được hưởng phần di sản thừa kế mà cha mẹ chồng được hưởng từ chồng bạn.</td>\n",
       "    </tr>\n",
       "    <tr>\n",
       "      <th>2</th>\n",
       "      <td>Bị sàm sỡ ở trạm xe buýt, phải làm sao?</td>\n",
       "      <td>Tôi thường xuyên đi làm bằng xe buýt. Tôi thường thấy một người đàn ông hay lảng vảng ở khu vực nhà chờ xe buýt gần công ty. Anh ta vạch “của quý” ra và buông lời trêu ghẹo những hành khách nữ đang ngồi chờ xe buýt như chúng tôi khiến nhiều người phải bỏ chạy. Thậm chí có lần anh ta còn tới gần một bạn sinh viên và sờ đùi bạn ấy, khi bị phản ứng gay gắt thì anh ta thản nhiên bỏ đi. Tôi rất bức xúc về hành vi của người đàn ông nói trên, nếu hành vi ấy tiếp tục tái diễn thì tôi có thể tố anh ta không?\\nChị Thu Minh (quận Tân Phú, TP.HCM), hỏi.\\nLuật sư  Tô Ngọc Minh Tuấn, Đoàn Luật sư TP.HCM, trả lời:.\\nĐiều 12, Hiến pháp năm 2013 quy định rất rõ mọi người có quyền bất khả xâm phạm về thân thể, được pháp luật bảo hộ về sức khoẻ, danh dự và nhân phẩm; không bị tra tấn, bạo lực, truy bức, nhục hình hay bất kỳ hình thức đối xử nào khác xâm phạm thân thể, sức khỏe, xúc phạm danh dự, nhân phẩm.\\nĐối với một trong những hành vi sàm sỡ, quấy rối tình dục; khiêu dâm, kích dục ở nơi công cộng thì khoản 5 Điều 7, Nghị định 144/2021 đã quy định mức phạt tiền từ 5 triệu đồng đến 8 triệu đồng. Ngoài ra, khoản 14 của Điều 7 quy định hành vi sàm sỡ, quấy rối tình dục,… còn chịu biện pháp khắc phục hậu quả, buộc phải xin lỗi công khai trừ trường hợp nạn nhân có đơn không yêu cầu.\\nHiện nay, việc truy cứu trách nhiệm hình sự đối với hành vi sàm sỡ, quấy rối tình dục vẫn chưa được Bộ luật Hình sự quy định cụ thể. Tuy nhiên, nếu chứng minh được hành vi sàm sỡ, quấy rối tình dục đã xúc phạm nghiêm trọng đến nhân phẩm, danh dự người khác, thì người thực hiện hành vi này có thể bị xử lý hình sự về tội “Làm nhục người khác” theo Điều 155 Bộ luật Hình sự năm 2015 (sửa đổi, bổ sung năm 2017).\\n Vì vậy, khi bị sàm sỡ, quấy rối tình dục,... nạn nhân nên tố cáo đến cơ quan có thẩm quyền, đó là một trong những cách để bảo vệ mình chính. Do đó, bạn cứ mạnh dạn tố cáo đến cơ quan có thẩm quyền. Bạn có thể đến công an phường/xã nơi xảy ra vụ việc để trình báo, bạn nhé.</td>\n",
       "      <td>Khi bị sàm sỡ ở trạm xe buýt, bạn có thể thực hiện các bước sau:\\n\\n1. Bảo vệ bản thân: Nếu bạn cảm thấy không an toàn, hãy tìm cách di chuyển ra khỏi tình huống nguy hiểm và tìm đến nơi an toàn nhất có thể.\\n\\n2. Ghi nhớ thông tin: Cố gắng ghi nhớ các chi tiết về người phạm tội, bao gồm ngoại hình, quần áo, dấu hiệu đặc biệt và bất kỳ thông tin nào khác có thể giúp cơ quan chức năng xác định được người này.\\n\\n3. Tố cáo vụ việc: Đến cơ quan công an gần nhất để trình báo vụ việc. Cung cấp thông tin chi tiết và chính xác về những gì đã xảy ra. Cung cấp bằng chứng nếu có, chẳng hạn như hình ảnh, video hoặc bất kỳ chứng cứ nào khác.\\n\\n4. Tìm sự hỗ trợ: Liên hệ với các tổ chức hoặc dịch vụ hỗ trợ nạn nhân, chẳng hạn như Trung tâm Hỗ trợ Nạn nhân Tội phạm hoặc Trung tâm Tư vấn Phụ nữ và Trẻ em, để được tư vấn và hỗ trợ trong quá trình xử lý vụ việc.\\n\\n5. Giữ bằng chứng: Nếu có thể, hãy giữ lại bất kỳ bằng chứng nào liên quan đến vụ việc, chẳng hạn như tin nhắn, email hoặc bất kỳ thông tin nào khác có thể hỗ trợ trong quá trình điều tra.\\n\\nLưu ý rằng tôi chỉ cung cấp thông tin chung và không thể thay thế cho lời khuyên từ một luật sư chuyên nghiệp. Trong trường hợp này, tôi khuyên bạn nên tìm sự tư vấn từ một luật sư để được hỗ trợ và biết rõ quyền và trách nhiệm của mình trong quá trình tố cáo và xử lý vụ việc.</td>\n",
       "    </tr>\n",
       "    <tr>\n",
       "      <th>3</th>\n",
       "      <td>Tôi muốn kinh doanh dịch vụ lữ hành quốc tế thì thủ tục cấp giấy phép kinh doanh dịch vụ lữ hành như thế nào?</td>\n",
       "      <td>Thủ tục cấp giấy phép kinh doanh dịch vụ lữ hành (Hình từ internet)\\nVề vấn đề này, THƯ VIỆN PHÁP LUẬT giải đáp như sau:\\nThủ tục cấp giấy phép kinh doanh dịch vụ lữ hành được hướng dẫn tại Quyết định 1975/QĐ-BVHTTDL năm 2023 như sau:\\n1. Thủ tục cấp giấy phép kinh doanh dịch vụ lữ hành quốc tế\\n1.1. Hồ sơ đề nghị cấp giấy phép kinh doanh dịch vụ lữ hành quốc tế\\nHồ sơ đề nghị cấp giấy phép kinh doanh dịch vụ lữ hành quốc tế bao gồm:\\n- Đơn đề nghị cấp Giấy phép kinh doanh dịch vụ lữ hành quốc tế (Mẫu số 04 Phụ lục II ban hành kèm theo Thông tư 06/2017/TT-BVHTTDL, được sửa đổi bởi Thông tư 13/2019/ TT-BVHTTDL);\\n\\n\\n\\n\\nĐơn đề nghị cấp Giấy phép kinh doanh dịch vụ lữ hành quốc tế\\n\\n\\n\\n- Bản sao có chứng thực Giấy chứng nhận đăng ký doanh nghiệp hoặc Giấy chứng nhận đăng ký đầu tư do cơ quan nhà nước có thẩm quyền cấp;\\n- Giấy chứng nhận ký quỹ kinh doanh dịch vụ lữ hành quốc tế;\\n- Bản sao có chứng thực bằng tốt nghiệp cao đẳng trở lên chuyên ngành về lữ hành của người phụ trách kinh doanh dịch vụ lữ hành; hoặc bản sao có chứng thực bằng tốt nghiệp cao đẳng trở lên chuyên ngành khác và bản sao có chứng thực chứng chỉ nghiệp vụ điều hành du lịch quốc tế. Văn bằng do cơ sở đào tạo nước ngoài cấp phải được công nhận theo quy định của Bộ Giáo dục và Đào tạo, Bộ Lao động - Thương binh và Xã hội;\\n- Bản sao có chứng thực quyết định bổ nhiệm hoặc hợp đồng lao động giữa doanh nghiệp kinh doanh dịch vụ lữ hành với người phụ trách kinh doanh dịch vụ lữ hành.\\n1.2. Trình tự đề nghị cấp giấy phép kinh doanh dịch vụ lữ hành quốc tế\\n- Doanh nghiệp đề nghị cấp Giấy phép kinh doanh dịch vụ lữ hành quốc tế nộp hồ sơ đến Cục Du lịch Quốc gia Việt Nam;\\nCách thức thực hiện: Gửi trực tiếp hoặc trực tuyến qua Cổng dịch vụ công Bộ Văn hóa, Thể thao và Du lịch hoặc qua đường bưu điện đến Bộ Văn hóa, Thể thao và Du lịch (qua Cục Du lịch Quốc gia Việt Nam).\\n- Trong thời hạn 10 ngày kể từ ngày nhận được hồ sơ hợp lệ, Cục Du lịch Quốc gia Việt Nam thẩm định, cấp Giấy phép kinh doanh dịch vụ lữ hành quốc tế cho doanh nghiệp và thông báo cho Sở Du lịch/Sở Văn hóa, Thể thao và Du lịch nơi doanh nghiệp có trụ sở; trường hợp từ chối, phải thông báo bằng văn bản và nêu rõ lý do.\\n2. Thủ tục cấp giấy phép kinh doanh dịch vụ lữ hành nội địa\\n2.1. Hồ sơ đề nghị cấp giấy phép kinh doanh dịch vụ lữ hành nội địa\\nHồ sơ đề nghị cấp giấy phép kinh doanh dịch vụ lữ hành nội địa bao gồm:\\n- Đơn đề nghị cấp Giấy phép kinh doanh dịch vụ lữ hành nội địa (Mẫu số 04 Phụ lục II ban hành kèm theo Thông tư 06/2017/TT-BVHTTDL, được sửa đổi bởi Thông tư 13/2019/ TT-BVHTTDL);\\n\\n\\n\\n\\nĐơn đề nghị cấp Giấy phép kinh doanh dịch vụ lữ hành quốc tế\\n\\n\\n\\n- Bản sao có chứng thực Giấy chứng nhận đăng ký doanh nghiệp;\\n- Giấy chứng nhận ký quỹ kinh doanh dịch vụ lữ hành;\\n- Bản sao có chứng thực quyết định bổ nhiệm hoặc hợp đồng lao động giữa doanh nghiệp kinh doanh dịch vụ lữ hành với người phụ trách kinh doanh dịch vụ lữ hành;\\n- Bản sao có chứng thực bằng tốt nghiệp trung cấp trở lên chuyên ngành về lữ hành của người phụ trách kinh doanh dịch vụ lữ hành; hoặc bản sao có chứng thực bằng tốt nghiệp trung cấp trở lên chuyên ngành khác và bản sao có chứng thực chứng chỉ nghiệp vụ điều hành du lịch nội địa. Văn bằng do cơ sở đào tạo nước ngoài cấp phải được công nhận theo quy định của Bộ Giáo dục và Đào tạo, Bộ Lao động - Thương binh và Xã hội.\\n2.2. Trình tự đề nghị cấp giấy phép kinh doanh dịch vụ lữ hành quốc tế\\n- Doanh nghiệp đề nghị cấp Giấy phép kinh doanh dịch vụ lữ hành nội địa nộp hồ sơ đến Sở Du lịch/Sở Văn hóa, Thể thao và Du lịch nơi doanh nghiệp có trụ sở;\\nCách thức thực hiện: Gửi trực tiếp hoặc qua đường bưu điện đến Sở Du lịch/Sở Văn hóa, Thể thao và Du lịch.\\n- Trong thời hạn 10 ngày kể từ ngày nhận được hồ sơ hợp lệ, Sở Du lịch/Sở Văn hóa, Thể thao và Du lịch thẩm định và cấp Giấy phép kinh doanh dịch vụ lữ hành nội địa cho doanh nghiệp; trường hợp từ chối, phải thông báo bằng văn bản và nêu rõ lý do.</td>\n",
       "      <td>Để kinh doanh dịch vụ lữ hành quốc tế, bạn cần tuân thủ các thủ tục sau:\\n\\n1. Chuẩn bị hồ sơ đề nghị cấp giấy phép kinh doanh dịch vụ lữ hành quốc tế, bao gồm:\\n- Đơn đề nghị cấp Giấy phép kinh doanh dịch vụ lữ hành quốc tế (theo mẫu số 04 Phụ lục II ban hành kèm theo Thông tư 06/2017/TT-BVHTTDL, được sửa đổi bởi Thông tư 13/2019/TT-BVHTTDL).\\n- Bản sao có chứng thực Giấy chứng nhận đăng ký doanh nghiệp hoặc Giấy chứng nhận đăng ký đầu tư do cơ quan nhà nước có thẩm quyền cấp.\\n- Giấy chứng nhận ký quỹ kinh doanh dịch vụ lữ hành quốc tế.\\n- Bản sao có chứng thực bằng tốt nghiệp cao đẳng trở lên chuyên ngành về lữ hành của người phụ trách kinh doanh dịch vụ lữ hành, hoặc bản sao có chứng thực bằng tốt nghiệp cao đẳng trở lên chuyên ngành khác và bản sao có chứng thực chứng chỉ nghiệp vụ điều hành du lịch quốc tế.\\n- Bản sao có chứng thực quyết định bổ nhiệm hoặc hợp đồng lao động giữa doanh nghiệp kinh doanh dịch vụ lữ hành với người phụ trách kinh doanh dịch vụ lữ hành.\\n\\n2. Nộp hồ sơ đề nghị cấp giấy phép kinh doanh dịch vụ lữ hành quốc tế:\\n- Gửi hồ sơ trực tiếp hoặc trực tuyến qua Cổng dịch vụ công Bộ Văn hóa, Thể thao và Du lịch hoặc qua đường bưu điện đến Bộ Văn hóa, Thể thao và Du lịch (qua Cục Du lịch Quốc gia Việt Nam).\\n- Trong vòng 10 ngày kể từ ngày nhận được hồ sơ hợp lệ, Cục Du lịch Quốc gia Việt Nam sẽ thẩm định và cấp Giấy phép kinh doanh dịch vụ lữ hành quốc tế cho doanh nghiệp. Trường hợp từ chối, phải thông báo bằng văn bản và nêu rõ lý do.\\n\\nNgoài ra, nếu bạn muốn kinh doanh dịch vụ lữ hành nội địa, thủ tục cấp giấy phép sẽ tương tự như trên, nhưng bạn cần nộp hồ sơ đến Sở Du lịch/Sở Văn hóa, Thể thao và Du lịch nơi doanh nghiệp có trụ sở.\\n\\nLưu ý rằng thông tin trên chỉ mang tính chất tham khảo và bạn nên liên hệ với cơ quan có thẩm quyền để được tư vấn và hướng dẫn chi tiết về thủ tục cấp giấy phép kinh doanh dịch vụ lữ hành.</td>\n",
       "    </tr>\n",
       "    <tr>\n",
       "      <th>4</th>\n",
       "      <td>Người tham gia BHYT có những quyền lợi gì?</td>\n",
       "      <td>Cho tôi hỏi người tham gia BHYT có những quyền lợi gì? Các trường hợp không thuộc phạm vi quyền lợi hưởng của người tham gia BHYT? \\nBạn đọc Trương Thị Cúc (TP.HCM)\\nBảo hiểm xã hội TP.HCM trả lời: Quỹ BHYT chỉ thanh toán chi phí điều trị lác, cận thị và tật khúc xạ của mắt đối với trẻ em dưới sáu tuổi. Trường hợp con trai bà đã bảy tuổi nên không được quỹ BHYT thanh toán chi phí điều trị bệnh cận thị.\\nKhoản 1 Điều 21 Luật BHYT có quy định về phạm vi quyền lợi của người tham gia BHYT, bao gồm:\\n- Khám bệnh, chữa bệnh, phục hồi chức năng, khám thai định kỳ, sinh con.\\n- Chi phí vận chuyển người bệnh từ tuyến huyện lên tuyến trên đối với một số đối tượng trong trường hợp cấp cứu hoặc khi đang điều trị nội trú phải chuyển tuyến chuyên môn kỹ thuật.\\nTheo Điều 23 Luật BHYT, các trường hợp không thuộc phạm vi quyền lợi hưởng của người tham gia BHYT gồm:\\n- Điều dưỡng, an dưỡng tại cơ sở điều dưỡng, an dưỡng.\\n- Khám sức khỏe.\\n- Xét nghiệm, chẩn đoán thai không nhằm mục đích điều trị.\\n- Sử dụng kỹ thuật hỗ trợ sinh sản, dịch vụ kế hoạch hóa gia đình, nạo hút thai, phá thai, trừ trường hợp phải đình chỉ thai nghén do nguyên nhân bệnh lý của thai nhi hay của sản phụ.\\n- Sử dụng dịch vụ thẩm mỹ.\\n- Điều trị lác, cận thị và tật khúc xạ của mắt đối với người trên sáu tuổi.\\n- Sử dụng vật tư y tế thay thế bao gồm chân tay giả, mắt giả, răng giả, kính mắt, máy trợ thính, phương tiện trợ giúp vận động trong khám chữa bệnh và phục hồi chức năng.\\n- Khám bệnh, chữa bệnh, phục hồi chức năng trong trường hợp thảm họa.\\n- Khám bệnh, chữa bệnh nghiện ma túy, nghiện rượu hoặc chất gây nghiện khác.\\n- Giám định y khoa, giám định pháp y, giám định pháp y tâm thần.\\n- Tham gia thử nghiệm lâm sàng, nghiên cứu khoa học.</td>\n",
       "      <td>Người tham gia BHYT có những quyền lợi sau đây:\\n1. Khám bệnh, chữa bệnh, phục hồi chức năng, khám thai định kỳ, sinh con.\\n2. Chi phí vận chuyển người bệnh từ tuyến huyện lên tuyến trên đối với một số đối tượng trong trường hợp cấp cứu hoặc khi đang điều trị nội trú phải chuyển tuyến chuyên môn kỹ thuật.\\n\\nCác trường hợp không thuộc phạm vi quyền lợi hưởng của người tham gia BHYT gồm:\\n1. Điều dưỡng, an dưỡng tại cơ sở điều dưỡng, an dưỡng.\\n2. Khám sức khỏe.\\n3. Xét nghiệm, chẩn đoán thai không nhằm mục đích điều trị.\\n4. Sử dụng kỹ thuật hỗ trợ sinh sản, dịch vụ kế hoạch hóa gia đình, nạo hút thai, phá thai, trừ trường hợp phải đình chỉ thai nghén do nguyên nhân bệnh lý của thai nhi hay của sản phụ.\\n5. Sử dụng dịch vụ thẩm mỹ.\\n6. Điều trị lác, cận thị và tật khúc xạ của mắt đối với người trên sáu tuổi.\\n7. Sử dụng vật tư y tế thay thế bao gồm chân tay giả, mắt giả, răng giả, kính mắt, máy trợ thính, phương tiện trợ giúp vận động trong khám chữa bệnh và phục hồi chức năng.\\n8. Khám bệnh, chữa bệnh, phục hồi chức năng trong trường hợp thảm họa.\\n9. Khám bệnh, chữa bệnh nghiện ma túy, nghiện rượu hoặc chất gây nghiện khác.\\n10. Giám định y khoa, giám định pháp y, giám định pháp y tâm thần.\\n11. Tham gia thử nghiệm lâm sàng, nghiên cứu khoa học.</td>\n",
       "    </tr>\n",
       "  </tbody>\n",
       "</table>\n",
       "</div>"
      ],
      "text/plain": [
       "                                                                                                        question  \\\n",
       "0                                                                      Nghỉ việc, có phải trả thẻ bảo hiểm y tế?   \n",
       "1                                                    Chị chồng muốn hưởng tài sản thừa kế của chồng, được không?   \n",
       "2                                                                        Bị sàm sỡ ở trạm xe buýt, phải làm sao?   \n",
       "3  Tôi muốn kinh doanh dịch vụ lữ hành quốc tế thì thủ tục cấp giấy phép kinh doanh dịch vụ lữ hành như thế nào?   \n",
       "4                                                                     Người tham gia BHYT có những quyền lợi gì?   \n",
       "\n",
       "                                                                                                                                                                                                                                                                                                                                                                                                                                                                                                                                                                                                                                                                                                                                                                                                                                                                                                                                                                                                                                                                                                                                                                                                                                                                                                                                                                                                                                                                                                                                                                                                                                                                                                                                                                                                                                                                                                                                                                                                                                                                                                                                                                                                                                                                                                                                                                                                                                                                                                                                                                                                                                                                                                                                                                                                                                                                                                                                                                                                                                                                                                                                                                                                                                                                                                                                                                                                                                                                                                                                                                                                                                                                                                                                                                                                                                                                                                                                                                                                                                                                                           context  \\\n",
       "0                                                                                                                                                                                                                                                                                                                                                                                                                                                                                                                                                                                                                                                                                                                                                                                                                                                                                                                                                                                                                                                                                                                                                                                                                                                                                                                                                                                                                                                                                                                                                                                                                                                                                                                                                                                                                                                                                                                                                                                                                                                                                                                                                                                                                                                                                                                                                                                                                                                                                                                                                                                                     Do nhu cầu chuyển đổi công việc nên đầu năm 2016 tôi đơn phương chấm dứt hợp đồng lao động. Khi tôi nghỉ thì cơ quan yêu cầu tôi trả lại thẻ bảo hiểm y tế. Việc này có đúng pháp luật không? Các loại bảo hiểm khác tôi sẽ tự đóng thì các chế độ sau này có bị ảnh hưởng gì không?\\nVi Mạnh Hà (tỉnh Khánh Hòa)\\nLuật sư LÊ VĂN HOAN, Trưởng Văn phòng Luật sư Lê Văn (TP.HCM), trả lời: Theo Điều 15 Luật Bảo hiểm y tế năm 2008 (sửa đổi, bổ sung năm 2014) quy định hằng tháng người sử dụng lao động đóng bảo hiểm y tế cho người lao động và trích tiền đóng bảo hiểm y tế từ tiền lương của người lao động để nộp cùng một lúc vào quỹ bảo hiểm y tế. Do đó khi người lao động nghỉ việc thì người sử dụng lao động phải có trách nhiệm báo tăng, giảm với cơ quan bảo hiểm xã hội và thu hồi trả lại thẻ bảo hiểm y tế (nếu thẻ đó còn hiệu lực). Đồng thời doanh nghiệp cũng chốt sổ bảo hiểm xã hội cho người lao động.\\nNhư vậy, việc doanh nghiệp yêu cầu bạn trả lại thẻ bảo hiểm y tế là đúng luật. Bạn có quyền tham gia bảo hiểm y tế tự nguyện cũng như bạn có quyền tham gia bảo hiểm xã hội tự nguyện (nếu không thuộc đối tượng tham gia bảo hiểm xã hội bắt buộc quy định tại khoản 1 Điều 2 Luật Bảo hiểm xã hội).\\nTuy nhiên, người tham gia bảo hiểm xã hội tự nguyện chỉ được hưởng chế độ hưu trí và tử tuất. Trong khi người tham gia bảo hiểm xã hội bắt buộc được hưởng các chế độ gồm ốm đau; thai sản; tai nạn lao động, bệnh nghề nghiệp; hưu trí; tử tuất.   \n",
       "1                                                                                                                                                                                                                                                                                                                                                                                                                                                                                                                                                                                                                                                                                                                                                                                                                                                                                                                                                                                                                                                                                                                                                                                                                                                                                                                                                                                                                                                                                                                                                                                                                                                                                                                                                                                                                                                                                                                                                                                                                                                                                                                                                                                                                                                                                                                                                                                                                                                                                    Vợ chồng tôi có tài sản chung là căn nhà trị giá năm tỉ đồng ở TP.HCM. Năm 2018, chồng tôi mất không để lại di chúc, tôi vẫn tiếp tục sử dụng căn nhà này. Năm 2021, cha mẹ chồng tôi mất cũng không để lại di chúc. \\nMới đây, chị chồng tôi yêu cầu bán căn nhà chung của hai vợ chồng tôi để chia cho chị ấy.\\n Cho tôi hỏi, theo quy định pháp luật thì tôi có phải chia tài sản là căn nhà của vợ chồng tôi cho người chị chồng không?\\nBạn đọc có địa chỉ mail nguyenhanh….@gmail.com\\nNgười dân đến văn phòng công chứng thực hiện các thủ tục công chứng. Ảnh: NGUYỄN HIỀN\\nLuật sư Hoàng Anh Sơn, Đoàn Luật sư TP.HCM, trả lời: Vì đây là tài sản chung của hai vợ chồng và khi chồng bạn mất không để lại di chúc nên căn cứ quy định tại điểm a, khoản 1 Điều 650 Bộ luật Dân sự thì giá trị một nửa căn nhà là di sản của chồng bạn sẽ được chia thừa kế theo pháp luật.\\nTại Điều 651 Bộ luật Dân sự 2015, những người thừa kế theo pháp luật thứ tự như sau: \\nHàng thừa kế thứ nhất gồm: Vợ, chồng, cha đẻ, mẹ đẻ, cha nuôi, mẹ nuôi, con đẻ, con nuôi của người chết. \\nNhững người thừa kế cùng hàng được hưởng phần di sản bằng nhau.\\nNhư vậy, phần di sản là một nửa căn nhà của chồng bạn khi mất sẽ được chia đều cho bạn, cha, mẹ của chồng bạn.\\n Tuy nhiên, năm 2021 cha và mẹ chồng đều mất (mất sau chồng bạn) nên phần di sản mà cha, mẹ chồng được hưởng từ chồng bạn sẽ được chia thừa kế theo pháp luật. Theo hàng thừa kế thứ nhất của cha, mẹ chồng là chị chồng bạn. \\nVì thế, chị chồng của bạn sẽ được hưởng phần di sản thừa kế mà cha mẹ chồng được hưởng từ chồng bạn.   \n",
       "2                                                                                                                                                                                                                                                                                                                                                                                                                                                                                                                                                                                                                                                                                                                                                                                                                                                                                                                                                                                                                                                                                                                                                                                                                                                                                                                                                                                                                                                                                                                                                                                                                                                                                                                                                                                                                                                                                                                                                                                                                                                Tôi thường xuyên đi làm bằng xe buýt. Tôi thường thấy một người đàn ông hay lảng vảng ở khu vực nhà chờ xe buýt gần công ty. Anh ta vạch “của quý” ra và buông lời trêu ghẹo những hành khách nữ đang ngồi chờ xe buýt như chúng tôi khiến nhiều người phải bỏ chạy. Thậm chí có lần anh ta còn tới gần một bạn sinh viên và sờ đùi bạn ấy, khi bị phản ứng gay gắt thì anh ta thản nhiên bỏ đi. Tôi rất bức xúc về hành vi của người đàn ông nói trên, nếu hành vi ấy tiếp tục tái diễn thì tôi có thể tố anh ta không?\\nChị Thu Minh (quận Tân Phú, TP.HCM), hỏi.\\nLuật sư  Tô Ngọc Minh Tuấn, Đoàn Luật sư TP.HCM, trả lời:.\\nĐiều 12, Hiến pháp năm 2013 quy định rất rõ mọi người có quyền bất khả xâm phạm về thân thể, được pháp luật bảo hộ về sức khoẻ, danh dự và nhân phẩm; không bị tra tấn, bạo lực, truy bức, nhục hình hay bất kỳ hình thức đối xử nào khác xâm phạm thân thể, sức khỏe, xúc phạm danh dự, nhân phẩm.\\nĐối với một trong những hành vi sàm sỡ, quấy rối tình dục; khiêu dâm, kích dục ở nơi công cộng thì khoản 5 Điều 7, Nghị định 144/2021 đã quy định mức phạt tiền từ 5 triệu đồng đến 8 triệu đồng. Ngoài ra, khoản 14 của Điều 7 quy định hành vi sàm sỡ, quấy rối tình dục,… còn chịu biện pháp khắc phục hậu quả, buộc phải xin lỗi công khai trừ trường hợp nạn nhân có đơn không yêu cầu.\\nHiện nay, việc truy cứu trách nhiệm hình sự đối với hành vi sàm sỡ, quấy rối tình dục vẫn chưa được Bộ luật Hình sự quy định cụ thể. Tuy nhiên, nếu chứng minh được hành vi sàm sỡ, quấy rối tình dục đã xúc phạm nghiêm trọng đến nhân phẩm, danh dự người khác, thì người thực hiện hành vi này có thể bị xử lý hình sự về tội “Làm nhục người khác” theo Điều 155 Bộ luật Hình sự năm 2015 (sửa đổi, bổ sung năm 2017).\\n Vì vậy, khi bị sàm sỡ, quấy rối tình dục,... nạn nhân nên tố cáo đến cơ quan có thẩm quyền, đó là một trong những cách để bảo vệ mình chính. Do đó, bạn cứ mạnh dạn tố cáo đến cơ quan có thẩm quyền. Bạn có thể đến công an phường/xã nơi xảy ra vụ việc để trình báo, bạn nhé.   \n",
       "3  Thủ tục cấp giấy phép kinh doanh dịch vụ lữ hành (Hình từ internet)\\nVề vấn đề này, THƯ VIỆN PHÁP LUẬT giải đáp như sau:\\nThủ tục cấp giấy phép kinh doanh dịch vụ lữ hành được hướng dẫn tại Quyết định 1975/QĐ-BVHTTDL năm 2023 như sau:\\n1. Thủ tục cấp giấy phép kinh doanh dịch vụ lữ hành quốc tế\\n1.1. Hồ sơ đề nghị cấp giấy phép kinh doanh dịch vụ lữ hành quốc tế\\nHồ sơ đề nghị cấp giấy phép kinh doanh dịch vụ lữ hành quốc tế bao gồm:\\n- Đơn đề nghị cấp Giấy phép kinh doanh dịch vụ lữ hành quốc tế (Mẫu số 04 Phụ lục II ban hành kèm theo Thông tư 06/2017/TT-BVHTTDL, được sửa đổi bởi Thông tư 13/2019/ TT-BVHTTDL);\\n\\n\\n\\n\\nĐơn đề nghị cấp Giấy phép kinh doanh dịch vụ lữ hành quốc tế\\n\\n\\n\\n- Bản sao có chứng thực Giấy chứng nhận đăng ký doanh nghiệp hoặc Giấy chứng nhận đăng ký đầu tư do cơ quan nhà nước có thẩm quyền cấp;\\n- Giấy chứng nhận ký quỹ kinh doanh dịch vụ lữ hành quốc tế;\\n- Bản sao có chứng thực bằng tốt nghiệp cao đẳng trở lên chuyên ngành về lữ hành của người phụ trách kinh doanh dịch vụ lữ hành; hoặc bản sao có chứng thực bằng tốt nghiệp cao đẳng trở lên chuyên ngành khác và bản sao có chứng thực chứng chỉ nghiệp vụ điều hành du lịch quốc tế. Văn bằng do cơ sở đào tạo nước ngoài cấp phải được công nhận theo quy định của Bộ Giáo dục và Đào tạo, Bộ Lao động - Thương binh và Xã hội;\\n- Bản sao có chứng thực quyết định bổ nhiệm hoặc hợp đồng lao động giữa doanh nghiệp kinh doanh dịch vụ lữ hành với người phụ trách kinh doanh dịch vụ lữ hành.\\n1.2. Trình tự đề nghị cấp giấy phép kinh doanh dịch vụ lữ hành quốc tế\\n- Doanh nghiệp đề nghị cấp Giấy phép kinh doanh dịch vụ lữ hành quốc tế nộp hồ sơ đến Cục Du lịch Quốc gia Việt Nam;\\nCách thức thực hiện: Gửi trực tiếp hoặc trực tuyến qua Cổng dịch vụ công Bộ Văn hóa, Thể thao và Du lịch hoặc qua đường bưu điện đến Bộ Văn hóa, Thể thao và Du lịch (qua Cục Du lịch Quốc gia Việt Nam).\\n- Trong thời hạn 10 ngày kể từ ngày nhận được hồ sơ hợp lệ, Cục Du lịch Quốc gia Việt Nam thẩm định, cấp Giấy phép kinh doanh dịch vụ lữ hành quốc tế cho doanh nghiệp và thông báo cho Sở Du lịch/Sở Văn hóa, Thể thao và Du lịch nơi doanh nghiệp có trụ sở; trường hợp từ chối, phải thông báo bằng văn bản và nêu rõ lý do.\\n2. Thủ tục cấp giấy phép kinh doanh dịch vụ lữ hành nội địa\\n2.1. Hồ sơ đề nghị cấp giấy phép kinh doanh dịch vụ lữ hành nội địa\\nHồ sơ đề nghị cấp giấy phép kinh doanh dịch vụ lữ hành nội địa bao gồm:\\n- Đơn đề nghị cấp Giấy phép kinh doanh dịch vụ lữ hành nội địa (Mẫu số 04 Phụ lục II ban hành kèm theo Thông tư 06/2017/TT-BVHTTDL, được sửa đổi bởi Thông tư 13/2019/ TT-BVHTTDL);\\n\\n\\n\\n\\nĐơn đề nghị cấp Giấy phép kinh doanh dịch vụ lữ hành quốc tế\\n\\n\\n\\n- Bản sao có chứng thực Giấy chứng nhận đăng ký doanh nghiệp;\\n- Giấy chứng nhận ký quỹ kinh doanh dịch vụ lữ hành;\\n- Bản sao có chứng thực quyết định bổ nhiệm hoặc hợp đồng lao động giữa doanh nghiệp kinh doanh dịch vụ lữ hành với người phụ trách kinh doanh dịch vụ lữ hành;\\n- Bản sao có chứng thực bằng tốt nghiệp trung cấp trở lên chuyên ngành về lữ hành của người phụ trách kinh doanh dịch vụ lữ hành; hoặc bản sao có chứng thực bằng tốt nghiệp trung cấp trở lên chuyên ngành khác và bản sao có chứng thực chứng chỉ nghiệp vụ điều hành du lịch nội địa. Văn bằng do cơ sở đào tạo nước ngoài cấp phải được công nhận theo quy định của Bộ Giáo dục và Đào tạo, Bộ Lao động - Thương binh và Xã hội.\\n2.2. Trình tự đề nghị cấp giấy phép kinh doanh dịch vụ lữ hành quốc tế\\n- Doanh nghiệp đề nghị cấp Giấy phép kinh doanh dịch vụ lữ hành nội địa nộp hồ sơ đến Sở Du lịch/Sở Văn hóa, Thể thao và Du lịch nơi doanh nghiệp có trụ sở;\\nCách thức thực hiện: Gửi trực tiếp hoặc qua đường bưu điện đến Sở Du lịch/Sở Văn hóa, Thể thao và Du lịch.\\n- Trong thời hạn 10 ngày kể từ ngày nhận được hồ sơ hợp lệ, Sở Du lịch/Sở Văn hóa, Thể thao và Du lịch thẩm định và cấp Giấy phép kinh doanh dịch vụ lữ hành nội địa cho doanh nghiệp; trường hợp từ chối, phải thông báo bằng văn bản và nêu rõ lý do.   \n",
       "4                                                                                                                                                                                                                                                                                                                                                                                                                                                                                                                                                                                                                                                                                                                                                                                                                                                                                                                                                                                                                                                                                                                                                                                                                                                                                                                                                                                                                                                                                                                                                                                                                                                                                                                                                                                                                                                                                                                                                                                                                                                                                                                                                                                                                                                                                                   Cho tôi hỏi người tham gia BHYT có những quyền lợi gì? Các trường hợp không thuộc phạm vi quyền lợi hưởng của người tham gia BHYT? \\nBạn đọc Trương Thị Cúc (TP.HCM)\\nBảo hiểm xã hội TP.HCM trả lời: Quỹ BHYT chỉ thanh toán chi phí điều trị lác, cận thị và tật khúc xạ của mắt đối với trẻ em dưới sáu tuổi. Trường hợp con trai bà đã bảy tuổi nên không được quỹ BHYT thanh toán chi phí điều trị bệnh cận thị.\\nKhoản 1 Điều 21 Luật BHYT có quy định về phạm vi quyền lợi của người tham gia BHYT, bao gồm:\\n- Khám bệnh, chữa bệnh, phục hồi chức năng, khám thai định kỳ, sinh con.\\n- Chi phí vận chuyển người bệnh từ tuyến huyện lên tuyến trên đối với một số đối tượng trong trường hợp cấp cứu hoặc khi đang điều trị nội trú phải chuyển tuyến chuyên môn kỹ thuật.\\nTheo Điều 23 Luật BHYT, các trường hợp không thuộc phạm vi quyền lợi hưởng của người tham gia BHYT gồm:\\n- Điều dưỡng, an dưỡng tại cơ sở điều dưỡng, an dưỡng.\\n- Khám sức khỏe.\\n- Xét nghiệm, chẩn đoán thai không nhằm mục đích điều trị.\\n- Sử dụng kỹ thuật hỗ trợ sinh sản, dịch vụ kế hoạch hóa gia đình, nạo hút thai, phá thai, trừ trường hợp phải đình chỉ thai nghén do nguyên nhân bệnh lý của thai nhi hay của sản phụ.\\n- Sử dụng dịch vụ thẩm mỹ.\\n- Điều trị lác, cận thị và tật khúc xạ của mắt đối với người trên sáu tuổi.\\n- Sử dụng vật tư y tế thay thế bao gồm chân tay giả, mắt giả, răng giả, kính mắt, máy trợ thính, phương tiện trợ giúp vận động trong khám chữa bệnh và phục hồi chức năng.\\n- Khám bệnh, chữa bệnh, phục hồi chức năng trong trường hợp thảm họa.\\n- Khám bệnh, chữa bệnh nghiện ma túy, nghiện rượu hoặc chất gây nghiện khác.\\n- Giám định y khoa, giám định pháp y, giám định pháp y tâm thần.\\n- Tham gia thử nghiệm lâm sàng, nghiên cứu khoa học.   \n",
       "\n",
       "                                                                                                                                                                                                                                                                                                                                                                                                                                                                                                                                                                                                                                                                                                                                                                                                                                                                                                                                                                                                                                                                                                                                                                                                                                                                                                                                                                                                                                                                                                                                                                                                                                                                                                                                                                                                                                                                                                                                                       answer  \n",
       "0                                                                                                                                                                                                                                                                                                                                                                                                                                                                                                                                                                                                                                                                                                                                                                                                                                                                                                                                                                                                                                                                                                                                                                                                                                                                                                                                                                                           Đúng theo quy định của Luật Bảo hiểm y tế, khi bạn nghỉ việc, doanh nghiệp có quyền yêu cầu bạn trả lại thẻ bảo hiểm y tế (nếu thẻ đó còn hiệu lực). Bạn cũng có quyền tham gia bảo hiểm y tế tự nguyện và bảo hiểm xã hội tự nguyện (nếu không thuộc đối tượng tham gia bảo hiểm xã hội bắt buộc). Tuy nhiên, chỉ có người tham gia bảo hiểm xã hội bắt buộc mới được hưởng các chế độ bảo hiểm như ốm đau, thai sản, tai nạn lao động, bệnh nghề nghiệp, hưu trí và tử tuất. Người tham gia bảo hiểm xã hội tự nguyện chỉ được hưởng chế độ hưu trí và tử tuất.  \n",
       "1                                                                                                                                                                                                                                                                                                                                                                                                                                                                                                                                                                                                                                                                                                                                                                                                                                                                                                                                                                                                                                                                                                                                                                                                                                                                                                                                                                                                                                                                                                                                                                                                                                                                                                                                                                                                                                       Theo quy định pháp luật, chị chồng của bạn sẽ được hưởng phần di sản thừa kế mà cha mẹ chồng được hưởng từ chồng bạn.  \n",
       "2                                                                                                                                                                                                                                                                                                                                                                                                                                                                                                                                                                          Khi bị sàm sỡ ở trạm xe buýt, bạn có thể thực hiện các bước sau:\\n\\n1. Bảo vệ bản thân: Nếu bạn cảm thấy không an toàn, hãy tìm cách di chuyển ra khỏi tình huống nguy hiểm và tìm đến nơi an toàn nhất có thể.\\n\\n2. Ghi nhớ thông tin: Cố gắng ghi nhớ các chi tiết về người phạm tội, bao gồm ngoại hình, quần áo, dấu hiệu đặc biệt và bất kỳ thông tin nào khác có thể giúp cơ quan chức năng xác định được người này.\\n\\n3. Tố cáo vụ việc: Đến cơ quan công an gần nhất để trình báo vụ việc. Cung cấp thông tin chi tiết và chính xác về những gì đã xảy ra. Cung cấp bằng chứng nếu có, chẳng hạn như hình ảnh, video hoặc bất kỳ chứng cứ nào khác.\\n\\n4. Tìm sự hỗ trợ: Liên hệ với các tổ chức hoặc dịch vụ hỗ trợ nạn nhân, chẳng hạn như Trung tâm Hỗ trợ Nạn nhân Tội phạm hoặc Trung tâm Tư vấn Phụ nữ và Trẻ em, để được tư vấn và hỗ trợ trong quá trình xử lý vụ việc.\\n\\n5. Giữ bằng chứng: Nếu có thể, hãy giữ lại bất kỳ bằng chứng nào liên quan đến vụ việc, chẳng hạn như tin nhắn, email hoặc bất kỳ thông tin nào khác có thể hỗ trợ trong quá trình điều tra.\\n\\nLưu ý rằng tôi chỉ cung cấp thông tin chung và không thể thay thế cho lời khuyên từ một luật sư chuyên nghiệp. Trong trường hợp này, tôi khuyên bạn nên tìm sự tư vấn từ một luật sư để được hỗ trợ và biết rõ quyền và trách nhiệm của mình trong quá trình tố cáo và xử lý vụ việc.  \n",
       "3  Để kinh doanh dịch vụ lữ hành quốc tế, bạn cần tuân thủ các thủ tục sau:\\n\\n1. Chuẩn bị hồ sơ đề nghị cấp giấy phép kinh doanh dịch vụ lữ hành quốc tế, bao gồm:\\n- Đơn đề nghị cấp Giấy phép kinh doanh dịch vụ lữ hành quốc tế (theo mẫu số 04 Phụ lục II ban hành kèm theo Thông tư 06/2017/TT-BVHTTDL, được sửa đổi bởi Thông tư 13/2019/TT-BVHTTDL).\\n- Bản sao có chứng thực Giấy chứng nhận đăng ký doanh nghiệp hoặc Giấy chứng nhận đăng ký đầu tư do cơ quan nhà nước có thẩm quyền cấp.\\n- Giấy chứng nhận ký quỹ kinh doanh dịch vụ lữ hành quốc tế.\\n- Bản sao có chứng thực bằng tốt nghiệp cao đẳng trở lên chuyên ngành về lữ hành của người phụ trách kinh doanh dịch vụ lữ hành, hoặc bản sao có chứng thực bằng tốt nghiệp cao đẳng trở lên chuyên ngành khác và bản sao có chứng thực chứng chỉ nghiệp vụ điều hành du lịch quốc tế.\\n- Bản sao có chứng thực quyết định bổ nhiệm hoặc hợp đồng lao động giữa doanh nghiệp kinh doanh dịch vụ lữ hành với người phụ trách kinh doanh dịch vụ lữ hành.\\n\\n2. Nộp hồ sơ đề nghị cấp giấy phép kinh doanh dịch vụ lữ hành quốc tế:\\n- Gửi hồ sơ trực tiếp hoặc trực tuyến qua Cổng dịch vụ công Bộ Văn hóa, Thể thao và Du lịch hoặc qua đường bưu điện đến Bộ Văn hóa, Thể thao và Du lịch (qua Cục Du lịch Quốc gia Việt Nam).\\n- Trong vòng 10 ngày kể từ ngày nhận được hồ sơ hợp lệ, Cục Du lịch Quốc gia Việt Nam sẽ thẩm định và cấp Giấy phép kinh doanh dịch vụ lữ hành quốc tế cho doanh nghiệp. Trường hợp từ chối, phải thông báo bằng văn bản và nêu rõ lý do.\\n\\nNgoài ra, nếu bạn muốn kinh doanh dịch vụ lữ hành nội địa, thủ tục cấp giấy phép sẽ tương tự như trên, nhưng bạn cần nộp hồ sơ đến Sở Du lịch/Sở Văn hóa, Thể thao và Du lịch nơi doanh nghiệp có trụ sở.\\n\\nLưu ý rằng thông tin trên chỉ mang tính chất tham khảo và bạn nên liên hệ với cơ quan có thẩm quyền để được tư vấn và hướng dẫn chi tiết về thủ tục cấp giấy phép kinh doanh dịch vụ lữ hành.  \n",
       "4                                                                                                                                                                                                                                                                                                                                                                                                                                                                                                                                                                                                                                         Người tham gia BHYT có những quyền lợi sau đây:\\n1. Khám bệnh, chữa bệnh, phục hồi chức năng, khám thai định kỳ, sinh con.\\n2. Chi phí vận chuyển người bệnh từ tuyến huyện lên tuyến trên đối với một số đối tượng trong trường hợp cấp cứu hoặc khi đang điều trị nội trú phải chuyển tuyến chuyên môn kỹ thuật.\\n\\nCác trường hợp không thuộc phạm vi quyền lợi hưởng của người tham gia BHYT gồm:\\n1. Điều dưỡng, an dưỡng tại cơ sở điều dưỡng, an dưỡng.\\n2. Khám sức khỏe.\\n3. Xét nghiệm, chẩn đoán thai không nhằm mục đích điều trị.\\n4. Sử dụng kỹ thuật hỗ trợ sinh sản, dịch vụ kế hoạch hóa gia đình, nạo hút thai, phá thai, trừ trường hợp phải đình chỉ thai nghén do nguyên nhân bệnh lý của thai nhi hay của sản phụ.\\n5. Sử dụng dịch vụ thẩm mỹ.\\n6. Điều trị lác, cận thị và tật khúc xạ của mắt đối với người trên sáu tuổi.\\n7. Sử dụng vật tư y tế thay thế bao gồm chân tay giả, mắt giả, răng giả, kính mắt, máy trợ thính, phương tiện trợ giúp vận động trong khám chữa bệnh và phục hồi chức năng.\\n8. Khám bệnh, chữa bệnh, phục hồi chức năng trong trường hợp thảm họa.\\n9. Khám bệnh, chữa bệnh nghiện ma túy, nghiện rượu hoặc chất gây nghiện khác.\\n10. Giám định y khoa, giám định pháp y, giám định pháp y tâm thần.\\n11. Tham gia thử nghiệm lâm sàng, nghiên cứu khoa học.  "
      ]
     },
     "execution_count": 32,
     "metadata": {},
     "output_type": "execute_result"
    }
   ],
   "source": [
    "df_train = pd.read_csv('../data/data_origin/data_train/train.csv')\n",
    "df_train.head(5)"
   ]
  },
  {
   "cell_type": "code",
   "execution_count": 1,
   "metadata": {},
   "outputs": [],
   "source": [
    "from transformers import AutoModelForQuestionAnswering, AutoTokenizer\n",
    "import torch\n",
    "model_path = './model_2/'  # Đường dẫn tới mô hình đã được lưu\n",
    "model = AutoModelForQuestionAnswering.from_pretrained(model_path)\n",
    "tokenizer = AutoTokenizer.from_pretrained(model_path)\n",
    "\n"
   ]
  },
  {
   "cell_type": "code",
   "execution_count": 6,
   "metadata": {},
   "outputs": [],
   "source": [
    "def predict_answer(context, question, model, tokenizer, max_length=512, stride=200):\n",
    "    # Tokenize câu hỏi và context\n",
    "    inputs = tokenizer(\n",
    "        question,\n",
    "        context,\n",
    "        max_length=max_length,\n",
    "        truncation=\"only_second\",\n",
    "        stride=stride,\n",
    "        return_tensors=\"pt\",\n",
    "        padding=\"max_length\",\n",
    "    )\n",
    "\n",
    "    # Dự đoán bằng mô hình đã fine-tuned\n",
    "    with torch.no_grad():\n",
    "        outputs = model(**inputs)\n",
    "\n",
    "    # Lấy giá trị logits cho start và end position\n",
    "    start_logits = outputs.start_logits\n",
    "    end_logits = outputs.end_logits\n",
    "\n",
    "    # Tìm các index tốt nhất cho start và end position\n",
    "    start_index = torch.argmax(start_logits, dim=-1).item()\n",
    "    end_index = torch.argmax(end_logits, dim=-1).item()\n",
    "\n",
    "    # Giải mã câu trả lời từ context\n",
    "    answer = tokenizer.decode(inputs['input_ids'][0][start_index:end_index+1], skip_special_tokens=True)\n",
    "    \n",
    "    return answer"
   ]
  },
  {
   "cell_type": "code",
   "execution_count": 9,
   "metadata": {},
   "outputs": [
    {
     "name": "stdout",
     "output_type": "stream",
     "text": [
      "Question: Hãy cho tôi biết Giải pháp thực hiện chủ trương, đường lối của Đảng \n",
      "Predicted Answer: Giải pháp thực hiện chủ trương, đường lối của Đảng, chính sách, pháp luật của Nhà nước liên quan đến chức năng, nhiệm vụ của cơ quan, đơn vị.\n"
     ]
    }
   ],
   "source": [
    "context = \"\"\"\n",
    "Điều 53. Những nội dung cán bộ, công chức, viên chức, người lao động tham gia ý kiến trước khi người đứng đầu cơ quan, đơn vị quyết định\\n1. Giải pháp thực hiện chủ trương, đường lối của Đảng, chính sách, pháp luật của Nhà nước liên quan đến chức năng, nhiệm vụ của cơ quan, đơn vị.\\n2. Kế hoạch công tác hằng năm của cơ quan, đơn vị.\\n3. Tổ chức phong trào thi đua của cơ quan, đơn vị.\\n4. Báo cáo sơ kết, tổng kết của cơ quan, đơn vị.\\n5. Các biện pháp cải tiến tổ chức, hoạt động và lề lối làm việc; phòng, chống tham nhũng, tiêu cực; thực hành tiết kiệm, chống lãng phí, chống quan liêu, phiền hà, sách nhiễu Nhân dân.\\n6. Kế hoạch tuyển dụng, đào tạo, bồi dưỡng cán bộ, công chức, viên chức; bầu cử, bổ nhiệm cán bộ, công chức, viên chức.\\n7. Thực hiện chế độ, chính sách liên quan đến quyền và lợi ích của cán bộ, công chức, viên chức, người lao động.\n",
    "\"\"\"\n",
    "question = \"Hãy cho tôi biết Giải pháp thực hiện chủ trương, đường lối của Đảng \"\n",
    "\n",
    "# Dự đoán kết quả\n",
    "predicted_answer = predict_answer(context, question, model, tokenizer)\n",
    "print(f\"Question: {question}\")\n",
    "print(f\"Predicted Answer: {predicted_answer}\")"
   ]
  },
  {
   "cell_type": "code",
   "execution_count": null,
   "metadata": {},
   "outputs": [],
   "source": []
  }
 ],
 "metadata": {
  "kernelspec": {
   "display_name": "machinelearning-lTTH8rYd",
   "language": "python",
   "name": "python3"
  },
  "language_info": {
   "codemirror_mode": {
    "name": "ipython",
    "version": 3
   },
   "file_extension": ".py",
   "mimetype": "text/x-python",
   "name": "python",
   "nbconvert_exporter": "python",
   "pygments_lexer": "ipython3",
   "version": "3.11.5"
  }
 },
 "nbformat": 4,
 "nbformat_minor": 2
}
