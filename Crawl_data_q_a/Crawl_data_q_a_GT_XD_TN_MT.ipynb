{
 "cells": [
  {
   "cell_type": "markdown",
   "metadata": {},
   "source": [
    "### 1. Import Library"
   ]
  },
  {
   "cell_type": "code",
   "execution_count": 1,
   "metadata": {},
   "outputs": [],
   "source": [
    "import requests\n",
    "from bs4 import BeautifulSoup\n",
    "from fpdf import FPDF\n",
    "import pandas as pd"
   ]
  },
  {
   "cell_type": "markdown",
   "metadata": {},
   "source": [
    "### 2.Crawl_data_q_a"
   ]
  },
  {
   "cell_type": "markdown",
   "metadata": {},
   "source": [
    "#### 2.1.Find Elements"
   ]
  },
  {
   "cell_type": "code",
   "execution_count": 2,
   "metadata": {},
   "outputs": [],
   "source": [
    "# Hàm để cào dữ liệu từ một trang\n",
    "def crawl_page(url):\n",
    "    response = requests.get(url)\n",
    "    soup = BeautifulSoup(response.content, 'html.parser')\n",
    "    articles = soup.find_all('div', class_='box-item-content')\n",
    "    articles_data = []\n",
    "    \n",
    "    for _, article in enumerate(articles, start=1):\n",
    "        # Lấy thông tin tác giả và thời gian\n",
    "        author_info = article.find('div', class_='box-item-top')\n",
    "        name = author_info.find('span', class_='author').get_text(strip=True)\n",
    "        time = author_info.find('span', class_='time').get_text(strip=True)\n",
    "\n",
    "        # Lấy tiêu đề câu hỏi\n",
    "        question_element = article.find('a', class_='question-title')\n",
    "        question = question_element.get_text(strip=True)\n",
    "        \n",
    "        # Lấy tình huống\n",
    "        summary = article.find('div', class_='question-sapo').get_text(strip=True)\n",
    "        \n",
    "        # Lấy liên kết chi tiết\n",
    "        detail_link = article.find('a', class_='box-viewmore')['href']\n",
    "        detail_url = f\"https://chinhsachonline.chinhphu.vn{detail_link}\"\n",
    "        \n",
    "        # Gửi yêu cầu HTTP để lấy nội dung trang chi tiết\n",
    "        detail_response = requests.get(detail_url)\n",
    "        detail_soup = BeautifulSoup(detail_response.content, 'html.parser')\n",
    "        \n",
    "        # Lấy câu trả lời từ trang chi tiết\n",
    "        answer_div = detail_soup.find('div', class_='detail__rcontent')\n",
    "        answer = answer_div.get_text(strip=True) if answer_div else 'No answer available'\n",
    "        \n",
    "        # Thêm thông tin bài viết vào danh sách\n",
    "        articles_data.append({\n",
    "            'Name': name,\n",
    "            'Time': time,\n",
    "            'Question': question,\n",
    "            'Situation': summary,\n",
    "            'Answer': answer\n",
    "        })\n",
    "    \n",
    "    return articles_data\n"
   ]
  },
  {
   "cell_type": "markdown",
   "metadata": {},
   "source": [
    "#### 2.2.Execute Function"
   ]
  },
  {
   "cell_type": "code",
   "execution_count": 3,
   "metadata": {},
   "outputs": [],
   "source": [
    "articles_data = []\n",
    "\n",
    "for page_num in range(1, 301):  # Thay đổi phạm vi để bao gồm số trang bạn cần\n",
    "    page_url = f\"https://chinhsachonline.chinhphu.vn/giao-thong-xay-dung-tai-nguyen-moi-truong/t1/13/trang-{page_num}.htm\"\n",
    "    articles_data.extend(crawl_page(page_url))\n",
    "    "
   ]
  },
  {
   "cell_type": "markdown",
   "metadata": {},
   "source": [
    "#### 2.3 Export csv"
   ]
  },
  {
   "cell_type": "code",
   "execution_count": 4,
   "metadata": {},
   "outputs": [
    {
     "data": {
      "text/html": [
       "<div>\n",
       "<style scoped>\n",
       "    .dataframe tbody tr th:only-of-type {\n",
       "        vertical-align: middle;\n",
       "    }\n",
       "\n",
       "    .dataframe tbody tr th {\n",
       "        vertical-align: top;\n",
       "    }\n",
       "\n",
       "    .dataframe thead th {\n",
       "        text-align: right;\n",
       "    }\n",
       "</style>\n",
       "<table border=\"1\" class=\"dataframe\">\n",
       "  <thead>\n",
       "    <tr style=\"text-align: right;\">\n",
       "      <th></th>\n",
       "      <th>Name</th>\n",
       "      <th>Time</th>\n",
       "      <th>Question</th>\n",
       "      <th>Situation</th>\n",
       "      <th>Answer</th>\n",
       "    </tr>\n",
       "  </thead>\n",
       "  <tbody>\n",
       "    <tr>\n",
       "      <th>0</th>\n",
       "      <td>Nguyễn Thị Thúy</td>\n",
       "      <td>14:18 08/08/2024</td>\n",
       "      <td>Có thể nghiệm thu từng phần công trình xây dựng</td>\n",
       "      <td>Công trình A được phê duyệt kế hoạch lựa chọn ...</td>\n",
       "      <td>Bộ Xây dựng trả lời vấn đề này như sau:Theo qu...</td>\n",
       "    </tr>\n",
       "    <tr>\n",
       "      <th>1</th>\n",
       "      <td>Yên Giang</td>\n",
       "      <td>08:08 08/08/2024</td>\n",
       "      <td>Dự án trên 15 tỷ đồng, xác định chi phí tư vấn...</td>\n",
       "      <td>Thông tư số 12/2021/TT-BXD ngày 31/8/2021 của ...</td>\n",
       "      <td>Bộ Xây dựng trả lời vấn đề này như sau:Việc ph...</td>\n",
       "    </tr>\n",
       "    <tr>\n",
       "      <th>2</th>\n",
       "      <td>Ứng Quốc Tiến</td>\n",
       "      <td>09:34 07/08/2024</td>\n",
       "      <td>Sổ đỏ có sai sót, điều chỉnh thế nào?</td>\n",
       "      <td>Tôi được cấp Giấy chứng nhận quyền sử dụng đất...</td>\n",
       "      <td>Bộ Tài nguyên và Môi trường trả lời vấn đề này...</td>\n",
       "    </tr>\n",
       "    <tr>\n",
       "      <th>3</th>\n",
       "      <td>Nguyễn Thị Khuyên</td>\n",
       "      <td>09:05 06/08/2024</td>\n",
       "      <td>Thế nào là cho thuê bất động sản quy mô nhỏ, k...</td>\n",
       "      <td>Tôi có một doanh nghiệp thành lập năm 2018, nh...</td>\n",
       "      <td>Bộ Xây dựng trả lời vấn đề này như sau:Tại Kho...</td>\n",
       "    </tr>\n",
       "    <tr>\n",
       "      <th>4</th>\n",
       "      <td>Nguyễn Thị Giang</td>\n",
       "      <td>14:48 05/08/2024</td>\n",
       "      <td>Chi phí tư vấn có gồm bảo hiểm trách nhiệm ngh...</td>\n",
       "      <td>Tôi xin hỏi, đối với hợp đồng tư vấn khảo sát,...</td>\n",
       "      <td>Bộ Xây dựng trả lời vấn đề này như sau:Việc áp...</td>\n",
       "    </tr>\n",
       "  </tbody>\n",
       "</table>\n",
       "</div>"
      ],
      "text/plain": [
       "                Name              Time  \\\n",
       "0    Nguyễn Thị Thúy  14:18 08/08/2024   \n",
       "1          Yên Giang  08:08 08/08/2024   \n",
       "2      Ứng Quốc Tiến  09:34 07/08/2024   \n",
       "3  Nguyễn Thị Khuyên  09:05 06/08/2024   \n",
       "4   Nguyễn Thị Giang  14:48 05/08/2024   \n",
       "\n",
       "                                            Question  \\\n",
       "0    Có thể nghiệm thu từng phần công trình xây dựng   \n",
       "1  Dự án trên 15 tỷ đồng, xác định chi phí tư vấn...   \n",
       "2              Sổ đỏ có sai sót, điều chỉnh thế nào?   \n",
       "3  Thế nào là cho thuê bất động sản quy mô nhỏ, k...   \n",
       "4  Chi phí tư vấn có gồm bảo hiểm trách nhiệm ngh...   \n",
       "\n",
       "                                           Situation  \\\n",
       "0  Công trình A được phê duyệt kế hoạch lựa chọn ...   \n",
       "1  Thông tư số 12/2021/TT-BXD ngày 31/8/2021 của ...   \n",
       "2  Tôi được cấp Giấy chứng nhận quyền sử dụng đất...   \n",
       "3  Tôi có một doanh nghiệp thành lập năm 2018, nh...   \n",
       "4  Tôi xin hỏi, đối với hợp đồng tư vấn khảo sát,...   \n",
       "\n",
       "                                              Answer  \n",
       "0  Bộ Xây dựng trả lời vấn đề này như sau:Theo qu...  \n",
       "1  Bộ Xây dựng trả lời vấn đề này như sau:Việc ph...  \n",
       "2  Bộ Tài nguyên và Môi trường trả lời vấn đề này...  \n",
       "3  Bộ Xây dựng trả lời vấn đề này như sau:Tại Kho...  \n",
       "4  Bộ Xây dựng trả lời vấn đề này như sau:Việc áp...  "
      ]
     },
     "execution_count": 4,
     "metadata": {},
     "output_type": "execute_result"
    }
   ],
   "source": [
    "# Tạo DataFrame từ danh sách dữ liệu\n",
    "df_laodong_tienthuong = pd.DataFrame(articles_data)\n",
    "df_laodong_tienthuong.head(5)"
   ]
  },
  {
   "cell_type": "code",
   "execution_count": 5,
   "metadata": {},
   "outputs": [
    {
     "name": "stdout",
     "output_type": "stream",
     "text": [
      "Successfully saved data to ../data/giaothong_xaydung_tainguyen_moitruong_data.csv\n"
     ]
    }
   ],
   "source": [
    "\n",
    "# Lưu DataFrame vào file CSV\n",
    "csv_file = '../data/giaothong_xaydung_tainguyen_moitruong_data.csv'\n",
    "df_laodong_tienthuong.to_csv(csv_file, encoding='utf-8',index_label='Index')\n",
    "\n",
    "print(f\"Successfully saved data to {csv_file}\")"
   ]
  },
  {
   "cell_type": "code",
   "execution_count": 6,
   "metadata": {},
   "outputs": [],
   "source": [
    "df_laodong_tienthuong=pd.read_csv(\"../data/giaothong_xaydung_tainguyen_moitruong_data.csv\",encoding='utf-8')"
   ]
  },
  {
   "cell_type": "code",
   "execution_count": 7,
   "metadata": {},
   "outputs": [
    {
     "data": {
      "text/html": [
       "<div>\n",
       "<style scoped>\n",
       "    .dataframe tbody tr th:only-of-type {\n",
       "        vertical-align: middle;\n",
       "    }\n",
       "\n",
       "    .dataframe tbody tr th {\n",
       "        vertical-align: top;\n",
       "    }\n",
       "\n",
       "    .dataframe thead th {\n",
       "        text-align: right;\n",
       "    }\n",
       "</style>\n",
       "<table border=\"1\" class=\"dataframe\">\n",
       "  <thead>\n",
       "    <tr style=\"text-align: right;\">\n",
       "      <th></th>\n",
       "      <th>Index</th>\n",
       "      <th>Name</th>\n",
       "      <th>Time</th>\n",
       "      <th>Question</th>\n",
       "      <th>Situation</th>\n",
       "      <th>Answer</th>\n",
       "    </tr>\n",
       "  </thead>\n",
       "  <tbody>\n",
       "    <tr>\n",
       "      <th>0</th>\n",
       "      <td>0</td>\n",
       "      <td>Nguyễn Thị Thúy</td>\n",
       "      <td>14:18 08/08/2024</td>\n",
       "      <td>Có thể nghiệm thu từng phần công trình xây dựng</td>\n",
       "      <td>Công trình A được phê duyệt kế hoạch lựa chọn ...</td>\n",
       "      <td>Bộ Xây dựng trả lời vấn đề này như sau:Theo qu...</td>\n",
       "    </tr>\n",
       "    <tr>\n",
       "      <th>1</th>\n",
       "      <td>1</td>\n",
       "      <td>Yên Giang</td>\n",
       "      <td>08:08 08/08/2024</td>\n",
       "      <td>Dự án trên 15 tỷ đồng, xác định chi phí tư vấn...</td>\n",
       "      <td>Thông tư số 12/2021/TT-BXD ngày 31/8/2021 của ...</td>\n",
       "      <td>Bộ Xây dựng trả lời vấn đề này như sau:Việc ph...</td>\n",
       "    </tr>\n",
       "    <tr>\n",
       "      <th>2</th>\n",
       "      <td>2</td>\n",
       "      <td>Ứng Quốc Tiến</td>\n",
       "      <td>09:34 07/08/2024</td>\n",
       "      <td>Sổ đỏ có sai sót, điều chỉnh thế nào?</td>\n",
       "      <td>Tôi được cấp Giấy chứng nhận quyền sử dụng đất...</td>\n",
       "      <td>Bộ Tài nguyên và Môi trường trả lời vấn đề này...</td>\n",
       "    </tr>\n",
       "    <tr>\n",
       "      <th>3</th>\n",
       "      <td>3</td>\n",
       "      <td>Nguyễn Thị Khuyên</td>\n",
       "      <td>09:05 06/08/2024</td>\n",
       "      <td>Thế nào là cho thuê bất động sản quy mô nhỏ, k...</td>\n",
       "      <td>Tôi có một doanh nghiệp thành lập năm 2018, nh...</td>\n",
       "      <td>Bộ Xây dựng trả lời vấn đề này như sau:Tại Kho...</td>\n",
       "    </tr>\n",
       "    <tr>\n",
       "      <th>4</th>\n",
       "      <td>4</td>\n",
       "      <td>Nguyễn Thị Giang</td>\n",
       "      <td>14:48 05/08/2024</td>\n",
       "      <td>Chi phí tư vấn có gồm bảo hiểm trách nhiệm ngh...</td>\n",
       "      <td>Tôi xin hỏi, đối với hợp đồng tư vấn khảo sát,...</td>\n",
       "      <td>Bộ Xây dựng trả lời vấn đề này như sau:Việc áp...</td>\n",
       "    </tr>\n",
       "  </tbody>\n",
       "</table>\n",
       "</div>"
      ],
      "text/plain": [
       "   Index               Name              Time  \\\n",
       "0      0    Nguyễn Thị Thúy  14:18 08/08/2024   \n",
       "1      1          Yên Giang  08:08 08/08/2024   \n",
       "2      2      Ứng Quốc Tiến  09:34 07/08/2024   \n",
       "3      3  Nguyễn Thị Khuyên  09:05 06/08/2024   \n",
       "4      4   Nguyễn Thị Giang  14:48 05/08/2024   \n",
       "\n",
       "                                            Question  \\\n",
       "0    Có thể nghiệm thu từng phần công trình xây dựng   \n",
       "1  Dự án trên 15 tỷ đồng, xác định chi phí tư vấn...   \n",
       "2              Sổ đỏ có sai sót, điều chỉnh thế nào?   \n",
       "3  Thế nào là cho thuê bất động sản quy mô nhỏ, k...   \n",
       "4  Chi phí tư vấn có gồm bảo hiểm trách nhiệm ngh...   \n",
       "\n",
       "                                           Situation  \\\n",
       "0  Công trình A được phê duyệt kế hoạch lựa chọn ...   \n",
       "1  Thông tư số 12/2021/TT-BXD ngày 31/8/2021 của ...   \n",
       "2  Tôi được cấp Giấy chứng nhận quyền sử dụng đất...   \n",
       "3  Tôi có một doanh nghiệp thành lập năm 2018, nh...   \n",
       "4  Tôi xin hỏi, đối với hợp đồng tư vấn khảo sát,...   \n",
       "\n",
       "                                              Answer  \n",
       "0  Bộ Xây dựng trả lời vấn đề này như sau:Theo qu...  \n",
       "1  Bộ Xây dựng trả lời vấn đề này như sau:Việc ph...  \n",
       "2  Bộ Tài nguyên và Môi trường trả lời vấn đề này...  \n",
       "3  Bộ Xây dựng trả lời vấn đề này như sau:Tại Kho...  \n",
       "4  Bộ Xây dựng trả lời vấn đề này như sau:Việc áp...  "
      ]
     },
     "execution_count": 7,
     "metadata": {},
     "output_type": "execute_result"
    }
   ],
   "source": [
    "df_laodong_tienthuong.head(5)"
   ]
  },
  {
   "cell_type": "markdown",
   "metadata": {},
   "source": [
    "#### 2.4.Export PDF"
   ]
  },
  {
   "cell_type": "markdown",
   "metadata": {},
   "source": [
    "> Function"
   ]
  },
  {
   "cell_type": "code",
   "execution_count": 10,
   "metadata": {},
   "outputs": [],
   "source": [
    "\n",
    "df_selected = df_laodong_tienthuong[['Question', 'Situation', 'Answer']]\n",
    "\n",
    "# Tạo lớp kế thừa từ FPDF để tạo PDF\n",
    "class PDF(FPDF):\n",
    "    def chapter_title(self, title):\n",
    "        self.set_font('DejaVuSans-Bold', '', 12)\n",
    "        self.cell(0, 10, title, 0, 1, 'L')\n",
    "    \n",
    "    def chapter_body(self, body):\n",
    "        self.set_font('DejaVuSans', '', 12)\n",
    "        self.multi_cell(0, 10, body)\n",
    "    \n",
    "    def add_question(self, question, situation, answer):\n",
    "        self.add_page()\n",
    "        self.chapter_title('Question:')\n",
    "        self.chapter_body(question)\n",
    "        self.chapter_title('Situation:')\n",
    "        self.chapter_body(situation)\n",
    "        self.chapter_title('Answer:')\n",
    "        self.chapter_body(answer)"
   ]
  },
  {
   "cell_type": "markdown",
   "metadata": {},
   "source": [
    "> Execute funtion"
   ]
  },
  {
   "cell_type": "code",
   "execution_count": 11,
   "metadata": {},
   "outputs": [
    {
     "data": {
      "text/plain": [
       "''"
      ]
     },
     "execution_count": 11,
     "metadata": {},
     "output_type": "execute_result"
    }
   ],
   "source": [
    "\n",
    "# Tạo đối tượng PDF\n",
    "pdf = PDF()\n",
    "pdf.add_font('DejaVuSans', '', 'DejaVuSans.ttf', uni=True)  # Thêm font Unicode\n",
    "pdf.add_font('DejaVuSans-Bold', '', 'dejavu-sans-bold.ttf', uni=True)  # Thêm font Unicode\n",
    "pdf.set_left_margin(10)\n",
    "pdf.set_right_margin(10)\n",
    "\n",
    "# Thêm dữ liệu vào PDF\n",
    "for index, row in df_selected.iterrows():\n",
    "    pdf.add_question(row['Question'], row['Situation'], row['Answer'])\n",
    "\n",
    "# Lưu file PDF\n",
    "pdf.output('../data/giaothong_xaydung_tainguyen_moitruong_2.pdf', 'F')\n"
   ]
  },
  {
   "cell_type": "code",
   "execution_count": null,
   "metadata": {},
   "outputs": [],
   "source": []
  }
 ],
 "metadata": {
  "kernelspec": {
   "display_name": "machinelearning-lTTH8rYd",
   "language": "python",
   "name": "python3"
  },
  "language_info": {
   "codemirror_mode": {
    "name": "ipython",
    "version": 3
   },
   "file_extension": ".py",
   "mimetype": "text/x-python",
   "name": "python",
   "nbconvert_exporter": "python",
   "pygments_lexer": "ipython3",
   "version": "3.9.8"
  }
 },
 "nbformat": 4,
 "nbformat_minor": 2
}
