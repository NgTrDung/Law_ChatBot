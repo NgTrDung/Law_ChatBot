{
 "cells": [
  {
   "cell_type": "markdown",
   "metadata": {},
   "source": [
    "### 1.Import Library"
   ]
  },
  {
   "cell_type": "code",
   "execution_count": 1,
   "metadata": {},
   "outputs": [],
   "source": [
    "import pandas as pd"
   ]
  },
  {
   "cell_type": "markdown",
   "metadata": {},
   "source": [
    "### 2.Fine-Tuning"
   ]
  },
  {
   "cell_type": "code",
   "execution_count": 2,
   "metadata": {},
   "outputs": [],
   "source": [
    "df_laodong=pd.read_csv(\"../data/laodong_tienthuong_data.csv\")"
   ]
  },
  {
   "cell_type": "code",
   "execution_count": 3,
   "metadata": {},
   "outputs": [
    {
     "data": {
      "text/html": [
       "<div>\n",
       "<style scoped>\n",
       "    .dataframe tbody tr th:only-of-type {\n",
       "        vertical-align: middle;\n",
       "    }\n",
       "\n",
       "    .dataframe tbody tr th {\n",
       "        vertical-align: top;\n",
       "    }\n",
       "\n",
       "    .dataframe thead th {\n",
       "        text-align: right;\n",
       "    }\n",
       "</style>\n",
       "<table border=\"1\" class=\"dataframe\">\n",
       "  <thead>\n",
       "    <tr style=\"text-align: right;\">\n",
       "      <th></th>\n",
       "      <th>Index</th>\n",
       "      <th>Name</th>\n",
       "      <th>Time</th>\n",
       "      <th>Question</th>\n",
       "      <th>Situation</th>\n",
       "      <th>Answer</th>\n",
       "    </tr>\n",
       "  </thead>\n",
       "  <tbody>\n",
       "    <tr>\n",
       "      <th>0</th>\n",
       "      <td>0</td>\n",
       "      <td>Trịnh Minh Tâm</td>\n",
       "      <td>09:36 07/08/2024</td>\n",
       "      <td>Từng bị kỷ luật có được đề nghị xét tặng Huân ...</td>\n",
       "      <td>Ông A là Phó Giám đốc Sở, nhận thông báo nghỉ ...</td>\n",
       "      <td>Bộ Nội vụ trả lời vấn đề này như sau:Điểm b Kh...</td>\n",
       "    </tr>\n",
       "    <tr>\n",
       "      <th>1</th>\n",
       "      <td>1</td>\n",
       "      <td>Võ Thị Thu Lan</td>\n",
       "      <td>07:53 07/08/2024</td>\n",
       "      <td>Các chi nhánh có phải ban hành nội quy lao độn...</td>\n",
       "      <td>Tôi xin hỏi, tổng công ty TNHH MTV do Nhà nước...</td>\n",
       "      <td>Bộ Lao động – Thương binh và Xã hội trả lời vấ...</td>\n",
       "    </tr>\n",
       "    <tr>\n",
       "      <th>2</th>\n",
       "      <td>2</td>\n",
       "      <td>Cao Linh</td>\n",
       "      <td>08:34 06/08/2024</td>\n",
       "      <td>Trường hợp nào được trợ cấp chuyển vùng?</td>\n",
       "      <td>Ông Nguyễn Văn A là viên chức, công tác tại vù...</td>\n",
       "      <td>Bộ Nội vụ trả lời vấn đề này như sau:Nghị định...</td>\n",
       "    </tr>\n",
       "    <tr>\n",
       "      <th>3</th>\n",
       "      <td>3</td>\n",
       "      <td>Công ty CP S</td>\n",
       "      <td>08:25 06/08/2024</td>\n",
       "      <td>Điều kiện gửi văn bản ký số thay văn bản giấy</td>\n",
       "      <td>Công ty chúng tôi thường gửi văn bản cho cơ qu...</td>\n",
       "      <td>Bộ Nội vụ trả lời vấn đề này như sau:Để đảm bả...</td>\n",
       "    </tr>\n",
       "    <tr>\n",
       "      <th>4</th>\n",
       "      <td>4</td>\n",
       "      <td>Thái Thị Hoài</td>\n",
       "      <td>09:05 05/08/2024</td>\n",
       "      <td>Căn cứ xét tặng Bằng khen của Thủ tướng</td>\n",
       "      <td>Tôi là giáo viên THPT. Từ năm 2019 đến năm 202...</td>\n",
       "      <td>Bộ Nội vụ trả lời vấn đề này như sau:Điểm b Kh...</td>\n",
       "    </tr>\n",
       "  </tbody>\n",
       "</table>\n",
       "</div>"
      ],
      "text/plain": [
       "   Index            Name              Time  \\\n",
       "0      0  Trịnh Minh Tâm  09:36 07/08/2024   \n",
       "1      1  Võ Thị Thu Lan  07:53 07/08/2024   \n",
       "2      2        Cao Linh  08:34 06/08/2024   \n",
       "3      3    Công ty CP S  08:25 06/08/2024   \n",
       "4      4   Thái Thị Hoài  09:05 05/08/2024   \n",
       "\n",
       "                                            Question  \\\n",
       "0  Từng bị kỷ luật có được đề nghị xét tặng Huân ...   \n",
       "1  Các chi nhánh có phải ban hành nội quy lao độn...   \n",
       "2           Trường hợp nào được trợ cấp chuyển vùng?   \n",
       "3      Điều kiện gửi văn bản ký số thay văn bản giấy   \n",
       "4            Căn cứ xét tặng Bằng khen của Thủ tướng   \n",
       "\n",
       "                                           Situation  \\\n",
       "0  Ông A là Phó Giám đốc Sở, nhận thông báo nghỉ ...   \n",
       "1  Tôi xin hỏi, tổng công ty TNHH MTV do Nhà nước...   \n",
       "2  Ông Nguyễn Văn A là viên chức, công tác tại vù...   \n",
       "3  Công ty chúng tôi thường gửi văn bản cho cơ qu...   \n",
       "4  Tôi là giáo viên THPT. Từ năm 2019 đến năm 202...   \n",
       "\n",
       "                                              Answer  \n",
       "0  Bộ Nội vụ trả lời vấn đề này như sau:Điểm b Kh...  \n",
       "1  Bộ Lao động – Thương binh và Xã hội trả lời vấ...  \n",
       "2  Bộ Nội vụ trả lời vấn đề này như sau:Nghị định...  \n",
       "3  Bộ Nội vụ trả lời vấn đề này như sau:Để đảm bả...  \n",
       "4  Bộ Nội vụ trả lời vấn đề này như sau:Điểm b Kh...  "
      ]
     },
     "execution_count": 3,
     "metadata": {},
     "output_type": "execute_result"
    }
   ],
   "source": [
    "df_laodong.head(5)"
   ]
  }
 ],
 "metadata": {
  "kernelspec": {
   "display_name": "machinelearning-lTTH8rYd",
   "language": "python",
   "name": "python3"
  },
  "language_info": {
   "codemirror_mode": {
    "name": "ipython",
    "version": 3
   },
   "file_extension": ".py",
   "mimetype": "text/x-python",
   "name": "python",
   "nbconvert_exporter": "python",
   "pygments_lexer": "ipython3",
   "version": "3.11.5"
  }
 },
 "nbformat": 4,
 "nbformat_minor": 2
}
