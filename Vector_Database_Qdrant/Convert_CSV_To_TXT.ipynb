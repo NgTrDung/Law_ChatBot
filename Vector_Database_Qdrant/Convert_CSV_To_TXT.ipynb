{
 "cells": [
  {
   "cell_type": "markdown",
   "metadata": {},
   "source": [
    "# 1. Load File .csv và tạo File .txt để upload data"
   ]
  },
  {
   "cell_type": "markdown",
   "metadata": {},
   "source": [
    "## 1.1. Thư viện"
   ]
  },
  {
   "cell_type": "code",
   "execution_count": 1,
   "metadata": {},
   "outputs": [],
   "source": [
    "import pandas as pd"
   ]
  },
  {
   "cell_type": "markdown",
   "metadata": {},
   "source": [
    "## 1.2. Mã nguồn"
   ]
  },
  {
   "cell_type": "code",
   "execution_count": 2,
   "metadata": {},
   "outputs": [],
   "source": [
    "url = r'data\\tinh_huong\\giaoduc_daotao_yte_data.csv'\n",
    "\n",
    "df_GD_DT_YT = pd.read_csv(url)"
   ]
  },
  {
   "cell_type": "code",
   "execution_count": 3,
   "metadata": {},
   "outputs": [
    {
     "data": {
      "text/html": [
       "<div>\n",
       "<style scoped>\n",
       "    .dataframe tbody tr th:only-of-type {\n",
       "        vertical-align: middle;\n",
       "    }\n",
       "\n",
       "    .dataframe tbody tr th {\n",
       "        vertical-align: top;\n",
       "    }\n",
       "\n",
       "    .dataframe thead th {\n",
       "        text-align: right;\n",
       "    }\n",
       "</style>\n",
       "<table border=\"1\" class=\"dataframe\">\n",
       "  <thead>\n",
       "    <tr style=\"text-align: right;\">\n",
       "      <th></th>\n",
       "      <th>Index</th>\n",
       "      <th>Name</th>\n",
       "      <th>Time</th>\n",
       "      <th>Question</th>\n",
       "      <th>Situation</th>\n",
       "      <th>Answer</th>\n",
       "    </tr>\n",
       "  </thead>\n",
       "  <tbody>\n",
       "    <tr>\n",
       "      <th>0</th>\n",
       "      <td>0</td>\n",
       "      <td>Nguyễn Thị Hài</td>\n",
       "      <td>08:12 08/08/2024</td>\n",
       "      <td>Trường hợp nào được tạm hoãn gọi nhập ngũ?</td>\n",
       "      <td>Tôi xin hỏi, học sinh vừa tốt nghiệp THPT khi ...</td>\n",
       "      <td>Bộ Quốc phòng trả lời vấn đề này như sau:Theo ...</td>\n",
       "    </tr>\n",
       "    <tr>\n",
       "      <th>1</th>\n",
       "      <td>1</td>\n",
       "      <td>Trần Việt Hưng</td>\n",
       "      <td>08:14 06/08/2024</td>\n",
       "      <td>Tra cứu thông tin cá nhân đủ điều kiện tư vấn ...</td>\n",
       "      <td>Hiện nay khi tra cứu trên Hệ thống thông tin g...</td>\n",
       "      <td>Bộ Y tế trả lời vấn đề này như sau:Thực hiện t...</td>\n",
       "    </tr>\n",
       "  </tbody>\n",
       "</table>\n",
       "</div>"
      ],
      "text/plain": [
       "   Index            Name              Time  \\\n",
       "0      0  Nguyễn Thị Hài  08:12 08/08/2024   \n",
       "1      1  Trần Việt Hưng  08:14 06/08/2024   \n",
       "\n",
       "                                            Question  \\\n",
       "0         Trường hợp nào được tạm hoãn gọi nhập ngũ?   \n",
       "1  Tra cứu thông tin cá nhân đủ điều kiện tư vấn ...   \n",
       "\n",
       "                                           Situation  \\\n",
       "0  Tôi xin hỏi, học sinh vừa tốt nghiệp THPT khi ...   \n",
       "1  Hiện nay khi tra cứu trên Hệ thống thông tin g...   \n",
       "\n",
       "                                              Answer  \n",
       "0  Bộ Quốc phòng trả lời vấn đề này như sau:Theo ...  \n",
       "1  Bộ Y tế trả lời vấn đề này như sau:Thực hiện t...  "
      ]
     },
     "metadata": {},
     "output_type": "display_data"
    }
   ],
   "source": [
    "display(df_GD_DT_YT.head(2))"
   ]
  },
  {
   "cell_type": "markdown",
   "metadata": {},
   "source": [
    "## 1.3. Tạo File .txt"
   ]
  },
  {
   "cell_type": "code",
   "execution_count": 4,
   "metadata": {},
   "outputs": [],
   "source": [
    "# Tạo file .txt\n",
    "with open(r'data\\tinh_huong\\giaoduc_daotao_yte_data.txt', 'w', encoding='utf-8') as file:\n",
    "    for index, row in df_GD_DT_YT.iterrows():\n",
    "        # Ghi dữ liệu vào file\n",
    "        file.write(f\"Situation: {row['Situation']}\\n\")\n",
    "        file.write(f\"Answer: {row['Answer']}\\n\\n\")"
   ]
  },
  {
   "cell_type": "markdown",
   "metadata": {},
   "source": [
    "## 1.4. Kiểm tra lại File .txt"
   ]
  },
  {
   "cell_type": "code",
   "execution_count": 5,
   "metadata": {},
   "outputs": [
    {
     "name": "stdout",
     "output_type": "stream",
     "text": [
      "Situation: Tôi xin hỏi, học sinh vừa tốt nghiệp THPT khi xét tuyển vào các trường cao đẳng thì có được tạm miễn thực hiện nghĩa vụ quân sự không?\n",
      "Answer: Bộ Quốc phòng trả lời vấn đề này như sau:Theo quy định tại Điểm g Khoản 1 Điều 41Luật Nghĩa vụ quân sựnăm 2015, những công dân sau đây được tạm hoãn gọi nhập ngũ:\"g) Đang học tại cơ sở giáo dục phổ thông; đang được đào tạo trình độ đại học hệ chính quy thuộc cơ sở giáo dục đại học, trình độ cao đẳng hệ chính quy thuộc các cơ sở giáo dục nghề nghiệp trong một khóa đào tạo của một trình độ đào tạo\".Như vậy, công dân thuộc trường hợp nêu tại Điểm g Khoản 1 Điều 41 Luật Nghĩa vụ quân sự năm 2015 được tạm hoãn từ ngày công dân đã làm xong thủ tục nhập học và đang học tập tại trường; chỉ được tạm hoãn gọi nhập ngũ trong một khóa đào tạo tập trung đầu tiên, còn các khóa học tiếp theo thì không được tạm hoãn.\n",
      "\n",
      "Situation: Hiện nay khi tra cứu trên Hệ thống thông tin giải quyết thủ tục hành chính Bộ Y tế (https://dichvucong.moh.gov.vn) hoặc Cổng Thông tin điện tử về quản lý trang thiết bị y tế (https://dmec.moh.gov.vn/) đều không có thông tin về các cá nhân đủ điều kiện tư vấn về kỹ thuật trang thiết bị y tế. Việc này gây khó khăn cho các cơ quan, đơn vị, chủ đầu tư khi lập danh mục và xây dựng cấu hình, tính năng kỹ thuật trang thiết bị y tế.  Tôi đề nghị Bộ Y tế hướng dẫn cụ thể việc tra cứu thông tin về các cá nhân đủ điều kiện tư vấn về kỹ thuật trang thiết bị y tế để các chủ đầu tư có thể lựa chọn làm tư vấn lập danh mục và xây dựng cấu hình, tính năng kỹ thuật trang thiết bị y tế theo quy định.  Ngoài ra, Thông tư số 14/2023/TT-BYT ngày 30/6/2023 của Bộ trưởng Bộ Y tế ban hành quy định trình tự, thủ tục xây dựng giá gói thầu mua sắm hàng hóa và cung cấp dịch vụ thuộc lĩnh vực trang thiết bị y tế tại các cơ sở y tế công lập có hiệu lực từ ngày 1/7/2023 đến ngày 31/12/2023, nhưng đến nay Bộ Y tế vẫn chưa ban hành Thông tư mới để thay thế, dẫn đến các chủ đầu tư gặp vướng mắc trong việc lập các gói thầu mua sắm trang thiết bị y tế.\n",
      "Answer: Bộ Y tế trả lời vấn đề này như sau:Thực hiện theo quy định tại Điểm b Khoản 2 Điều 54 Nghị định số98/2021/NĐ-CPcủa Chính phủ về quản lý trang thiết bị y tế; hiện nay, Bộ Y tế (Cục Cơ sở hạ tầng và thiết bị y tế) đã tiếp nhận và công bố danh sách các cá nhân đủ điều kiện tư vấn về kỹ thuật trang thiết bị y tế trên Cổng Thông tin điện tử về quản lý trang thiết bị y tế (https://dmec.moh.gov.vn/).Để có thể tra cứu thông tin, đề nghị thực hiện theo các bước sau:- Truy cập vào Cổng Thông tin điện tử về quản lý trang thiết bị y tế (https://dmec.moh.gov.vn/);- Click vào module \"Kết quả dịch vụ công\";- Vào ô tìm kiếm gõ \"TVKT\" (Viết tắt của Tư vấn kỹ thuật);- Click vào ô \"Tìm kiếm\" và xem xét hồ sơ, thông tin của các cá nhân đủ điều kiện tư vấn đã được công bố.Về việc ban hành Văn bản quy phạm pháp luật thay thế Thông tư số 14/2023/TT-BYT, ngày 23/6/2023, Quốc hội đã ban hành Luật Đấu thầu số 22/2023/QH15; ngày 27/2/2024, Chính phủ đã ban hành Nghị định số 24/2024/NĐ-CP quy định chi tiết một điều và biện pháp thi hành Luật Đấu thầu về lựa chọn nhà thầu.Theo đó, các nội dung liên quan đến xây dựng giá gói thầu và tổ chức lựa chọn nhà thầu đối với các mặt hàng, dịch vụ liên quan đến hóa chất, vật tư xét nghiệm thiết bị y tế được quy định tại Điều 16 Nghị định số 24/2024/NĐ-CP. Vì vậy, đề nghị cá nhân/ tổ chức quan tâm có thể nghiên cứu để triển khai, thực hiện.\n",
      "\n"
     ]
    }
   ],
   "source": [
    "# Đọc và in ra 6 dòng đầu tiên từ file .txt\n",
    "with open(r'data\\tinh_huong\\giaoduc_daotao_yte_data.txt', 'r', encoding='utf-8') as file:\n",
    "    for _ in range(6):  # In ra 6 dòng đầu\n",
    "        line = file.readline()\n",
    "        print(line.strip())"
   ]
  },
  {
   "cell_type": "code",
   "execution_count": null,
   "metadata": {},
   "outputs": [],
   "source": []
  }
 ],
 "metadata": {
  "kernelspec": {
   "display_name": "Python 3",
   "language": "python",
   "name": "python3"
  },
  "language_info": {
   "codemirror_mode": {
    "name": "ipython",
    "version": 3
   },
   "file_extension": ".py",
   "mimetype": "text/x-python",
   "name": "python",
   "nbconvert_exporter": "python",
   "pygments_lexer": "ipython3",
   "version": "3.9.8"
  }
 },
 "nbformat": 4,
 "nbformat_minor": 2
}
