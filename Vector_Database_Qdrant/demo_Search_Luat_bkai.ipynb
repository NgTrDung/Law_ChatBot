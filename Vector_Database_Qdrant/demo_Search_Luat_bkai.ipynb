{
 "cells": [
  {
   "cell_type": "markdown",
   "metadata": {},
   "source": [
    "# 1. Thư viện"
   ]
  },
  {
   "cell_type": "code",
   "execution_count": 1,
   "metadata": {},
   "outputs": [
    {
     "name": "stderr",
     "output_type": "stream",
     "text": [
      "d:\\Download_Python\\lib\\importlib\\__init__.py:127: LangChainDeprecationWarning: As of langchain-core 0.3.0, LangChain uses pydantic v2 internally. The langchain_core.pydantic_v1 module was a compatibility shim for pydantic v1, and should no longer be used. Please update the code to import from Pydantic directly.\n",
      "\n",
      "For example, replace imports like: `from langchain_core.pydantic_v1 import BaseModel`\n",
      "with: `from pydantic import BaseModel`\n",
      "or the v1 compatibility namespace if you are working in a code base that has not been fully upgraded to pydantic 2 yet. \tfrom pydantic.v1 import BaseModel\n",
      "\n",
      "  return _bootstrap._gcd_import(name[level:], package, level)\n"
     ]
    }
   ],
   "source": [
    "import os\n",
    "import json\n",
    "import re\n",
    "\n",
    "from dotenv import load_dotenv\n",
    "from langchain_qdrant import Qdrant, RetrievalMode\n",
    "from qdrant_client.models import Filter, FieldCondition, MatchValue\n",
    "from langchain_community.embeddings import HuggingFaceBgeEmbeddings\n",
    "from apikeys_GEMINI import APIKeyManager\n",
    "\n",
    "from langchain.load import dumps, loads\n",
    "from langchain_core.prompts import ChatPromptTemplate\n",
    "from langchain_google_genai import ChatGoogleGenerativeAI\n",
    "from langchain_core.output_parsers import StrOutputParser"
   ]
  },
  {
   "cell_type": "code",
   "execution_count": 2,
   "metadata": {},
   "outputs": [],
   "source": [
    "load_dotenv()\n",
    "\n",
    "MODEL_GEMINI = os.getenv(\"MODEL_GEMIMI\")\n",
    "if MODEL_GEMINI is None:\n",
    "    raise ValueError(\"Environment variable MODEL_GEMINI is not set\")\n",
    "elif not MODEL_GEMINI.startswith(\"models/\"):\n",
    "    MODEL_GEMINI = f\"models/{MODEL_GEMINI}\"\n",
    "\n",
    "APIS_GEMINI_LIST = os.getenv('APIS_GEMINI_LIST').split(',')\n",
    "key_manager = APIKeyManager(APIS_GEMINI_LIST)\n",
    "\n",
    "URL_QDRANT_2 = os.getenv(\"URL_QDRANT_2\")\n",
    "API_QDRANT_2 = os.getenv(\"API_QDRANT_2\")\n",
    "\n",
    "MAX_DOCS_FOR_CONTENT = 5"
   ]
  },
  {
   "cell_type": "markdown",
   "metadata": {},
   "source": [
    "# 2. Mô hình embedding"
   ]
  },
  {
   "cell_type": "code",
   "execution_count": 3,
   "metadata": {},
   "outputs": [
    {
     "name": "stdout",
     "output_type": "stream",
     "text": [
      "WARNING:tensorflow:From d:\\Download_Python\\lib\\site-packages\\tf_keras\\src\\losses.py:2976: The name tf.losses.sparse_softmax_cross_entropy is deprecated. Please use tf.compat.v1.losses.sparse_softmax_cross_entropy instead.\n",
      "\n"
     ]
    }
   ],
   "source": [
    "EMBEDDINGS_MODEL_bkai = \"bkai-foundation-models/vietnamese-bi-encoder\"\n",
    "model_kwargs = {\"device\": \"cpu\"}\n",
    "encode_kwargs = {\"normalize_embeddings\": True}\n",
    "\n",
    "embeddings_bkai = HuggingFaceBgeEmbeddings(\n",
    "    model_name=EMBEDDINGS_MODEL_bkai,\n",
    "    model_kwargs=model_kwargs,\n",
    "    encode_kwargs=encode_kwargs\n",
    ")"
   ]
  },
  {
   "cell_type": "markdown",
   "metadata": {},
   "source": [
    "# 3. Kết nối đến Collection"
   ]
  },
  {
   "cell_type": "code",
   "execution_count": 4,
   "metadata": {},
   "outputs": [],
   "source": [
    "exist_Qdrant_More_Keywords = Qdrant.from_existing_collection(\n",
    "    embedding = embeddings_bkai,\n",
    "    url = URL_QDRANT_2,\n",
    "    api_key = API_QDRANT_2,\n",
    "    prefer_grpc=True,\n",
    "    collection_name = \"semantic_Luat_bkai_More_Keywords\",\n",
    "\tmetadata_payload_key=\"metadata\"\n",
    ")"
   ]
  },
  {
   "cell_type": "markdown",
   "metadata": {},
   "source": [
    "# 4. Hàm sinh ra Similarity Queries"
   ]
  },
  {
   "cell_type": "code",
   "execution_count": 5,
   "metadata": {},
   "outputs": [],
   "source": [
    "def query_generator(original_query: str, key_manager) -> list[str]:\n",
    "    \"\"\"Generate queries from original query\"\"\"\n",
    "    # Câu truy vấn gốc\n",
    "    query = original_query\n",
    "    \n",
    "    # Cập nhật prompt để yêu cầu rõ ràng chỉ trả về 3 câu truy vấn và câu gốc\n",
    "    prompt = ChatPromptTemplate.from_messages(\n",
    "        [\n",
    "            (\"system\", \"Bạn là một trợ lý hữu ích, có nhiệm vụ tạo ra nhiều truy vấn tìm kiếm dựa trên một truy vấn gốc.\"),\n",
    "            (\"human\", \"Tạo 3 truy vấn tìm kiếm liên quan đến: {original_query}. Mỗi truy vấn trên một dòng mới, và đảm bảo chỉ trả về các truy vấn, không có thêm bất kỳ giải thích hay văn bản nào khác.\"),\n",
    "        ]\n",
    "    )\n",
    "    \n",
    "    model = ChatGoogleGenerativeAI(\n",
    "        # key api google gemini, nếu test mà bị báo lỗi api core thì lấy api khác trong .env để test\n",
    "        google_api_key=key_manager.get_next_key(),\n",
    "        model=MODEL_GEMINI,\n",
    "        temperature=0.1\n",
    "    )\n",
    "    \n",
    "    query_generator_chain = (\n",
    "        prompt | model | StrOutputParser()\n",
    "    )\n",
    "    \n",
    "    # Kết quả sẽ là một chuỗi các câu truy vấn cách nhau bằng dấu xuống dòng\n",
    "    result = query_generator_chain.invoke({\"original_query\": query})\n",
    "    \n",
    "    # Tách kết quả thành danh sách các câu truy vấn\n",
    "    generated_queries = result.strip().split('\\n')\n",
    "    \n",
    "    # Đảm bảo chỉ lấy 3 câu nếu có nhiều hơn 3 câu truy vấn sinh ra\n",
    "    if len(generated_queries) > 3:\n",
    "        generated_queries = generated_queries[:3]\n",
    "    \n",
    "    # Kết hợp câu gốc với các câu truy vấn sinh ra\n",
    "    queries = [query] + generated_queries\n",
    "    \n",
    "    return queries"
   ]
  },
  {
   "cell_type": "markdown",
   "metadata": {},
   "source": [
    "# 5. Hàm Re-rank RRF"
   ]
  },
  {
   "cell_type": "code",
   "execution_count": 6,
   "metadata": {},
   "outputs": [],
   "source": [
    "def reciprocal_rank_fusion(results: list[list], k=60):\n",
    "    \"\"\"Rerank docs (reciprocal rank fusion)\"\"\"\n",
    "    fused_scores = {}\n",
    "    for docs in results:\n",
    "        for rank, doc in enumerate(docs):\n",
    "            doc_str = dumps(doc)\n",
    "            if doc_str not in fused_scores:\n",
    "                fused_scores[doc_str] = 0\n",
    "            fused_scores[doc_str] += 1 / (rank + k)\n",
    "\n",
    "    reranked_results = [\n",
    "        (loads(doc), score)\n",
    "        for doc, score in sorted(fused_scores.items(), key=lambda x: x[1], reverse=True)\n",
    "    ]\n",
    "\n",
    "    return [x[0] for x in reranked_results[:MAX_DOCS_FOR_CONTENT]]"
   ]
  },
  {
   "cell_type": "markdown",
   "metadata": {},
   "source": [
    "# 6. Tách Keywords"
   ]
  },
  {
   "cell_type": "markdown",
   "metadata": {},
   "source": [
    "## 6.1. Tách keywords"
   ]
  },
  {
   "cell_type": "code",
   "execution_count": 7,
   "metadata": {},
   "outputs": [],
   "source": [
    "# Hàm trích xuất từ khóa từ văn bản, loại bỏ dấu câu ngoại trừ \"/\" và \"-\"\n",
    "def extract_keywords(text):\n",
    "    text = re.sub(r'[^\\w\\s/-]', '', text)  # Loại bỏ các dấu câu không mong muốn\n",
    "    words = text.split()                   # Tách các từ theo khoảng trắng\n",
    "    unique_words = list(dict.fromkeys(words))  # Loại bỏ từ trùng lặp\n",
    "    return unique_words"
   ]
  },
  {
   "cell_type": "markdown",
   "metadata": {},
   "source": [
    "## 6.2. Xử lý lower case"
   ]
  },
  {
   "cell_type": "code",
   "execution_count": 8,
   "metadata": {},
   "outputs": [],
   "source": [
    "# Hàm xử lý các từ khóa: chuyển về chữ thường, giữ nguyên số La Mã và từ khóa có \"/\" hoặc \"-\"\n",
    "def process_keywords(keywords):\n",
    "    result = []\n",
    "    roman_numeral_pattern = re.compile(r\"^(?=[MDCLXVI])M{0,4}(CM|CD|D?C{0,3})(XC|XL|L?X{0,3})(IX|IV|V?I{0,3})$\")\n",
    "    \n",
    "    for word in keywords:\n",
    "        if roman_numeral_pattern.match(word) or any(c in word for c in \"/-\"):\n",
    "            result.append(word)\n",
    "        else:\n",
    "            result.append(word.lower())  # Chuyển các từ còn lại thành chữ thường\n",
    "    return result"
   ]
  },
  {
   "cell_type": "markdown",
   "metadata": {},
   "source": [
    "# 7. Truy vấn"
   ]
  },
  {
   "cell_type": "code",
   "execution_count": 9,
   "metadata": {},
   "outputs": [],
   "source": [
    "def print_Results_MoreKeywords(results):\n",
    "    for doc,score in results:\n",
    "        print(\"Page_Content:\\n\",doc.page_content)\n",
    "        # print(\"Context:\\n\",doc.metadata['context'],\"\\n\")\n",
    "        print(\"Stt:\",doc.metadata['stt'])\n",
    "        print(\"Số hiệu:\",doc.metadata['so_hieu'])\n",
    "        print(\"Chủ đề:\",doc.metadata['chu_de'])\n",
    "        print(\"Chương:\",doc.metadata[\"Chapter\"])\n",
    "        print(\"Mục:\",doc.metadata[\"Section\"])\n",
    "        print(\"Tiểu mục:\",doc.metadata[\"Mini-Section\"])\n",
    "        print(\"Điều:\",doc.metadata[\"Article\"])\n",
    "        print(\"Khoản:\",doc.metadata[\"Article-Section\"])\n",
    "        print(\"Score:\",score,\"\\n\",\"-----------------------\")"
   ]
  },
  {
   "cell_type": "markdown",
   "metadata": {},
   "source": [
    "## 7.1. Tạo Filter"
   ]
  },
  {
   "cell_type": "code",
   "execution_count": 10,
   "metadata": {},
   "outputs": [],
   "source": [
    "def create_should_filter(user_keywords, metadata_fields):\n",
    "    should_conditions = []\n",
    "\n",
    "    for keyword in user_keywords:\n",
    "        for field in metadata_fields:\n",
    "            should_conditions.append(FieldCondition(\n",
    "                key=field, \n",
    "                match=MatchValue(value=keyword)\n",
    "            ))\n",
    "\n",
    "    # Trả về bộ lọc với các điều kiện `should`\n",
    "    return Filter(\n",
    "        should=should_conditions\n",
    "    )"
   ]
  },
  {
   "cell_type": "markdown",
   "metadata": {},
   "source": [
    "## 7.2. Truy vấn với Filter"
   ]
  },
  {
   "cell_type": "code",
   "execution_count": 11,
   "metadata": {},
   "outputs": [],
   "source": [
    "def search_documents_with_should_filter(user_query, metadata_fields, top_k=5):\n",
    "    # Tách keywords từ query của user\n",
    "    user_keywords = process_keywords(extract_keywords(user_query))\n",
    "    \n",
    "    # Tạo bộ lọc `should`\n",
    "    filter_conditions = create_should_filter(user_keywords, metadata_fields)\n",
    "    \n",
    "    # Thực hiện tìm kiếm trên Qdrant với filter `should`\n",
    "    search_results = exist_Qdrant_More_Keywords.similarity_search_with_score(\n",
    "        query=user_query,\n",
    "        filter=filter_conditions,\n",
    "        k=top_k\n",
    "    )\n",
    "    \n",
    "    return search_results"
   ]
  },
  {
   "cell_type": "code",
   "execution_count": 12,
   "metadata": {},
   "outputs": [],
   "source": [
    "def combined_search_with_rerank(user_query: str, key_manager, metadata_fields, top_k=5):\n",
    "    # Gọi hàm query_generator để sinh ra 3 truy vấn từ query gốc\n",
    "    queries = query_generator(user_query, key_manager)\n",
    "\n",
    "    # Lưu trữ kết quả cho từng query\n",
    "    query_results = []\n",
    "\n",
    "    # Thực hiện tìm kiếm cho mỗi query trong danh sách queries\n",
    "    for query in queries:\n",
    "        search_results = search_documents_with_should_filter(query, metadata_fields, top_k=top_k)\n",
    "        query_results.append(search_results)  # Lưu kết quả riêng cho từng query\n",
    "\n",
    "    # Sử dụng hàm reciprocal_rank_fusion để re-rank kết quả từ nhiều query\n",
    "    reranked_results = reciprocal_rank_fusion(query_results)\n",
    "\n",
    "    # Lấy top 5 kết quả sau khi re-rank\n",
    "    top_results = reranked_results[:top_k]\n",
    "\n",
    "    return top_results"
   ]
  },
  {
   "cell_type": "code",
   "execution_count": 13,
   "metadata": {},
   "outputs": [],
   "source": [
    "# Các metadata fields cần lọc\n",
    "metadata_fields = [\n",
    "    \"metadata.loai_van_ban_Keywords\", \n",
    "    \"metadata.noi_ban_hanh_Keywords\", \n",
    "    \"metadata.so_hieu\", \n",
    "    \"metadata.linhvuc_nganh_Keywords\", \n",
    "    \"metadata.ngay_ban_hanh\", \n",
    "    \"metadata.ngay_hieu_luc\", \n",
    "    \"metadata.chu_de_Keywords\", \n",
    "    \"metadata.key_words\", \n",
    "    \"metadata.Chapter_Keywords\", \n",
    "    \"metadata.Section_Keywords\",  \n",
    "    \"metadata.Mini-Section_Keywords\", \n",
    "    \"metadata.Article_Keywords\", \n",
    "    \"metadata.Content_Keywords\", \n",
    "    \"metadata.Article-Section_Keywords\"\n",
    "]"
   ]
  },
  {
   "cell_type": "code",
   "execution_count": 15,
   "metadata": {},
   "outputs": [
    {
     "name": "stdout",
     "output_type": "stream",
     "text": [
      "Page_Content:\n",
      " Điều 10. Quyền của người tham gia và người thụ hưởng chế độ bảo hiểm xã hội\n",
      "1. Người tham gia bảo hiểm xã hội có các quyền sau đây:\n",
      "a) Hưởng chế độ bảo hiểm xã hội theo quy định của Luật này;\n",
      "b) Được cấp sổ bảo hiểm xã hội;\n",
      "c) Được cơ quan bảo hiểm xã hội định kỳ hằng tháng cung cấp thông tin về việc đóng bảo hiểm xã hội thông qua phương tiện điện tử; được cơ quan bảo hiểm xã hội xác nhận thông tin về đóng bảo hiểm xã hội khi có yêu cầu;\n",
      "d) Yêu cầu người sử dụng lao động và các cơ quan, tổ chức có liên quan thực hiện đầy đủ trách nhiệm về bảo hiểm xã hội đối với mình theo quy định của pháp luật;\n",
      "đ) Được tuyên truyền, phổ biến chính sách, pháp luật về bảo hiểm xã hội;\n",
      "e) Chủ động đi khám giám định y khoa để xác định mức suy giảm khả năng lao động nếu thuộc trường hợp đang bảo lưu thời gian đóng bảo hiểm xã hội và được thanh toán phí giám định y khoa khi kết quả giám định y khoa đủ điều kiện để hưởng chế độ bảo hiểm xã hội theo quy định của Luật này;\n",
      "g) Khiếu nại, tố cáo và khởi kiện về bảo hiểm xã hội theo quy định của pháp luật.\n",
      "Stt: 29\n",
      "Số hiệu: 41/2024/QH15\n",
      "Chủ đề: Bảo hiểm xã hội\n",
      "Chương: Chương II: QUYỀN, TRÁCH NHIỆM CỦA CƠ QUAN, TỔ CHỨC, CÁ NHÂN VỀ BẢO HIỂM XÃ HỘI VÀ TỔ CHỨC THỰC HIỆN BẢO HIỂM XÃ HỘI\n",
      "Mục: Mục 1. QUYỀN VÀ TRÁCH NHIỆM CỦA CƠ QUAN, TỔ CHỨC, CÁ NHÂN VỀ BẢO HIỂM XÃ HỘI\n",
      "Tiểu mục: None\n",
      "Điều: Điều 10. Quyền của người tham gia và người thụ hưởng chế độ bảo hiểm xã hội\n",
      "Khoản: Khoản 1\n",
      "Score: 0.4992952346801758 \n",
      " -----------------------\n",
      "Page_Content:\n",
      " Điều 8. Hợp tác quốc tế về bảo hiểm xã hội\n",
      "4. Trường hợp điều ước quốc tế mà nước Cộng hòa xã hội chủ nghĩa Việt Nam là thành viên có quy định về thời gian tham gia bảo hiểm xã hội của người lao động ở Việt Nam và ở nước ngoài được tính để xét điều kiện hưởng chế độ bảo hiểm xã hội thì mức hưởng chế độ bảo hiểm xã hội ở Việt Nam được tính theo thời gian người lao động đã đóng bảo hiểm xã hội tại Việt Nam.\n",
      "Stt: 29\n",
      "Số hiệu: 41/2024/QH15\n",
      "Chủ đề: Bảo hiểm xã hội\n",
      "Chương: Chương I: NHỮNG QUY ĐỊNH CHUNG\n",
      "Mục: None\n",
      "Tiểu mục: None\n",
      "Điều: Điều 8. Hợp tác quốc tế về bảo hiểm xã hội\n",
      "Khoản: Khoản 4\n",
      "Score: 0.5125632286071777 \n",
      " -----------------------\n",
      "Page_Content:\n",
      " Điều 36. Mức đóng, phương thức và thời hạn đóng bảo hiểm xã hội của người tham gia bảo hiểm xã hội tự nguyện\n",
      "4. Chính phủ quy định chi tiết điểm đ và điểm e khoản 2 Điều này.\n",
      "Stt: 29\n",
      "Số hiệu: 41/2024/QH15\n",
      "Chủ đề: Bảo hiểm xã hội\n",
      "Chương: Chương IV: ĐĂNG KÝ THAM GIA VÀ QUẢN LÝ THU, ĐÓNG BẢO HIỂM XÃ HỘI BẮT BUỘC VÀ BẢO HIỂM XÃ HỘI TỰ NGUYỆN\n",
      "Mục: Mục 2. QUẢN LÝ THU, ĐÓNG BẢO HIỂM XÃ HỘI BẮT BUỘC VÀ BẢO HIỂM XÃ HỘI TỰ NGUYỆN\n",
      "Tiểu mục: None\n",
      "Điều: Điều 36. Mức đóng, phương thức và thời hạn đóng bảo hiểm xã hội của người tham gia bảo hiểm xã hội tự nguyện\n",
      "Khoản: Khoản 4\n",
      "Score: 0.4593508839607239 \n",
      " -----------------------\n",
      "Page_Content:\n",
      " Điều 2. Đối tượng tham gia bảo hiểm xã hội bắt buộc và bảo hiểm xã hội tự nguyện\n",
      "6. Ủy ban Thường vụ Quốc hội quyết định việc tham gia bảo hiểm xã hội bắt buộc đối với đối tượng khác ngoài đối tượng quy định tại khoản 1 Điều này mà có việc làm, thu nhập ổn định, thường xuyên trên cơ sở đề xuất của Chính phủ phù hợp với điều kiện phát triển kinh tế - xã hội từng thời kỳ.\n",
      "Stt: 29\n",
      "Số hiệu: 41/2024/QH15\n",
      "Chủ đề: Bảo hiểm xã hội\n",
      "Chương: Chương I: NHỮNG QUY ĐỊNH CHUNG\n",
      "Mục: None\n",
      "Tiểu mục: None\n",
      "Điều: Điều 2. Đối tượng tham gia bảo hiểm xã hội bắt buộc và bảo hiểm xã hội tự nguyện\n",
      "Khoản: Khoản 6\n",
      "Score: 0.46653351187705994 \n",
      " -----------------------\n",
      "Page_Content:\n",
      " Điều 28. Đăng ký tham gia bảo hiểm xã hội và cấp sổ bảo hiểm xã hội\n",
      "5. Chính phủ quy định chi tiết Điều này.\n",
      "Stt: 29\n",
      "Số hiệu: 41/2024/QH15\n",
      "Chủ đề: Bảo hiểm xã hội\n",
      "Chương: Chương IV: ĐĂNG KÝ THAM GIA VÀ QUẢN LÝ THU, ĐÓNG BẢO HIỂM XÃ HỘI BẮT BUỘC VÀ BẢO HIỂM XÃ HỘI TỰ NGUYỆN\n",
      "Mục: Mục 1. ĐĂNG KÝ THAM GIA BẢO HIỂM XÃ HỘI BẮT BUỘC VÀ BẢO HIỂM XÃ HỘI TỰ NGUYỆN\n",
      "Tiểu mục: None\n",
      "Điều: Điều 28. Đăng ký tham gia bảo hiểm xã hội và cấp sổ bảo hiểm xã hội\n",
      "Khoản: Khoản 5\n",
      "Score: 0.4763188660144806 \n",
      " -----------------------\n"
     ]
    }
   ],
   "source": [
    "\n",
    "# Ví dụ sử dụng\n",
    "user_query= \"Các quyền lợi của người tham gia bảo hiểm xã hội là gì?\"\n",
    "\n",
    "results = combined_search_with_rerank(user_query, key_manager, metadata_fields, top_k=5)\n",
    "\n",
    "# In ra kết quả top 5 tài liệu\n",
    "print_Results_MoreKeywords(results)\n"
   ]
  },
  {
   "cell_type": "code",
   "execution_count": null,
   "metadata": {},
   "outputs": [],
   "source": []
  }
 ],
 "metadata": {
  "kernelspec": {
   "display_name": "Python 3",
   "language": "python",
   "name": "python3"
  },
  "language_info": {
   "codemirror_mode": {
    "name": "ipython",
    "version": 3
   },
   "file_extension": ".py",
   "mimetype": "text/x-python",
   "name": "python",
   "nbconvert_exporter": "python",
   "pygments_lexer": "ipython3",
   "version": "3.9.8"
  }
 },
 "nbformat": 4,
 "nbformat_minor": 2
}
