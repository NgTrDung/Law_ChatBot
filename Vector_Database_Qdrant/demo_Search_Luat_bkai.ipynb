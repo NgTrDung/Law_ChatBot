{
 "cells": [
  {
   "cell_type": "markdown",
   "metadata": {},
   "source": [
    "# 1. Thư viện"
   ]
  },
  {
   "cell_type": "code",
   "execution_count": 1,
   "metadata": {},
   "outputs": [
    {
     "name": "stderr",
     "output_type": "stream",
     "text": [
      "d:\\Download_Python\\lib\\importlib\\__init__.py:127: LangChainDeprecationWarning: As of langchain-core 0.3.0, LangChain uses pydantic v2 internally. The langchain_core.pydantic_v1 module was a compatibility shim for pydantic v1, and should no longer be used. Please update the code to import from Pydantic directly.\n",
      "\n",
      "For example, replace imports like: `from langchain_core.pydantic_v1 import BaseModel`\n",
      "with: `from pydantic import BaseModel`\n",
      "or the v1 compatibility namespace if you are working in a code base that has not been fully upgraded to pydantic 2 yet. \tfrom pydantic.v1 import BaseModel\n",
      "\n",
      "  return _bootstrap._gcd_import(name[level:], package, level)\n"
     ]
    },
    {
     "name": "stdout",
     "output_type": "stream",
     "text": [
      "WARNING:tensorflow:From d:\\Download_Python\\lib\\site-packages\\tf_keras\\src\\losses.py:2976: The name tf.losses.sparse_softmax_cross_entropy is deprecated. Please use tf.compat.v1.losses.sparse_softmax_cross_entropy instead.\n",
      "\n"
     ]
    }
   ],
   "source": [
    "import os\n",
    "import re\n",
    "\n",
    "from dotenv import load_dotenv\n",
    "from langchain_qdrant import Qdrant\n",
    "from qdrant_client.models import Filter, FieldCondition, MatchValue\n",
    "from langchain_community.embeddings import HuggingFaceBgeEmbeddings\n",
    "from apikeys_GEMINI import APIKeyManager\n",
    "\n",
    "from langchain.load import dumps, loads\n",
    "from langchain_core.prompts import ChatPromptTemplate\n",
    "from langchain_google_genai import ChatGoogleGenerativeAI\n",
    "from langchain_core.output_parsers import StrOutputParser\n",
    "\n",
    "from sentence_transformers import SentenceTransformer\n",
    "\n",
    "from sklearn.feature_extraction.text import TfidfVectorizer\n",
    "from sklearn.metrics.pairwise import cosine_similarity"
   ]
  },
  {
   "cell_type": "code",
   "execution_count": 2,
   "metadata": {},
   "outputs": [],
   "source": [
    "load_dotenv()\n",
    "\n",
    "MODEL_GEMINI = os.getenv(\"MODEL_GEMIMI\")\n",
    "if MODEL_GEMINI is None:\n",
    "    raise ValueError(\"Environment variable MODEL_GEMINI is not set\")\n",
    "elif not MODEL_GEMINI.startswith(\"models/\"):\n",
    "    MODEL_GEMINI = f\"models/{MODEL_GEMINI}\"\n",
    "\n",
    "APIS_GEMINI_LIST = os.getenv('APIS_GEMINI_LIST').split(',')\n",
    "key_manager = APIKeyManager(APIS_GEMINI_LIST)\n",
    "\n",
    "URL_QDRANT_3 = os.getenv(\"URL_QDRANT_3\")\n",
    "API_QDRANT_3 = os.getenv(\"API_QDRANT_3\")\n",
    "\n",
    "MAX_DOCS_FOR_CONTENT = 5"
   ]
  },
  {
   "cell_type": "markdown",
   "metadata": {},
   "source": [
    "# 2. Mô hình embedding"
   ]
  },
  {
   "cell_type": "markdown",
   "metadata": {},
   "source": [
    "## 2.1. Mô hình bkai cho Qdrant"
   ]
  },
  {
   "cell_type": "code",
   "execution_count": 3,
   "metadata": {},
   "outputs": [],
   "source": [
    "EMBEDDINGS_MODEL_bkai = \"bkai-foundation-models/vietnamese-bi-encoder\"\n",
    "model_kwargs = {\"device\": \"cpu\"}\n",
    "encode_kwargs = {\"normalize_embeddings\": True}\n",
    "\n",
    "embeddings_bkai = HuggingFaceBgeEmbeddings(\n",
    "    model_name=EMBEDDINGS_MODEL_bkai,\n",
    "    model_kwargs=model_kwargs,\n",
    "    encode_kwargs=encode_kwargs\n",
    ")"
   ]
  },
  {
   "cell_type": "markdown",
   "metadata": {},
   "source": [
    "## 2.2. Mô hình paraphrase-multilingual-mpnet-base-v2"
   ]
  },
  {
   "cell_type": "code",
   "execution_count": 4,
   "metadata": {},
   "outputs": [
    {
     "name": "stderr",
     "output_type": "stream",
     "text": [
      "d:\\Download_Python\\lib\\site-packages\\transformers\\tokenization_utils_base.py:1601: FutureWarning: `clean_up_tokenization_spaces` was not set. It will be set to `True` by default. This behavior will be depracted in transformers v4.45, and will be then set to `False` by default. For more details check this issue: https://github.com/huggingface/transformers/issues/31884\n",
      "  warnings.warn(\n"
     ]
    }
   ],
   "source": [
    "MODEL_RERANK = 'sentence-transformers/paraphrase-multilingual-mpnet-base-v2'\n",
    "rerank_model = SentenceTransformer(MODEL_RERANK)"
   ]
  },
  {
   "cell_type": "markdown",
   "metadata": {},
   "source": [
    "# 3. Kết nối đến Collection"
   ]
  },
  {
   "cell_type": "markdown",
   "metadata": {},
   "source": [
    "## 3.1. Luat_bkai_Article-Section_More_Keywords"
   ]
  },
  {
   "cell_type": "code",
   "execution_count": 5,
   "metadata": {},
   "outputs": [],
   "source": [
    "exist_ASMK_Collection = Qdrant.from_existing_collection(\n",
    "    embedding = embeddings_bkai,\n",
    "    url = URL_QDRANT_3,\n",
    "    api_key = API_QDRANT_3,\n",
    "    prefer_grpc=True,\n",
    "    collection_name = \"Luat_bkai_Article-Section_More_Keywords\",\n",
    "\tmetadata_payload_key=\"metadata\"\n",
    ")"
   ]
  },
  {
   "cell_type": "markdown",
   "metadata": {},
   "source": [
    "## 3.2. Luat_bkai_Article_More_Keywords"
   ]
  },
  {
   "cell_type": "code",
   "execution_count": 6,
   "metadata": {},
   "outputs": [],
   "source": [
    "exist_AMK_Collection = Qdrant.from_existing_collection(\n",
    "    embedding = embeddings_bkai,\n",
    "    url = URL_QDRANT_3,\n",
    "    api_key = API_QDRANT_3,\n",
    "    prefer_grpc=True,\n",
    "    collection_name = \"Luat_bkai_Article_More_Keywords\",\n",
    "\tmetadata_payload_key=\"metadata\"\n",
    ")"
   ]
  },
  {
   "cell_type": "markdown",
   "metadata": {},
   "source": [
    "# 4. Hàm sinh ra Similarity Queries"
   ]
  },
  {
   "cell_type": "code",
   "execution_count": 7,
   "metadata": {},
   "outputs": [],
   "source": [
    "def query_generator(original_query: str, key_manager) -> list[str]:\n",
    "    \"\"\"Generate queries from original query\"\"\"\n",
    "    # Câu truy vấn gốc\n",
    "    query = original_query\n",
    "    \n",
    "    # Cập nhật prompt để yêu cầu rõ ràng chỉ trả về 3 câu truy vấn và câu gốc\n",
    "    prompt = ChatPromptTemplate.from_messages(\n",
    "        [\n",
    "            (\"system\", \"Bạn là một trợ lý hữu ích và có nhiệm vụ tạo ra nhiều truy vấn tìm kiếm dựa trên một truy vấn gốc.\"),\n",
    "            (\"human\", \"\"\"Tạo chính xác 3 câu truy vấn tìm kiếm liên quan đến: {original_query}. Mỗi câu truy vấn trên một dòng mới. \n",
    "            Không được trả về nhiều hơn hoặc ít hơn 3 câu truy vấn. Đảm bảo không thêm bất kỳ văn bản nào khác ngoài 3 câu truy vấn này.\"\"\"),\n",
    "        ]\n",
    "    )\n",
    "    \n",
    "    model = ChatGoogleGenerativeAI(\n",
    "        # key api google gemini, nếu test mà bị báo lỗi api core thì lấy api khác trong .env để test\n",
    "        google_api_key=key_manager.get_next_key(),\n",
    "        model=MODEL_GEMINI,\n",
    "        temperature=0.15\n",
    "    )\n",
    "    \n",
    "    query_generator_chain = (\n",
    "        prompt | model | StrOutputParser()\n",
    "    )\n",
    "    \n",
    "    # Kết quả sẽ là một chuỗi các câu truy vấn cách nhau bằng dấu xuống dòng\n",
    "    result = query_generator_chain.invoke({\"original_query\": query})\n",
    "    \n",
    "    # Tách kết quả thành danh sách các câu truy vấn\n",
    "    generated_queries = result.strip().split('\\n')\n",
    "    \n",
    "    # Đảm bảo chỉ lấy 3 câu truy vấn nếu có nhiều hơn 3 câu sinh ra\n",
    "    if len(generated_queries) > 3:\n",
    "        generated_queries = generated_queries[:len(generated_queries) - 1]\n",
    "    \n",
    "    # Kết hợp câu gốc với các câu truy vấn sinh ra\n",
    "    queries = [query] + generated_queries\n",
    "    \n",
    "    return queries"
   ]
  },
  {
   "cell_type": "markdown",
   "metadata": {},
   "source": [
    "# 5. Tách Keywords"
   ]
  },
  {
   "cell_type": "markdown",
   "metadata": {},
   "source": [
    "## 5.1. Tách keywords"
   ]
  },
  {
   "cell_type": "code",
   "execution_count": 8,
   "metadata": {},
   "outputs": [],
   "source": [
    "# Hàm trích xuất từ khóa từ văn bản, loại bỏ dấu câu ngoại trừ \"/\" và \"-\"\n",
    "def extract_keywords(text):\n",
    "    text = re.sub(r'[^\\w\\s/-]', '', text)  # Loại bỏ các dấu câu không mong muốn\n",
    "    words = text.split()                   # Tách các từ theo khoảng trắng\n",
    "    unique_words = list(dict.fromkeys(words))  # Loại bỏ từ trùng lặp\n",
    "    return unique_words"
   ]
  },
  {
   "cell_type": "markdown",
   "metadata": {},
   "source": [
    "## 5.2. Xử lý lower case"
   ]
  },
  {
   "cell_type": "code",
   "execution_count": 9,
   "metadata": {},
   "outputs": [],
   "source": [
    "# Hàm xử lý các từ khóa: chuyển về chữ thường, giữ nguyên số La Mã và từ khóa có \"/\" hoặc \"-\"\n",
    "def process_keywords(keywords):\n",
    "    result = []\n",
    "    roman_numeral_pattern = re.compile(r\"^(?=[MDCLXVI])M{0,4}(CM|CD|D?C{0,3})(XC|XL|L?X{0,3})(IX|IV|V?I{0,3})$\")\n",
    "    \n",
    "    for word in keywords:\n",
    "        if roman_numeral_pattern.match(word) or any(c in word for c in \"/-\"):\n",
    "            result.append(word)\n",
    "        else:\n",
    "            result.append(word.lower())  # Chuyển các từ còn lại thành chữ thường\n",
    "    return result"
   ]
  },
  {
   "cell_type": "markdown",
   "metadata": {},
   "source": [
    "# 6. Truy vấn"
   ]
  },
  {
   "cell_type": "markdown",
   "metadata": {},
   "source": [
    "## 6.1. Hàm print_Results"
   ]
  },
  {
   "cell_type": "code",
   "execution_count": 10,
   "metadata": {},
   "outputs": [],
   "source": [
    "def print_Results_MoreKeywords(results):\n",
    "    # for doc,score in results:\n",
    "    #     print(\"Page_Content:\\n\",doc.page_content)\n",
    "    #     # print(\"Context:\\n\",doc.metadata['context'],\"\\n\")\n",
    "        # print(\"Stt:\",doc.metadata['stt'])\n",
    "        # print(\"Số hiệu:\",doc.metadata['so_hieu'])\n",
    "        # print(\"Chủ đề:\",doc.metadata['chu_de'])\n",
    "        # print(\"Chương:\",doc.metadata[\"Chapter\"])\n",
    "        # print(\"Mục:\",doc.metadata[\"Section\"])\n",
    "        # print(\"Tiểu mục:\",doc.metadata[\"Mini-Section\"])\n",
    "        # print(\"Điều:\",doc.metadata[\"Article\"])\n",
    "        # print(\"Khoản:\",doc.metadata[\"Article-Section\"])\n",
    "    #     print(\"Score:\",score,\"\\n\",\"-----------------------\")\n",
    "    for result in results:\n",
    "        doc = result[0]  # lấy phần tử đầu tiên\n",
    "        score_Qdrant = result[1]  # lấy phần tử thứ hai\n",
    "        score_Rerank = result[2]\n",
    "        print(\"Page_Content:\\n\", doc.page_content)\n",
    "        print(\"Stt:\",doc.metadata['stt'])\n",
    "        print(\"Số hiệu:\",doc.metadata['so_hieu'])\n",
    "        print(\"Chủ đề:\",doc.metadata['chu_de'])\n",
    "        print(\"Chương:\",doc.metadata[\"Chapter\"])\n",
    "        print(\"Mục:\",doc.metadata[\"Section\"])\n",
    "        print(\"Tiểu mục:\",doc.metadata[\"Mini-Section\"])\n",
    "        print(\"Điều:\",doc.metadata[\"Article\"])\n",
    "        print(\"Khoản:\",doc.metadata[\"Article-Section\"])\n",
    "        print(\"Page_Rerank:\", score_Rerank)\n",
    "        print(\"Score Qdrant:\",score_Qdrant,\"\\n\",\"-----------------------\")"
   ]
  },
  {
   "cell_type": "markdown",
   "metadata": {},
   "source": [
    "## 6.2. Tạo Filter"
   ]
  },
  {
   "cell_type": "code",
   "execution_count": 11,
   "metadata": {},
   "outputs": [],
   "source": [
    "def create_should_filter(user_keywords, metadata_fields):\n",
    "    should_conditions = []\n",
    "\n",
    "    for keyword in user_keywords:\n",
    "        for field in metadata_fields:\n",
    "            should_conditions.append(FieldCondition(\n",
    "                key=field, \n",
    "                match=MatchValue(value=keyword)\n",
    "            ))\n",
    "\n",
    "    # Trả về bộ lọc với các điều kiện `should`\n",
    "    return Filter(\n",
    "        should=should_conditions\n",
    "    )"
   ]
  },
  {
   "cell_type": "markdown",
   "metadata": {},
   "source": [
    "## 6.3. Truy vấn với Filter"
   ]
  },
  {
   "cell_type": "code",
   "execution_count": 12,
   "metadata": {},
   "outputs": [],
   "source": [
    "def search_documents_with_should_filter(user_query, metadata_fields, top_k=5):\n",
    "    # Tách keywords từ query của user\n",
    "    user_keywords = process_keywords(extract_keywords(user_query))\n",
    "    \n",
    "    # Tạo bộ lọc `should`\n",
    "    filter_conditions = create_should_filter(user_keywords, metadata_fields)\n",
    "    \n",
    "    # Thực hiện tìm kiếm trên Qdrant với filter `should`\n",
    "    search_results = exist_ASMK_Collection.similarity_search_with_score(\n",
    "        query=user_query,\n",
    "        filter=filter_conditions,\n",
    "        k=top_k\n",
    "    )\n",
    "    \n",
    "    return search_results"
   ]
  },
  {
   "cell_type": "code",
   "execution_count": 13,
   "metadata": {},
   "outputs": [],
   "source": [
    "def combined_search(user_query: str, key_manager, metadata_fields, top_k=5):\n",
    "    # Gọi hàm query_generator để sinh ra 3 truy vấn từ query gốc\n",
    "    queries = query_generator(user_query, key_manager)\n",
    "\n",
    "    print(\"4 câu queries:\\n\")\n",
    "    for q in queries:\n",
    "        print(q)\n",
    "\n",
    "    print(\"\\nCác kết quả trả về:\\n\")\n",
    "    # Lưu trữ kết quả cho từng query\n",
    "    query_results = []\n",
    "\n",
    "    # Thực hiện tìm kiếm cho mỗi query trong danh sách queries\n",
    "    for query in queries:\n",
    "        search_results = search_documents_with_should_filter(query, metadata_fields, top_k=top_k)\n",
    "        query_results.extend(search_results)  # Lưu kết quả riêng cho từng query\n",
    "\n",
    "    # Dictionary để lưu các kết quả unique, key là `doc.page_content`\n",
    "    unique_results = {}\n",
    "\n",
    "    # Duyệt qua từng kết quả\n",
    "    for doc, score in query_results:\n",
    "        # Kiểm tra nếu `doc.page_content` đã tồn tại trong unique_results\n",
    "        if doc.page_content in unique_results:\n",
    "            # Nếu tồn tại, so sánh score và giữ lại cái có score cao hơn\n",
    "            if score > unique_results[doc.page_content][1]:\n",
    "                unique_results[doc.page_content] = (doc, score)\n",
    "        else:\n",
    "            # Nếu chưa tồn tại, thêm vào unique_results\n",
    "            unique_results[doc.page_content] = (doc, score)\n",
    "\n",
    "    # Trả về danh sách kết quả duy nhất, với các giá trị từ dictionary\n",
    "    return list(unique_results.values())"
   ]
  },
  {
   "cell_type": "markdown",
   "metadata": {},
   "source": [
    "## 6.4. Re-rank theo trọng số Similarity và TF-IDF"
   ]
  },
  {
   "cell_type": "code",
   "execution_count": 14,
   "metadata": {},
   "outputs": [],
   "source": [
    "def calculate_scores(user_query, unique_results):\n",
    "    # Tạo danh sách các doc.page_content từ unique_results\n",
    "    documents = [doc.page_content for doc, _ in unique_results]\n",
    "    \n",
    "    # Tính cosine similarity\n",
    "    user_query_embedding = rerank_model.encode(user_query)\n",
    "    document_embeddings = rerank_model.encode(documents)\n",
    "    cosine_similarities = cosine_similarity([user_query_embedding], document_embeddings)[0]\n",
    "\n",
    "    # Tính TF-IDF\n",
    "    vectorizer = TfidfVectorizer()\n",
    "    tfidf_matrix = vectorizer.fit_transform([user_query] + documents)\n",
    "    tfidf_scores = tfidf_matrix.toarray()[0][1:]  # Lấy chỉ số TF-IDF cho các documents\n",
    "\n",
    "    # Tính điểm tổng hợp\n",
    "    combined_scores = []\n",
    "    for cos_sim, tfidf_score in zip(cosine_similarities, tfidf_scores):\n",
    "        combined_score = 0.7 * cos_sim + 0.3 * tfidf_score\n",
    "        combined_scores.append(combined_score)\n",
    "\n",
    "    # Tạo danh sách kết quả với điểm số\n",
    "    results_with_scores = [(unique_results[i][0], unique_results[i][1], combined_scores[i]) for i in range(len(unique_results))]\n",
    "\n",
    "    # Sắp xếp kết quả theo điểm số giảm dần\n",
    "    results_with_scores.sort(key=lambda x: x[2], reverse=True)\n",
    "\n",
    "    # Lấy top 5 kết quả\n",
    "    top_results = results_with_scores[:5]\n",
    "    \n",
    "    return top_results"
   ]
  },
  {
   "cell_type": "markdown",
   "metadata": {},
   "source": [
    "## 6.5. Các metadata cần filter"
   ]
  },
  {
   "cell_type": "code",
   "execution_count": 15,
   "metadata": {},
   "outputs": [],
   "source": [
    "# Các metadata fields cần lọc\n",
    "metadata_fields = [\n",
    "    \"metadata.loai_van_ban_Keywords\", \n",
    "    \"metadata.noi_ban_hanh_Keywords\", \n",
    "    \"metadata.so_hieu\", \n",
    "    \"metadata.linhvuc_nganh_Keywords\", \n",
    "    \"metadata.ngay_ban_hanh\", \n",
    "    \"metadata.ngay_hieu_luc\", \n",
    "    \"metadata.chu_de_Keywords\", \n",
    "    # \"metadata.key_words\", \n",
    "    \"metadata.Chapter_Keywords\", \n",
    "    \"metadata.Section_Keywords\",  \n",
    "    \"metadata.Mini-Section_Keywords\", \n",
    "    \"metadata.Article_Keywords\", \n",
    "    \"metadata.Content_Keywords\", \n",
    "    \"metadata.Article-Section_Keywords\"\n",
    "]"
   ]
  },
  {
   "cell_type": "markdown",
   "metadata": {},
   "source": [
    "## 6.6. Thực hiện truy vấn Khoản"
   ]
  },
  {
   "cell_type": "code",
   "execution_count": 51,
   "metadata": {},
   "outputs": [
    {
     "name": "stdout",
     "output_type": "stream",
     "text": [
      "4 câu queries:\n",
      "\n",
      "Quy định về việc doanh nghiệp viễn thông có được phép tiết lộ thông tin cá nhân của người dùng và trong những trường hợp nào theo luật?\n",
      "Quy định pháp luật về việc doanh nghiệp viễn thông được phép tiết lộ thông tin cá nhân của người dùng\n",
      "Trường hợp nào doanh nghiệp viễn thông được phép cung cấp thông tin cá nhân của thuê bao\n",
      "Trách nhiệm của doanh nghiệp viễn thông trong việc bảo mật thông tin cá nhân người dùng\n",
      "\n",
      "Các kết quả trả về:\n",
      "\n",
      "Page_Content:\n",
      " 4. Doanh nghiệp viễn thông không được tiết lộ thông tin riêng liên quan đến người sử dụng dịch vụ viễn thông, bao gồm thông tin thuê bao viễn thông (tên, địa chỉ, số thuê bao viễn thông và thông tin riêng khác mà người sử dụng cung cấp khi giao kết hợp đồng với doanh nghiệp) và thông tin về việc sử dụng dịch vụ viễn thông (số thuê bao viễn thông gửi, số thuê bao viễn thông nhận, vị trí thiết bị đầu cuối gửi, vị trí thiết bị đầu cuối nhận, thời điểm gửi, nhận, thời lượng liên lạc, địa chỉ Internet), trừ các trường hợp sau đây:\n",
      "a) Người sử dụng dịch vụ viễn thông đồng ý cung cấp thông tin theo quy định của pháp luật về bảo vệ dữ liệu cá nhân;\n",
      "b) Các doanh nghiệp viễn thông có thỏa thuận bằng văn bản về việc trao đổi, cung cấp thông tin thuê bao viễn thông, thông tin về việc sử dụng dịch vụ viễn thông của người sử dụng dịch vụ để phục vụ cho việc tính giá, lập hóa đơn;\n",
      "c) Doanh nghiệp viễn thông cung cấp thông tin thuê bao viễn thông có hành vi trốn tránh thực hiện nghĩa vụ thanh toán tiền sử dụng dịch vụ viễn thông theo quy định của Bộ trưởng Bộ Thông tin và Truyền thông;\n",
      "d) Khi có yêu cầu của cơ quan nhà nước có thẩm quyền theo quy định của pháp luật.\n",
      "Stt: 13\n",
      "Số hiệu: 24/2023/QH15\n",
      "Chủ đề: Viễn thông\n",
      "Chương: Chương I: NHỮNG QUY ĐỊNH CHUNG\n",
      "Mục: None\n",
      "Tiểu mục: None\n",
      "Điều: Điều 6. Bảo đảm bí mật thông tin\n",
      "Khoản: Khoản 4\n",
      "Page_Rerank: 0.550556993484497\n",
      "Score Qdrant: 0.6368992328643799 \n",
      " -----------------------\n",
      "Page_Content:\n",
      " 4. Doanh nghiệp viễn thông có trách nhiệm cung cấp các biện pháp kỹ thuật hỗ trợ người sử dụng, cơ quan nhà nước có thẩm quyền truy vấn thông tin thời gian thực về việc trừ tiền sử dụng dịch vụ viễn thông, ưu tiên theo hình thức trực tuyến. Trong trường hợp lập hóa đơn thanh toán tiền sử dụng dịch vụ viễn thông hằng tháng theo hợp đồng, doanh nghiệp viễn thông có trách nhiệm cung cấp hoặc thuê tổ chức khác cung cấp miễn phí một lần thông tin chi tiết tiền sử dụng dịch vụ viễn thông khi người sử dụng có yêu cầu.\n",
      "Stt: 13\n",
      "Số hiệu: 24/2023/QH15\n",
      "Chủ đề: Viễn thông\n",
      "Chương: Chương VII: QUẢN LÝ TIÊU CHUẨN, QUY CHUẨN KỸ THUẬT, CHẤT LƯỢNG VÀ GIÁ DỊCH VỤ VIỄN THÔNG\n",
      "Mục: None\n",
      "Tiểu mục: None\n",
      "Điều: Điều 60. Lập hóa đơn và thanh toán tiền sử dụng dịch vụ viễn thông\n",
      "Khoản: Khoản 4\n",
      "Page_Rerank: 0.4790506839752197\n",
      "Score Qdrant: 0.5058900117874146 \n",
      " -----------------------\n",
      "Page_Content:\n",
      " 5. Doanh nghiệp nhà nước có thể xác định thêm các nội dung thông tin cần công khai, hình thức công khai thông tin, việc áp dụng các hình thức công khai đối với từng loại nội dung thông tin nhất định và cách thức thực hiện, việc cung cấp thông tin theo yêu cầu trong quy chế thực hiện dân chủ phù hợp với đặc điểm tổ chức, hoạt động, điều kiện thực tế của doanh nghiệp mình và không trái với quy định tại Mục này.\n",
      "Stt: 1\n",
      "Số hiệu: 10/2022/QH15\n",
      "Chủ đề: Thực hiện dân chủ ở cơ sở\n",
      "Chương: Chương IV: THỰC HIỆN DÂN CHỦ Ở TỔ CHỨC CÓ SỬ DỤNG LAO ĐỘNG\n",
      "Mục: Mục 1. THỰC HIỆN DÂN CHỦ Ở DOANH NGHIỆP NHÀ NƯỚC\n",
      "Tiểu mục: Tiểu mục 1. CÔNG KHAI THÔNG TIN Ở DOANH NGHIỆP NHÀ NƯỚC\n",
      "Điều: Điều 66. Trách nhiệm tổ chức thực hiện việc công khai thông tin ở doanh nghiệp nhà nước\n",
      "Khoản: Khoản 5\n",
      "Page_Rerank: 0.4728369235992431\n",
      "Score Qdrant: 0.5090124607086182 \n",
      " -----------------------\n",
      "Page_Content:\n",
      " 4. Thuê bao viễn thông có các nghĩa vụ sau đây:\n",
      "a) Các nghĩa vụ quy định tại khoản 2 Điều này;\n",
      "b) Thực hiện quy định về quản lý tài nguyên viễn thông và tiêu chuẩn, quy chuẩn kỹ thuật viễn thông;\n",
      "c) Cung cấp đầy đủ, chính xác thông tin của thuê bao viễn thông cho doanh nghiệp viễn thông khi giao kết hợp đồng cung cấp và sử dụng dịch vụ viễn thông;\n",
      "d) Không sử dụng thông tin trên giấy tờ tùy thân của mình để thực hiện giao kết hợp đồng cung cấp và sử dụng dịch vụ viễn thông cho người khác, trừ trường hợp được phép theo quy định của pháp luật về viễn thông;\n",
      "đ) Chịu trách nhiệm trước pháp luật trong việc sử dụng số thuê bao viễn thông do mình đã giao kết hợp đồng với doanh nghiệp viễn thông;\n",
      "e) Bảo vệ mật khẩu, khóa mật mã và thiết bị đầu cuối của mình.\n",
      "Stt: 13\n",
      "Số hiệu: 24/2023/QH15\n",
      "Chủ đề: Viễn thông\n",
      "Chương: Chương II: KINH DOANH VIỄN THÔNG\n",
      "Mục: Mục 1. ĐẦU TƯ, KINH DOANH VIỄN THÔNG\n",
      "Tiểu mục: None\n",
      "Điều: Điều 15. Quyền, nghĩa vụ của người sử dụng dịch vụ viễn thông, thuê bao viễn thông\n",
      "Khoản: Khoản 4\n",
      "Page_Rerank: 0.4611246645450592\n",
      "Score Qdrant: 0.5098814964294434 \n",
      " -----------------------\n",
      "Page_Content:\n",
      " 1. Doanh nghiệp viễn thông có quyền kết nối mạng viễn thông của mình với mạng, dịch vụ viễn thông của doanh nghiệp viễn thông khác; có nghĩa vụ cho doanh nghiệp viễn thông khác kết nối với mạng, dịch vụ viễn thông của mình.\n",
      "Stt: 13\n",
      "Số hiệu: 24/2023/QH15\n",
      "Chủ đề: Viễn thông\n",
      "Chương: Chương V: KẾT NỐI VÀ CHIA SẺ CƠ SỞ HẠ TẦNG VIỄN THÔNG\n",
      "Mục: None\n",
      "Tiểu mục: None\n",
      "Điều: Điều 44. Nguyên tắc kết nối viễn thông\n",
      "Khoản: Khoản 1\n",
      "Page_Rerank: 0.45477776527404784\n",
      "Score Qdrant: 0.5018672943115234 \n",
      " -----------------------\n"
     ]
    }
   ],
   "source": [
    "# Ví dụ sử dụng\n",
    "user_query= \"Quy định về việc doanh nghiệp viễn thông có được phép tiết lộ thông tin cá nhân của người dùng và trong những trường hợp nào theo luật?\"\n",
    "\n",
    "search_Results = combined_search(user_query, key_manager, metadata_fields, top_k=5)\n",
    "\n",
    "re_Rank_Results = calculate_scores(user_query, search_Results)\n",
    "\n",
    "# In ra kết quả top 5 tài liệu\n",
    "print_Results_MoreKeywords(re_Rank_Results)"
   ]
  },
  {
   "cell_type": "markdown",
   "metadata": {},
   "source": [
    "## 6.7. Lấy metadata để truy xuất Điều"
   ]
  },
  {
   "cell_type": "code",
   "execution_count": 52,
   "metadata": {},
   "outputs": [],
   "source": [
    "def extract_unique_metadata(top_results):\n",
    "    metadata_list = []\n",
    "    metadata_dict_set = set()  # Sử dụng set để lưu trữ các metadata duy nhất\n",
    "\n",
    "    # Truy cập vào từng result trong top_results\n",
    "    for result in top_results:\n",
    "        doc = result[0]  # Lấy doc từ result\n",
    "        \n",
    "        # Tạo một dictionary chứa các thuộc tính từ metadata\n",
    "        metadata = {\n",
    "            \"stt\": doc.metadata.get('stt'),\n",
    "            \"loai_van_ban\": doc.metadata.get('loai_van_ban'),\n",
    "            \"noi_ban_hanh\": doc.metadata.get('noi_ban_hanh'),\n",
    "            \"so_hieu\": doc.metadata.get('so_hieu'),\n",
    "            \"linhvuc_nganh\": doc.metadata.get('linhvuc_nganh'),\n",
    "            \"ngay_ban_hanh\": doc.metadata.get('ngay_ban_hanh'),\n",
    "            \"ngay_hieu_luc\": doc.metadata.get('ngay_hieu_luc'),\n",
    "            \"chu_de\": doc.metadata.get('chu_de'),\n",
    "            \"Chapter\": doc.metadata.get('Chapter'),\n",
    "            \"Section\": doc.metadata.get('Section'),\n",
    "            \"Mini-Section\": doc.metadata.get('Mini-Section'),\n",
    "            \"Article\": doc.metadata.get('Article'),\n",
    "        }\n",
    "\n",
    "        # Lọc bỏ các key-value có giá trị None\n",
    "        filtered_metadata = {key: value for key, value in metadata.items() if value is not None}\n",
    "\n",
    "        # Chuyển đổi dict thành tuple để thêm vào set\n",
    "        metadata_tuple = tuple(filtered_metadata.items())\n",
    "        \n",
    "        # Kiểm tra và thêm vào set nếu chưa có\n",
    "        metadata_dict_set.add(metadata_tuple)\n",
    "\n",
    "    # Chuyển đổi lại set thành list và định dạng lại thành dict\n",
    "    for metadata_tuple in metadata_dict_set:\n",
    "        metadata_dict = dict(metadata_tuple)\n",
    "        metadata_list.append(metadata_dict)\n",
    "\n",
    "    return metadata_list"
   ]
  },
  {
   "cell_type": "code",
   "execution_count": 53,
   "metadata": {},
   "outputs": [
    {
     "name": "stdout",
     "output_type": "stream",
     "text": [
      "[{'stt': '13', 'loai_van_ban': 'Luật', 'noi_ban_hanh': 'Quốc hội', 'so_hieu': '24/2023/QH15', 'linhvuc_nganh': 'Công nghệ thông tin', 'ngay_ban_hanh': '24/11/2023', 'ngay_hieu_luc': '01/07/2024', 'chu_de': 'Viễn thông', 'Chapter': 'Chương V: KẾT NỐI VÀ CHIA SẺ CƠ SỞ HẠ TẦNG VIỄN THÔNG', 'Article': 'Điều 44. Nguyên tắc kết nối viễn thông'}, {'stt': '13', 'loai_van_ban': 'Luật', 'noi_ban_hanh': 'Quốc hội', 'so_hieu': '24/2023/QH15', 'linhvuc_nganh': 'Công nghệ thông tin', 'ngay_ban_hanh': '24/11/2023', 'ngay_hieu_luc': '01/07/2024', 'chu_de': 'Viễn thông', 'Chapter': 'Chương II: KINH DOANH VIỄN THÔNG', 'Section': 'Mục 1. ĐẦU TƯ, KINH DOANH VIỄN THÔNG', 'Article': 'Điều 15. Quyền, nghĩa vụ của người sử dụng dịch vụ viễn thông, thuê bao viễn thông'}, {'stt': '13', 'loai_van_ban': 'Luật', 'noi_ban_hanh': 'Quốc hội', 'so_hieu': '24/2023/QH15', 'linhvuc_nganh': 'Công nghệ thông tin', 'ngay_ban_hanh': '24/11/2023', 'ngay_hieu_luc': '01/07/2024', 'chu_de': 'Viễn thông', 'Chapter': 'Chương I: NHỮNG QUY ĐỊNH CHUNG', 'Article': 'Điều 6. Bảo đảm bí mật thông tin'}, {'stt': '1', 'loai_van_ban': 'Luật', 'noi_ban_hanh': 'Quốc hội', 'so_hieu': '10/2022/QH15', 'linhvuc_nganh': 'Quyền dân sự', 'ngay_ban_hanh': '10/11/2022', 'ngay_hieu_luc': '01/07/2023', 'chu_de': 'Thực hiện dân chủ ở cơ sở', 'Chapter': 'Chương IV: THỰC HIỆN DÂN CHỦ Ở TỔ CHỨC CÓ SỬ DỤNG LAO ĐỘNG', 'Section': 'Mục 1. THỰC HIỆN DÂN CHỦ Ở DOANH NGHIỆP NHÀ NƯỚC', 'Mini-Section': 'Tiểu mục 1. CÔNG KHAI THÔNG TIN Ở DOANH NGHIỆP NHÀ NƯỚC', 'Article': 'Điều 66. Trách nhiệm tổ chức thực hiện việc công khai thông tin ở doanh nghiệp nhà nước'}, {'stt': '13', 'loai_van_ban': 'Luật', 'noi_ban_hanh': 'Quốc hội', 'so_hieu': '24/2023/QH15', 'linhvuc_nganh': 'Công nghệ thông tin', 'ngay_ban_hanh': '24/11/2023', 'ngay_hieu_luc': '01/07/2024', 'chu_de': 'Viễn thông', 'Chapter': 'Chương VII: QUẢN LÝ TIÊU CHUẨN, QUY CHUẨN KỸ THUẬT, CHẤT LƯỢNG VÀ GIÁ DỊCH VỤ VIỄN THÔNG', 'Article': 'Điều 60. Lập hóa đơn và thanh toán tiền sử dụng dịch vụ viễn thông'}]\n"
     ]
    }
   ],
   "source": [
    "list_Metadata = extract_unique_metadata(re_Rank_Results)\n",
    "print(list_Metadata)"
   ]
  },
  {
   "cell_type": "markdown",
   "metadata": {},
   "source": [
    "## 6.8. Thực hiện truy vấn Điều"
   ]
  },
  {
   "cell_type": "code",
   "execution_count": 54,
   "metadata": {},
   "outputs": [],
   "source": [
    "def search_documents_with_metadata_filter(list_Metadata, top_k=1):\n",
    "    search_results = []\n",
    "\n",
    "    # Duyệt qua từng phần tử trong list_Metadata\n",
    "    for metadata in list_Metadata:        \n",
    "        # Thực hiện tìm kiếm với query trống và bộ lọc\n",
    "        results = exist_AMK_Collection.similarity_search_with_score(\n",
    "            query=\"\",  # Query để trống\n",
    "            filter=metadata,\n",
    "            k=top_k\n",
    "        )\n",
    "        \n",
    "        # Thêm kết quả vào danh sách tìm kiếm\n",
    "        search_results.extend(results)\n",
    "\n",
    "    return search_results"
   ]
  },
  {
   "cell_type": "code",
   "execution_count": 55,
   "metadata": {},
   "outputs": [
    {
     "name": "stdout",
     "output_type": "stream",
     "text": [
      "Stt: 13 \n",
      "\n",
      "Điều và Nội dung Điều:\n",
      " Điều 44. Nguyên tắc kết nối viễn thông\n",
      "1. Doanh nghiệp viễn thông có quyền kết nối mạng viễn thông của mình với mạng, dịch vụ viễn thông của doanh nghiệp viễn thông khác; có nghĩa vụ cho doanh nghiệp viễn thông khác kết nối với mạng, dịch vụ viễn thông của mình.\n",
      "2. Việc kết nối mạng, dịch vụ viễn thông được thực hiện theo các nguyên tắc sau đây:\n",
      "a) Thông qua thương lượng trên cơ sở bảo đảm công bằng, hợp lý, phù hợp với quyền, lợi ích của các bên tham gia;\n",
      "b) Sử dụng hiệu quả tài nguyên viễn thông và cơ sở hạ tầng viễn thông;\n",
      "c) Bảo đảm yêu cầu kỹ thuật về kết nối viễn thông và an toàn, thống nhất của các mạng viễn thông;\n",
      "d) Bảo đảm quyền, lợi ích hợp pháp của người sử dụng dịch vụ viễn thông và tổ chức, cá nhân có liên quan. \n",
      " -----------------------\n",
      "Stt: 13 \n",
      "\n",
      "Điều và Nội dung Điều:\n",
      " Điều 15. Quyền, nghĩa vụ của người sử dụng dịch vụ viễn thông, thuê bao viễn thông\n",
      "1. Người sử dụng dịch vụ viễn thông có các quyền sau đây:\n",
      "a) Lựa chọn doanh nghiệp viễn thông hoặc đại lý dịch vụ viễn thông để giao kết hợp đồng cung cấp và sử dụng dịch vụ viễn thông;\n",
      "b) Yêu cầu doanh nghiệp viễn thông, đại lý dịch vụ viễn thông cung cấp thông tin cần thiết liên quan đến việc sử dụng dịch vụ viễn thông;\n",
      "c) Sử dụng dịch vụ viễn thông theo chất lượng và giá dịch vụ trong hợp đồng cung cấp và sử dụng dịch vụ viễn thông;\n",
      "d) Từ chối sử dụng một phần hoặc toàn bộ dịch vụ viễn thông theo hợp đồng cung cấp và sử dụng dịch vụ viễn thông;\n",
      "đ) Được bảo đảm bí mật thông tin riêng theo quy định của pháp luật;\n",
      "e) Khiếu nại về giá dịch vụ, chất lượng dịch vụ; được hoàn trả tiền sử dụng dịch vụ và bồi thường thiệt hại trực tiếp khác do lỗi của doanh nghiệp viễn thông hoặc đại lý dịch vụ viễn thông gây ra.\n",
      "2. Người sử dụng dịch vụ viễn thông có các nghĩa vụ sau đây:\n",
      "a) Thanh toán đầy đủ và đúng hạn tiền sử dụng dịch vụ viễn thông;\n",
      "b) Bồi thường thiệt hại trực tiếp do lỗi của mình gây ra cho doanh nghiệp viễn thông, đại lý dịch vụ viễn thông;\n",
      "c) Chịu trách nhiệm trước pháp luật về nội dung thông tin mà mình gửi, lưu giữ trên mạng viễn thông;\n",
      "d) Không được sử dụng cơ sở hạ tầng viễn thông của doanh nghiệp viễn thông để kinh doanh dịch vụ viễn thông.\n",
      "3. Thuê bao viễn thông có các quyền sau đây:\n",
      "a) Các quyền quy định tại khoản 1 Điều này;\n",
      "b) Thiết kế, lắp đặt hoặc thuê tổ chức, cá nhân khác thiết kế, lắp đặt thiết bị đầu cuối, mạng nội bộ trong phạm vi địa điểm mà mình sử dụng cho đến điểm kết cuối của mạng viễn thông công cộng.\n",
      "4. Thuê bao viễn thông có các nghĩa vụ sau đây:\n",
      "a) Các nghĩa vụ quy định tại khoản 2 Điều này;\n",
      "b) Thực hiện quy định về quản lý tài nguyên viễn thông và tiêu chuẩn, quy chuẩn kỹ thuật viễn thông;\n",
      "c) Cung cấp đầy đủ, chính xác thông tin của thuê bao viễn thông cho doanh nghiệp viễn thông khi giao kết hợp đồng cung cấp và sử dụng dịch vụ viễn thông;\n",
      "d) Không sử dụng thông tin trên giấy tờ tùy thân của mình để thực hiện giao kết hợp đồng cung cấp và sử dụng dịch vụ viễn thông cho người khác, trừ trường hợp được phép theo quy định của pháp luật về viễn thông;\n",
      "đ) Chịu trách nhiệm trước pháp luật trong việc sử dụng số thuê bao viễn thông do mình đã giao kết hợp đồng với doanh nghiệp viễn thông;\n",
      "e) Bảo vệ mật khẩu, khóa mật mã và thiết bị đầu cuối của mình. \n",
      " -----------------------\n",
      "Stt: 13 \n",
      "\n",
      "Điều và Nội dung Điều:\n",
      " Điều 6. Bảo đảm bí mật thông tin\n",
      "1. Tổ chức, cá nhân tham gia hoạt động viễn thông có trách nhiệm bảo vệ bí mật nhà nước theo quy định của pháp luật về bảo vệ bí mật nhà nước.\n",
      "2. Tổ chức, cá nhân khi gửi, truyền hoặc lưu giữ thông tin thuộc danh mục bí mật nhà nước trên mạng viễn thông có trách nhiệm mã hóa thông tin theo quy định của pháp luật về cơ yếu.\n",
      "3. Thông tin riêng của mọi tổ chức, cá nhân chuyển qua mạng viễn thông công cộng được bảo đảm bí mật. Việc kiểm soát thông tin trên mạng viễn thông do cơ quan nhà nước có thẩm quyền thực hiện theo quy định của pháp luật.\n",
      "4. Doanh nghiệp viễn thông không được tiết lộ thông tin riêng liên quan đến người sử dụng dịch vụ viễn thông, bao gồm thông tin thuê bao viễn thông (tên, địa chỉ, số thuê bao viễn thông và thông tin riêng khác mà người sử dụng cung cấp khi giao kết hợp đồng với doanh nghiệp) và thông tin về việc sử dụng dịch vụ viễn thông (số thuê bao viễn thông gửi, số thuê bao viễn thông nhận, vị trí thiết bị đầu cuối gửi, vị trí thiết bị đầu cuối nhận, thời điểm gửi, nhận, thời lượng liên lạc, địa chỉ Internet), trừ các trường hợp sau đây:\n",
      "a) Người sử dụng dịch vụ viễn thông đồng ý cung cấp thông tin theo quy định của pháp luật về bảo vệ dữ liệu cá nhân;\n",
      "b) Các doanh nghiệp viễn thông có thỏa thuận bằng văn bản về việc trao đổi, cung cấp thông tin thuê bao viễn thông, thông tin về việc sử dụng dịch vụ viễn thông của người sử dụng dịch vụ để phục vụ cho việc tính giá, lập hóa đơn;\n",
      "c) Doanh nghiệp viễn thông cung cấp thông tin thuê bao viễn thông có hành vi trốn tránh thực hiện nghĩa vụ thanh toán tiền sử dụng dịch vụ viễn thông theo quy định của Bộ trưởng Bộ Thông tin và Truyền thông;\n",
      "d) Khi có yêu cầu của cơ quan nhà nước có thẩm quyền theo quy định của pháp luật. \n",
      " -----------------------\n",
      "Stt: 1 \n",
      "\n",
      "Điều và Nội dung Điều:\n",
      " Điều 66. Trách nhiệm tổ chức thực hiện việc công khai thông tin ở doanh nghiệp nhà nước\n",
      "1. Trường hợp doanh nghiệp nhà nước có trang thông tin điện tử nội bộ hoặc hệ thống thông tin điện tử nội bộ thì người đại diện có thẩm quyền của doanh nghiệp nhà nước có trách nhiệm tổ chức đăng tải các thông tin quy định tại Điều 64 của Luật này trên trang thông tin điện tử nội bộ hoặc hệ thống thông tin điện tử nội bộ ít nhất là 20 ngày liên tục kể từ ngày bắt đầu đăng tin hoặc gửi thông tin, trừ trường hợp pháp luật có quy định khác.\n",
      "2. Trường hợp doanh nghiệp nhà nước chưa có trang thông tin điện tử nội bộ hoặc hệ thống thông tin điện tử nội bộ thì người đại diện có thẩm quyền của doanh nghiệp có trách nhiệm tổ chức niêm yết các thông tin quy định tại Điều 64 của Luật này tại trụ sở của doanh nghiệp và nơi làm việc của các đơn vị, bộ phận có liên quan trực tiếp ít nhất là 20 ngày liên tục kể từ ngày niêm yết, trừ trường hợp đã sử dụng hình thức thông báo bằng văn bản đến toàn thể người lao động tại doanh nghiệp hoặc pháp luật có quy định khác.\n",
      "3. Cùng với việc thực hiện công khai thông tin bằng các hình thức quy định tại khoản 1 và khoản 2 Điều này, căn cứ vào đặc điểm, tính chất hoạt động và nội dung cần công khai, người đại diện có thẩm quyền của doanh nghiệp nhà nước có thể quyết định lựa chọn thêm các hình thức công khai khác quy định tại khoản 1 Điều 65 của Luật này phù hợp với điều kiện thực tế của doanh nghiệp, bảo đảm để người lao động tiếp cận thông tin chính xác, đầy đủ, kịp thời, thuận lợi.\n",
      "4. Người đại diện có thẩm quyền của doanh nghiệp nhà nước có trách nhiệm tổ chức cung cấp thông tin theo yêu cầu của người lao động đối với những thông tin trong thời hạn công khai mà chưa được công khai, thông tin đã hết thời hạn công khai hoặc thông tin đang được công khai nhưng vì lý do bất khả kháng mà người yêu cầu không thể tiếp cận được.\n",
      "5. Doanh nghiệp nhà nước có thể xác định thêm các nội dung thông tin cần công khai, hình thức công khai thông tin, việc áp dụng các hình thức công khai đối với từng loại nội dung thông tin nhất định và cách thức thực hiện, việc cung cấp thông tin theo yêu cầu trong quy chế thực hiện dân chủ phù hợp với đặc điểm tổ chức, hoạt động, điều kiện thực tế của doanh nghiệp mình và không trái với quy định tại Mục này.\n",
      "6. Trường hợp pháp luật có quy định khác về hình thức, cách thức thực hiện công khai đối với nội dung thông tin cụ thể thì áp dụng theo quy định đó. \n",
      " -----------------------\n",
      "Stt: 13 \n",
      "\n",
      "Điều và Nội dung Điều:\n",
      " Điều 60. Lập hóa đơn và thanh toán tiền sử dụng dịch vụ viễn thông\n",
      "1. Doanh nghiệp viễn thông có trách nhiệm lập hóa đơn thanh toán tiền sử dụng dịch vụ viễn thông chính xác, đầy đủ, kịp thời cho người sử dụng dịch vụ viễn thông thanh toán theo hình thức trả sau. Người sử dụng dịch vụ viễn thông có trách nhiệm thanh toán đầy đủ, kịp thời tiền sử dụng dịch vụ viễn thông do doanh nghiệp viễn thông cung cấp theo hóa đơn thanh toán.\n",
      "2. Doanh nghiệp viễn thông có trách nhiệm khấu trừ chính xác số tiền mà người sử dụng dịch vụ viễn thông phải thanh toán theo giá quy định đối với dịch vụ viễn thông thanh toán theo hình thức trả trước.\n",
      "3. Hóa đơn thanh toán tiền sử dụng dịch vụ viễn thông phải bảo đảm theo quy định của pháp luật và thể hiện đầy đủ, chính xác, rõ ràng các nội dung sau đây:\n",
      "a) Đơn giá dịch vụ và số tiền phải thanh toán đối với từng loại dịch vụ viễn thông;\n",
      "b) Tổng số tiền phải thanh toán;\n",
      "c) Thuế giá trị gia tăng (nếu có).\n",
      "4. Doanh nghiệp viễn thông có trách nhiệm cung cấp các biện pháp kỹ thuật hỗ trợ người sử dụng, cơ quan nhà nước có thẩm quyền truy vấn thông tin thời gian thực về việc trừ tiền sử dụng dịch vụ viễn thông, ưu tiên theo hình thức trực tuyến. Trong trường hợp lập hóa đơn thanh toán tiền sử dụng dịch vụ viễn thông hằng tháng theo hợp đồng, doanh nghiệp viễn thông có trách nhiệm cung cấp hoặc thuê tổ chức khác cung cấp miễn phí một lần thông tin chi tiết tiền sử dụng dịch vụ viễn thông khi người sử dụng có yêu cầu. \n",
      " -----------------------\n"
     ]
    }
   ],
   "source": [
    "article_Results = search_documents_with_metadata_filter(list_Metadata)\n",
    "\n",
    "for doc, score in article_Results:\n",
    "    print(\"Stt:\",doc.metadata['stt'],\"\\n\")\n",
    "    print(\"Điều và Nội dung Điều:\\n\",doc.metadata[\"combine_Article_Content\"],\"\\n\",\"-----------------------\")\n",
    "    # print(re)"
   ]
  },
  {
   "cell_type": "code",
   "execution_count": null,
   "metadata": {},
   "outputs": [],
   "source": []
  }
 ],
 "metadata": {
  "kernelspec": {
   "display_name": "Python 3",
   "language": "python",
   "name": "python3"
  },
  "language_info": {
   "codemirror_mode": {
    "name": "ipython",
    "version": 3
   },
   "file_extension": ".py",
   "mimetype": "text/x-python",
   "name": "python",
   "nbconvert_exporter": "python",
   "pygments_lexer": "ipython3",
   "version": "3.9.8"
  }
 },
 "nbformat": 4,
 "nbformat_minor": 2
}
