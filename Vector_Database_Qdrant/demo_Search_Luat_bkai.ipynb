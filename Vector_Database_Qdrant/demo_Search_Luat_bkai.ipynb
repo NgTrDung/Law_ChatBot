{
 "cells": [
  {
   "cell_type": "markdown",
   "metadata": {},
   "source": [
    "# 1. Thư viện"
   ]
  },
  {
   "cell_type": "code",
   "execution_count": 1,
   "metadata": {},
   "outputs": [
    {
     "name": "stderr",
     "output_type": "stream",
     "text": [
      "d:\\Download_Python\\lib\\importlib\\__init__.py:127: LangChainDeprecationWarning: As of langchain-core 0.3.0, LangChain uses pydantic v2 internally. The langchain_core.pydantic_v1 module was a compatibility shim for pydantic v1, and should no longer be used. Please update the code to import from Pydantic directly.\n",
      "\n",
      "For example, replace imports like: `from langchain_core.pydantic_v1 import BaseModel`\n",
      "with: `from pydantic import BaseModel`\n",
      "or the v1 compatibility namespace if you are working in a code base that has not been fully upgraded to pydantic 2 yet. \tfrom pydantic.v1 import BaseModel\n",
      "\n",
      "  return _bootstrap._gcd_import(name[level:], package, level)\n"
     ]
    },
    {
     "name": "stdout",
     "output_type": "stream",
     "text": [
      "WARNING:tensorflow:From d:\\Download_Python\\lib\\site-packages\\tf_keras\\src\\losses.py:2976: The name tf.losses.sparse_softmax_cross_entropy is deprecated. Please use tf.compat.v1.losses.sparse_softmax_cross_entropy instead.\n",
      "\n"
     ]
    }
   ],
   "source": [
    "import os\n",
    "import re\n",
    "\n",
    "from dotenv import load_dotenv\n",
    "from langchain_qdrant import Qdrant\n",
    "from qdrant_client.models import Filter, FieldCondition, MatchValue\n",
    "from langchain_community.embeddings import HuggingFaceBgeEmbeddings\n",
    "from apikeys_GEMINI import APIKeyManager\n",
    "\n",
    "from langchain.load import dumps, loads\n",
    "from langchain_core.prompts import ChatPromptTemplate\n",
    "from langchain_google_genai import ChatGoogleGenerativeAI\n",
    "from langchain_core.output_parsers import StrOutputParser\n",
    "\n",
    "from sentence_transformers import SentenceTransformer\n",
    "\n",
    "from sklearn.feature_extraction.text import TfidfVectorizer\n",
    "from sklearn.metrics.pairwise import cosine_similarity"
   ]
  },
  {
   "cell_type": "code",
   "execution_count": 2,
   "metadata": {},
   "outputs": [],
   "source": [
    "load_dotenv()\n",
    "\n",
    "MODEL_GEMINI = os.getenv(\"MODEL_GEMIMI\")\n",
    "if MODEL_GEMINI is None:\n",
    "    raise ValueError(\"Environment variable MODEL_GEMINI is not set\")\n",
    "elif not MODEL_GEMINI.startswith(\"models/\"):\n",
    "    MODEL_GEMINI = f\"models/{MODEL_GEMINI}\"\n",
    "\n",
    "APIS_GEMINI_LIST = os.getenv('APIS_GEMINI_LIST').split(',')\n",
    "key_manager = APIKeyManager(APIS_GEMINI_LIST)\n",
    "\n",
    "URL_QDRANT_3 = os.getenv(\"URL_QDRANT_3\")\n",
    "API_QDRANT_3 = os.getenv(\"API_QDRANT_3\")\n",
    "\n",
    "MAX_DOCS_FOR_CONTENT = 5"
   ]
  },
  {
   "cell_type": "markdown",
   "metadata": {},
   "source": [
    "# 2. Mô hình embedding"
   ]
  },
  {
   "cell_type": "markdown",
   "metadata": {},
   "source": [
    "## 2.1. Mô hình bkai cho Qdrant"
   ]
  },
  {
   "cell_type": "code",
   "execution_count": 3,
   "metadata": {},
   "outputs": [],
   "source": [
    "EMBEDDINGS_MODEL_bkai = \"bkai-foundation-models/vietnamese-bi-encoder\"\n",
    "model_kwargs = {\"device\": \"cpu\"}\n",
    "encode_kwargs = {\"normalize_embeddings\": True}\n",
    "\n",
    "embeddings_bkai = HuggingFaceBgeEmbeddings(\n",
    "    model_name=EMBEDDINGS_MODEL_bkai,\n",
    "    model_kwargs=model_kwargs,\n",
    "    encode_kwargs=encode_kwargs\n",
    ")"
   ]
  },
  {
   "cell_type": "markdown",
   "metadata": {},
   "source": [
    "## 2.2. Mô hình paraphrase-multilingual-mpnet-base-v2"
   ]
  },
  {
   "cell_type": "code",
   "execution_count": 4,
   "metadata": {},
   "outputs": [
    {
     "name": "stderr",
     "output_type": "stream",
     "text": [
      "d:\\Download_Python\\lib\\site-packages\\transformers\\tokenization_utils_base.py:1601: FutureWarning: `clean_up_tokenization_spaces` was not set. It will be set to `True` by default. This behavior will be depracted in transformers v4.45, and will be then set to `False` by default. For more details check this issue: https://github.com/huggingface/transformers/issues/31884\n",
      "  warnings.warn(\n"
     ]
    }
   ],
   "source": [
    "MODEL_RERANK = 'sentence-transformers/paraphrase-multilingual-mpnet-base-v2'\n",
    "rerank_model = SentenceTransformer(MODEL_RERANK)"
   ]
  },
  {
   "cell_type": "markdown",
   "metadata": {},
   "source": [
    "# 3. Kết nối đến Collection"
   ]
  },
  {
   "cell_type": "markdown",
   "metadata": {},
   "source": [
    "## 3.1. Luat_bkai_Article-Section_More_Keywords"
   ]
  },
  {
   "cell_type": "code",
   "execution_count": 5,
   "metadata": {},
   "outputs": [],
   "source": [
    "exist_ASMK_Collection = Qdrant.from_existing_collection(\n",
    "    embedding = embeddings_bkai,\n",
    "    url = URL_QDRANT_3,\n",
    "    api_key = API_QDRANT_3,\n",
    "    prefer_grpc=True,\n",
    "    collection_name = \"Luat_bkai_Article-Section_More_Keywords\",\n",
    "\tmetadata_payload_key=\"metadata\"\n",
    ")"
   ]
  },
  {
   "cell_type": "markdown",
   "metadata": {},
   "source": [
    "## 3.2. Luat_bkai_Article_More_Keywords"
   ]
  },
  {
   "cell_type": "code",
   "execution_count": 6,
   "metadata": {},
   "outputs": [],
   "source": [
    "exist_AMK_Collection = Qdrant.from_existing_collection(\n",
    "    embedding = embeddings_bkai,\n",
    "    url = URL_QDRANT_3,\n",
    "    api_key = API_QDRANT_3,\n",
    "    prefer_grpc=True,\n",
    "    collection_name = \"Luat_bkai_Article_More_Keywords\",\n",
    "\tmetadata_payload_key=\"metadata\"\n",
    ")"
   ]
  },
  {
   "cell_type": "markdown",
   "metadata": {},
   "source": [
    "# 4. Hàm sinh ra Similarity Queries"
   ]
  },
  {
   "cell_type": "code",
   "execution_count": 7,
   "metadata": {},
   "outputs": [],
   "source": [
    "def query_generator(original_query: str, key_manager) -> list[str]:\n",
    "    \"\"\"Generate queries from original query\"\"\"\n",
    "    # Câu truy vấn gốc\n",
    "    query = original_query\n",
    "    \n",
    "    # Cập nhật prompt để yêu cầu rõ ràng chỉ trả về 3 câu truy vấn và câu gốc\n",
    "    prompt = ChatPromptTemplate.from_messages(\n",
    "        [\n",
    "            (\"system\", \"Bạn là một trợ lý hữu ích và có nhiệm vụ tạo ra nhiều truy vấn tìm kiếm dựa trên một truy vấn gốc.\"),\n",
    "            (\"human\", \"\"\"Tạo chính xác 3 câu truy vấn tìm kiếm liên quan đến: {original_query}. Mỗi câu truy vấn trên một dòng mới. \n",
    "            Không được trả về nhiều hơn hoặc ít hơn 3 câu truy vấn. Đảm bảo không thêm bất kỳ văn bản nào khác ngoài 3 câu truy vấn này.\"\"\"),\n",
    "        ]\n",
    "    )\n",
    "    \n",
    "    model = ChatGoogleGenerativeAI(\n",
    "        # key api google gemini, nếu test mà bị báo lỗi api core thì lấy api khác trong .env để test\n",
    "        google_api_key=key_manager.get_next_key(),\n",
    "        model=MODEL_GEMINI,\n",
    "        temperature=0.15\n",
    "    )\n",
    "    \n",
    "    query_generator_chain = (\n",
    "        prompt | model | StrOutputParser()\n",
    "    )\n",
    "    \n",
    "    # Kết quả sẽ là một chuỗi các câu truy vấn cách nhau bằng dấu xuống dòng\n",
    "    result = query_generator_chain.invoke({\"original_query\": query})\n",
    "    \n",
    "    # Tách kết quả thành danh sách các câu truy vấn\n",
    "    generated_queries = result.strip().split('\\n')\n",
    "    \n",
    "    # Đảm bảo chỉ lấy 3 câu truy vấn nếu có nhiều hơn 3 câu sinh ra\n",
    "    if len(generated_queries) > 3:\n",
    "        generated_queries = generated_queries[:3]\n",
    "    \n",
    "    # Kết hợp câu gốc với các câu truy vấn sinh ra\n",
    "    queries = [query] + generated_queries\n",
    "    \n",
    "    return queries"
   ]
  },
  {
   "cell_type": "markdown",
   "metadata": {},
   "source": [
    "# 5. Tách Keywords"
   ]
  },
  {
   "cell_type": "markdown",
   "metadata": {},
   "source": [
    "## 5.1. Tách keywords"
   ]
  },
  {
   "cell_type": "code",
   "execution_count": 8,
   "metadata": {},
   "outputs": [],
   "source": [
    "# Hàm trích xuất từ khóa từ văn bản, loại bỏ dấu câu ngoại trừ \"/\" và \"-\"\n",
    "def extract_keywords(text):\n",
    "    text = re.sub(r'[^\\w\\s/-]', '', text)  # Loại bỏ các dấu câu không mong muốn\n",
    "    words = text.split()                   # Tách các từ theo khoảng trắng\n",
    "    unique_words = list(dict.fromkeys(words))  # Loại bỏ từ trùng lặp\n",
    "    return unique_words"
   ]
  },
  {
   "cell_type": "markdown",
   "metadata": {},
   "source": [
    "## 5.2. Xử lý lower case"
   ]
  },
  {
   "cell_type": "code",
   "execution_count": 9,
   "metadata": {},
   "outputs": [],
   "source": [
    "# Hàm xử lý các từ khóa: chuyển về chữ thường, giữ nguyên số La Mã và từ khóa có \"/\" hoặc \"-\"\n",
    "def process_keywords(keywords):\n",
    "    result = []\n",
    "    roman_numeral_pattern = re.compile(r\"^(?=[MDCLXVI])M{0,4}(CM|CD|D?C{0,3})(XC|XL|L?X{0,3})(IX|IV|V?I{0,3})$\")\n",
    "    \n",
    "    for word in keywords:\n",
    "        if roman_numeral_pattern.match(word) or any(c in word for c in \"/-\"):\n",
    "            result.append(word)\n",
    "        else:\n",
    "            result.append(word.lower())  # Chuyển các từ còn lại thành chữ thường\n",
    "    return result"
   ]
  },
  {
   "cell_type": "markdown",
   "metadata": {},
   "source": [
    "# 6. Truy vấn"
   ]
  },
  {
   "cell_type": "markdown",
   "metadata": {},
   "source": [
    "## 6.1. Hàm print_Results"
   ]
  },
  {
   "cell_type": "code",
   "execution_count": 10,
   "metadata": {},
   "outputs": [],
   "source": [
    "def print_Results_MoreKeywords(results):\n",
    "    # for doc,score in results:\n",
    "    #     print(\"Page_Content:\\n\",doc.page_content)\n",
    "    #     # print(\"Context:\\n\",doc.metadata['context'],\"\\n\")\n",
    "        # print(\"Stt:\",doc.metadata['stt'])\n",
    "        # print(\"Số hiệu:\",doc.metadata['so_hieu'])\n",
    "        # print(\"Chủ đề:\",doc.metadata['chu_de'])\n",
    "        # print(\"Chương:\",doc.metadata[\"Chapter\"])\n",
    "        # print(\"Mục:\",doc.metadata[\"Section\"])\n",
    "        # print(\"Tiểu mục:\",doc.metadata[\"Mini-Section\"])\n",
    "        # print(\"Điều:\",doc.metadata[\"Article\"])\n",
    "        # print(\"Khoản:\",doc.metadata[\"Article-Section\"])\n",
    "    #     print(\"Score:\",score,\"\\n\",\"-----------------------\")\n",
    "    for result in results:\n",
    "        doc = result[0]  # lấy phần tử đầu tiên\n",
    "        score_Qdrant = result[1]  # lấy phần tử thứ hai\n",
    "        score_Rerank = result[2]\n",
    "        print(\"Page_Content:\\n\", doc.page_content)\n",
    "        print(\"Stt:\",doc.metadata['stt'])\n",
    "        print(\"Số hiệu:\",doc.metadata['so_hieu'])\n",
    "        print(\"Chủ đề:\",doc.metadata['chu_de'])\n",
    "        print(\"Chương:\",doc.metadata[\"Chapter\"])\n",
    "        print(\"Mục:\",doc.metadata[\"Section\"])\n",
    "        print(\"Tiểu mục:\",doc.metadata[\"Mini-Section\"])\n",
    "        print(\"Điều:\",doc.metadata[\"Article\"])\n",
    "        print(\"Khoản:\",doc.metadata[\"Article-Section\"])\n",
    "        print(\"Page_Rerank:\", score_Rerank)\n",
    "        print(\"Score Qdrant:\",score_Qdrant,\"\\n\",\"-----------------------\")"
   ]
  },
  {
   "cell_type": "markdown",
   "metadata": {},
   "source": [
    "## 6.2. Tạo Filter"
   ]
  },
  {
   "cell_type": "code",
   "execution_count": 11,
   "metadata": {},
   "outputs": [],
   "source": [
    "def create_should_filter(user_keywords, metadata_fields):\n",
    "    should_conditions = []\n",
    "\n",
    "    for keyword in user_keywords:\n",
    "        for field in metadata_fields:\n",
    "            should_conditions.append(FieldCondition(\n",
    "                key=field, \n",
    "                match=MatchValue(value=keyword)\n",
    "            ))\n",
    "\n",
    "    # Trả về bộ lọc với các điều kiện `should`\n",
    "    return Filter(\n",
    "        should=should_conditions\n",
    "    )"
   ]
  },
  {
   "cell_type": "markdown",
   "metadata": {},
   "source": [
    "## 6.3. Truy vấn với Filter"
   ]
  },
  {
   "cell_type": "code",
   "execution_count": 12,
   "metadata": {},
   "outputs": [],
   "source": [
    "def search_documents_with_should_filter(user_query, metadata_fields, top_k=5):\n",
    "    # Tách keywords từ query của user\n",
    "    user_keywords = process_keywords(extract_keywords(user_query))\n",
    "    \n",
    "    # Tạo bộ lọc `should`\n",
    "    filter_conditions = create_should_filter(user_keywords, metadata_fields)\n",
    "    \n",
    "    # Thực hiện tìm kiếm trên Qdrant với filter `should`\n",
    "    search_results = exist_ASMK_Collection.similarity_search_with_score(\n",
    "        query=user_query,\n",
    "        filter=filter_conditions,\n",
    "        k=top_k\n",
    "    )\n",
    "    \n",
    "    return search_results"
   ]
  },
  {
   "cell_type": "code",
   "execution_count": 13,
   "metadata": {},
   "outputs": [],
   "source": [
    "def combined_search(user_query: str, key_manager, metadata_fields, top_k=5):\n",
    "    # Gọi hàm query_generator để sinh ra 3 truy vấn từ query gốc\n",
    "    queries = query_generator(user_query, key_manager)\n",
    "\n",
    "    print(\"4 câu queries:\\n\")\n",
    "    for q in queries:\n",
    "        print(q)\n",
    "\n",
    "    print(\"\\nCác kết quả trả về:\\n\")\n",
    "    # Lưu trữ kết quả cho từng query\n",
    "    query_results = []\n",
    "\n",
    "    # Thực hiện tìm kiếm cho mỗi query trong danh sách queries\n",
    "    for query in queries:\n",
    "        search_results = search_documents_with_should_filter(query, metadata_fields, top_k=top_k)\n",
    "        query_results.extend(search_results)  # Lưu kết quả riêng cho từng query\n",
    "\n",
    "    # Dictionary để lưu các kết quả unique, key là `doc.page_content`\n",
    "    unique_results = {}\n",
    "\n",
    "    # Duyệt qua từng kết quả\n",
    "    for doc, score in query_results:\n",
    "        # Kiểm tra nếu `doc.page_content` đã tồn tại trong unique_results\n",
    "        if doc.page_content in unique_results:\n",
    "            # Nếu tồn tại, so sánh score và giữ lại cái có score cao hơn\n",
    "            if score > unique_results[doc.page_content][1]:\n",
    "                unique_results[doc.page_content] = (doc, score)\n",
    "        else:\n",
    "            # Nếu chưa tồn tại, thêm vào unique_results\n",
    "            unique_results[doc.page_content] = (doc, score)\n",
    "\n",
    "    # Trả về danh sách kết quả duy nhất, với các giá trị từ dictionary\n",
    "    return list(unique_results.values())"
   ]
  },
  {
   "cell_type": "markdown",
   "metadata": {},
   "source": [
    "## 6.4. Re-rank theo trọng số Similarity và TF-IDF"
   ]
  },
  {
   "cell_type": "code",
   "execution_count": 14,
   "metadata": {},
   "outputs": [],
   "source": [
    "def calculate_scores(user_query, unique_results):\n",
    "    # Tạo danh sách các doc.page_content từ unique_results\n",
    "    documents = [doc.page_content for doc, _ in unique_results]\n",
    "    \n",
    "    # Tính cosine similarity\n",
    "    user_query_embedding = rerank_model.encode(user_query)\n",
    "    document_embeddings = rerank_model.encode(documents)\n",
    "    cosine_similarities = cosine_similarity([user_query_embedding], document_embeddings)[0]\n",
    "\n",
    "    # Tính TF-IDF\n",
    "    vectorizer = TfidfVectorizer()\n",
    "    tfidf_matrix = vectorizer.fit_transform([user_query] + documents)\n",
    "    tfidf_scores = tfidf_matrix.toarray()[0][1:]  # Lấy chỉ số TF-IDF cho các documents\n",
    "\n",
    "    # Tính điểm tổng hợp\n",
    "    combined_scores = []\n",
    "    for cos_sim, tfidf_score in zip(cosine_similarities, tfidf_scores):\n",
    "        combined_score = 0.7 * cos_sim + 0.3 * tfidf_score\n",
    "        combined_scores.append(combined_score)\n",
    "\n",
    "    # Tạo danh sách kết quả với điểm số\n",
    "    results_with_scores = [(unique_results[i][0], unique_results[i][1], combined_scores[i]) for i in range(len(unique_results))]\n",
    "\n",
    "    # Sắp xếp kết quả theo điểm số giảm dần\n",
    "    results_with_scores.sort(key=lambda x: x[2], reverse=True)\n",
    "\n",
    "    # Lấy top 5 kết quả\n",
    "    top_results = results_with_scores[:5]\n",
    "    \n",
    "    return top_results"
   ]
  },
  {
   "cell_type": "markdown",
   "metadata": {},
   "source": [
    "## 6.5. Các metadata cần filter"
   ]
  },
  {
   "cell_type": "code",
   "execution_count": 15,
   "metadata": {},
   "outputs": [],
   "source": [
    "# Các metadata fields cần lọc\n",
    "metadata_fields = [\n",
    "    \"metadata.loai_van_ban_Keywords\", \n",
    "    # \"metadata.noi_ban_hanh_Keywords\", \n",
    "    \"metadata.so_hieu\", \n",
    "    \"metadata.linhvuc_nganh_Keywords\", \n",
    "    \"metadata.ngay_ban_hanh\", \n",
    "    \"metadata.ngay_hieu_luc\", \n",
    "    \"metadata.chu_de_Keywords\", \n",
    "    # \"metadata.key_words\", \n",
    "    # \"metadata.Chapter_Keywords\", \n",
    "    # \"metadata.Section_Keywords\",  \n",
    "    # \"metadata.Mini-Section_Keywords\", \n",
    "    \"metadata.Article_Keywords\", \n",
    "    \"metadata.Content_Keywords\", \n",
    "    # \"metadata.Article-Section_Keywords\"\n",
    "]"
   ]
  },
  {
   "cell_type": "markdown",
   "metadata": {},
   "source": [
    "## 6.6. Thực hiện truy vấn Khoản"
   ]
  },
  {
   "cell_type": "code",
   "execution_count": 21,
   "metadata": {},
   "outputs": [
    {
     "name": "stdout",
     "output_type": "stream",
     "text": [
      "4 câu queries:\n",
      "\n",
      "Nguyên tắc trong khám, chữa bệnh là gồm những nguyên tắc nào?\n",
      "Nguyên tắc cơ bản trong khám chữa bệnh\n",
      "Các nguyên tắc y đức trong khám chữa bệnh\n",
      "4 nguyên tắc đạo đức trong y học là gì\n",
      "\n",
      "Các kết quả trả về:\n",
      "\n",
      "Page_Content:\n",
      " 5. Tuân thủ quy tắc đạo đức nghề nghiệp trong hành nghề khám bệnh, chữa bệnh do Bộ trưởng Bộ Y tế ban hành.\n",
      "Stt: 6\n",
      "Số hiệu: 15/2023/QH15\n",
      "Chủ đề: Khám bệnh, chữa bệnh\n",
      "Chương: Chương I: NHỮNG QUY ĐỊNH CHUNG\n",
      "Mục: None\n",
      "Tiểu mục: None\n",
      "Điều: Điều 3. Nguyên tắc trong khám bệnh, chữa bệnh\n",
      "Khoản: Khoản 5\n",
      "Page_Rerank: 0.47609505057334894\n",
      "Score Qdrant: 0.380840927362442 \n",
      " -----------------------\n",
      "Page_Content:\n",
      " 3. Căn cứ quy định của Luật này và quy định khác của pháp luật có liên quan, người đứng đầu cơ sở khám bệnh, chữa bệnh quy định và tổ chức triển khai các biện pháp bảo đảm an ninh, trật tự cho cơ sở khám bệnh, chữa bệnh và an toàn cho người hành nghề, người khác làm việc tại cơ sở khám bệnh, chữa bệnh, người ra vào cơ sở khám bệnh, chữa bệnh.\n",
      "Stt: 6\n",
      "Số hiệu: 15/2023/QH15\n",
      "Chủ đề: Khám bệnh, chữa bệnh\n",
      "Chương: Chương X: ĐIỀU KIỆN BẢO ĐẢM HOẠT ĐỘNG KHÁM BỆNH, CHỮA BỆNH\n",
      "Mục: Mục 3. CÁC ĐIỀU KIỆN BẢO ĐẢM KHÁC\n",
      "Tiểu mục: None\n",
      "Điều: Điều 114. Bảo đảm an ninh, trật tự tại cơ sở khám bệnh, chữa bệnh\n",
      "Khoản: Khoản 3\n",
      "Page_Rerank: 0.4495199680328369\n",
      "Score Qdrant: 0.3277220129966736 \n",
      " -----------------------\n",
      "Page_Content:\n",
      " 1. Được thông tin, giải thích về tình trạng sức khỏe; phương pháp, dịch vụ khám bệnh, chữa bệnh, giá dịch vụ khám bệnh, chữa bệnh; được hướng dẫn cách tự theo dõi, chăm sóc, phòng ngừa tai biến.\n",
      "Stt: 6\n",
      "Số hiệu: 15/2023/QH15\n",
      "Chủ đề: Khám bệnh, chữa bệnh\n",
      "Chương: Chương II: QUYỀN, NGHĨA VỤ CỦA NGƯỜI BỆNH\n",
      "Mục: Mục 1. QUYỀN CỦA NGƯỜI BỆNH\n",
      "Tiểu mục: None\n",
      "Điều: Điều 9. Quyền được khám bệnh, chữa bệnh\n",
      "Khoản: Khoản 1\n",
      "Page_Rerank: 0.4185845136642456\n",
      "Score Qdrant: 0.40870895981788635 \n",
      " -----------------------\n",
      "Page_Content:\n",
      " 1. Được từ chối khám bệnh, chữa bệnh nhưng phải cam kết tự chịu trách nhiệm bằng văn bản về việc từ chối của mình sau khi đã được người hành nghề tư vấn, trừ trường hợp bắt buộc chữa bệnh quy định tại khoản 1 Điều 82 của Luật này.\n",
      "Stt: 6\n",
      "Số hiệu: 15/2023/QH15\n",
      "Chủ đề: Khám bệnh, chữa bệnh\n",
      "Chương: Chương II: QUYỀN, NGHĨA VỤ CỦA NGƯỜI BỆNH\n",
      "Mục: Mục 1. QUYỀN CỦA NGƯỜI BỆNH\n",
      "Tiểu mục: None\n",
      "Điều: Điều 13. Quyền được từ chối khám bệnh, chữa bệnh và rời khỏi cơ sở khám bệnh, chữa bệnh\n",
      "Khoản: Khoản 1\n",
      "Page_Rerank: 0.38670790791511533\n",
      "Score Qdrant: 0.36484718322753906 \n",
      " -----------------------\n",
      "Page_Content:\n",
      " 4. Niêm yết giá dịch vụ khám bệnh, chữa bệnh, giá dịch vụ chăm sóc, hỗ trợ theo yêu cầu tại cơ sở và trên Hệ thống thông tin về quản lý hoạt động khám bệnh, chữa bệnh.\n",
      "Stt: 6\n",
      "Số hiệu: 15/2023/QH15\n",
      "Chủ đề: Khám bệnh, chữa bệnh\n",
      "Chương: Chương IV: CƠ SỞ KHÁM BỆNH, CHỮA BỆNH\n",
      "Mục: Mục 3. QUYỀN VÀ TRÁCH NHIỆM CỦA CƠ SỞ KHÁM BỆNH, CHỮA BỆNH\n",
      "Tiểu mục: None\n",
      "Điều: Điều 60. Trách nhiệm của cơ sở khám bệnh, chữa bệnh\n",
      "Khoản: Khoản 4\n",
      "Page_Rerank: 0.34459172785282133\n",
      "Score Qdrant: 0.4311523139476776 \n",
      " -----------------------\n"
     ]
    }
   ],
   "source": [
    "# Ví dụ sử dụng\n",
    "user_query= \"Nguyên tắc trong khám, chữa bệnh là gồm những nguyên tắc nào?\"\n",
    "\n",
    "search_Results = combined_search(user_query, key_manager, metadata_fields, top_k=5)\n",
    "\n",
    "re_Rank_Results = calculate_scores(user_query, search_Results)\n",
    "\n",
    "# In ra kết quả top 5 tài liệu\n",
    "print_Results_MoreKeywords(re_Rank_Results)"
   ]
  },
  {
   "cell_type": "markdown",
   "metadata": {},
   "source": [
    "## 6.7. Lấy metadata để truy xuất Điều"
   ]
  },
  {
   "cell_type": "code",
   "execution_count": 22,
   "metadata": {},
   "outputs": [],
   "source": [
    "def extract_unique_metadata(top_results):\n",
    "    metadata_list = []\n",
    "    metadata_dict_set = set()  # Sử dụng set để lưu trữ các metadata duy nhất\n",
    "\n",
    "    # Truy cập vào từng result trong top_results\n",
    "    for result in top_results:\n",
    "        doc = result[0]  # Lấy doc từ result\n",
    "        \n",
    "        # Tạo một dictionary chứa các thuộc tính từ metadata\n",
    "        metadata = {\n",
    "            \"stt\": doc.metadata.get('stt'),\n",
    "            \"loai_van_ban\": doc.metadata.get('loai_van_ban'),\n",
    "            \"noi_ban_hanh\": doc.metadata.get('noi_ban_hanh'),\n",
    "            \"so_hieu\": doc.metadata.get('so_hieu'),\n",
    "            \"linhvuc_nganh\": doc.metadata.get('linhvuc_nganh'),\n",
    "            \"ngay_ban_hanh\": doc.metadata.get('ngay_ban_hanh'),\n",
    "            \"ngay_hieu_luc\": doc.metadata.get('ngay_hieu_luc'),\n",
    "            \"chu_de\": doc.metadata.get('chu_de'),\n",
    "            \"Chapter\": doc.metadata.get('Chapter'),\n",
    "            \"Section\": doc.metadata.get('Section'),\n",
    "            \"Mini-Section\": doc.metadata.get('Mini-Section'),\n",
    "            \"Article\": doc.metadata.get('Article'),\n",
    "        }\n",
    "\n",
    "        # Lọc bỏ các key-value có giá trị None\n",
    "        filtered_metadata = {key: value for key, value in metadata.items() if value is not None}\n",
    "\n",
    "        # Chuyển đổi dict thành tuple để thêm vào set\n",
    "        metadata_tuple = tuple(filtered_metadata.items())\n",
    "        \n",
    "        # Kiểm tra và thêm vào set nếu chưa có\n",
    "        metadata_dict_set.add(metadata_tuple)\n",
    "\n",
    "    # Chuyển đổi lại set thành list và định dạng lại thành dict\n",
    "    for metadata_tuple in metadata_dict_set:\n",
    "        metadata_dict = dict(metadata_tuple)\n",
    "        metadata_list.append(metadata_dict)\n",
    "\n",
    "    return metadata_list"
   ]
  },
  {
   "cell_type": "code",
   "execution_count": 23,
   "metadata": {},
   "outputs": [
    {
     "name": "stdout",
     "output_type": "stream",
     "text": [
      "[{'stt': '6', 'loai_van_ban': 'Luật', 'noi_ban_hanh': 'Quốc hội', 'so_hieu': '15/2023/QH15', 'linhvuc_nganh': 'Thể thao - Y tế', 'ngay_ban_hanh': '09/01/2023', 'ngay_hieu_luc': '19/02/2023', 'chu_de': 'Khám bệnh, chữa bệnh', 'Chapter': 'Chương X: ĐIỀU KIỆN BẢO ĐẢM HOẠT ĐỘNG KHÁM BỆNH, CHỮA BỆNH', 'Section': 'Mục 3. CÁC ĐIỀU KIỆN BẢO ĐẢM KHÁC', 'Article': 'Điều 114. Bảo đảm an ninh, trật tự tại cơ sở khám bệnh, chữa bệnh'}, {'stt': '6', 'loai_van_ban': 'Luật', 'noi_ban_hanh': 'Quốc hội', 'so_hieu': '15/2023/QH15', 'linhvuc_nganh': 'Thể thao - Y tế', 'ngay_ban_hanh': '09/01/2023', 'ngay_hieu_luc': '19/02/2023', 'chu_de': 'Khám bệnh, chữa bệnh', 'Chapter': 'Chương I: NHỮNG QUY ĐỊNH CHUNG', 'Article': 'Điều 3. Nguyên tắc trong khám bệnh, chữa bệnh'}, {'stt': '6', 'loai_van_ban': 'Luật', 'noi_ban_hanh': 'Quốc hội', 'so_hieu': '15/2023/QH15', 'linhvuc_nganh': 'Thể thao - Y tế', 'ngay_ban_hanh': '09/01/2023', 'ngay_hieu_luc': '19/02/2023', 'chu_de': 'Khám bệnh, chữa bệnh', 'Chapter': 'Chương II: QUYỀN, NGHĨA VỤ CỦA NGƯỜI BỆNH', 'Section': 'Mục 1. QUYỀN CỦA NGƯỜI BỆNH', 'Article': 'Điều 13. Quyền được từ chối khám bệnh, chữa bệnh và rời khỏi cơ sở khám bệnh, chữa bệnh'}, {'stt': '6', 'loai_van_ban': 'Luật', 'noi_ban_hanh': 'Quốc hội', 'so_hieu': '15/2023/QH15', 'linhvuc_nganh': 'Thể thao - Y tế', 'ngay_ban_hanh': '09/01/2023', 'ngay_hieu_luc': '19/02/2023', 'chu_de': 'Khám bệnh, chữa bệnh', 'Chapter': 'Chương IV: CƠ SỞ KHÁM BỆNH, CHỮA BỆNH', 'Section': 'Mục 3. QUYỀN VÀ TRÁCH NHIỆM CỦA CƠ SỞ KHÁM BỆNH, CHỮA BỆNH', 'Article': 'Điều 60. Trách nhiệm của cơ sở khám bệnh, chữa bệnh'}, {'stt': '6', 'loai_van_ban': 'Luật', 'noi_ban_hanh': 'Quốc hội', 'so_hieu': '15/2023/QH15', 'linhvuc_nganh': 'Thể thao - Y tế', 'ngay_ban_hanh': '09/01/2023', 'ngay_hieu_luc': '19/02/2023', 'chu_de': 'Khám bệnh, chữa bệnh', 'Chapter': 'Chương II: QUYỀN, NGHĨA VỤ CỦA NGƯỜI BỆNH', 'Section': 'Mục 1. QUYỀN CỦA NGƯỜI BỆNH', 'Article': 'Điều 9. Quyền được khám bệnh, chữa bệnh'}]\n"
     ]
    }
   ],
   "source": [
    "list_Metadata = extract_unique_metadata(re_Rank_Results)\n",
    "print(list_Metadata)"
   ]
  },
  {
   "cell_type": "markdown",
   "metadata": {},
   "source": [
    "## 6.8. Thực hiện truy vấn Điều"
   ]
  },
  {
   "cell_type": "code",
   "execution_count": 24,
   "metadata": {},
   "outputs": [],
   "source": [
    "def search_documents_with_metadata_filter(list_Metadata, top_k=1):\n",
    "    search_results = []\n",
    "\n",
    "    # Duyệt qua từng phần tử trong list_Metadata\n",
    "    for metadata in list_Metadata:        \n",
    "        # Thực hiện tìm kiếm với query trống và bộ lọc\n",
    "        results = exist_AMK_Collection.similarity_search_with_score(\n",
    "            query=\"\",  # Query để trống\n",
    "            filter=metadata,\n",
    "            k=top_k\n",
    "        )\n",
    "        \n",
    "        # Thêm kết quả vào danh sách tìm kiếm\n",
    "        search_results.extend(results)\n",
    "\n",
    "    return search_results"
   ]
  },
  {
   "cell_type": "code",
   "execution_count": 27,
   "metadata": {},
   "outputs": [
    {
     "name": "stdout",
     "output_type": "stream",
     "text": [
      "Stt: 6 \n",
      "\n",
      "Điều và Nội dung Điều:\n",
      " Điều 114. Bảo đảm an ninh, trật tự tại cơ sở khám bệnh, chữa bệnh\n",
      "1. Các biện pháp bảo đảm an ninh, trật tự cho cơ sở khám bệnh, chữa bệnh và an toàn cho người hành nghề, người khác làm việc tại cơ sở khám bệnh, chữa bệnh bao gồm:\n",
      "a) Thiết lập hệ thống giám sát và cảnh báo nguy cơ gây mất an ninh, trật tự;\n",
      "b) Giới hạn ra vào cơ sở khám bệnh, chữa bệnh theo giờ và khu vực;\n",
      "c) Ứng dụng các giải pháp công nghệ cao để quản lý người bệnh, thân nhân của người bệnh, người hành nghề để tăng cường an ninh, trật tự đối với cơ sở khám bệnh, chữa bệnh;\n",
      "d) Có biện pháp phù hợp để bảo quản tài sản cho người bệnh và thân nhân của người bệnh trong quá trình khám bệnh, chữa bệnh tại cơ sở khám bệnh, chữa bệnh;\n",
      "đ) Không cho phép đưa vào cơ sở khám bệnh, chữa bệnh các chất, phương tiện, công cụ, vật dụng gây mất an ninh, trật tự cho cơ sở khám bệnh, chữa bệnh;\n",
      "e) Biện pháp bảo đảm an ninh, trật tự khác theo quy định của pháp luật.\n",
      "2. Trong trường hợp người bệnh, thân nhân của người bệnh hoặc người khác có hành vi gây mất trật tự công cộng, xâm phạm tính mạng, sức khỏe an toàn của người bệnh, người hành nghề, người khác làm việc tại cơ sở khám bệnh, chữa bệnh, người ra vào cơ sở khám bệnh, chữa bệnh thì cơ sở khám bệnh, chữa bệnh được áp dụng biện pháp sau đây:\n",
      "a) Áp dụng các biện pháp ngăn chặn theo quy định của pháp luật và thông báo cho cơ quan công an, trừ trường hợp người vi phạm là người bệnh đang trong tình trạng cấp cứu;\n",
      "b) Giới hạn việc ra vào khu vực bị mất an ninh, trật tự hoặc có nguy cơ bị mất an ninh, trật tự tại cơ sở khám bệnh, chữa bệnh.\n",
      "3. Căn cứ quy định của Luật này và quy định khác của pháp luật có liên quan, người đứng đầu cơ sở khám bệnh, chữa bệnh quy định và tổ chức triển khai các biện pháp bảo đảm an ninh, trật tự cho cơ sở khám bệnh, chữa bệnh và an toàn cho người hành nghề, người khác làm việc tại cơ sở khám bệnh, chữa bệnh, người ra vào cơ sở khám bệnh, chữa bệnh.\n",
      "4. Người có hành vi xâm phạm thân thể, sức khỏe, tính mạng hoặc xúc phạm danh dự, nhân phẩm của người hành nghề và người khác làm việc tại cơ sở khám bệnh, chữa bệnh thì tùy theo tính chất, mức độ vi phạm mà bị xử lý vi phạm hành chính hoặc bị truy cứu trách nhiệm hình sự theo quy định của pháp luật. \n",
      " -----------------------\n",
      "Stt: 6 \n",
      "\n",
      "Điều và Nội dung Điều:\n",
      " Điều 3. Nguyên tắc trong khám bệnh, chữa bệnh\n",
      "1. Tôn trọng, bảo vệ, đối xử bình đẳng và không kỳ thị, phân biệt đối xử đối với người bệnh.\n",
      "2. Ưu tiên khám bệnh, chữa bệnh đối với trường hợp người bệnh trong tình trạng cấp cứu, trẻ em dưới 06 tuổi, phụ nữ có thai, người khuyết tật đặc biệt nặng, người khuyết tật nặng, người từ đủ 75 tuổi trở lên, người có công với cách mạng phù hợp với đặc thù của cơ sở khám bệnh, chữa bệnh.\n",
      "3. Tôn trọng, hợp tác, bảo vệ người hành nghề, người khác đang thực hiện nhiệm vụ tại cơ sở khám bệnh, chữa bệnh.\n",
      "4. Thực hiện kịp thời và tuân thủ quy định về chuyên môn kỹ thuật.\n",
      "5. Tuân thủ quy tắc đạo đức nghề nghiệp trong hành nghề khám bệnh, chữa bệnh do Bộ trưởng Bộ Y tế ban hành.\n",
      "6. Bình đẳng, công bằng giữa các cơ sở khám bệnh, chữa bệnh. \n",
      " -----------------------\n",
      "Stt: 6 \n",
      "\n",
      "Điều và Nội dung Điều:\n",
      " Điều 13. Quyền được từ chối khám bệnh, chữa bệnh và rời khỏi cơ sở khám bệnh, chữa bệnh\n",
      "1. Được từ chối khám bệnh, chữa bệnh nhưng phải cam kết tự chịu trách nhiệm bằng văn bản về việc từ chối của mình sau khi đã được người hành nghề tư vấn, trừ trường hợp bắt buộc chữa bệnh quy định tại khoản 1 Điều 82 của Luật này.\n",
      "2. Được rời khỏi cơ sở khám bệnh, chữa bệnh khi chưa kết thúc chữa bệnh trái với chỉ định của người hành nghề nhưng phải cam kết tự chịu trách nhiệm bằng văn bản về việc rời khỏi cơ sở khám bệnh, chữa bệnh, trừ trường hợp bắt buộc chữa bệnh quy định tại khoản 1 Điều 82 của Luật này. \n",
      " -----------------------\n",
      "Stt: 6 \n",
      "\n",
      "Điều và Nội dung Điều:\n",
      " Điều 60. Trách nhiệm của cơ sở khám bệnh, chữa bệnh\n",
      "1. Tổ chức việc sơ cứu, cấp cứu, khám bệnh, chữa bệnh kịp thời cho người bệnh.\n",
      "2. Thực hiện quy định về chuyên môn kỹ thuật và các quy định khác của pháp luật có liên quan; chịu trách nhiệm về kết quả khám bệnh, chữa bệnh của người hành nghề thuộc thẩm quyền quản lý.\n",
      "3. Công khai thời gian làm việc và danh sách người hành nghề, thời gian làm việc của từng người hành nghề tại cơ sở.\n",
      "4. Niêm yết giá dịch vụ khám bệnh, chữa bệnh, giá dịch vụ chăm sóc, hỗ trợ theo yêu cầu tại cơ sở và trên Hệ thống thông tin về quản lý hoạt động khám bệnh, chữa bệnh.\n",
      "5. Bảo đảm việc thực hiện các quyền và nghĩa vụ của người bệnh, người hành nghề theo quy định của Luật này.\n",
      "6. Bảo đảm các điều kiện cần thiết để người hành nghề thực hiện khám bệnh, chữa bệnh.\n",
      "7. Tự đánh giá chất lượng và công khai kết quả đánh giá chất lượng theo quy định tại khoản 3 và khoản 5 Điều 58 của Luật này.\n",
      "8. Chấp hành quyết định huy động, điều động của cơ quan, người có thẩm quyền trong trường hợp xảy ra thiên tai, thảm họa, dịch bệnh truyền nhiễm thuộc nhóm A hoặc tình trạng khẩn cấp.\n",
      "9. Tổ chức lực lượng bảo vệ, bảo đảm các điều kiện về cơ sở vật chất để bảo đảm an ninh, trật tự phù hợp với hình thức tổ chức, quy mô của cơ sở; phối hợp với cơ quan công an có thẩm quyền trong việc tổ chức triển khai thực hiện các biện pháp bảo đảm an ninh, trật tự tại cơ sở khám bệnh, chữa bệnh; thông báo cơ quan công an có thẩm quyền trên địa bàn để phối hợp triển khai các biện pháp bảo vệ người bệnh là người bị bạo lực, xâm hại.\n",
      "10. Giới thiệu, chuyển người bệnh đến cơ sở khám bệnh, chữa bệnh khác phù hợp tình trạng bệnh và yêu cầu của người bệnh trong các trường hợp sau đây:\n",
      "a) Tình trạng bệnh vượt quá khả năng chuyên môn hoặc không thuộc phạm vi hoạt động chuyên môn của cơ sở;\n",
      "b) Theo yêu cầu của người bệnh, người đại diện của người bệnh và được sự đồng ý của người hành nghề trực tiếp điều trị cho người bệnh hoặc người trực lâm sàng;\n",
      "c) Tạm dừng hoặc bị đình chỉ hoạt động, thu hồi giấy phép hoạt động;\n",
      "d) Gặp sự cố bất khả kháng mà không thể tiếp tục thực hiện việc tiếp nhận, điều trị cho người bệnh.\n",
      "11. Tham gia các hoạt động y tế dự phòng theo quy định của pháp luật.\n",
      "12. Mua bảo hiểm trách nhiệm nghề nghiệp trong hoạt động khám bệnh, chữa bệnh theo quy định của Chính phủ. \n",
      " -----------------------\n",
      "Stt: 6 \n",
      "\n",
      "Điều và Nội dung Điều:\n",
      " Điều 9. Quyền được khám bệnh, chữa bệnh\n",
      "1. Được thông tin, giải thích về tình trạng sức khỏe; phương pháp, dịch vụ khám bệnh, chữa bệnh, giá dịch vụ khám bệnh, chữa bệnh; được hướng dẫn cách tự theo dõi, chăm sóc, phòng ngừa tai biến.\n",
      "2. Được khám bệnh, chữa bệnh bằng phương pháp an toàn phù hợp với bệnh, tình trạng sức khỏe của mình và điều kiện thực tế của cơ sở khám bệnh, chữa bệnh. \n",
      " -----------------------\n"
     ]
    }
   ],
   "source": [
    "article_Results = search_documents_with_metadata_filter(list_Metadata)\n",
    "\n",
    "for doc, score in article_Results:\n",
    "    print(\"Stt:\",doc.metadata['stt'],\"\\n\")\n",
    "    print(\"Điều và Nội dung Điều:\\n\",doc.metadata[\"combine_Article_Content\"],\"\\n\",\"-----------------------\")\n",
    "    # print(re)"
   ]
  },
  {
   "cell_type": "code",
   "execution_count": null,
   "metadata": {},
   "outputs": [],
   "source": []
  }
 ],
 "metadata": {
  "kernelspec": {
   "display_name": "Python 3",
   "language": "python",
   "name": "python3"
  },
  "language_info": {
   "codemirror_mode": {
    "name": "ipython",
    "version": 3
   },
   "file_extension": ".py",
   "mimetype": "text/x-python",
   "name": "python",
   "nbconvert_exporter": "python",
   "pygments_lexer": "ipython3",
   "version": "3.9.8"
  }
 },
 "nbformat": 4,
 "nbformat_minor": 2
}
