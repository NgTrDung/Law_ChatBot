{
 "cells": [
  {
   "cell_type": "code",
   "execution_count": 5,
   "metadata": {},
   "outputs": [],
   "source": [
    "from langchain_experimental.text_splitter import SemanticChunker\n",
    "from langchain_community.embeddings import GPT4AllEmbeddings\n",
    "from langchain_community.document_loaders import PyPDFLoader\n",
    "from langchain_qdrant import Qdrant\n",
    "from langchain_qdrant import QdrantVectorStore"
   ]
  },
  {
   "cell_type": "code",
   "execution_count": 6,
   "metadata": {},
   "outputs": [
    {
     "data": {
      "text/plain": [
       "True"
      ]
     },
     "execution_count": 6,
     "metadata": {},
     "output_type": "execute_result"
    }
   ],
   "source": [
    "import os\n",
    "from dotenv import load_dotenv\n",
    "\n",
    "load_dotenv()"
   ]
  },
  {
   "cell_type": "code",
   "execution_count": 7,
   "metadata": {},
   "outputs": [],
   "source": [
    "# API_GEMINI = os.getenv(\"API_GEMINI\")\n",
    "# MODEL_GEMINI = os.getenv(\"MODEL_GEMINI\")\n",
    "# MODEL_GEMINI_EMBEDDING = os.getenv(\"MODEL_GEMINI_EMBEDDING\")\n",
    "\n",
    "URL_QDRANT = os.getenv('URL_QDRANT')\n",
    "API_QDRANT = os.getenv('API_QDRANT')\n",
    "COLLECTION_NAME_COMMON_DB_TINH_HUONG=os.getenv(\"COLLECTION_NAME_COMMON_DB_TINH_HUONG\")\n",
    "CONTENT_PAYLOAD_KEY=os.getenv(\"CONTENT_PAYLOAD_KEY\")\n",
    "METADATA_PAYLOAD_KEY=os.getenv(\"METADATA_PAYLOAD_KEY\")\n",
    "\n",
    "BREAKPOINT_THRESHOLD_TYPE = os.getenv(\"BREAKPOINT_THRESHOLD_TYPE\")"
   ]
  },
  {
   "cell_type": "code",
   "execution_count": 8,
   "metadata": {},
   "outputs": [],
   "source": [
    "model_name = \"all-MiniLM-L6-v2.gguf2.f16.gguf\"\n",
    "gpt4all_kwargs = {'allow_download': 'True'}\n",
    "\n",
    "gpt4all_embedding = GPT4AllEmbeddings(\n",
    "    model_name=model_name,\n",
    "    gpt4all_kwargs=gpt4all_kwargs\n",
    "    )"
   ]
  },
  {
   "cell_type": "code",
   "execution_count": 9,
   "metadata": {},
   "outputs": [],
   "source": [
    "\"\"\"Splitting file pdf theo Semantic Chunker\"\"\"\n",
    "\n",
    "# # google_AI_Embedding = GoogleGenerativeAIEmbeddings(google_api_key = API_GEMINI, model = MODEL_GEMINI_EMBEDDING)\n",
    "# text_splitter = SemanticChunker(embeddings = gpt4all_embedding, breakpoint_threshold_type = BREAKPOINT_THRESHOLD_TYPE)\n",
    "\n",
    "file_PDF = r'data\\tinh_huong\\giaoduc_daotao_yte_2.pdf'\n",
    "raw_documents = PyPDFLoader(file_PDF).load()"
   ]
  },
  {
   "cell_type": "code",
   "execution_count": 10,
   "metadata": {},
   "outputs": [
    {
     "name": "stdout",
     "output_type": "stream",
     "text": [
      "Trang 1:\n",
      "Question:\n",
      "Trường hợp nào được tạm hoãn gọi nhập ngũ?\n",
      "Situation:\n",
      "Tôi xin hỏi, học sinh vừa tốt nghiệp THPT khi xét tuyển vào các trường cao đẳng thì có\n",
      "được tạm miễn thực hiện nghĩa vụ quân sự không?\n",
      "Answer:\n",
      "Bộ  Quốc  phòng  trả  lời  vấn  đề  này  như  sau:Theo  quy  định  tại  Điểm  g  Khoản  1  Điều\n",
      "41Luật Nghĩa vụ quân sựnăm 2015, những công dân sau đây được tạm hoãn gọi nhập\n",
      "ngũ:\"g) Đang học tại cơ sở giáo dục phổ thông; đang được đào tạo trình độ đại học hệ\n",
      "chính quy thuộc cơ sở giáo dục đại học, trình độ cao đẳng hệ chính quy thuộc các cơ sở\n",
      "giáo dục nghề nghiệp trong một khóa đào tạo của một trình độ đào tạo\".Như vậy, công\n",
      "dân thuộc trường hợp nêu tại Điểm g Khoản 1 Điều 41 Luật Nghĩa vụ quân sự năm 2015\n",
      "được tạm hoãn từ ngày công dân đã làm xong thủ tục nhập học và đang học tập tại\n",
      "trường; chỉ được tạm hoãn gọi nhập ngũ trong một khóa đào tạo tập trung đầu tiên, còn\n",
      "các khóa học tiếp theo thì không được tạm hoãn.\n",
      "\n",
      "----------------------------------------\n",
      "\n",
      "Trang 2:\n",
      "Question:\n",
      "Tra cứu thông tin cá nhân đủ điều kiện tư vấn kỹ thuật trang thiết bị y tế\n",
      "Situation:\n",
      "Hiện  nay  khi  tra  cứu  trên  Hệ  thống  thông  tin  giải  quyết  thủ  tục  hành  chính  Bộ  Y  tế\n",
      "(https://dichvucong.moh.gov.vn) hoặc Cổng Thông tin điện tử về quản lý trang thiết bị y\n",
      "tế (https://dmec.moh.gov.vn/) đều không có thông tin về các cá nhân đủ điều kiện tư\n",
      "vấn về kỹ thuật trang thiết bị y tế. Việc này gây khó khăn cho các cơ quan, đơn vị, chủ\n",
      "đầu tư khi lập danh mục và xây dựng cấu hình, tính năng kỹ thuật trang thiết bị y tế. \n",
      "Tôi đề nghị Bộ Y tế hướng dẫn cụ thể việc tra cứu thông tin về các cá nhân đủ điều kiện\n",
      "tư vấn về kỹ thuật trang thiết bị y tế để các chủ đầu tư có thể lựa chọn làm tư vấn lập\n",
      "danh mục và xây dựng cấu hình, tính năng kỹ thuật trang thiết bị y tế theo quy định. \n",
      "Ngoài ra, Thông tư số 14/2023/TT-BYT ngày 30/6/2023 của Bộ trưởng Bộ Y tế ban hành\n",
      "quy định trình tự, thủ tục xây dựng giá gói thầu mua sắm hàng hóa và cung cấp dịch vụ\n",
      "thuộc lĩnh vực trang thiết bị y tế tại các cơ sở y tế công lập có hiệu lực từ ngày 1/7/2023\n",
      "đến ngày 31/12/2023, nhưng đến nay Bộ Y tế vẫn chưa ban hành Thông tư mới để thay\n",
      "thế, dẫn đến các chủ đầu tư gặp vướng mắc trong việc lập các gói thầu mua sắm trang\n",
      "thiết bị y tế.\n",
      "Answer:\n",
      "Bộ Y tế trả lời vấn đề này như sau:Thực hiện theo quy định tại Điểm b Khoản 2 Điều 54\n",
      "Nghị định số98/2021/NĐ-CPcủa Chính phủ về quản lý trang thiết bị y tế; hiện nay, Bộ Y\n",
      "tế (Cục Cơ sở hạ tầng và thiết bị y tế) đã tiếp nhận và công bố danh sách các cá nhân\n",
      "đủ điều kiện tư vấn về kỹ thuật trang thiết bị y tế trên Cổng Thông tin điện tử về quản\n",
      "lý trang thiết bị y tế (https://dmec.moh.gov.vn/).Để có thể tra cứu thông tin, đề nghị\n",
      "thực hiện theo các bước sau:- Truy cập vào Cổng Thông tin điện tử về quản lý trang\n",
      "thiết bị y tế (https://dmec.moh.gov.vn/);- Click vào module \"Kết quả dịch vụ công\";- Vào\n",
      "ô tìm kiếm gõ \"TVKT\" (Viết tắt của Tư vấn kỹ thuật);- Click vào ô \"Tìm kiếm\" và xem xét\n",
      "\n",
      "----------------------------------------\n",
      "\n",
      "Trang 3:\n",
      "hồ sơ, thông tin của các cá nhân đủ điều kiện tư vấn đã được công bố.Về việc ban hành\n",
      "Văn bản quy phạm pháp luật thay thế Thông tư số 14/2023/TT-BYT, ngày 23/6/2023,\n",
      "Quốc hội đã ban hành Luật Đấu thầu số 22/2023/QH15; ngày 27/2/2024, Chính phủ đã\n",
      "ban hành Nghị định số 24/2024/NĐ-CP quy định chi tiết một điều và biện pháp thi hành\n",
      "Luật Đấu thầu về lựa chọn nhà thầu.Theo đó, các nội dung liên quan đến xây dựng giá\n",
      "gói thầu và tổ chức lựa chọn nhà thầu đối với các mặt hàng, dịch vụ liên quan đến hóa\n",
      "chất,  vật  tư  xét  nghiệm  thiết  bị  y  tế  được  quy  định  tại  Điều  16  Nghị  định  số\n",
      "24/2024/NĐ-CP. Vì vậy, đề nghị cá nhân/ tổ chức quan tâm có thể nghiên cứu để triển\n",
      "khai, thực hiện.\n",
      "\n",
      "----------------------------------------\n",
      "\n",
      "Trang 4:\n",
      "Question:\n",
      "Có được sử dụng đồng thời chứng chỉ hành nghề y và dược?\n",
      "Situation:\n",
      "Tôi tốt nghiệp cao đẳng dược, đã có chứng chỉ hành nghề y và làm việc tại 1 bệnh viện\n",
      "thuộc TP. Hải Phòng. Xin hỏi, tôi muốn làm thêm chứng chỉ hành nghề dược có được\n",
      "không? Có phải bỏ chứng chỉ y để làm chứng chỉ dược không? Có thể sử dụng song song\n",
      "2 chứng chỉ này được không?\n",
      "Answer:\n",
      "Bộ Y tế trả lời vấn đề này như sau:TạiLuật Dượcvà các văn bản quy phạm pháp luật có\n",
      "liên  quan  về  dược  không  có  quy  định  về  việc  một  cá  nhân  không  được  có  đồng  thời\n",
      "chứng chỉ hành nghề dược và chứng chỉ hành nghề y.Cá nhân đáp ứng điều kiện về văn\n",
      "bằng chuyên môn, thời gian thực hành chuyên môn và các điều kiện khác theo quy định\n",
      "tại Luật Dược năm 2016 (các Điều từ 13 đến 22) và Nghị định số54/2017/NĐ-CPngày\n",
      "8/5/2017 của Chính phủ quy định chi tiết một số điều và biện pháp thi hành Luật Dược\n",
      "(được sửa đổi, bổ sung bởi Nghị định số155/2018/NĐ-CPngày 12/11/2018 của Chính phủ\n",
      "sửa  đổi,  bổ  sung  một  số  quy  định  liên  quan  đến  điều  kiện  đầu  tư  kinh  doanh  thuộc\n",
      "phạm vi quản lý nhà nước của Bộ Y tế) có thể chuẩn bị hồ sơ đề nghị cấp chứng chỉ\n",
      "hành nghề dược và nộp cho cơ quan có thẩm quyền để được xem xét cấp chứng chỉ\n",
      "hành nghề dược theo quy định.Cá nhân khi đảm nhiệm một trong các vị trí công việc\n",
      "quy định tại Điều 11 Luật Dược năm 2016 cần có chứng chỉ hành nghề dược.Luật Dược\n",
      "và các văn bản quy phạm pháp luật có liên quan về dược không có quy định về việc cá\n",
      "nhân không được sử dụng chứng chỉ hành nghề dược đồng thời với các chứng chỉ hành\n",
      "nghề khác (như nghề y). Người hành nghề dược có quyền và nghĩa vụ theo quy định tại\n",
      "Mục 2 Chương III Luật Dược năm 2016 và phải thực hiện các quy định có liên quan theo\n",
      "quy định của pháp luật về dược khi sử dụng chứng chỉ hành nghề dược.\n",
      "\n",
      "----------------------------------------\n",
      "\n",
      "Trang 5:\n",
      "Question:\n",
      "Chưa chuyển mã ngạch có được hưởng phụ cấp nghề?\n",
      "Situation:\n",
      "Tôi là kỹ sư an toàn thực phẩm, làm việc tại Khoa An toàn thực phẩm thuộc Trung tâm Y\n",
      "tế huyện từ năm 2010, mã ngạch 13.095 (chưa chuyển sang mã V.05).   Xin hỏi, tôi có\n",
      "được  hưởng  phụ  cấp  ưu  đãi  nghề  theo  Nghị  định  số  56/2011/NĐ-CP  và  Nghị  định  số\n",
      "05/2023/NĐ-CP không?\n",
      "Answer:\n",
      "Bộ Y tế trả lời vấn đề này như sau:Hiện nay, chế độ phụ cấp ưu đãi theo nghề đối với\n",
      "công chức, viên chức công tác tại các cơ sở y tế công lập thực hiện theo quy định tại\n",
      "các  văn  bản:  Nghị  định  số56/2011/NĐ-CPngày  4/7/2011  của  Chính  phủ;  Nghị  định\n",
      "số05/2023/NĐ-CPngày 15/2/2023 của Chính phủ sửa đổi bổ sung một số điều của Nghị\n",
      "định số 56/2011/NĐ-CP quy định chế độ phụ cấp ưu đãi theo nghề đối với công chức,\n",
      "viên  chức  công  tác  tại  các  cơ  sở  y  tế  công  lập;  Thông  tư  liên  tịch\n",
      "số02/2012/TTLT-BYT-BNV-BTCngày  19/1/2012  của  Bộ  Y  tế,  Bộ  Nội  vụ,  Bộ  Tài  chính\n",
      "hướng dẫn thực hiện Nghị định số 56/2011/NĐ-CP.Nội dung ông Hiếu hỏi chưa cung cấp\n",
      "đủ thông tin về khung năng lực vị trí việc làm được cấp có thẩm quyền phê duyệt và\n",
      "phân công công việc theo vị trí việc làm để làm căn cứ xác định mức phụ cấp ưu đãi\n",
      "nghề cụ thể theo quy định tại Nghị định số 56/2023/NĐ-CP ngày 4/7/2011 của Chính\n",
      "phủ.Viên chức hiện có mã ngạch 13.095 (chưa chuyển sang mã V.05) là chưa thực hiện\n",
      "đúng quy định và không thuộc đối tượng hưởng phụ cấp ưu đãi theo nghề đối với viên\n",
      "chức  y  tế  dự  phòng,  y  tế  cơ  sở  theo  quy  định  tại  Nghị  định  số  05/2023/NĐCP  ngày\n",
      "15/2/2023 của Chính phủ.\n",
      "\n",
      "----------------------------------------\n",
      "\n"
     ]
    }
   ],
   "source": [
    "# Hiển thị nội dung của một số trang đầu tiên\n",
    "for i, document in enumerate(raw_documents[:5]):  # Lấy 5 trang đầu\n",
    "    print(f\"Trang {i + 1}:\")\n",
    "    print(document.page_content)\n",
    "    print(\"\\n\" + \"-\" * 40 + \"\\n\")"
   ]
  },
  {
   "cell_type": "code",
   "execution_count": 11,
   "metadata": {},
   "outputs": [],
   "source": [
    "text_splitter = SemanticChunker(embeddings = gpt4all_embedding, breakpoint_threshold_type = BREAKPOINT_THRESHOLD_TYPE)\n",
    "\n",
    "docs = text_splitter.split_documents(raw_documents)"
   ]
  },
  {
   "cell_type": "code",
   "execution_count": 12,
   "metadata": {},
   "outputs": [
    {
     "name": "stdout",
     "output_type": "stream",
     "text": [
      "Đoạn 1:\n",
      "Question:\n",
      "Trường hợp nào được tạm hoãn gọi nhập ngũ?\n",
      "\n",
      "----------------------------------------\n",
      "\n",
      "Đoạn 2:\n",
      "Situation:\n",
      "Tôi xin hỏi, học sinh vừa tốt nghiệp THPT khi xét tuyển vào các trường cao đẳng thì có\n",
      "được tạm miễn thực hiện nghĩa vụ quân sự không? Answer:\n",
      "Bộ  Quốc  phòng  trả  lời  vấn  đề  này  như  sau:Theo  quy  định  tại  Điểm  g  Khoản  1  Điều\n",
      "41Luật Nghĩa vụ quân sựnăm 2015, những công dân sau đây được tạm hoãn gọi nhập\n",
      "ngũ:\"g) Đang học tại cơ sở giáo dục phổ thông; đang được đào tạo trình độ đại học hệ\n",
      "chính quy thuộc cơ sở giáo dục đại học, trình độ cao đẳng hệ chính quy thuộc các cơ sở\n",
      "giáo dục nghề nghiệp trong một khóa đào tạo của một trình độ đào tạo\".Như vậy, công\n",
      "dân thuộc trường hợp nêu tại Điểm g Khoản 1 Điều 41 Luật Nghĩa vụ quân sự năm 2015\n",
      "được tạm hoãn từ ngày công dân đã làm xong thủ tục nhập học và đang học tập tại\n",
      "trường; chỉ được tạm hoãn gọi nhập ngũ trong một khóa đào tạo tập trung đầu tiên, còn\n",
      "các khóa học tiếp theo thì không được tạm hoãn.\n",
      "\n",
      "----------------------------------------\n",
      "\n",
      "Đoạn 3:\n",
      "Question:\n",
      "Tra cứu thông tin cá nhân đủ điều kiện tư vấn kỹ thuật trang thiết bị y tế\n",
      "Situation:\n",
      "Hiện  nay  khi  tra  cứu  trên  Hệ  thống  thông  tin  giải  quyết  thủ  tục  hành  chính  Bộ  Y  tế\n",
      "(https://dichvucong.moh.gov.vn) hoặc Cổng Thông tin điện tử về quản lý trang thiết bị y\n",
      "tế (https://dmec.moh.gov.vn/) đều không có thông tin về các cá nhân đủ điều kiện tư\n",
      "vấn về kỹ thuật trang thiết bị y tế. Việc này gây khó khăn cho các cơ quan, đơn vị, chủ\n",
      "đầu tư khi lập danh mục và xây dựng cấu hình, tính năng kỹ thuật trang thiết bị y tế. Tôi đề nghị Bộ Y tế hướng dẫn cụ thể việc tra cứu thông tin về các cá nhân đủ điều kiện\n",
      "tư vấn về kỹ thuật trang thiết bị y tế để các chủ đầu tư có thể lựa chọn làm tư vấn lập\n",
      "danh mục và xây dựng cấu hình, tính năng kỹ thuật trang thiết bị y tế theo quy định.\n",
      "\n",
      "----------------------------------------\n",
      "\n",
      "Đoạn 4:\n",
      "Ngoài ra, Thông tư số 14/2023/TT-BYT ngày 30/6/2023 của Bộ trưởng Bộ Y tế ban hành\n",
      "quy định trình tự, thủ tục xây dựng giá gói thầu mua sắm hàng hóa và cung cấp dịch vụ\n",
      "thuộc lĩnh vực trang thiết bị y tế tại các cơ sở y tế công lập có hiệu lực từ ngày 1/7/2023\n",
      "đến ngày 31/12/2023, nhưng đến nay Bộ Y tế vẫn chưa ban hành Thông tư mới để thay\n",
      "thế, dẫn đến các chủ đầu tư gặp vướng mắc trong việc lập các gói thầu mua sắm trang\n",
      "thiết bị y tế. Answer:\n",
      "Bộ Y tế trả lời vấn đề này như sau:Thực hiện theo quy định tại Điểm b Khoản 2 Điều 54\n",
      "Nghị định số98/2021/NĐ-CPcủa Chính phủ về quản lý trang thiết bị y tế; hiện nay, Bộ Y\n",
      "tế (Cục Cơ sở hạ tầng và thiết bị y tế) đã tiếp nhận và công bố danh sách các cá nhân\n",
      "đủ điều kiện tư vấn về kỹ thuật trang thiết bị y tế trên Cổng Thông tin điện tử về quản\n",
      "lý trang thiết bị y tế (https://dmec.moh.gov.vn/).Để có thể tra cứu thông tin, đề nghị\n",
      "thực hiện theo các bước sau:- Truy cập vào Cổng Thông tin điện tử về quản lý trang\n",
      "thiết bị y tế (https://dmec.moh.gov.vn/);- Click vào module \"Kết quả dịch vụ công\";- Vào\n",
      "ô tìm kiếm gõ \"TVKT\" (Viết tắt của Tư vấn kỹ thuật);- Click vào ô \"Tìm kiếm\" và xem xét\n",
      "\n",
      "----------------------------------------\n",
      "\n",
      "Đoạn 5:\n",
      "hồ sơ, thông tin của các cá nhân đủ điều kiện tư vấn đã được công bố.Về việc ban hành\n",
      "Văn bản quy phạm pháp luật thay thế Thông tư số 14/2023/TT-BYT, ngày 23/6/2023,\n",
      "Quốc hội đã ban hành Luật Đấu thầu số 22/2023/QH15; ngày 27/2/2024, Chính phủ đã\n",
      "ban hành Nghị định số 24/2024/NĐ-CP quy định chi tiết một điều và biện pháp thi hành\n",
      "Luật Đấu thầu về lựa chọn nhà thầu.Theo đó, các nội dung liên quan đến xây dựng giá\n",
      "gói thầu và tổ chức lựa chọn nhà thầu đối với các mặt hàng, dịch vụ liên quan đến hóa\n",
      "chất,  vật  tư  xét  nghiệm  thiết  bị  y  tế  được  quy  định  tại  Điều  16  Nghị  định  số\n",
      "24/2024/NĐ-CP. Vì vậy, đề nghị cá nhân/ tổ chức quan tâm có thể nghiên cứu để triển\n",
      "khai, thực hiện.\n",
      "\n",
      "----------------------------------------\n",
      "\n"
     ]
    }
   ],
   "source": [
    "for i, doc in enumerate(docs[:5]):  # Lấy 5 đoạn đầu\n",
    "    print(f\"Đoạn {i + 1}:\")\n",
    "    print(doc.page_content)\n",
    "    print(\"\\n\" + \"-\" * 40 + \"\\n\")"
   ]
  },
  {
   "cell_type": "markdown",
   "metadata": {},
   "source": [
    "# Tạo 1 Collection mới"
   ]
  },
  {
   "cell_type": "code",
   "execution_count": null,
   "metadata": {},
   "outputs": [],
   "source": [
    "\"\"\"Tạo Collection với 1 file pdf. Nếu test thì đổi tên của COLLECTION_NAME_COMMON_DB_TINH_HUONG trong file .env\"\"\"\n",
    "\n",
    "# url = URL_QDRANT\n",
    "# api_key = API_QDRANT\n",
    "\n",
    "# docs = text_splitter.split_documents(raw_documents)\n",
    "\n",
    "# qdrant = QdrantVectorStore.from_documents(\n",
    "#     documents = docs,\n",
    "#     embedding = gpt4all_embedding,\n",
    "#     url=url,\n",
    "#     prefer_grpc=True,\n",
    "#     api_key=api_key,\n",
    "#     collection_name=COLLECTION_NAME_COMMON_DB_TINH_HUONG,\n",
    "# )"
   ]
  },
  {
   "cell_type": "markdown",
   "metadata": {},
   "source": [
    "# Sử dụng Collection đã có"
   ]
  },
  {
   "cell_type": "code",
   "execution_count": null,
   "metadata": {},
   "outputs": [],
   "source": [
    "qdrant = QdrantVectorStore.from_existing_collection(\n",
    "    embedding = gpt4all_embedding,\n",
    "    collection_name=COLLECTION_NAME_COMMON_DB_TINH_HUONG,\n",
    "    url = URL_QDRANT,\n",
    "    api_key= API_QDRANT,\n",
    ")"
   ]
  },
  {
   "cell_type": "code",
   "execution_count": null,
   "metadata": {},
   "outputs": [],
   "source": [
    "query = \"\"\"Hiện nay khi tra cứu trên Hệ thống thông tin giải quyết thủ tục hành chính Bộ Y tế\n",
    " (https://dichvucong.moh.gov.vn) hoặc Cổng Thông tin điện tử về quản lý trang thiết bị y\n",
    " tế (https://dmec.moh.gov.vn/) đều không có thông tin về các cá nhân đủ điều kiện tư\n",
    " vấn về kỹ thuật trang thiết bị y tế. Việc này gây khó khăn cho các cơ quan, đơn vị, chủ\n",
    " đầu tư khi lập danh mục và xây dựng cấu hình, tính năng kỹ thuật trang thiết bị y tế. \n",
    "Tôi đề nghị Bộ Y tế hướng dẫn cụ thể việc tra cứu thông tin về các cá nhân đủ điều kiện\n",
    " tư vấn về kỹ thuật trang thiết bị y tế để các chủ đầu tư có thể lựa chọn làm tư vấn lập\n",
    " danh mục và xây dựng cấu hình, tính năng kỹ thuật trang thiết bị y tế theo quy định. \n",
    "Ngoài ra, Thông tư số 14/2023/TT-BYT ngày 30/6/2023 của Bộ trưởng Bộ Y tế ban hành\n",
    " quy định trình tự, thủ tục xây dựng giá gói thầu mua sắm hàng hóa và cung cấp dịch vụ\n",
    " thuộc lĩnh vực trang thiết bị y tế tại các cơ sở y tế công lập có hiệu lực từ ngày 1/7/2023\n",
    " đến ngày 31/12/2023, nhưng đến nay Bộ Y tế vẫn chưa ban hành Thông tư mới để thay\n",
    " thế, dẫn đến các chủ đầu tư gặp vướng mắc trong việc lập các gói thầu mua sắm trang\n",
    " thiết bị y tế.\"\"\"\n",
    "found_docs = qdrant.similarity_search_with_score(\n",
    "    query = query,\n",
    "    k = 5,\n",
    "    )"
   ]
  },
  {
   "cell_type": "code",
   "execution_count": null,
   "metadata": {},
   "outputs": [],
   "source": [
    "found_docs"
   ]
  },
  {
   "cell_type": "code",
   "execution_count": null,
   "metadata": {},
   "outputs": [],
   "source": [
    "for doc, score in found_docs:\n",
    "    print(doc.page_content)\n",
    "    print(score)\n",
    "    print(\"\\n\")"
   ]
  },
  {
   "cell_type": "markdown",
   "metadata": {},
   "source": [
    "# Score là dùng độ đo Cosine, score càng cao là càng match"
   ]
  },
  {
   "cell_type": "code",
   "execution_count": null,
   "metadata": {},
   "outputs": [],
   "source": []
  }
 ],
 "metadata": {
  "kernelspec": {
   "display_name": "Python 3",
   "language": "python",
   "name": "python3"
  },
  "language_info": {
   "codemirror_mode": {
    "name": "ipython",
    "version": 3
   },
   "file_extension": ".py",
   "mimetype": "text/x-python",
   "name": "python",
   "nbconvert_exporter": "python",
   "pygments_lexer": "ipython3",
   "version": "3.9.8"
  }
 },
 "nbformat": 4,
 "nbformat_minor": 2
}
