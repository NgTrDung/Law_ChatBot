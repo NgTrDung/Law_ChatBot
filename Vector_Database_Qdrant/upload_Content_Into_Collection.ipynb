{
 "cells": [
  {
   "cell_type": "code",
   "execution_count": 1,
   "metadata": {},
   "outputs": [],
   "source": [
    "from langchain_experimental.text_splitter import SemanticChunker\n",
    "from langchain_community.embeddings import GPT4AllEmbeddings\n",
    "from langchain_community.document_loaders import PyPDFLoader\n",
    "from langchain_qdrant import Qdrant\n",
    "from langchain_qdrant import QdrantVectorStore"
   ]
  },
  {
   "cell_type": "code",
   "execution_count": 2,
   "metadata": {},
   "outputs": [
    {
     "data": {
      "text/plain": [
       "True"
      ]
     },
     "execution_count": 2,
     "metadata": {},
     "output_type": "execute_result"
    }
   ],
   "source": [
    "import os\n",
    "from dotenv import load_dotenv\n",
    "\n",
    "load_dotenv()"
   ]
  },
  {
   "cell_type": "code",
   "execution_count": 3,
   "metadata": {},
   "outputs": [],
   "source": [
    "# API_GEMINI = os.getenv(\"API_GEMINI\")\n",
    "# MODEL_GEMINI = os.getenv(\"MODEL_GEMINI\")\n",
    "# MODEL_GEMINI_EMBEDDING = os.getenv(\"MODEL_GEMINI_EMBEDDING\")\n",
    "\n",
    "URL_QDRANT = os.getenv('URL_QDRANT')\n",
    "API_QDRANT = os.getenv('API_QDRANT')\n",
    "COLLECTION_NAME_COMMON_DB_TINH_HUONG=os.getenv(\"COLLECTION_NAME_COMMON_DB_TINH_HUONG\")\n",
    "CONTENT_PAYLOAD_KEY=os.getenv(\"CONTENT_PAYLOAD_KEY\")\n",
    "METADATA_PAYLOAD_KEY=os.getenv(\"METADATA_PAYLOAD_KEY\")\n",
    "\n",
    "BREAKPOINT_THRESHOLD_TYPE = os.getenv(\"BREAKPOINT_THRESHOLD_TYPE\")"
   ]
  },
  {
   "cell_type": "code",
   "execution_count": 4,
   "metadata": {},
   "outputs": [],
   "source": [
    "model_name = \"all-MiniLM-L6-v2.gguf2.f16.gguf\"\n",
    "gpt4all_kwargs = {'allow_download': 'True'}\n",
    "\n",
    "gpt4all_embedding = GPT4AllEmbeddings(\n",
    "    model_name=model_name,\n",
    "    gpt4all_kwargs=gpt4all_kwargs\n",
    "    )"
   ]
  },
  {
   "cell_type": "code",
   "execution_count": 5,
   "metadata": {},
   "outputs": [
    {
     "data": {
      "text/plain": [
       "'Splitting file pdf theo Semantic Chunker'"
      ]
     },
     "execution_count": 5,
     "metadata": {},
     "output_type": "execute_result"
    }
   ],
   "source": [
    "\"\"\"Splitting file pdf theo Semantic Chunker\"\"\"\n",
    "\n",
    "# # google_AI_Embedding = GoogleGenerativeAIEmbeddings(google_api_key = API_GEMINI, model = MODEL_GEMINI_EMBEDDING)\n",
    "# text_splitter = SemanticChunker(embeddings = gpt4all_embedding, breakpoint_threshold_type = BREAKPOINT_THRESHOLD_TYPE)\n",
    "\n",
    "# file_PDF = r'data\\tinh_huong\\2\\giaoduc_daotao_yte_2.pdf'\n",
    "# raw_documents = PyPDFLoader(file_PDF).load()"
   ]
  },
  {
   "cell_type": "markdown",
   "metadata": {},
   "source": [
    "# Tạo 1 Collection mới"
   ]
  },
  {
   "cell_type": "code",
   "execution_count": 6,
   "metadata": {},
   "outputs": [
    {
     "data": {
      "text/plain": [
       "'Tạo Collection với 1 file pdf. Nếu test thì đổi tên của COLLECTION_NAME_COMMON_DB_TINH_HUONG trong file .env'"
      ]
     },
     "execution_count": 6,
     "metadata": {},
     "output_type": "execute_result"
    }
   ],
   "source": [
    "\"\"\"Tạo Collection với 1 file pdf. Nếu test thì đổi tên của COLLECTION_NAME_COMMON_DB_TINH_HUONG trong file .env\"\"\"\n",
    "\n",
    "# url = URL_QDRANT\n",
    "# api_key = API_QDRANT\n",
    "\n",
    "# docs = text_splitter.split_documents(raw_documents)\n",
    "\n",
    "# qdrant = QdrantVectorStore.from_documents(\n",
    "#     documents = docs,\n",
    "#     embedding = gpt4all_embedding,\n",
    "#     url=url,\n",
    "#     prefer_grpc=True,\n",
    "#     api_key=api_key,\n",
    "#     collection_name=COLLECTION_NAME_COMMON_DB_TINH_HUONG,\n",
    "# )"
   ]
  },
  {
   "cell_type": "markdown",
   "metadata": {},
   "source": [
    "# Sử dụng Collection đã có"
   ]
  },
  {
   "cell_type": "code",
   "execution_count": 7,
   "metadata": {},
   "outputs": [],
   "source": [
    "qdrant = QdrantVectorStore.from_existing_collection(\n",
    "    embedding = gpt4all_embedding,\n",
    "    collection_name=COLLECTION_NAME_COMMON_DB_TINH_HUONG,\n",
    "    url = URL_QDRANT,\n",
    "    api_key= API_QDRANT,\n",
    ")"
   ]
  },
  {
   "cell_type": "code",
   "execution_count": 8,
   "metadata": {},
   "outputs": [],
   "source": [
    "query = \"\"\"Hiện nay khi tra cứu trên Hệ thống thông tin giải quyết thủ tục hành chính Bộ Y tế\n",
    " (https://dichvucong.moh.gov.vn) hoặc Cổng Thông tin điện tử về quản lý trang thiết bị y\n",
    " tế (https://dmec.moh.gov.vn/) đều không có thông tin về các cá nhân đủ điều kiện tư\n",
    " vấn về kỹ thuật trang thiết bị y tế. Việc này gây khó khăn cho các cơ quan, đơn vị, chủ\n",
    " đầu tư khi lập danh mục và xây dựng cấu hình, tính năng kỹ thuật trang thiết bị y tế. \n",
    "Tôi đề nghị Bộ Y tế hướng dẫn cụ thể việc tra cứu thông tin về các cá nhân đủ điều kiện\n",
    " tư vấn về kỹ thuật trang thiết bị y tế để các chủ đầu tư có thể lựa chọn làm tư vấn lập\n",
    " danh mục và xây dựng cấu hình, tính năng kỹ thuật trang thiết bị y tế theo quy định. \n",
    "Ngoài ra, Thông tư số 14/2023/TT-BYT ngày 30/6/2023 của Bộ trưởng Bộ Y tế ban hành\n",
    " quy định trình tự, thủ tục xây dựng giá gói thầu mua sắm hàng hóa và cung cấp dịch vụ\n",
    " thuộc lĩnh vực trang thiết bị y tế tại các cơ sở y tế công lập có hiệu lực từ ngày 1/7/2023\n",
    " đến ngày 31/12/2023, nhưng đến nay Bộ Y tế vẫn chưa ban hành Thông tư mới để thay\n",
    " thế, dẫn đến các chủ đầu tư gặp vướng mắc trong việc lập các gói thầu mua sắm trang\n",
    " thiết bị y tế.\"\"\"\n",
    "found_docs = qdrant.similarity_search_with_score(\n",
    "    query = query,\n",
    "    k = 5,\n",
    "    )"
   ]
  },
  {
   "cell_type": "code",
   "execution_count": 9,
   "metadata": {},
   "outputs": [
    {
     "data": {
      "text/plain": [
       "[(Document(page_content='Question:\\nTra cứu thông tin cá nhân đủ điều kiện tư vấn kỹ thuật trang thiết bị y tế\\nSituation:\\nHiện  nay  khi  tra  cứu  trên  Hệ  thống  thông  tin  giải  quyết  thủ  tục  hành  chính  Bộ  Y  tế\\n(https://dichvucong.moh.gov.vn) hoặc Cổng Thông tin điện tử về quản lý trang thiết bị y\\ntế (https://dmec.moh.gov.vn/) đều không có thông tin về các cá nhân đủ điều kiện tư\\nvấn về kỹ thuật trang thiết bị y tế. Việc này gây khó khăn cho các cơ quan, đơn vị, chủ\\nđầu tư khi lập danh mục và xây dựng cấu hình, tính năng kỹ thuật trang thiết bị y tế. Tôi đề nghị Bộ Y tế hướng dẫn cụ thể việc tra cứu thông tin về các cá nhân đủ điều kiện\\ntư vấn về kỹ thuật trang thiết bị y tế để các chủ đầu tư có thể lựa chọn làm tư vấn lập\\ndanh mục và xây dựng cấu hình, tính năng kỹ thuật trang thiết bị y tế theo quy định.', metadata={'page': 1, 'source': 'data\\\\tinh_huong\\\\2\\\\giaoduc_daotao_yte_2.pdf', '_id': '2fbee2cb-ad1b-492f-95c6-c3daae8ecddc', '_collection_name': 'Common_Law_Database_Tinh_Huong'}),\n",
       "  0.9336003),\n",
       " (Document(page_content='Ngoài ra, Thông tư số 14/2023/TT-BYT ngày 30/6/2023 của Bộ trưởng Bộ Y tế ban hành\\nquy định trình tự, thủ tục xây dựng giá gói thầu mua sắm hàng hóa và cung cấp dịch vụ\\nthuộc lĩnh vực trang thiết bị y tế tại các cơ sở y tế công lập có hiệu lực từ ngày 1/7/2023\\nđến ngày 31/12/2023, nhưng đến nay Bộ Y tế vẫn chưa ban hành Thông tư mới để thay\\nthế, dẫn đến các chủ đầu tư gặp vướng mắc trong việc lập các gói thầu mua sắm trang\\nthiết bị y tế. Answer:\\nBộ Y tế trả lời vấn đề này như sau:Thực hiện theo quy định tại Điểm b Khoản 2 Điều 54\\nNghị định số98/2021/NĐ-CPcủa Chính phủ về quản lý trang thiết bị y tế; hiện nay, Bộ Y\\ntế (Cục Cơ sở hạ tầng và thiết bị y tế) đã tiếp nhận và công bố danh sách các cá nhân\\nđủ điều kiện tư vấn về kỹ thuật trang thiết bị y tế trên Cổng Thông tin điện tử về quản\\nlý trang thiết bị y tế (https://dmec.moh.gov.vn/).Để có thể tra cứu thông tin, đề nghị\\nthực hiện theo các bước sau:- Truy cập vào Cổng Thông tin điện tử về quản lý trang\\nthiết bị y tế (https://dmec.moh.gov.vn/);- Click vào module \"Kết quả dịch vụ công\";- Vào\\nô tìm kiếm gõ \"TVKT\" (Viết tắt của Tư vấn kỹ thuật);- Click vào ô \"Tìm kiếm\" và xem xét', metadata={'page': 1, 'source': 'data\\\\tinh_huong\\\\2\\\\giaoduc_daotao_yte_2.pdf', '_id': '1b6bbbe6-f5d4-4024-9eeb-c0bc9d952ba8', '_collection_name': 'Common_Law_Database_Tinh_Huong'}),\n",
       "  0.91322136),\n",
       " (Document(page_content='các bậc năng lực Bậc 1, Bậc 2, Bậc 3, Bậc 4, Bậc 5, Bậc 6, tương đương với 6 bậc A1,\\nA2,  B1,  B2,  C1,  C2  theo  Khung  tham  chiếu  châu  Âu  (CEFR).Theo  Quyết  định\\nsố1400/QĐ-TTgngày 30/9/2008 của Thủ tướng Chính phủ phê duyệt Đề án “Dạy và học\\nngoại  ngữ  trong  hệ  thống  giáo  dục  quốc  dân  giai  đoạn  2008-2020”  và  Công  văn  số\\n792/BGDĐT-NGCBQLGD ngày 25/2/2014 về việc hướng dẫn thực hiện yêu cầu cơ bản về\\nnăng lực giáo viên tiếng Anh phổ thông của Bộ Giáo dục và Đào tạo, giáo viên tiếng Anh\\nTiểu học và THCS cần có trình độ tiếng Anh bậc 4, giáo viên tiếng Anh THPT và cao\\nđẳng, đại học cần có trình độ tiếng Anh bậc 5 theo Khung năng lực ngoại ngữ 6 bậc\\ndành  cho  Việt  Nam.Về  hạn  sử  dụng  của  các  chứng  chỉ  ngoại  ngữ,  Công  văn  số\\n3755/BGDĐT-GDTX ngày 3/8/2016 của Bộ Giáo dục và Đào tạo đã chỉ rõ: “việc chấp\\nnhận  chứng  chỉ/chứng  nhận  năng  lực  ngoại  ngữ  nào  và  thời  hạn  áp  dụng  của  chứng\\nchỉ/chứng nhận là do Chủ tịch Ủy ban nhân dân tỉnh/thành phố trực thuộc Trung ương\\nhoặc Giám đốc Sở Giáo dục và Đào tạo (nếu được Chủ tịch Ủy ban nhân dân tỉnh/thành\\nphố trực thuộc Trung ương ủy quyền) xem xét, quyết định dựa theo yêu cầu về năng lực\\nngoại ngữ đối với vị trí công việc”.Sở GDĐT yêu cầu cụ thể về chứng chỉ ngoại ngữCác\\nChương trình đào tạo giáo viên ngoại ngữ của các trường đại học, cao đẳng chuyên ngữ\\nhiện tại phần lớn đã tuyên bố chuẩn đầu ra (sinh viên tốt nghiệp các trường cao đẳng\\nchuyên ngữ đạt trình độ ngoại ngữ bậc 4, tốt nghiệp các trường đại học chuyên ngữ đạt\\ntrình độ bậc 5).Tuy nhiên yêu cầu về chứng chỉ ngoại ngữ đối với giáo viên công tác\\nhoặc với các giáo viên đang trong quá trình tuyển dụng là yêu cầu cụ thể của các Sở\\nGiáo dục và Đào tạo. Giáo viên đang công tác hoặc đang dự tuyển dụng tại một cơ sở\\ngiáo dục và đào tạo cụ thể cần tìm hiểu thông tin về yêu cầu của cơ quan quản lý trực\\ntiếp hoặc cơ quan tuyển dụng để đáp ứng được yêu cầu cụ thể của cơ quan này.Giáo\\nviên đang giảng dạy tiếng Anh tại các trường phổ thông mà chưa có chứng chỉ tiếng\\nAnh theo Khung năng lực ngoại ngữ 6 bậc dành cho Việt Nam có thể liên hệ với Sở Giáo\\ndục  và  Đào  tạo  của  địa  phương  mình  để  hỏi  thông  tin  cụ  thể  về  yêu  cầu  có  chứng', metadata={'page': 1190, 'source': 'data\\\\tinh_huong\\\\2\\\\giaoduc_daotao_yte_2.pdf', '_id': '3a7b9b7d-8db3-40a5-b60e-cfaf24b5936e', '_collection_name': 'Common_Law_Database_Tinh_Huong'}),\n",
       "  0.88779795),\n",
       " (Document(page_content='Hiện tôi được bố trí làm việc tại Trường Mầm non phụ trách công tác an toàn vệ\\nsinh thực phẩm và dinh dưỡng tiết chế, với tính chất công việc và trách nhiệm giống\\nnhư khi làm việc tại cơ sở y tế. Tuy nhiên tôi được xếp vào ngạch chuyên viên 01.003,\\nkhông phải ngạch kỹ sư 13.095 đúng như trên bằng tốt nghiệp Đại học. Vậy mã ngạch\\ncủa tôi như vậy có đúng không, tôi có được hưởng phụ cấp ưu đãi nghề không ? Answer:\\nBộ  Y  tế  trả  lời  vấn  đề  này  như  sau:Thông  tư  liên  tịch  số  02/2012/TTLT-BYT-BNV-BTC\\nngày 19/1/2012 của Bộ Y tế, Bộ Nội vụ, Bộ Tài chính hướng dẫn thực hiện Nghị định số\\n56/2011/NĐ-CP ngày 4/7/2011 của Chính phủ quy định chế độ phụ cấp ưu đãi theo nghề\\nđối với công chức, viên chức công tác tại các cơ sở y tế công lập có quy định:Viên chức\\nlàm công tác chuyên môn y tế tại cơ quan, đơn vị, trường học thì thủ trưởng đơn vị căn\\ncứ vào đặc thù công việc và nguồn thu để xem xét, quyết định nhưng không vượt quá\\nmức 20% so với mức lương ngạch, bậc hiện hưởng cộng phụ cấp chức vụ lãnh đạo, phụ\\ncấp thâm niên vượt khung (nếu có) của đối tượng được hưởng.Do thông tin câu hỏi chưa\\nđầy đủ nên Bộ Y tế không thể trả lời\\xa0cụ thể. Tuy nhiên, về nguyên tắc xếp ngạch lương', metadata={'page': 2542, 'source': 'data\\\\tinh_huong\\\\2\\\\giaoduc_daotao_yte_2.pdf', '_id': '6c4a1c06-7bf0-4388-96c6-844236d961c1', '_collection_name': 'Common_Law_Database_Tinh_Huong'}),\n",
       "  0.8864107),\n",
       " (Document(page_content='Đơn  vị  nào  có  thẩm  quyền  minh\\nchứng khả năng này cho giáo viên? Answer:\\nBộ Giáo dục và Đào tạo trả lời vấn đề này như sau:Quy định về khả năng ứng dụng công\\nnghệ thông tin và và khả năng sử dụng ngoại ngữ hoặc tiếng dân tộc thiểu số quy định\\ntại Điểm g Khoản 4 Điều 3 Thông tư số02/2021/TT-BGDĐTđã được sửa đổi, bổ sung tại\\nKhoản 1 Điều 2 Thông tư số08/2023/TT-BGDĐTngày 14/4/2023 của Bộ Giáo dục và Đào\\ntạo  sửa  đổi,  bổ  sung  một  số  điều  của  các  Thông  tư  số  01,  02,  03,\\n04/2021/TT-BGDĐT\\xa0ngày  2/2/2021  của  Bộ  Giáo  dục  và  Đào  tạo  quy  định  mã  số,  tiêu\\nchuẩn  chức  danh  nghề  nghiệp  (CDNN)  và  bổ  nhiệm,  xếp  lương  viên  chức  giảng  dạy\\ntrong các cơ sở giáo dục mầm non, phổ thông công lập. Cụ thể như sau:Có khả năng\\nứng dụng công nghệ thông tin trong hoạt động nghề nghiệp; có khả năng sử dụng ngoại\\nngữ hoặc sử dụng tiếng dân tộc thiểu số theo yêu cầu vị trí việc làm.Trường hợp bổ\\nnhiệm  từ  hạng  CDNN  theo  quy  định  tại  Thông  tư  liên  tịch\\nsố21/2015/TTLT-BGDĐT-BNVsang hạng CDNN tương ứng theo quy định tại Thông tư số\\n02/2021/TT-BGDĐT  thì  thực  hiện  theo  quy  định  tại  Khoản  7  Điều  2  Thông  tư  số', metadata={'page': 212, 'source': 'data\\\\tinh_huong\\\\2\\\\giaoduc_daotao_yte_2.pdf', '_id': '60d931c9-5297-49b0-b327-553f631e24ec', '_collection_name': 'Common_Law_Database_Tinh_Huong'}),\n",
       "  0.8828604)]"
      ]
     },
     "execution_count": 9,
     "metadata": {},
     "output_type": "execute_result"
    }
   ],
   "source": [
    "found_docs"
   ]
  },
  {
   "cell_type": "code",
   "execution_count": 10,
   "metadata": {},
   "outputs": [
    {
     "name": "stdout",
     "output_type": "stream",
     "text": [
      "Question:\n",
      "Tra cứu thông tin cá nhân đủ điều kiện tư vấn kỹ thuật trang thiết bị y tế\n",
      "Situation:\n",
      "Hiện  nay  khi  tra  cứu  trên  Hệ  thống  thông  tin  giải  quyết  thủ  tục  hành  chính  Bộ  Y  tế\n",
      "(https://dichvucong.moh.gov.vn) hoặc Cổng Thông tin điện tử về quản lý trang thiết bị y\n",
      "tế (https://dmec.moh.gov.vn/) đều không có thông tin về các cá nhân đủ điều kiện tư\n",
      "vấn về kỹ thuật trang thiết bị y tế. Việc này gây khó khăn cho các cơ quan, đơn vị, chủ\n",
      "đầu tư khi lập danh mục và xây dựng cấu hình, tính năng kỹ thuật trang thiết bị y tế. Tôi đề nghị Bộ Y tế hướng dẫn cụ thể việc tra cứu thông tin về các cá nhân đủ điều kiện\n",
      "tư vấn về kỹ thuật trang thiết bị y tế để các chủ đầu tư có thể lựa chọn làm tư vấn lập\n",
      "danh mục và xây dựng cấu hình, tính năng kỹ thuật trang thiết bị y tế theo quy định.\n",
      "0.9336003\n",
      "\n",
      "\n",
      "Ngoài ra, Thông tư số 14/2023/TT-BYT ngày 30/6/2023 của Bộ trưởng Bộ Y tế ban hành\n",
      "quy định trình tự, thủ tục xây dựng giá gói thầu mua sắm hàng hóa và cung cấp dịch vụ\n",
      "thuộc lĩnh vực trang thiết bị y tế tại các cơ sở y tế công lập có hiệu lực từ ngày 1/7/2023\n",
      "đến ngày 31/12/2023, nhưng đến nay Bộ Y tế vẫn chưa ban hành Thông tư mới để thay\n",
      "thế, dẫn đến các chủ đầu tư gặp vướng mắc trong việc lập các gói thầu mua sắm trang\n",
      "thiết bị y tế. Answer:\n",
      "Bộ Y tế trả lời vấn đề này như sau:Thực hiện theo quy định tại Điểm b Khoản 2 Điều 54\n",
      "Nghị định số98/2021/NĐ-CPcủa Chính phủ về quản lý trang thiết bị y tế; hiện nay, Bộ Y\n",
      "tế (Cục Cơ sở hạ tầng và thiết bị y tế) đã tiếp nhận và công bố danh sách các cá nhân\n",
      "đủ điều kiện tư vấn về kỹ thuật trang thiết bị y tế trên Cổng Thông tin điện tử về quản\n",
      "lý trang thiết bị y tế (https://dmec.moh.gov.vn/).Để có thể tra cứu thông tin, đề nghị\n",
      "thực hiện theo các bước sau:- Truy cập vào Cổng Thông tin điện tử về quản lý trang\n",
      "thiết bị y tế (https://dmec.moh.gov.vn/);- Click vào module \"Kết quả dịch vụ công\";- Vào\n",
      "ô tìm kiếm gõ \"TVKT\" (Viết tắt của Tư vấn kỹ thuật);- Click vào ô \"Tìm kiếm\" và xem xét\n",
      "0.91322136\n",
      "\n",
      "\n",
      "các bậc năng lực Bậc 1, Bậc 2, Bậc 3, Bậc 4, Bậc 5, Bậc 6, tương đương với 6 bậc A1,\n",
      "A2,  B1,  B2,  C1,  C2  theo  Khung  tham  chiếu  châu  Âu  (CEFR).Theo  Quyết  định\n",
      "số1400/QĐ-TTgngày 30/9/2008 của Thủ tướng Chính phủ phê duyệt Đề án “Dạy và học\n",
      "ngoại  ngữ  trong  hệ  thống  giáo  dục  quốc  dân  giai  đoạn  2008-2020”  và  Công  văn  số\n",
      "792/BGDĐT-NGCBQLGD ngày 25/2/2014 về việc hướng dẫn thực hiện yêu cầu cơ bản về\n",
      "năng lực giáo viên tiếng Anh phổ thông của Bộ Giáo dục và Đào tạo, giáo viên tiếng Anh\n",
      "Tiểu học và THCS cần có trình độ tiếng Anh bậc 4, giáo viên tiếng Anh THPT và cao\n",
      "đẳng, đại học cần có trình độ tiếng Anh bậc 5 theo Khung năng lực ngoại ngữ 6 bậc\n",
      "dành  cho  Việt  Nam.Về  hạn  sử  dụng  của  các  chứng  chỉ  ngoại  ngữ,  Công  văn  số\n",
      "3755/BGDĐT-GDTX ngày 3/8/2016 của Bộ Giáo dục và Đào tạo đã chỉ rõ: “việc chấp\n",
      "nhận  chứng  chỉ/chứng  nhận  năng  lực  ngoại  ngữ  nào  và  thời  hạn  áp  dụng  của  chứng\n",
      "chỉ/chứng nhận là do Chủ tịch Ủy ban nhân dân tỉnh/thành phố trực thuộc Trung ương\n",
      "hoặc Giám đốc Sở Giáo dục và Đào tạo (nếu được Chủ tịch Ủy ban nhân dân tỉnh/thành\n",
      "phố trực thuộc Trung ương ủy quyền) xem xét, quyết định dựa theo yêu cầu về năng lực\n",
      "ngoại ngữ đối với vị trí công việc”.Sở GDĐT yêu cầu cụ thể về chứng chỉ ngoại ngữCác\n",
      "Chương trình đào tạo giáo viên ngoại ngữ của các trường đại học, cao đẳng chuyên ngữ\n",
      "hiện tại phần lớn đã tuyên bố chuẩn đầu ra (sinh viên tốt nghiệp các trường cao đẳng\n",
      "chuyên ngữ đạt trình độ ngoại ngữ bậc 4, tốt nghiệp các trường đại học chuyên ngữ đạt\n",
      "trình độ bậc 5).Tuy nhiên yêu cầu về chứng chỉ ngoại ngữ đối với giáo viên công tác\n",
      "hoặc với các giáo viên đang trong quá trình tuyển dụng là yêu cầu cụ thể của các Sở\n",
      "Giáo dục và Đào tạo. Giáo viên đang công tác hoặc đang dự tuyển dụng tại một cơ sở\n",
      "giáo dục và đào tạo cụ thể cần tìm hiểu thông tin về yêu cầu của cơ quan quản lý trực\n",
      "tiếp hoặc cơ quan tuyển dụng để đáp ứng được yêu cầu cụ thể của cơ quan này.Giáo\n",
      "viên đang giảng dạy tiếng Anh tại các trường phổ thông mà chưa có chứng chỉ tiếng\n",
      "Anh theo Khung năng lực ngoại ngữ 6 bậc dành cho Việt Nam có thể liên hệ với Sở Giáo\n",
      "dục  và  Đào  tạo  của  địa  phương  mình  để  hỏi  thông  tin  cụ  thể  về  yêu  cầu  có  chứng\n",
      "0.88779795\n",
      "\n",
      "\n",
      "Hiện tôi được bố trí làm việc tại Trường Mầm non phụ trách công tác an toàn vệ\n",
      "sinh thực phẩm và dinh dưỡng tiết chế, với tính chất công việc và trách nhiệm giống\n",
      "như khi làm việc tại cơ sở y tế. Tuy nhiên tôi được xếp vào ngạch chuyên viên 01.003,\n",
      "không phải ngạch kỹ sư 13.095 đúng như trên bằng tốt nghiệp Đại học. Vậy mã ngạch\n",
      "của tôi như vậy có đúng không, tôi có được hưởng phụ cấp ưu đãi nghề không ? Answer:\n",
      "Bộ  Y  tế  trả  lời  vấn  đề  này  như  sau:Thông  tư  liên  tịch  số  02/2012/TTLT-BYT-BNV-BTC\n",
      "ngày 19/1/2012 của Bộ Y tế, Bộ Nội vụ, Bộ Tài chính hướng dẫn thực hiện Nghị định số\n",
      "56/2011/NĐ-CP ngày 4/7/2011 của Chính phủ quy định chế độ phụ cấp ưu đãi theo nghề\n",
      "đối với công chức, viên chức công tác tại các cơ sở y tế công lập có quy định:Viên chức\n",
      "làm công tác chuyên môn y tế tại cơ quan, đơn vị, trường học thì thủ trưởng đơn vị căn\n",
      "cứ vào đặc thù công việc và nguồn thu để xem xét, quyết định nhưng không vượt quá\n",
      "mức 20% so với mức lương ngạch, bậc hiện hưởng cộng phụ cấp chức vụ lãnh đạo, phụ\n",
      "cấp thâm niên vượt khung (nếu có) của đối tượng được hưởng.Do thông tin câu hỏi chưa\n",
      "đầy đủ nên Bộ Y tế không thể trả lời cụ thể. Tuy nhiên, về nguyên tắc xếp ngạch lương\n",
      "0.8864107\n",
      "\n",
      "\n",
      "Đơn  vị  nào  có  thẩm  quyền  minh\n",
      "chứng khả năng này cho giáo viên? Answer:\n",
      "Bộ Giáo dục và Đào tạo trả lời vấn đề này như sau:Quy định về khả năng ứng dụng công\n",
      "nghệ thông tin và và khả năng sử dụng ngoại ngữ hoặc tiếng dân tộc thiểu số quy định\n",
      "tại Điểm g Khoản 4 Điều 3 Thông tư số02/2021/TT-BGDĐTđã được sửa đổi, bổ sung tại\n",
      "Khoản 1 Điều 2 Thông tư số08/2023/TT-BGDĐTngày 14/4/2023 của Bộ Giáo dục và Đào\n",
      "tạo  sửa  đổi,  bổ  sung  một  số  điều  của  các  Thông  tư  số  01,  02,  03,\n",
      "04/2021/TT-BGDĐT ngày  2/2/2021  của  Bộ  Giáo  dục  và  Đào  tạo  quy  định  mã  số,  tiêu\n",
      "chuẩn  chức  danh  nghề  nghiệp  (CDNN)  và  bổ  nhiệm,  xếp  lương  viên  chức  giảng  dạy\n",
      "trong các cơ sở giáo dục mầm non, phổ thông công lập. Cụ thể như sau:Có khả năng\n",
      "ứng dụng công nghệ thông tin trong hoạt động nghề nghiệp; có khả năng sử dụng ngoại\n",
      "ngữ hoặc sử dụng tiếng dân tộc thiểu số theo yêu cầu vị trí việc làm.Trường hợp bổ\n",
      "nhiệm  từ  hạng  CDNN  theo  quy  định  tại  Thông  tư  liên  tịch\n",
      "số21/2015/TTLT-BGDĐT-BNVsang hạng CDNN tương ứng theo quy định tại Thông tư số\n",
      "02/2021/TT-BGDĐT  thì  thực  hiện  theo  quy  định  tại  Khoản  7  Điều  2  Thông  tư  số\n",
      "0.8828604\n",
      "\n",
      "\n"
     ]
    }
   ],
   "source": [
    "for doc, score in found_docs:\n",
    "    print(doc.page_content)\n",
    "    print(score)\n",
    "    print(\"\\n\")"
   ]
  },
  {
   "cell_type": "markdown",
   "metadata": {},
   "source": [
    "# Score là dùng độ đo Cosine, score càng cao là càng match"
   ]
  },
  {
   "cell_type": "code",
   "execution_count": null,
   "metadata": {},
   "outputs": [],
   "source": []
  }
 ],
 "metadata": {
  "kernelspec": {
   "display_name": "Python 3",
   "language": "python",
   "name": "python3"
  },
  "language_info": {
   "codemirror_mode": {
    "name": "ipython",
    "version": 3
   },
   "file_extension": ".py",
   "mimetype": "text/x-python",
   "name": "python",
   "nbconvert_exporter": "python",
   "pygments_lexer": "ipython3",
   "version": "3.9.8"
  }
 },
 "nbformat": 4,
 "nbformat_minor": 2
}
