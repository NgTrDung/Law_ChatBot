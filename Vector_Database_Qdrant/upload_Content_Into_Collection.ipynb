{
 "cells": [
  {
   "cell_type": "code",
   "execution_count": 1,
   "metadata": {},
   "outputs": [],
   "source": [
    "# from qdrant_client import QdrantClient\n",
    "\n",
    "# qdrant_client = QdrantClient(\n",
    "#     url=\"https://94196bc2-437a-4f44-b888-f97f8a23a8e8.us-east4-0.gcp.cloud.qdrant.io:6333\", \n",
    "#     api_key=\"<your-token>\",\n",
    "# )\n",
    "\n",
    "# print(qdrant_client.get_collections())"
   ]
  },
  {
   "cell_type": "code",
   "execution_count": 2,
   "metadata": {},
   "outputs": [],
   "source": [
    "from langchain_experimental.text_splitter import SemanticChunker"
   ]
  },
  {
   "cell_type": "code",
   "execution_count": 3,
   "metadata": {},
   "outputs": [
    {
     "data": {
      "text/plain": [
       "True"
      ]
     },
     "execution_count": 3,
     "metadata": {},
     "output_type": "execute_result"
    }
   ],
   "source": [
    "import os\n",
    "from dotenv import load_dotenv\n",
    "\n",
    "load_dotenv()"
   ]
  },
  {
   "cell_type": "code",
   "execution_count": 4,
   "metadata": {},
   "outputs": [],
   "source": [
    "API_GEMINI = os.getenv(\"API_GEMINI\")\n",
    "MODEL_GEMINI = os.getenv(\"MODEL_GEMINI\")\n",
    "MODEL_GEMINI_EMBEDDING = os.getenv(\"MODEL_GEMINI_EMBEDDING\")\n",
    "\n",
    "URL_QDRANT = os.getenv('URL_QDRANT')\n",
    "API_QDRANT = os.getenv('API_QDRANT')\n",
    "COLLECTION_NAME_COMMON_DB=os.getenv(\"COLLECTION_NAME_COMMON_DB\")\n",
    "CONTENT_PAYLOAD_KEY=os.getenv(\"CONTENT_PAYLOAD_KEY\")\n",
    "METADATA_PAYLOAD_KEY=os.getenv(\"METADATA_PAYLOAD_KEY\")\n",
    "\n",
    "BREAKPOINT_THRESHOLD_TYPE = os.getenv(\"BREAKPOINT_THRESHOLD_TYPE\")"
   ]
  },
  {
   "cell_type": "code",
   "execution_count": 5,
   "metadata": {},
   "outputs": [],
   "source": [
    "# def upload_pdf(file_path, user_id):\n",
    "#     try:\n",
    "#         open_ai_embeddings = OpenAIEmbeddings(api_key=API_GPT, model=MODEL_OPENAI_EMBEDDING)\n",
    "#         text_splitter = SemanticChunker(embeddings=open_ai_embeddings, breakpoint_threshold_type=BREAKPOINT_THRESHOLD_TYPE)\n",
    "        \n",
    "#         raw_documents = PyPDFLoader(file_path).load()\n",
    "#         docs = text_splitter.split_documents(raw_documents)\n",
    "\n",
    "#         Qdrant.from_documents(\n",
    "#             documents=docs,\n",
    "#             embedding=open_ai_embeddings,\n",
    "#             url=URL_QDRANT,\n",
    "#             collection_name=user_id,\n",
    "#             content_payload_key= CONTENT_PAYLOAD_KEY,\n",
    "#             metadata_payload_key=METADATA_PAYLOAD_KEY\n",
    "#         )\n",
    "\n",
    "        # return True\n",
    "#     except:\n",
    "#         return False"
   ]
  },
  {
   "cell_type": "code",
   "execution_count": 6,
   "metadata": {},
   "outputs": [],
   "source": [
    "from langchain_google_genai import GoogleGenerativeAIEmbeddings\n",
    "from langchain_community.document_loaders import PyPDFLoader\n",
    "from langchain_qdrant import Qdrant"
   ]
  },
  {
   "cell_type": "code",
   "execution_count": 7,
   "metadata": {},
   "outputs": [],
   "source": [
    "google_AI_Embedding = GoogleGenerativeAIEmbeddings(google_api_key = API_GEMINI, model = MODEL_GEMINI_EMBEDDING)\n",
    "text_splitter = SemanticChunker(embeddings = google_AI_Embedding, breakpoint_threshold_type = BREAKPOINT_THRESHOLD_TYPE)\n",
    "\n",
    "file_PDF = r'data\\vanbanvppl.pdf'\n",
    "raw_documents = PyPDFLoader(file_PDF).load()"
   ]
  },
  {
   "cell_type": "code",
   "execution_count": 8,
   "metadata": {},
   "outputs": [],
   "source": [
    "from langchain_qdrant import QdrantVectorStore"
   ]
  },
  {
   "cell_type": "markdown",
   "metadata": {},
   "source": [
    "# Tạo 1 Collection mới"
   ]
  },
  {
   "cell_type": "code",
   "execution_count": 9,
   "metadata": {},
   "outputs": [],
   "source": [
    "# url = URL_QDRANT\n",
    "# api_key = API_QDRANT\n",
    "\n",
    "# docs = text_splitter.split_documents(raw_documents)\n",
    "\n",
    "# qdrant = QdrantVectorStore.from_documents(\n",
    "#     documents = docs,\n",
    "#     embedding = google_AI_Embedding,\n",
    "#     url=url,\n",
    "#     prefer_grpc=True,\n",
    "#     api_key=api_key,\n",
    "#     collection_name=COLLECTION_NAME_COMMON_DB,\n",
    "# )"
   ]
  },
  {
   "cell_type": "markdown",
   "metadata": {},
   "source": [
    "# Sử dụng Collection đã có"
   ]
  },
  {
   "cell_type": "code",
   "execution_count": 10,
   "metadata": {},
   "outputs": [],
   "source": [
    "qdrant = QdrantVectorStore.from_existing_collection(\n",
    "    embedding = google_AI_Embedding,\n",
    "    collection_name=COLLECTION_NAME_COMMON_DB,\n",
    "    url = URL_QDRANT,\n",
    "    api_key= API_QDRANT,\n",
    ")"
   ]
  },
  {
   "cell_type": "code",
   "execution_count": 11,
   "metadata": {},
   "outputs": [],
   "source": [
    "query = \"Nguyên tắc sử dụng đất?\"\n",
    "found_docs = qdrant.similarity_search_with_score(\n",
    "    query = query,\n",
    "    k = 5,\n",
    "    )"
   ]
  },
  {
   "cell_type": "code",
   "execution_count": 12,
   "metadata": {},
   "outputs": [
    {
     "data": {
      "text/plain": [
       "[(Document(page_content='Trường hợp tất cả người nhận thừa kế quyền sử dụng đất, quyền sở hữu nhà ở, tài sản khác \\ngắn liền với đất đều là người nước ngoài hoặc người gốc Việt Nam định cư ở nước ngoài không ', metadata={'page': 25, 'source': 'data\\\\vanbanvppl.pdf', '_id': 'debc3b58-7bdb-46c5-a1c8-b14689300cb0', '_collection_name': 'Common_Law_Database'}),\n",
       "  0.6579898),\n",
       " (Document(page_content='Nhà nước giao quyền sử dụng đất  (sau đây gọi là Nhà nước giao đất) là việc cơ quan nhà \\nnước có thẩm quyền ban hành quyết định giao đất cho đối tượng c ó nhu cầu sử dụng đất. ', metadata={'page': 2, 'source': 'data\\\\vanbanvppl.pdf', '_id': 'ebfd01ee-0fc0-4fc8-aab4-df22c86be496', '_collection_name': 'Common_Law_Database'}),\n",
       "  0.6542587),\n",
       " (Document(page_content='Đất đang có tranh chấp là thửa đất có tranh chấp đất đai mà đang trong quá trình được cơ \\nquan có thẩm quyền giải quyết. 17. Điều chỉnh thời hạn sử dụng đất  là việc cơ quan n hà nước có thẩm quyền cho phép thay đổi \\nthời hạn sử dụng đất trong quá trình sử dụng đất. 18. Gia hạn sử dụng đất  là việc cơ quan nhà nước có thẩm quyền cho phép tiếp tục sử dụng đất \\nkhi hết thời hạn theo mục đích đang sử dụng theo quy định của Luật này. 19. Giá đất  là giá trị của quyền sử dụng đất tính bằng tiền trên một đơn vị diện tích đất. 20. Giá trị quyền sử dụng đất  là giá trị bằng tiền của quyền sử dụng đất đối với một diện tích đất, \\nloại đất tại thời điểm được xác định với thời hạn sử dụng đã được xác định. 21. Giấy chứng nhận quyền sử dụng đất, quyền sở hữu tài sản gắn liền với đất  là chứng thư pháp \\nlý để Nhà nước xác nhận quyền sử dụng đất, quyền sở hữu tài sản gắn liền với đất hợp pháp của \\nngười có quyền sử dụng đất, quyền sở hữu tài sản gắn liền  với đất. Tài sản gắn liền với đất được \\ncấp Giấy chứng nhận quyền sử dụng đất, quyền sở hữu tài sản gắn liền với đất là nhà ở, công ', metadata={'page': 1, 'source': 'data\\\\vanbanvppl.pdf', '_id': '8a3322bd-a980-46c2-9639-7d644682cadf', '_collection_name': 'Common_Law_Database'}),\n",
       "  0.6494669),\n",
       " (Document(page_content='Người sử dụng đất. 3. Các đối tượng khác có liên quan đến việc quản lý, sử dụng đất đai. Điều 3. Giải thích từ ngữ  \\nTrong Luật này, các từ ngữ dưới đây được hiểu như sau:  \\n1. Bản đồ địa chính  là bản đồ thể hiện cá c thửa đất và các đối tượng địa lý có liên quan, lập theo \\nđơn vị hành chính cấp xã hoặc theo đơn vị hành chính cấp huyện nơi không thành lập đơn vị \\nhành chính cấp xã, được cơ quan nhà nước có thẩm quyền xác nhận. 2. Bản đồ hiện trạng sử dụng đất  là bản đồ thể hiện sự phân bố các loại đất tại một thời điểm xác \\nđịnh, được lập theo từng đơn vị hành chính các cấp, theo từng vùng kinh tế - xã hội. 3. Bản đồ quy hoạch sử dụng đất  là bản đồ được lập tại thời điểm đầu kỳ quy hoạch, thể hiện nội \\ndung phân bố các loạ i đất tại thời điểm cuối kỳ quy hoạch của quy hoạch đó. 4. Bảo vệ, cải tạo, phục hồi đất  là việc áp dụng các biện pháp quản lý, kỹ thuật, cơ giới, sinh học, \\nhữu cơ tác động vào đất để xử lý đất bị ô nhiễm, phục hồi đất bị thoái hóa. 5. Bồi thường về đất  là việc Nhà nước trả lại giá trị quyền sử dụng đất của diện tích đất thu hồi \\ncho người có đất thu hồi.', metadata={'page': 0, 'source': 'data\\\\vanbanvppl.pdf', '_id': 'a9ac7f8e-ccf2-4e75-a114-88b1eef28de8', '_collection_name': 'Common_Law_Database'}),\n",
       "  0.64887524),\n",
       " (Document(page_content='Nhóm đất chưa sử dụng là đất chưa xác định mục đích sử dụng và chưa giao, chưa cho thuê. ', metadata={'page': 6, 'source': 'data\\\\vanbanvppl.pdf', '_id': '2ce4ec28-e8c8-4fe0-bc81-e0830a3e7feb', '_collection_name': 'Common_Law_Database'}),\n",
       "  0.6443975)]"
      ]
     },
     "execution_count": 12,
     "metadata": {},
     "output_type": "execute_result"
    }
   ],
   "source": [
    "found_docs"
   ]
  },
  {
   "cell_type": "code",
   "execution_count": 13,
   "metadata": {},
   "outputs": [
    {
     "name": "stdout",
     "output_type": "stream",
     "text": [
      "Trường hợp tất cả người nhận thừa kế quyền sử dụng đất, quyền sở hữu nhà ở, tài sản khác \n",
      "gắn liền với đất đều là người nước ngoài hoặc người gốc Việt Nam định cư ở nước ngoài không \n",
      "\n",
      "\n",
      "0.6579898\n",
      "Nhà nước giao quyền sử dụng đất  (sau đây gọi là Nhà nước giao đất) là việc cơ quan nhà \n",
      "nước có thẩm quyền ban hành quyết định giao đất cho đối tượng c ó nhu cầu sử dụng đất. \n",
      "\n",
      "\n",
      "0.6542587\n",
      "Đất đang có tranh chấp là thửa đất có tranh chấp đất đai mà đang trong quá trình được cơ \n",
      "quan có thẩm quyền giải quyết. 17. Điều chỉnh thời hạn sử dụng đất  là việc cơ quan n hà nước có thẩm quyền cho phép thay đổi \n",
      "thời hạn sử dụng đất trong quá trình sử dụng đất. 18. Gia hạn sử dụng đất  là việc cơ quan nhà nước có thẩm quyền cho phép tiếp tục sử dụng đất \n",
      "khi hết thời hạn theo mục đích đang sử dụng theo quy định của Luật này. 19. Giá đất  là giá trị của quyền sử dụng đất tính bằng tiền trên một đơn vị diện tích đất. 20. Giá trị quyền sử dụng đất  là giá trị bằng tiền của quyền sử dụng đất đối với một diện tích đất, \n",
      "loại đất tại thời điểm được xác định với thời hạn sử dụng đã được xác định. 21. Giấy chứng nhận quyền sử dụng đất, quyền sở hữu tài sản gắn liền với đất  là chứng thư pháp \n",
      "lý để Nhà nước xác nhận quyền sử dụng đất, quyền sở hữu tài sản gắn liền với đất hợp pháp của \n",
      "người có quyền sử dụng đất, quyền sở hữu tài sản gắn liền  với đất. Tài sản gắn liền với đất được \n",
      "cấp Giấy chứng nhận quyền sử dụng đất, quyền sở hữu tài sản gắn liền với đất là nhà ở, công \n",
      "\n",
      "\n",
      "0.6494669\n",
      "Người sử dụng đất. 3. Các đối tượng khác có liên quan đến việc quản lý, sử dụng đất đai. Điều 3. Giải thích từ ngữ  \n",
      "Trong Luật này, các từ ngữ dưới đây được hiểu như sau:  \n",
      "1. Bản đồ địa chính  là bản đồ thể hiện cá c thửa đất và các đối tượng địa lý có liên quan, lập theo \n",
      "đơn vị hành chính cấp xã hoặc theo đơn vị hành chính cấp huyện nơi không thành lập đơn vị \n",
      "hành chính cấp xã, được cơ quan nhà nước có thẩm quyền xác nhận. 2. Bản đồ hiện trạng sử dụng đất  là bản đồ thể hiện sự phân bố các loại đất tại một thời điểm xác \n",
      "định, được lập theo từng đơn vị hành chính các cấp, theo từng vùng kinh tế - xã hội. 3. Bản đồ quy hoạch sử dụng đất  là bản đồ được lập tại thời điểm đầu kỳ quy hoạch, thể hiện nội \n",
      "dung phân bố các loạ i đất tại thời điểm cuối kỳ quy hoạch của quy hoạch đó. 4. Bảo vệ, cải tạo, phục hồi đất  là việc áp dụng các biện pháp quản lý, kỹ thuật, cơ giới, sinh học, \n",
      "hữu cơ tác động vào đất để xử lý đất bị ô nhiễm, phục hồi đất bị thoái hóa. 5. Bồi thường về đất  là việc Nhà nước trả lại giá trị quyền sử dụng đất của diện tích đất thu hồi \n",
      "cho người có đất thu hồi.\n",
      "\n",
      "\n",
      "0.64887524\n",
      "Nhóm đất chưa sử dụng là đất chưa xác định mục đích sử dụng và chưa giao, chưa cho thuê. \n",
      "\n",
      "\n",
      "0.6443975\n"
     ]
    }
   ],
   "source": [
    "for doc, score in found_docs:\n",
    "    print(doc.page_content)\n",
    "    print('\\n')\n",
    "    print(score)"
   ]
  },
  {
   "cell_type": "markdown",
   "metadata": {},
   "source": [
    "# Score là dùng độ đo Cosine, score càng thấp là càng match"
   ]
  },
  {
   "cell_type": "code",
   "execution_count": null,
   "metadata": {},
   "outputs": [],
   "source": []
  }
 ],
 "metadata": {
  "kernelspec": {
   "display_name": "Python 3",
   "language": "python",
   "name": "python3"
  },
  "language_info": {
   "codemirror_mode": {
    "name": "ipython",
    "version": 3
   },
   "file_extension": ".py",
   "mimetype": "text/x-python",
   "name": "python",
   "nbconvert_exporter": "python",
   "pygments_lexer": "ipython3",
   "version": "3.9.8"
  }
 },
 "nbformat": 4,
 "nbformat_minor": 2
}
