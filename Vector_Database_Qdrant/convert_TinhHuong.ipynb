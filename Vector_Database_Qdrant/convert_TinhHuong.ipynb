{
 "cells": [
  {
   "cell_type": "markdown",
   "metadata": {},
   "source": [
    "# 1. Thư viện"
   ]
  },
  {
   "cell_type": "code",
   "execution_count": 1,
   "metadata": {},
   "outputs": [],
   "source": [
    "import pandas as pd\n",
    "import re\n",
    "import json"
   ]
  },
  {
   "cell_type": "markdown",
   "metadata": {},
   "source": [
    "# 2. Load File"
   ]
  },
  {
   "cell_type": "code",
   "execution_count": 2,
   "metadata": {},
   "outputs": [],
   "source": [
    "df_1 = pd.read_csv(r'data\\tinh_huong\\csv\\bhxh_bhyt_bhtn_data.csv')\n",
    "df_2 = pd.read_csv(r'data\\tinh_huong\\csv\\chinhsach_nguoicocong_data.csv')\n",
    "df_3 = pd.read_csv(r'data\\tinh_huong\\csv\\giaoduc_daotao_yte_data.csv')\n",
    "df_4 = pd.read_csv(r'data\\tinh_huong\\csv\\giaothong_xaydung_tainguyen_moitruong_data.csv')\n",
    "df_5 = pd.read_csv(r'data\\tinh_huong\\csv\\laodong_tienthuong_data.csv')\n",
    "df_6 = pd.read_csv(r'data\\tinh_huong\\csv\\linhvuckhac_data.csv')\n",
    "df_7 = pd.read_csv(r'data\\tinh_huong\\csv\\taichinh_nganhang_dautu_congthuong_data.csv')"
   ]
  },
  {
   "cell_type": "markdown",
   "metadata": {},
   "source": [
    "# 3. Tạo file JSON lưu data đã được xử lý để lưu trữ lên Qdrant"
   ]
  },
  {
   "cell_type": "markdown",
   "metadata": {},
   "source": [
    "## 3.1. File page_content"
   ]
  },
  {
   "cell_type": "code",
   "execution_count": 3,
   "metadata": {},
   "outputs": [],
   "source": [
    "# Tạo danh sách các dataframe\n",
    "dfs = [df_1, df_2, df_3, df_4, df_5, df_6, df_7]\n",
    "\n",
    "# Tạo list để chứa tất cả các câu hỏi\n",
    "questions_list = []"
   ]
  },
  {
   "cell_type": "code",
   "execution_count": 4,
   "metadata": {},
   "outputs": [
    {
     "name": "stdout",
     "output_type": "stream",
     "text": [
      "File JSON 'page_content' đã được lưu với định dạng đẹp!\n"
     ]
    }
   ],
   "source": [
    "# Lặp qua từng dataframe và lấy cột 'Question'\n",
    "for df in dfs:\n",
    "    if 'Question' in df.columns:\n",
    "        # Nối list từ dataframe vào list chung\n",
    "        questions_list.extend(df['Question'].tolist())\n",
    "\n",
    "# Lưu list vào file JSON với định dạng đẹp\n",
    "with open(r'data\\tinh_huong\\json\\page_content.json', 'w', encoding='utf-8') as f:\n",
    "    json.dump(questions_list, f, ensure_ascii=False, indent=4)\n",
    "\n",
    "print(\"File JSON 'page_content' đã được lưu với định dạng đẹp!\")"
   ]
  },
  {
   "cell_type": "code",
   "execution_count": 5,
   "metadata": {},
   "outputs": [],
   "source": [
    "# # Lấy cột 'Question'\n",
    "# page_content = df['Question']\n",
    "\n",
    "# # Chuyển cột 'Question' thành list\n",
    "# page_content_list = page_content.tolist()\n",
    "\n",
    "# # Lưu list vào file JSON với định dạng đẹp\n",
    "# with open(r'data\\tinh_huong\\json\\page_content.json', 'w', encoding='utf-8') as f:\n",
    "#     json.dump(page_content_list, f, ensure_ascii=False, indent=4)\n",
    "\n",
    "# print(\"File JSON 'page_content' đã được lưu với định dạng đẹp!\")"
   ]
  },
  {
   "cell_type": "markdown",
   "metadata": {},
   "source": [
    "## 3.2. File metadata"
   ]
  },
  {
   "cell_type": "markdown",
   "metadata": {},
   "source": [
    "### 3.2.1. Tách từng 'Question' thành key word"
   ]
  },
  {
   "cell_type": "code",
   "execution_count": 6,
   "metadata": {},
   "outputs": [],
   "source": [
    "# Hàm để xử lý cột 'Question'\n",
    "def process_question(question):\n",
    "    # Chuyển thành chữ thường\n",
    "    question = question.lower()\n",
    "    # Loại bỏ các ký tự đặc biệt và dấu câu (chỉ giữ lại chữ và khoảng trắng)\n",
    "    question = re.sub(r'[^\\w\\s]', '', question)\n",
    "    # Tách câu thành danh sách các từ\n",
    "    words = question.split()\n",
    "    return words"
   ]
  },
  {
   "cell_type": "markdown",
   "metadata": {},
   "source": [
    "### 3.2.2. Tạo File metadata.json"
   ]
  },
  {
   "cell_type": "code",
   "execution_count": 7,
   "metadata": {},
   "outputs": [],
   "source": [
    "# Tạo danh sách các dataframe và topic tương ứng\n",
    "dfs = [\n",
    "    (df_1, 'bhxh_bhyt_bhtn'),\n",
    "    (df_2, 'chinhsach_nguoicocong'),\n",
    "    (df_3, 'giaoduc_daotao_yte'),\n",
    "    (df_4, 'giaothong_xaydung_tainguyen_moitruong'),\n",
    "    (df_5, 'laodong_tienthuong'),\n",
    "    (df_6, 'linhvuckhac'),\n",
    "    (df_7, 'taichinh_nganhang_dautu_congthuong')\n",
    "]\n",
    "\n",
    "# Tạo list để chứa dữ liệu của từng dataframe\n",
    "metadata = []"
   ]
  },
  {
   "cell_type": "code",
   "execution_count": 8,
   "metadata": {},
   "outputs": [],
   "source": [
    "# Lặp qua từng dataframe và topic tương ứng\n",
    "for df, topic in dfs:\n",
    "    if 'Question' in df.columns and 'Answer' in df.columns:\n",
    "        # Xử lý cột 'key_word' từ cột 'Question'\n",
    "        df['key_word'] = df['Question'].apply(process_question)\n",
    "        \n",
    "        # Thêm từng bản ghi vào metadata list\n",
    "        for _, row in df.iterrows():\n",
    "            metadata.append({\n",
    "                'key_word': row['key_word'],  # Lấy dữ liệu từ cột 'key_word'\n",
    "                'context': row['Answer'],     # Lấy dữ liệu từ cột 'Answer'\n",
    "                'topic': topic                # Gán topic tương ứng\n",
    "            })"
   ]
  },
  {
   "cell_type": "code",
   "execution_count": 9,
   "metadata": {},
   "outputs": [
    {
     "name": "stdout",
     "output_type": "stream",
     "text": [
      "File JSON 'metadata.json' đã được lưu với định dạng đẹp!\n"
     ]
    }
   ],
   "source": [
    "# Lưu list vào file JSON với định dạng đẹp\n",
    "with open(r'data\\tinh_huong\\json\\metadata.json', 'w', encoding='utf-8') as f:\n",
    "    json.dump(metadata, f, ensure_ascii=False, indent=4)\n",
    "\n",
    "print(\"File JSON 'metadata.json' đã được lưu với định dạng đẹp!\")"
   ]
  },
  {
   "cell_type": "code",
   "execution_count": 10,
   "metadata": {},
   "outputs": [],
   "source": [
    "# # Gộp cột 'Situation' và 'Answer'\n",
    "# df['context'] = df['Situation'] + '\\n' + df['Answer']\n",
    "\n",
    "# # Bạn có thể in thử để kiểm tra\n",
    "# display(df[['Situation', 'Answer', 'context']].head())\n"
   ]
  },
  {
   "cell_type": "code",
   "execution_count": 11,
   "metadata": {},
   "outputs": [],
   "source": [
    "# # Tách cột 'Question' thành danh sách các từ\n",
    "# df['key_word'] = df['Question'].apply(lambda x: re.findall(r'\\b\\w+\\b', x.lower()))\n",
    "\n",
    "# # In thử để kiểm tra\n",
    "# display(df[['Question', 'key_word']].head())"
   ]
  },
  {
   "cell_type": "code",
   "execution_count": 12,
   "metadata": {},
   "outputs": [],
   "source": [
    "# # Chọn cột 'key_word' và 'context'\n",
    "# metadata = df[['key_word', 'context']]\n",
    "\n",
    "# # Chuyển DataFrame thành list các từ điển\n",
    "# metadata_list = metadata.to_dict(orient='records')\n",
    "\n",
    "# # Lưu ra file JSON với định dạng đẹp\n",
    "# with open(r'data\\tinh_huong\\json\\metadata.json', 'w', encoding='utf-8') as f:\n",
    "#     json.dump(metadata_list, f, ensure_ascii=False, indent=4)\n",
    "\n",
    "# print(\"File JSON đã được lưu với định dạng đẹp!\")"
   ]
  },
  {
   "cell_type": "code",
   "execution_count": 13,
   "metadata": {},
   "outputs": [],
   "source": [
    "# # Tạo một danh sách để chứa các mục\n",
    "# output_list = []"
   ]
  },
  {
   "cell_type": "code",
   "execution_count": 14,
   "metadata": {},
   "outputs": [],
   "source": [
    "# # Lặp qua từng hàng trong dataframe\n",
    "# for index, row in df.iterrows():\n",
    "#     # Tạo dictionary cho mỗi hàng với cấu trúc mong muốn\n",
    "#     item = {\n",
    "#         'question': f\"{row['Question']}\",\n",
    "#         'answer': f\"{row['Situation']}\\n{row['Answer']}\"\n",
    "#     }\n",
    "#     output_list.append(item)"
   ]
  },
  {
   "cell_type": "code",
   "execution_count": 15,
   "metadata": {},
   "outputs": [],
   "source": [
    "# # Ghi kết quả ra file JSON\n",
    "# with open(r'data\\tinh_huong\\json\\data_context.json', 'w', encoding='utf-8') as f:\n",
    "#     json.dump(output_list, f, ensure_ascii=False, indent=4)\n",
    "\n",
    "# print(\"File JSON đã được tạo thành công.\")"
   ]
  }
 ],
 "metadata": {
  "kernelspec": {
   "display_name": "Python 3",
   "language": "python",
   "name": "python3"
  },
  "language_info": {
   "codemirror_mode": {
    "name": "ipython",
    "version": 3
   },
   "file_extension": ".py",
   "mimetype": "text/x-python",
   "name": "python",
   "nbconvert_exporter": "python",
   "pygments_lexer": "ipython3",
   "version": "3.9.8"
  }
 },
 "nbformat": 4,
 "nbformat_minor": 2
}
