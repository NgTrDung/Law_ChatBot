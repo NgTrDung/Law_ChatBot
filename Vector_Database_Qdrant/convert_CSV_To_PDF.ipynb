{
 "cells": [
  {
   "cell_type": "code",
   "execution_count": 1,
   "metadata": {},
   "outputs": [],
   "source": [
    "import pandas as pd"
   ]
  },
  {
   "cell_type": "code",
   "execution_count": 2,
   "metadata": {},
   "outputs": [],
   "source": [
    "url = r'data\\tinh_huong\\giaoduc_daotao_yte_data.csv'\n",
    "\n",
    "df_giaoduc_daotao_yte = pd.read_csv(url)"
   ]
  },
  {
   "cell_type": "code",
   "execution_count": 3,
   "metadata": {},
   "outputs": [
    {
     "name": "stderr",
     "output_type": "stream",
     "text": [
      "d:\\Download_Python\\lib\\site-packages\\fpdf\\__init__.py:39: UserWarning: You have both PyFPDF & fpdf2 installed. Both packages cannot be installed at the same time as they share the same module namespace. To only keep fpdf2, run: pip uninstall --yes pypdf && pip install --upgrade fpdf2\n",
      "  warnings.warn(\n"
     ]
    }
   ],
   "source": [
    "from fpdf import FPDF"
   ]
  },
  {
   "cell_type": "code",
   "execution_count": 4,
   "metadata": {},
   "outputs": [],
   "source": [
    "# Chọn các cột cần thiết\n",
    "df_selected = df_giaoduc_daotao_yte[['Situation', 'Answer']]"
   ]
  },
  {
   "cell_type": "code",
   "execution_count": 5,
   "metadata": {},
   "outputs": [],
   "source": [
    "# Tạo lớp kế thừa từ FPDF để tạo PDF\n",
    "class PDF(FPDF):\n",
    "    def chapter_title(self, title):\n",
    "        self.set_font('Tahoma-Bold', '', 12)\n",
    "        self.cell(0, 10, title, 0, 1, 'L')\n",
    "    \n",
    "    def chapter_body(self, body):\n",
    "        self.set_font('Tahoma', '', 12)\n",
    "        self.multi_cell(0, 10, body)\n",
    "        self.ln(1)  # Thêm khoảng cách nhỏ sau nội dung\n",
    "\n",
    "    def add_question(self, situation, answer):\n",
    "        self.add_page()\n",
    "        self.chapter_title('Situation:')\n",
    "        self.chapter_body(situation)\n",
    "        self.chapter_title('Answer:')\n",
    "        self.chapter_body(answer)"
   ]
  },
  {
   "cell_type": "code",
   "execution_count": 6,
   "metadata": {},
   "outputs": [
    {
     "name": "stderr",
     "output_type": "stream",
     "text": [
      "C:\\Users\\ADMIN\\AppData\\Local\\Temp\\ipykernel_3280\\1722899250.py:3: DeprecationWarning: \"uni\" parameter is deprecated since v2.5.1, unused and will soon be removed\n",
      "  pdf.add_font('Tahoma', '', r'C:\\Windows\\Fonts\\TAHOMA.TTF', uni=True)  # Thêm font Unicode Tahoma\n",
      "C:\\Users\\ADMIN\\AppData\\Local\\Temp\\ipykernel_3280\\1722899250.py:4: DeprecationWarning: \"uni\" parameter is deprecated since v2.5.1, unused and will soon be removed\n",
      "  pdf.add_font('Tahoma-Bold', '', r'C:\\Windows\\Fonts\\TAHOMABD.TTF', uni=True)  # Thêm font Unicode Tahoma Bold\n"
     ]
    }
   ],
   "source": [
    "# Tạo đối tượng PDF\n",
    "pdf = PDF()\n",
    "pdf.add_font('Tahoma', '', r'C:\\Windows\\Fonts\\TAHOMA.TTF', uni=True)  # Thêm font Unicode Tahoma\n",
    "pdf.add_font('Tahoma-Bold', '', r'C:\\Windows\\Fonts\\TAHOMABD.TTF', uni=True)  # Thêm font Unicode Tahoma Bold\n",
    "pdf.set_left_margin(10)\n",
    "pdf.set_right_margin(10)"
   ]
  },
  {
   "cell_type": "code",
   "execution_count": 7,
   "metadata": {},
   "outputs": [
    {
     "name": "stderr",
     "output_type": "stream",
     "text": [
      "C:\\Users\\ADMIN\\AppData\\Local\\Temp\\ipykernel_3280\\3027552601.py:5: DeprecationWarning: The parameter \"ln\" is deprecated since v2.5.2. Instead of ln=1 use new_x=XPos.LMARGIN, new_y=YPos.NEXT.\n",
      "  self.cell(0, 10, title, 0, 1, 'L')\n",
      "C:\\Users\\ADMIN\\AppData\\Local\\Temp\\ipykernel_3280\\1648493395.py:7: DeprecationWarning: \"dest\" parameter is deprecated since v2.2.0, unused and will soon be removed\n",
      "  pdf.output(output_path, 'F')\n"
     ]
    },
    {
     "name": "stdout",
     "output_type": "stream",
     "text": [
      "File PDF đã được lưu tại: data/tinh_huong/output.pdf\n"
     ]
    }
   ],
   "source": [
    "# Thêm dữ liệu vào PDF\n",
    "for index, row in df_selected.iterrows():\n",
    "    pdf.add_question(row['Situation'], row['Answer'])\n",
    "\n",
    "# Lưu file PDF\n",
    "output_path = r'data/tinh_huong/output.pdf'\n",
    "pdf.output(output_path, 'F')\n",
    "\n",
    "print(f\"File PDF đã được lưu tại: {output_path}\")\n"
   ]
  }
 ],
 "metadata": {
  "kernelspec": {
   "display_name": "Python 3",
   "language": "python",
   "name": "python3"
  },
  "language_info": {
   "codemirror_mode": {
    "name": "ipython",
    "version": 3
   },
   "file_extension": ".py",
   "mimetype": "text/x-python",
   "name": "python",
   "nbconvert_exporter": "python",
   "pygments_lexer": "ipython3",
   "version": "3.9.8"
  }
 },
 "nbformat": 4,
 "nbformat_minor": 2
}
