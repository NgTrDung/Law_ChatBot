{
 "cells": [
  {
   "cell_type": "code",
   "execution_count": 1,
   "metadata": {},
   "outputs": [
    {
     "name": "stdout",
     "output_type": "stream",
     "text": [
      "Giá trị combine_Article_Content có số lượng tokens nhiều nhất:\n",
      "Điều 210. Quy định chuyển tiếp\n",
      "1. Tổ chức tín dụng, chi nhánh ngân hàng nước ngoài, văn phòng đại diện nước ngoài đã thành lập và hoạt động theo Giấy phép do Ngân hàng Nhà nước cấp trước ngày Luật này có hiệu lực thi hành không phải đề nghị cấp lại Giấy phép theo quy định của Luật này. Trường hợp sửa đổi, bổ sung Giấy phép phải thực hiện theo quy định của Luật này.\n",
      "2. Hợp đồng, giao dịch khác, thỏa thuận được ký kết trước ngày Luật này có hiệu lực thi hành, tổ chức tín dụng, chi nhánh ngân hàng nước ngoài và khách hàng được tiếp tục thực hiện theo hợp đồng, giao dịch khác, thỏa thuận đã ký kết cho đến hết thời hạn của hợp đồng, giao dịch khác, thỏa thuận. Việc sửa đổi, bổ sung, gia hạn hợp đồng, giao dịch khác, thỏa thuận chỉ được thực hiện nếu nội dung sửa đổi, bổ sung, gia hạn phù hợp với quy định của Luật này, trừ trường hợp cơ cấu lại thời hạn trả nợ của hợp đồng, giao dịch khác, thỏa thuận cấp tín dụng thực hiện theo quy định của pháp luật về ngân hàng.\n",
      "Đối với hợp đồng, giao dịch khác, thỏa thuận không xác định thời hạn có nội dung không phù hợp với quy định của Luật này được ký kết trước ngày Luật này có hiệu lực thi hành, tổ chức tín dụng, chi nhánh ngân hàng nước ngoài và khách hàng được tiếp tục thực hiện đến hết ngày 30 tháng 6 năm 2025. Sau thời điểm này, tổ chức tín dụng, chi nhánh ngân hàng nước ngoài và khách hàng phải thực hiện chấm dứt hoặc sửa đổi, bổ sung hợp đồng, giao dịch khác, thoả thuận bảo đảm phù hợp với quy định của Luật này.\n",
      "3. Tổ chức tín dụng được kiểm soát đặc biệt có khoản vay đặc biệt từ Ngân hàng Nhà nước đến ngày Luật này có hiệu lực thi hành còn dư nợ và chưa có phương án cơ cấu lại được phê duyệt thì các bên được tiếp tục thực hiện theo hợp đồng vay đặc biệt đã ký và được xem xét gia hạn vay đặc biệt theo quy định của Thống đốc Ngân hàng Nhà nước.\n",
      "4. Kỳ phiếu, tín phiếu đã phát hành còn số dư đến ngày Luật này có hiệu lực thi hành, tổ chức tín dụng, chi nhánh ngân hàng nước ngoài và người mua kỳ phiếu, tín phiếu tiếp tục thực hiện theo các nội dung đã thỏa thuận cho đến khi thanh toán hết kỳ phiếu, tín phiếu.\n",
      "5. Tổ chức tín dụng có các khoản góp vốn, mua cổ phần của doanh nghiệp, tổ chức tín dụng khác quy định tại điểm b khoản 5 Điều 137 của Luật này, công ty con của tổ chức tín dụng có các khoản góp vốn, mua cổ phần quy định tại khoản 5 Điều 137 của Luật này trước ngày Luật này có hiệu lực thi hành và cổ đông, cổ đông và người có liên quan tại ngân hàng thương mại sở hữu cổ phần vượt tỷ lệ quy định tại Điều 55 của Luật Các tổ chức tín dụng số 47/2010/QH12 đã được sửa đổi, bổ sung một số điều theo Luật số 17/2017/QH14 phải xây dựng và thực hiện lộ trình để bảo đảm tuân thủ các quy định tại Luật này theo quy định của Thống đốc Ngân hàng Nhà nước.\n",
      "6. Tài sản bảo đảm của khoản nợ xấu là dự án bất động sản đã được thu giữ theo quy định tại Điều 7 của Nghị quyết số 42/2017/QH14 về thí điểm xử lý nợ xấu của các tổ chức tín dụng (sau đây gọi là Nghị quyết số 42/2017/QH14) hoặc đang thực hiện thủ tục chuyển nhượng theo quy định tại Điều 10 của Nghị quyết số 42/2017/QH14 trước ngày Luật này có hiệu lực thi hành mà đến ngày Luật này có hiệu lực thi hành chưa xử lý xong thì được tiếp tục áp dụng quy định tại Điều 10 của Nghị quyết số 42/2017/QH14 từ ngày 01 tháng 01 năm 2024 cho đến khi xử lý xong.\n",
      "7. Lãi dự thu đã ghi nhận của khoản nợ xấu của tổ chức tín dụng chưa thoái theo quy định, chênh lệch giữa giá trị ghi sổ của khoản nợ đang hạch toán trong bảng cân đối kế toán với giá bán khoản nợ xấu và số tiền dự phòng cụ thể đã trích lập cho khoản nợ này đang được phân bổ theo quy định tại Điều 16 của Nghị quyết số 42/2017/QH14 được tiếp tục thực hiện theo quy định tại Điều 16 của Nghị quyết số 42/2017/QH14 từ ngày 01 tháng 01 năm 2024 cho đến hết ngày 14 tháng 8 năm 2027.\n",
      "8. Người quản lý, người điều hành và chức danh khác của tổ chức tín dụng, chi nhánh ngân hàng nước ngoài được bầu, bổ nhiệm trước ngày Luật này có hiệu lực thi hành mà không đáp ứng quy định tại các điều 41, 42 và 43 của Luật này được tiếp tục đảm nhiệm chức vụ đến hết nhiệm kỳ hoặc đến hết thời hạn được bầu, bổ nhiệm.\n",
      "Hội đồng quản trị của tổ chức tín dụng được bầu trước ngày Luật này có hiệu lực thi hành mà không đáp ứng quy định tại khoản 1 và khoản 3 Điều 69 của Luật này được tiếp tục hoạt động đến hết nhiệm kỳ Hội đồng quản trị.\n",
      "Đến ngày Luật này có hiệu lực thi hành, Hội đồng thành viên của tổ chức tín dụng là công ty trách nhiệm hữu hạn một thành viên có số lượng thành viên Hội đồng thành viên vượt quá số lượng quy định tại điểm a khoản 1 Điều 73 của Luật này phải điều chỉnh để bảo đảm tuân thủ quy định tại điểm a khoản 1 Điều 73 của Luật này trước ngày 01 tháng 7 năm 2025.\n",
      "Đến ngày Luật này có hiệu lực thi hành, Ban kiểm soát của ngân hàng thương mại có số lượng thành viên chưa tuân thủ quy định tại khoản 2 Điều 51 của Luật này được tiếp tục duy trì số lượng thành viên Ban kiểm soát theo quy định tại khoản 2 Điều 44 của Luật Các tổ chức tín dụng số 47/2010/QH12 đã được sửa đổi, bổ sung một số điều theo Luật số 17/2017/QH14 cho đến hết nhiệm kỳ của Ban kiểm soát, thành viên Ban kiểm soát, trừ trường hợp ngân hàng thương mại bầu, bổ nhiệm bổ sung, thay thế thành viên Ban kiểm soát.\n",
      "9. Tổ chức tín dụng được kiểm soát đặc biệt đã được quyết định chủ trương cơ cấu lại trước ngày Luật này có hiệu lực thi hành và không thuộc trường hợp quy định tại khoản 10 Điều này thì việc điều chỉnh chủ trương, xây dựng, phê duyệt phương án cơ cấu lại được thực hiện theo quy định tại các mục 1, 1b, 1c, 1d, 1đ và 1e Chương VIII của Luật Các tổ chức tín dụng số 47/2010/QH12 đã được sửa đổi, bổ sung một số điều theo Luật số 17/2017/QH14 về điều chỉnh chủ trương, xây dựng, phê duyệt phương án.\n",
      "Phương án cơ cấu lại tổ chức tín dụng được kiểm soát đặc biệt đã được phê duyệt trước ngày Luật này có hiệu lực thi hành thì tiếp tục thực hiện theo phương án đã được phê duyệt. Việc sửa đổi, bổ sung phương án cơ cấu lại đã được phê duyệt thực hiện theo quy định của Luật này.\n",
      "10. Đối với tổ chức tín dụng đã bị thu hồi Giấy phép hoặc không phát sinh hoạt động ngân hàng trong thời gian 12 tháng liên tục trước ngày Luật này có hiệu lực thi hành thực hiện như sau:\n",
      "a) Tổ chức tín dụng thuộc trường hợp giải thể theo quy định tại Điều 202 của Luật này thì thực hiện giải thể theo quy định của Luật này và quy định khác của pháp luật có liên quan;\n",
      "b) Tổ chức tín dụng không thuộc trường hợp giải thể theo quy định tại Điều 202 của Luật này thì thực hiện phá sản theo quy định tại Điều 203 của Luật này và quy định khác của pháp luật có liên quan.\n",
      "11. Kể từ ngày Luật này có hiệu lực thi hành, cổ đông, cổ đông và người có liên quan sở hữu cổ phần vượt tỷ lệ sở hữu cổ phần quy định tại Điều 63 của Luật này được tiếp tục duy trì cổ phần nhưng không được tăng thêm cổ phần cho đến khi tuân thủ quy định về tỷ lệ sở hữu cổ phần theo quy định của Luật này, trừ trường hợp nhận cổ tức bằng cổ phiếu.​\n",
      "Tỷ lệ sở hữu cổ phần tối đa của một cổ đông lớn, một cổ đông và người có liên quan tại ngân hàng thương mại thực hiện nhiệm vụ phục vụ quốc phòng vượt tỷ lệ sở hữu cổ phần quy định tại Điều 63 của Luật này trước ngày Luật này có hiệu lực thi hành được tiếp tục duy trì tỷ lệ sở hữu cổ phần phù hợp với quy định tại các khoản 2, 3 và 4 Điều 55 của Luật Các tổ chức tín dụng số 47/2010/QH12 đã được sửa đổi, bổ sung một số điều theo Luật số 17/2017/QH14.\n",
      "12. Tổ chức tín dụng đang thực hiện theo phương án cơ cấu lại được cấp có thẩm quyền quyết định trước ngày Luật này có hiệu lực thi hành được tiếp tục thực hiện theo phương án đã được quyết định cho đến khi hoàn thành phương án, trừ trường hợp quy định tại khoản 9 Điều này.\n",
      "13. Chương trình, dự án tài chính vi mô của tổ chức chính trị - xã hội, tổ chức phi chính phủ đang thực hiện trước ngày Luật này có hiệu lực thi hành không phải điều chỉnh tổ chức, hoạt động theo quy định của Luật này mà thực hiện theo quy định của Chính phủ.\n",
      "14. Tổ chức tín dụng, chi nhánh ngân hàng nước ngoài đã được cấp phép thực hiện nghiệp vụ bao thanh toán, thư tín dụng trước ngày Luật này có hiệu lực thi hành được thực hiện các nghiệp vụ quy định tại điểm đ và điểm e khoản 3 Điều 107, điểm e khoản 1 Điều 114, khoản 6 Điều 115, điểm đ khoản 1 Điều 119, điểm a khoản 1 Điều 120 và điểm g khoản 1 Điều 124 của Luật này mà không phải sửa đổi, bổ sung Giấy phép.\n",
      "15. Tổ chức tín dụng, chi nhánh ngân hàng nước ngoài, công ty quản lý nợ và khai thác tài sản của tổ chức tín dụng, công ty quản lý tài sản của các tổ chức tín dụng Việt Nam thành lập và hoạt động theo quy định của pháp luật về các tổ chức tín dụng được chuyển nhượng toàn bộ hoặc một phần dự án bất động sản đã nhận làm tài sản bảo đảm trước ngày Luật này có hiệu lực thi hành để thu hồi nợ không phải áp dụng quy định về điều kiện chủ thể kinh doanh bất động sản đối với bên chuyển nhượng dự án bất động sản của pháp luật về kinh doanh bất động sản nhưng phải đáp ứng các điều kiện sau đây:\n",
      "a) Dự án bất động sản chuyển nhượng phải đáp ứng điều kiện quy định tại các điểm a, d, đ, g và h khoản 1 Điều 40 của Luật Kinh doanh bất động sản số 29/2023/QH15 và phải có quyết định giao đất, cho thuê đất của cơ quan nhà nước có thẩm quyền;\n",
      "b) Bên nhận chuyển nhượng dự án phải đáp ứng điều kiện quy định tại các khoản 2, 4 và 5 Điều 40 của Luật Kinh doanh bất động sản số 29/2023/QH15.\n",
      "Số lượng tokens: 2046\n"
     ]
    }
   ],
   "source": [
    "import json\n",
    "\n",
    "def count_tokens_simple(text):\n",
    "    # Tách từ bằng cách sử dụng khoảng trắng\n",
    "    tokens = text.split()\n",
    "    return len(tokens)\n",
    "\n",
    "def find_max_tokens_in_json(json_file_path):\n",
    "    with open(json_file_path, 'r', encoding='utf-8') as json_file:\n",
    "        data = json.load(json_file)\n",
    "\n",
    "    max_tokens = 0\n",
    "    max_content = None\n",
    "\n",
    "    for entry in data:\n",
    "        combine_article_content = entry.get(\"combine_Article_Content\", \"\")\n",
    "        token_count = count_tokens_simple(combine_article_content)\n",
    "\n",
    "        if token_count > max_tokens:\n",
    "            max_tokens = token_count\n",
    "            max_content = combine_article_content\n",
    "\n",
    "    return max_content, max_tokens\n",
    "\n",
    "# Đường dẫn tới file JSON\n",
    "json_file_path = r'data\\trich_dan_luat\\json\\test_Combined_Output_Token.json'\n",
    "\n",
    "# Tìm giá trị combine_Article_Content có số lượng tokens nhiều nhất\n",
    "max_content, max_tokens = find_max_tokens_in_json(json_file_path)\n",
    "\n",
    "print(f\"Giá trị combine_Article_Content có số lượng tokens nhiều nhất:\\n{max_content}\")\n",
    "print(f\"Số lượng tokens: {max_tokens}\")"
   ]
  },
  {
   "cell_type": "code",
   "execution_count": null,
   "metadata": {},
   "outputs": [],
   "source": []
  }
 ],
 "metadata": {
  "kernelspec": {
   "display_name": "Python 3",
   "language": "python",
   "name": "python3"
  },
  "language_info": {
   "codemirror_mode": {
    "name": "ipython",
    "version": 3
   },
   "file_extension": ".py",
   "mimetype": "text/x-python",
   "name": "python",
   "nbconvert_exporter": "python",
   "pygments_lexer": "ipython3",
   "version": "3.9.8"
  }
 },
 "nbformat": 4,
 "nbformat_minor": 2
}
