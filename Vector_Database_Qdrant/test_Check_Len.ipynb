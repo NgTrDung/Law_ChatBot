{
 "cells": [
  {
   "cell_type": "code",
   "execution_count": 1,
   "metadata": {},
   "outputs": [
    {
     "name": "stdout",
     "output_type": "stream",
     "text": [
      "Giá trị combine_Article_Content có số lượng tokens nhiều nhất:\n",
      "Điều 54. Sửa đổi, bổ sung, thay thế, bãi bỏ một số điều của các luật có liên quan đến phòng thủ dân sự\n",
      "4. Sửa đổi, bổ sung, bãi bỏ một số điều của Luật Phòng, chống thiên tai số 33/2013/QH13 đã được sửa đổi, bổ sung một số điều theo Luật số 60/2020/QH14 như sau:\n",
      "a) Sửa đổi, bổ sung khoản 4 Điều 3 như sau:\n",
      "“4. Đối tượng dễ bị tổn thương là người, nhóm người có đặc điểm và hoàn cảnh khiến họ có khả năng phải chịu nhiều tác động bất lợi hơn từ thiên tai so với những nhóm người khác trong cộng đồng. Đối tượng dễ bị tổn thương bao gồm trẻ em, người cao tuổi, phụ nữ đang mang thai hoặc đang nuôi con dưới 36 tháng tuổi, người khuyết tật, người bị bệnh hiểm nghèo, người nghèo, người mất năng lực hành vi dân sự, người dân tộc thiểu số sinh sống tại vùng có điều kiện kinh tế - xã hội khó khăn, người sinh sống tại vùng có điều kiện kinh tế - xã hội đặc biệt khó khăn và các đối tượng khác theo quy định của pháp luật.”;\n",
      "b) Sửa đổi, bổ sung điểm a khoản 4 Điều 22 như sau:\n",
      "“a) Ban chỉ đạo Phòng thủ dân sự quốc gia hướng dẫn xây dựng phương án ứng phó tương ứng với các cấp độ rủi ro thiên tai;”;\n",
      "c) Sửa đổi, bổ sung khoản 1 Điều 25 như sau:\n",
      "“Căn cứ vào bản tin dự báo, cảnh báo thiên tai, Thủ tướng Chính phủ, Ban chỉ đạo phòng thủ dân sự quốc gia; ban chỉ huy phòng thủ dân sự Bộ, cơ quan ngang Bộ; ban chỉ huy phòng thủ dân sự cấp tỉnh ban hành văn bản chỉ đạo, chỉ huy triển khai thực hiện biện pháp ứng phó thiên tai theo quy định của Chính phủ.”;\n",
      "d) Sửa đổi, bổ sung đoạn mở đầu của Điều 26 như sau:\n",
      "“Căn cứ vào loại thiên tai, cấp độ rủi ro thiên tai xảy ra, Ban chỉ đạo phòng thủ dân sự quốc gia; ban chỉ huy phòng thủ dân sự Bộ, cơ quan ngang Bộ; ban chỉ huy phòng thủ dân sự địa phương quyết định lựa chọn một hoặc một số biện pháp phù hợp sau đây:”;\n",
      "đ) Sửa đổi, bổ sung đoạn mở đầu của khoản 4 Điều 27 như sau:\n",
      "“4. Căn cứ vào dự báo, cảnh báo, cấp độ rủi ro thiên tai, diễn biến thiên tai, sự chỉ đạo, chỉ huy của Ban chỉ đạo Phòng thủ dân sự quốc gia, trong phạm vi nhiệm vụ và quyền hạn của mình, Ủy ban nhân dân, Ban chỉ huy phòng thủ dân sự địa phương có trách nhiệm sau đây:”;\n",
      "e) Sửa đổi, bổ sung điểm b khoản 2 Điều 29 như sau:\n",
      "“b) Ủy ban nhân dân, Ban chỉ huy phòng thủ dân sự địa phương các cấp có trách nhiệm chủ động triển khai hoạt động tìm kiếm cứu nạn trên địa bàn; trường hợp vượt quá khả năng phải báo cáo, đề nghị Ủy ban nhân dân cấp tỉnh, Ban chỉ huy phòng thủ dân sự cấp tỉnh, Ban chỉ đạo Phòng thủ dân sự quốc gia hỗ trợ;”;\n",
      "g) Sửa đổi, bổ sung khoản 2 Điều 31 như sau:\n",
      "“2. Ban chỉ huy phòng thủ dân sự các cấp có trách nhiệm tổng hợp thiệt hại do thiên tai gây ra, báo cáo Ủy ban nhân dân cùng cấp, Ban chỉ huy phòng thủ dân sự cấp trên và Ban chỉ đạo Phòng thủ dân sự quốc gia để phục vụ công tác chỉ đạo.”;\n",
      "h) Sửa đổi, bổ sung khoản 4 Điều 31 như sau:\n",
      "“4. Ban chỉ huy phòng thủ dân sự Bộ, cơ quan ngang Bộ có trách nhiệm tổng hợp thiệt hại do thiên tai báo cáo Ban chỉ đạo Phòng thủ dân sự quốc gia để phục vụ công tác chỉ đạo.”;\n",
      "i) Thay thế cụm từ “Ban chỉ đạo quốc gia về phòng, chống thiên tai, Ủy ban quốc gia tìm kiếm cứu nạn” bằng cụm từ “Ban chỉ đạo Phòng thủ dân sự quốc gia” tại điểm c khoản 4 Điều 22, khoản 3 Điều 27;\n",
      "k) Thay thế cụm từ “Ban chỉ đạo quốc gia về phòng, chống thiên tai và Ủy ban quốc gia tìm kiếm cứu nạn” bằng cụm từ “Ban chỉ đạo Phòng thủ dân sự quốc gia” tại điểm d khoản 4 Điều 22, khoản 2 Điều 23, điểm b khoản 3 Điều 27, điểm c khoản 2 Điều 29;\n",
      "l) Thay thế cụm từ “Ủy ban quốc gia tìm kiếm cứu nạn” bằng cụm từ “Ban chỉ đạo Phòng thủ dân sự quốc gia” tại khoản 4 Điều 23, khoản 2 Điều 27, điểm d và điểm đ khoản 2 Điều 29, khoản 5 Điều 40;\n",
      "m) Thay thế cụm từ “Ban chỉ huy phòng, chống thiên tai và tìm kiếm cứu nạn” bằng cụm từ “Ban chỉ huy phòng thủ dân sự” tại điểm b khoản 3 Điều 25, điểm c khoản 3 Điều 27, điểm b khoản 2 Điều 30 và khoản 1 Điều 31;\n",
      "n) Thay thế cụm từ “Ban chỉ huy phòng, chống thiên tai của bộ, cơ quan ngang bộ” bằng cụm từ “Ban chỉ huy phòng thủ dân sự Bộ, cơ quan ngang Bộ” tại khoản 3 Điều 28;\n",
      "o) Thay thế cụm từ “Ban chỉ đạo quốc gia về phòng, chống thiên tai” bằng cụm từ “Ban chỉ đạo Phòng thủ dân sự quốc gia” tại điểm c khoản 3 Điều 9, điểm c khoản 1 Điều 17, khoản 1 Điều 27, khoản 2, khoản 4 Điều 28, điểm d khoản 2 Điều 30, điểm đ khoản 2 Điều 33, điểm c khoản 3 Điều 42;\n",
      "p) Bãi bỏ Điều 44.\n",
      "Số lượng tokens: 984\n"
     ]
    }
   ],
   "source": [
    "import json\n",
    "\n",
    "def count_tokens_simple(text):\n",
    "    # Tách từ bằng cách sử dụng khoảng trắng\n",
    "    tokens = text.split()\n",
    "    return len(tokens)\n",
    "\n",
    "def find_max_tokens_in_json(json_file_path):\n",
    "    with open(json_file_path, 'r', encoding='utf-8') as json_file:\n",
    "        data = json.load(json_file)\n",
    "\n",
    "    max_tokens = 0\n",
    "    max_content = None\n",
    "\n",
    "    for entry in data:\n",
    "        combine_article_content = entry.get(\"combine_Article_Content\", \"\")\n",
    "        token_count = count_tokens_simple(combine_article_content)\n",
    "\n",
    "        if token_count > max_tokens:\n",
    "            max_tokens = token_count\n",
    "            max_content = combine_article_content\n",
    "\n",
    "    return max_content, max_tokens\n",
    "\n",
    "# Đường dẫn tới file JSON\n",
    "json_file_path = r'data\\trich_dan_luat\\json\\test_Combined_Output_Keywords.json'\n",
    "\n",
    "# Tìm giá trị combine_Article_Content có số lượng tokens nhiều nhất\n",
    "max_content, max_tokens = find_max_tokens_in_json(json_file_path)\n",
    "\n",
    "print(f\"Giá trị combine_Article_Content có số lượng tokens nhiều nhất:\\n{max_content}\")\n",
    "print(f\"Số lượng tokens: {max_tokens}\")"
   ]
  },
  {
   "cell_type": "code",
   "execution_count": null,
   "metadata": {},
   "outputs": [],
   "source": []
  }
 ],
 "metadata": {
  "kernelspec": {
   "display_name": "Python 3",
   "language": "python",
   "name": "python3"
  },
  "language_info": {
   "codemirror_mode": {
    "name": "ipython",
    "version": 3
   },
   "file_extension": ".py",
   "mimetype": "text/x-python",
   "name": "python",
   "nbconvert_exporter": "python",
   "pygments_lexer": "ipython3",
   "version": "3.9.8"
  }
 },
 "nbformat": 4,
 "nbformat_minor": 2
}
