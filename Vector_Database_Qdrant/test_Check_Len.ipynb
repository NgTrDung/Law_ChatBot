{
 "cells": [
  {
   "cell_type": "code",
   "execution_count": 1,
   "metadata": {},
   "outputs": [
    {
     "name": "stdout",
     "output_type": "stream",
     "text": [
      "True\n"
     ]
    }
   ],
   "source": [
    "import json\n",
    "\n",
    "# Đường dẫn đến file JSON\n",
    "file_path = r'data\\trich_dan_luat\\json\\test_Combined_Output.json'\n",
    "\n",
    "# Tải dữ liệu từ file JSON\n",
    "with open(file_path, 'r', encoding='utf-8') as f:\n",
    "    data_list = json.load(f)\n",
    "\n",
    "# Kiểm tra xem có phần tử nào có key \"combine_Article_Content\" có length lớn hơn 2048 không\n",
    "def check_combined_article_content_length(data):\n",
    "    for item in data:\n",
    "        if \"combine_Article_Content\" in item:\n",
    "            if len(item[\"combine_Article_Content\"]) > 2048:\n",
    "                return True\n",
    "    return False\n",
    "\n",
    "# Gọi hàm kiểm tra\n",
    "result = check_combined_article_content_length(data_list)\n",
    "print(result)  # In ra True hoặc False"
   ]
  },
  {
   "cell_type": "code",
   "execution_count": 1,
   "metadata": {},
   "outputs": [
    {
     "name": "stdout",
     "output_type": "stream",
     "text": [
      "Chiều dài dài nhất của 'combine_Article_Content' là: 23811\n"
     ]
    }
   ],
   "source": [
    "import json\n",
    "\n",
    "# Đường dẫn đến file JSON\n",
    "file_path = r'data\\trich_dan_luat\\json\\test_Combined_Output.json'\n",
    "\n",
    "# Tải dữ liệu từ file JSON\n",
    "with open(file_path, 'r', encoding='utf-8') as f:\n",
    "    data_list = json.load(f)\n",
    "\n",
    "# Hàm kiểm tra chiều dài lớn nhất của \"combine_Article_Content\"\n",
    "def max_combined_article_content_length(data):\n",
    "    max_length = 0  # Khởi tạo biến max_length\n",
    "    for item in data:\n",
    "        if \"combine_Article_Content\" in item:\n",
    "            current_length = len(item[\"combine_Article_Content\"])\n",
    "            if current_length > max_length:\n",
    "                max_length = current_length  # Cập nhật max_length nếu dài hơn\n",
    "    return max_length\n",
    "\n",
    "# Gọi hàm kiểm tra\n",
    "max_length = max_combined_article_content_length(data_list)\n",
    "print(f\"Chiều dài dài nhất của 'combine_Article_Content' là: {max_length}\")"
   ]
  },
  {
   "cell_type": "code",
   "execution_count": null,
   "metadata": {},
   "outputs": [],
   "source": []
  }
 ],
 "metadata": {
  "kernelspec": {
   "display_name": "Python 3",
   "language": "python",
   "name": "python3"
  },
  "language_info": {
   "codemirror_mode": {
    "name": "ipython",
    "version": 3
   },
   "file_extension": ".py",
   "mimetype": "text/x-python",
   "name": "python",
   "nbconvert_exporter": "python",
   "pygments_lexer": "ipython3",
   "version": "3.9.8"
  }
 },
 "nbformat": 4,
 "nbformat_minor": 2
}
