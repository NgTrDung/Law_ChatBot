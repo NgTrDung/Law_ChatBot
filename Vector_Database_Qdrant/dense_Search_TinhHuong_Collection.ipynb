{
 "cells": [
  {
   "cell_type": "markdown",
   "metadata": {},
   "source": [
    "# 1. Thư viện"
   ]
  },
  {
   "cell_type": "code",
   "execution_count": 1,
   "metadata": {},
   "outputs": [],
   "source": [
    "import os\n",
    "import json\n",
    "\n",
    "from langchain_community.embeddings import GPT4AllEmbeddings\n",
    "from dotenv import load_dotenv\n",
    "from langchain_qdrant import QdrantVectorStore, RetrievalMode\n",
    "from qdrant_client.models import Filter, FieldCondition, MatchValue"
   ]
  },
  {
   "cell_type": "markdown",
   "metadata": {},
   "source": [
    "# 2. Mô hình embedding"
   ]
  },
  {
   "cell_type": "markdown",
   "metadata": {},
   "source": [
    "## 2.1. Mô hình Dense embedding"
   ]
  },
  {
   "cell_type": "code",
   "execution_count": 2,
   "metadata": {},
   "outputs": [],
   "source": [
    "model_name = \"nomic-embed-text-v1.f16.gguf\"\n",
    "gpt4all_kwargs = {'allow_download': 'True'}\n",
    "\n",
    "model_Dense_Embedding = GPT4AllEmbeddings(\n",
    "    model_name=model_name,\n",
    "    gpt4all_kwargs=gpt4all_kwargs\n",
    "    )"
   ]
  },
  {
   "cell_type": "markdown",
   "metadata": {},
   "source": [
    "# 3. Kết nối đến Collection"
   ]
  },
  {
   "cell_type": "code",
   "execution_count": 3,
   "metadata": {},
   "outputs": [],
   "source": [
    "URL_QDRANT = os.getenv(\"URL_QDRANT\")\n",
    "API_QDRANT = os.getenv(\"API_QDRANT\")"
   ]
  },
  {
   "cell_type": "code",
   "execution_count": 4,
   "metadata": {},
   "outputs": [],
   "source": [
    "exist_Qdrant = QdrantVectorStore.from_existing_collection(\n",
    "    collection_name = \"dense_TinhHuong\",\n",
    "    embedding = model_Dense_Embedding,\n",
    "    url = URL_QDRANT,\n",
    "    api_key = API_QDRANT,\n",
    "    retrieval_mode=RetrievalMode.DENSE\n",
    ")"
   ]
  },
  {
   "cell_type": "markdown",
   "metadata": {},
   "source": [
    "# 4. Similarity Search kèm Metadata filtering"
   ]
  },
  {
   "cell_type": "code",
   "execution_count": 20,
   "metadata": {},
   "outputs": [
    {
     "name": "stdout",
     "output_type": "stream",
     "text": [
      "should=[FieldCondition(key='metadata.key_word', match=MatchValue(value='tôi'), range=None, geo_bounding_box=None, geo_radius=None, geo_polygon=None, values_count=None), FieldCondition(key='metadata.key_word', match=MatchValue(value='bị'), range=None, geo_bounding_box=None, geo_radius=None, geo_polygon=None, values_count=None), FieldCondition(key='metadata.key_word', match=MatchValue(value='mất'), range=None, geo_bounding_box=None, geo_radius=None, geo_polygon=None, values_count=None), FieldCondition(key='metadata.key_word', match=MatchValue(value='sổ'), range=None, geo_bounding_box=None, geo_radius=None, geo_polygon=None, values_count=None), FieldCondition(key='metadata.key_word', match=MatchValue(value='bhxh,'), range=None, geo_bounding_box=None, geo_radius=None, geo_polygon=None, values_count=None), FieldCondition(key='metadata.key_word', match=MatchValue(value='sẽ'), range=None, geo_bounding_box=None, geo_radius=None, geo_polygon=None, values_count=None), FieldCondition(key='metadata.key_word', match=MatchValue(value='được'), range=None, geo_bounding_box=None, geo_radius=None, geo_polygon=None, values_count=None), FieldCondition(key='metadata.key_word', match=MatchValue(value='cấp'), range=None, geo_bounding_box=None, geo_radius=None, geo_polygon=None, values_count=None), FieldCondition(key='metadata.key_word', match=MatchValue(value='lại'), range=None, geo_bounding_box=None, geo_radius=None, geo_polygon=None, values_count=None), FieldCondition(key='metadata.key_word', match=MatchValue(value='thế'), range=None, geo_bounding_box=None, geo_radius=None, geo_polygon=None, values_count=None), FieldCondition(key='metadata.key_word', match=MatchValue(value='nào?'), range=None, geo_bounding_box=None, geo_radius=None, geo_polygon=None, values_count=None)] min_should=None must=None must_not=None\n"
     ]
    }
   ],
   "source": [
    "user_Query = \"Tôi bị mất sổ BHXH, sẽ được cấp lại thế nào?\"\n",
    "\n",
    "query_words = user_Query.lower().split()\n",
    "\n",
    "# Tạo bộ lọc với danh sách từ khóa trong `query_words`\n",
    "user_Filter = Filter(\n",
    "    should=[\n",
    "        FieldCondition(\n",
    "            key=\"metadata.key_word\",\n",
    "            match=MatchValue(value=word)\n",
    "        ) for word in query_words\n",
    "    ]\n",
    ")\n",
    "\n",
    "print(user_Filter)"
   ]
  },
  {
   "cell_type": "code",
   "execution_count": 21,
   "metadata": {},
   "outputs": [],
   "source": [
    "results = exist_Qdrant.similarity_search_with_score(\n",
    "    query = user_Query,\n",
    "    filter = user_Filter,\n",
    "    k = 5\n",
    ")"
   ]
  },
  {
   "cell_type": "code",
   "execution_count": 23,
   "metadata": {},
   "outputs": [
    {
     "data": {
      "text/plain": [
       "[(Document(page_content='Sổ đỏ bị mất, xin cấp lại thế nào?', metadata={'key_word': ['sổ', 'đỏ', 'bị', 'mất', 'xin', 'cấp', 'lại', 'thế', 'nào'], 'context': 'Anh tôi có căn chung cư đã được cấp Giấy chứng nhận quyền sử dụng ngày 1/2/2019. Do bất cẩn trong lưu giữ mà anh tôi đã bị mất sổ đỏ. Tôi có tìm hiểu quy định tại Điều 77 Nghị định số 43/2014/NĐ-CP về thủ tục xin cấp lại sổ đỏ bị mất thì được biết, trước tiên, người bị mất sổ phải đến khai báo với UBND xã/phường nơi có đất. Sau đó UBND xã/phường sẽ niêm yết thông báo công khai tại trụ sở. Sau 30 ngày, người sử dụng đất sẽ nộp 1 bộ hồ sơ xin cấp lại sổ đỏ bị mất. Tuy nhiên, khi anh tôi ra UBND phường khai báo thì lại được yêu cầu sang công an xác minh về việc mất sổ. Khi anh tôi sang công an phường xin xác minh thì phía công an lại từ chối vì cho rằng công an không có thẩm quyền xác minh vấn đề này. Vậy cho tôi hỏi việc anh tôi phải sang công an phường xin xác nhận như vậy có đúng quy định của pháp luật đất đai hay không? Thủ tục xin cấp lại sổ đỏ bị mất như thế nào?\\nBộ Tài nguyên và Môi trường trả lời vấn đề này như sau:Đề nghị ông nghiên cứu quy định tại các Điều 60 (nộp hồ sơ và trả kết quả thực hiện thủ tục hành chính về đất đai), Điều 61 (thời gian thực hiện thủ tục hành chính về đất đai) và Điều 62 (trách nhiệm quy định hồ sơ, thời gian thực hiện và trình tự, thủ tục hành chính về đất đai) của Nghị định số43/2014/NĐ-CPngày 15/5/2014 của Chính phủ quy định chi tiết thi hành một số điều của Luật Đất đai (đã được sửa đổi, bổ sung theo quy định tại Nghị định số01/2017/NĐ-CPngày 6/1/2017 của Chính phủ sửa đổi, bổ sung một số nghị định quy định chi tiết thi hành Luật Đất đai và Nghị định số148/2020/NĐ-CPngày 18/12/2020 của Chính phủ sửa đổi, bổ sung một số nghị định quy định chi tiết thi hành Luật Đất đai) và liên hệ với cơ quan tài nguyên và môi trường hoặc Văn phòng Đăng ký đất đai nơi có đất để được hướng dẫn bảo đảm phù hợp với quy định cụ thể tại địa phương.', '_id': 'b5dbdd11-7ea3-4bb7-92e8-cc4b98a052bf', '_collection_name': 'dense_TinhHuong'}),\n",
       "  0.9352995),\n",
       " (Document(page_content='Cấp lại sổ BHXH do thay đổi năm sinh thế nào?', metadata={'context': 'Trường hợp trong sổ BHXH khai năm sinh 1958, nhưng chứng minh nhân dân, giấy khai sinh, hồ sơ đảng viên, thẻ đảng viên đều ghi năm sinh 1961. Nếu muốn điều chỉnh năm sinh trên tất cả các giấy tờ BHXH thành 1961 thì thủ tục thế nào?\\nBHXH Việt Nam trả lời vấn đề này như sau:Thành phần hồ sơ cấp lại sổ BHXH do thay đổi ngày, tháng, năm sinh theo quy định tại Tiết a, Điểm 2.1, Khoản 2, Điều 27, Mục 2, Chương III Quyết định số 595/QĐ-BHXH ngày 14/4/2017 của Tổng Giám đốc BHXH Việt Nam về việc ban hành quy trình thu BHXH, BHYT, BHTN, bảo hiểm tai nạn lao động – bệnh nghề nghiệp; quản lý sổ BHXH, thẻ BHYT gồm:\"Tờ khai tham gia, điều chỉnh thông tin BHXH, BHYT (Mẫu TK1-TS); Giấy Khai sinh hoặc Trích lục khai sinh do cơ quan có thẩm quyền về hộ tịch cấp theo quy định và Chứng minh nhân dân, Thẻ căn cước, Hộ chiếu”.Vì vậy, đề nghị ông Nam kê khai Tờ khai tham gia, điều chỉnh thông tin BHXH, BHYT (Mẫu TK1-TS) và cung cấp hồ sơ theo quy định nêu trên cho đơn vị nơi đang làm việc để làm thủ tục nộp cơ quan BHXH xem xét, giải quyết.', 'key_word': ['cấp', 'lại', 'sổ', 'bhxh', 'do', 'thay', 'đổi', 'năm', 'sinh', 'thế', 'nào'], '_id': '9b246513-aafa-4b93-9a51-6e818c71a5d9', '_collection_name': 'dense_TinhHuong'}),\n",
       "  0.9141099),\n",
       " (Document(page_content='Bị mất sổ đỏ đất nông nghiệp, xin cấp lại thế nào?', metadata={'context': 'Hộ gia đình, cá nhân đã được cấp Giấy chứng nhận quyền sử dụng đất với mục đích sử dụng là đất nông nghiệp, có thời hạn. Nay chủ sử dụng đất mất Giấy chứng nhận và có nhu cầu được cấp lại. Tuy nhiên, Giấy chứng nhận đã hết thời hạn sử dụng đất và không đủ điều kiện gia hạn sử dụng đất (do hiện nay hộ gia đình, cá nhân không trực tiếp sản xuất nông nghiệp).  Tôi xin hỏi, trường hợp trên có được cấp lại Giấy chứng nhận với thời hạn sử dụng đất cũ hay không?\\nBộ Tài nguyên và Môi trường trả lời vấn đề này như sau:Để giải quyết vấn đề mà ông hỏi một cách chính xác cần căn cứ vào hồ sơ, tài liệu do cơ quan nhà nước có thẩm quyền tại địa phương quản lý. Do đó, Bộ Tài nguyên và Môi trường không có cơ sở để trả lời cụ thể.Tại Khoản 2 và Khoản 3 Điều 126Luật Đất đai năm 2013quy định:\"Điều 126. Đất sử dụng có thời hạn… 2. Thời hạn cho thuê đất nông nghiệp đối với hộ gia đình, cá nhân không quá 50 năm. Khi hết thời hạn thuê đất, hộ gia đình, cá nhân nếu có nhu cầu thì được Nhà nước xem xét tiếp tục cho thuê đất.3. Thời hạn giao đất, cho thuê đất đối với tổ chức để sử dụng vào mục đích sản xuất nông nghiệp, lâm nghiệp, nuôi trồng thủy sản, làm muối; tổ chức, hộ gia đình, cá nhân để sử dụng vào mục đích thương mại, dịch vụ, làm cơ sở sản xuất phi nông nghiệp; tổ chức để thực hiện các dự án đầu tư; người Việt Nam định cư ở nước ngoài, doanh nghiệp có vốn đầu tư nước ngoài để thực hiện các dự án đầu tư tại Việt Nam được xem xét, quyết định trên cơ sở dự án đầu tư hoặc đơn xin giao đất, thuê đất nhưng không quá 50 năm.Đối với dự án có vốn đầu tư lớn nhưng thu hồi vốn chậm, dự án đầu tư vào địa bàn có điều kiện kinh tế - xã hội khó khăn, địa bàn có điều kiện kinh tế - xã hội đặc biệt khó khăn mà cần thời hạn dài hơn thì thời hạn giao đất, cho thuê đất không quá 70 năm.Đối với dự án kinh doanh nhà ở để bán hoặc để bán kết hợp với cho thuê hoặc để cho thuê mua thì thời hạn giao đất cho chủ đầu tư được xác định theo thời hạn của dự án; người mua nhà ở gắn liền với quyền sử dụng đất được sử dụng đất ổn định lâu dài.Khi hết thời hạn, người sử dụng đất nếu có nhu cầu tiếp tục sử dụng thì được Nhà nước xem xét gia hạn sử dụng đất nhưng không quá thời hạn quy định tại Khoản này\".Theo Điều 77 Nghị định số43/2014/NĐ-CPngày 15/5/2014 của Chính phủ quy định chi tiết thi hành một số điều của Luật Đất đai:\"Điều 77. Cấp lại Giấy chứng nhận, Giấy chứng nhận quyền sở hữu nhà ở, Giấy chứng nhận quyền sở hữu công trình xây dựng do bị mất1. Hộ gia đình và cá nhân, cộng đồng dân cư phải khai báo với UBND cấp xã nơi có đất về việc bị mất Giấy chứng nhận, Giấy chứng nhận quyền sở hữu nhà ở, Giấy chứng nhận quyền sở hữu công trình xây dựng, UBND cấp xã có trách nhiệm niêm yết thông báo mất Giấy chứng nhận tại trụ sở UBND cấp xã, trừ trường hợp mất giấy do thiên tai, hỏa hoạn.Tổ chức trong nước, cơ sở tôn giáo, tổ chức nước ngoài, cá nhân nước ngoài, người Việt Nam định cư ở nước ngoài phải đăng tin mất Giấy chứng nhận, Giấy chứng nhận quyền sở hữu nhà ở, Giấy chứng nhận quyền sở hữu công trình xây dựng trên phương tiện thông tin đại chúng ở địa phương.2. Sau 30 ngày, kể từ ngày niêm yết thông báo mất Giấy chứng nhận tại trụ sở UBND cấp xã đối với trường hợp của hộ gia đình, cá nhân, cộng đồng dân cư hoặc kể từ ngày đăng tin lần đầu trên phương tiện thông tin đại chúng ở địa phương đối với trường hợp của tổ chức trong nước, cơ sở tôn giáo, tổ chức nước ngoài, cá nhân nước ngoài, người Việt Nam định cư ở nước ngoài, người bị mất Giấy chứng nhận nộp 01 bộ hồ sơ đề nghị cấp lại Giấy chứng nhận.3. Văn phòng đăng ký đất đai có trách nhiệm kiểm tra hồ sơ; trích lục bản đồ địa chính hoặc trích đo địa chính thửa đất đối với trường hợp chưa có bản đồ địa chính và chưa trích đo địa chính thửa đất; lập hồ sơ trình cơ quan nhà nước có thẩm quyền quy định tại Điều 37 của Nghị định này ký quyết định hủy Giấy chứng nhận bị mất, đồng thời ký cấp lại Giấy chứng nhận quyền sử dụng đất, quyền sở hữu nhà ở và tài sản khác gắn liền với đất; chỉnh lý, cập nhật biến động vào hồ sơ địa chính, cơ sở dữ liệu đất đai; trao Giấy chứng nhận quyền sử dụng đất, quyền sở hữu nhà ở và tài sản khác gắn liền với đất cho người được cấp hoặc gửi UBND cấp xã để trao đối với trường hợp nộp hồ sơ tại cấp xã\".Do vậy, ông Phúc tham khảo các quy định nêu trên và liên hệ với cơ quan tài nguyên môi trường nơi có đất để được hướng dẫn giải quyết.', 'key_word': ['bị', 'mất', 'sổ', 'đỏ', 'đất', 'nông', 'nghiệp', 'xin', 'cấp', 'lại', 'thế', 'nào'], '_id': 'c04d3d25-305e-4e29-855e-a0a167d772c9', '_collection_name': 'dense_TinhHuong'}),\n",
       "  0.9125995),\n",
       " (Document(page_content='Làm thế nào để được cấp lại sổ BHXH và thay đổi ngày sinh?', metadata={'key_word': ['làm', 'thế', 'nào', 'để', 'được', 'cấp', 'lại', 'sổ', 'bhxh', 'và', 'thay', 'đổi', 'ngày', 'sinh'], 'context': 'Tôi được công ty giao lại sổ BHXH, khi nhận sổ phát hiện ngày sinh bị sai và đến cơ quan BHXH hỏi thủ tục điều chỉnh thông tin, tuy nhiên, trên đường về, tôi làm rơi mất sổ BHXH.Công ty của tôi đã hỏi cơ quan BHXH về việc này và được trả lời không thể đồng thời thực hiện thủ tục đề nghị cấp lại sổ và điều chỉnh thông tin trong sổ BHXH. Như vậy có đúng không? Tôi phải làm thế nào để được cấp lại sổ BHXH và thay đổi ngày sinh?\\nBHXH Việt Nam trả lời vấn đề này như sau:Theo quy định tại Điểm 2.1, Khoản 2, Điều 46 quy trình thu BHXH, BHYT, BHTN, bảo hiểm tai nạn lao động, bệnh nghề nghiệp; quản lý sổ BHXH, thẻ BHYT ban hành kèm theo Quyết định số 595/QĐ-BHXH ngày 14/4/2017 của Tổng Giám đốc BHXH Việt Nam thì “Cấp lại sổ BHXH (bìa và tờ rời) các trường hợp: Mất, hỏng; gộp; thay đổi số sổ, họ, tên, chữ đệm; ngày, tháng, năm sinh; người đã hưởng BHXH một lần còn thời gian đóng bảo hiểm thất nghiệp chưa hưởng”.Trường hợp của ông Khoa bị mất sổ BHXH và sai thông tin ngày sinh nên được cấp lại sổ BHXH.Để cấp lại sổ BHXH có thay đổi ngày sinh, ông và đơn vị sử dụng lao động cần nộp tờ khai tham gia, điều chỉnh thông tin BHXH, BHYT (Mẫu TK1-TS); Giấy khai sinh hoặc trích lục khai sinh do cơ quan có thẩm quyền về hộ tịch cấp theo quy định và CMND, thẻ căn cước, hộ chiếu, trường hợp là đảng viên theo hướng dẫn của cơ quan có thẩm quyền và Bảng kê thông tin (Mẫu D01-TS) nộp cho cơ quan BHXH để được xem xét và giải quyết.', '_id': '6e0ca43e-009e-49e7-b314-8bef34e24721', '_collection_name': 'dense_TinhHuong'}),\n",
       "  0.91231424),\n",
       " (Document(page_content='Mất sổ BHXH, cấp lại thế nào?', metadata={'key_word': ['mất', 'sổ', 'bhxh', 'cấp', 'lại', 'thế', 'nào'], 'context': 'Tôi bị mất sổ BHXH. Xin hỏi, tôi muốn cấp lại sổ BHXH thì tôi cần phải làm thủ tục gì?\\nBảo hiểm xã hội Việt Nam trả lời vấn đề này như sau:Theo quy định tại Tiết a Khoản 1.1 Điểm 1 Điều 27 Văn bản hợp nhất số 2525/VBHN-BHXH ngày 15/8/2023 của BHXH Việt Nam về việc ban hành văn bản hợp nhất quy trình thu BHXH, BHYT, BHTN, BHTNLĐ-BNN thì thành phần hồ sơ trong trường hợp người tham gia đề nghị cấp lại sổ BHXH do mất, hỏng gồm: Tờ khai tham gia, điều chỉnh thông tin BHXH, BHYT (Mẫu TK1- TS).Vì vậy, đề nghị ông lập Tờ khai tham gia, điều chỉnh thông tin BHXH, BHYT (Mẫu TK1-TS) nộp cho cơ quan BHXH để được cấp lại sổ BHXH.', '_id': '5849da93-1697-460d-9b5f-3e249799e8c8', '_collection_name': 'dense_TinhHuong'}),\n",
       "  0.9048148)]"
      ]
     },
     "execution_count": 23,
     "metadata": {},
     "output_type": "execute_result"
    }
   ],
   "source": [
    "results"
   ]
  },
  {
   "cell_type": "code",
   "execution_count": 24,
   "metadata": {},
   "outputs": [
    {
     "name": "stdout",
     "output_type": "stream",
     "text": [
      "Question:\n",
      " Sổ đỏ bị mất, xin cấp lại thế nào? \n",
      "\n",
      "Context:\n",
      " Anh tôi có căn chung cư đã được cấp Giấy chứng nhận quyền sử dụng ngày 1/2/2019. Do bất cẩn trong lưu giữ mà anh tôi đã bị mất sổ đỏ. Tôi có tìm hiểu quy định tại Điều 77 Nghị định số 43/2014/NĐ-CP về thủ tục xin cấp lại sổ đỏ bị mất thì được biết, trước tiên, người bị mất sổ phải đến khai báo với UBND xã/phường nơi có đất. Sau đó UBND xã/phường sẽ niêm yết thông báo công khai tại trụ sở. Sau 30 ngày, người sử dụng đất sẽ nộp 1 bộ hồ sơ xin cấp lại sổ đỏ bị mất. Tuy nhiên, khi anh tôi ra UBND phường khai báo thì lại được yêu cầu sang công an xác minh về việc mất sổ. Khi anh tôi sang công an phường xin xác minh thì phía công an lại từ chối vì cho rằng công an không có thẩm quyền xác minh vấn đề này. Vậy cho tôi hỏi việc anh tôi phải sang công an phường xin xác nhận như vậy có đúng quy định của pháp luật đất đai hay không? Thủ tục xin cấp lại sổ đỏ bị mất như thế nào?\n",
      "Bộ Tài nguyên và Môi trường trả lời vấn đề này như sau:Đề nghị ông nghiên cứu quy định tại các Điều 60 (nộp hồ sơ và trả kết quả thực hiện thủ tục hành chính về đất đai), Điều 61 (thời gian thực hiện thủ tục hành chính về đất đai) và Điều 62 (trách nhiệm quy định hồ sơ, thời gian thực hiện và trình tự, thủ tục hành chính về đất đai) của Nghị định số43/2014/NĐ-CPngày 15/5/2014 của Chính phủ quy định chi tiết thi hành một số điều của Luật Đất đai (đã được sửa đổi, bổ sung theo quy định tại Nghị định số01/2017/NĐ-CPngày 6/1/2017 của Chính phủ sửa đổi, bổ sung một số nghị định quy định chi tiết thi hành Luật Đất đai và Nghị định số148/2020/NĐ-CPngày 18/12/2020 của Chính phủ sửa đổi, bổ sung một số nghị định quy định chi tiết thi hành Luật Đất đai) và liên hệ với cơ quan tài nguyên và môi trường hoặc Văn phòng Đăng ký đất đai nơi có đất để được hướng dẫn bảo đảm phù hợp với quy định cụ thể tại địa phương. \n",
      "\n",
      "Score: 0.9352995 \n",
      "\n",
      "Question:\n",
      " Cấp lại sổ BHXH do thay đổi năm sinh thế nào? \n",
      "\n",
      "Context:\n",
      " Trường hợp trong sổ BHXH khai năm sinh 1958, nhưng chứng minh nhân dân, giấy khai sinh, hồ sơ đảng viên, thẻ đảng viên đều ghi năm sinh 1961. Nếu muốn điều chỉnh năm sinh trên tất cả các giấy tờ BHXH thành 1961 thì thủ tục thế nào?\n",
      "BHXH Việt Nam trả lời vấn đề này như sau:Thành phần hồ sơ cấp lại sổ BHXH do thay đổi ngày, tháng, năm sinh theo quy định tại Tiết a, Điểm 2.1, Khoản 2, Điều 27, Mục 2, Chương III Quyết định số 595/QĐ-BHXH ngày 14/4/2017 của Tổng Giám đốc BHXH Việt Nam về việc ban hành quy trình thu BHXH, BHYT, BHTN, bảo hiểm tai nạn lao động – bệnh nghề nghiệp; quản lý sổ BHXH, thẻ BHYT gồm:\"Tờ khai tham gia, điều chỉnh thông tin BHXH, BHYT (Mẫu TK1-TS); Giấy Khai sinh hoặc Trích lục khai sinh do cơ quan có thẩm quyền về hộ tịch cấp theo quy định và Chứng minh nhân dân, Thẻ căn cước, Hộ chiếu”.Vì vậy, đề nghị ông Nam kê khai Tờ khai tham gia, điều chỉnh thông tin BHXH, BHYT (Mẫu TK1-TS) và cung cấp hồ sơ theo quy định nêu trên cho đơn vị nơi đang làm việc để làm thủ tục nộp cơ quan BHXH xem xét, giải quyết. \n",
      "\n",
      "Score: 0.9141099 \n",
      "\n",
      "Question:\n",
      " Bị mất sổ đỏ đất nông nghiệp, xin cấp lại thế nào? \n",
      "\n",
      "Context:\n",
      " Hộ gia đình, cá nhân đã được cấp Giấy chứng nhận quyền sử dụng đất với mục đích sử dụng là đất nông nghiệp, có thời hạn. Nay chủ sử dụng đất mất Giấy chứng nhận và có nhu cầu được cấp lại. Tuy nhiên, Giấy chứng nhận đã hết thời hạn sử dụng đất và không đủ điều kiện gia hạn sử dụng đất (do hiện nay hộ gia đình, cá nhân không trực tiếp sản xuất nông nghiệp).  Tôi xin hỏi, trường hợp trên có được cấp lại Giấy chứng nhận với thời hạn sử dụng đất cũ hay không?\n",
      "Bộ Tài nguyên và Môi trường trả lời vấn đề này như sau:Để giải quyết vấn đề mà ông hỏi một cách chính xác cần căn cứ vào hồ sơ, tài liệu do cơ quan nhà nước có thẩm quyền tại địa phương quản lý. Do đó, Bộ Tài nguyên và Môi trường không có cơ sở để trả lời cụ thể.Tại Khoản 2 và Khoản 3 Điều 126Luật Đất đai năm 2013quy định:\"Điều 126. Đất sử dụng có thời hạn… 2. Thời hạn cho thuê đất nông nghiệp đối với hộ gia đình, cá nhân không quá 50 năm. Khi hết thời hạn thuê đất, hộ gia đình, cá nhân nếu có nhu cầu thì được Nhà nước xem xét tiếp tục cho thuê đất.3. Thời hạn giao đất, cho thuê đất đối với tổ chức để sử dụng vào mục đích sản xuất nông nghiệp, lâm nghiệp, nuôi trồng thủy sản, làm muối; tổ chức, hộ gia đình, cá nhân để sử dụng vào mục đích thương mại, dịch vụ, làm cơ sở sản xuất phi nông nghiệp; tổ chức để thực hiện các dự án đầu tư; người Việt Nam định cư ở nước ngoài, doanh nghiệp có vốn đầu tư nước ngoài để thực hiện các dự án đầu tư tại Việt Nam được xem xét, quyết định trên cơ sở dự án đầu tư hoặc đơn xin giao đất, thuê đất nhưng không quá 50 năm.Đối với dự án có vốn đầu tư lớn nhưng thu hồi vốn chậm, dự án đầu tư vào địa bàn có điều kiện kinh tế - xã hội khó khăn, địa bàn có điều kiện kinh tế - xã hội đặc biệt khó khăn mà cần thời hạn dài hơn thì thời hạn giao đất, cho thuê đất không quá 70 năm.Đối với dự án kinh doanh nhà ở để bán hoặc để bán kết hợp với cho thuê hoặc để cho thuê mua thì thời hạn giao đất cho chủ đầu tư được xác định theo thời hạn của dự án; người mua nhà ở gắn liền với quyền sử dụng đất được sử dụng đất ổn định lâu dài.Khi hết thời hạn, người sử dụng đất nếu có nhu cầu tiếp tục sử dụng thì được Nhà nước xem xét gia hạn sử dụng đất nhưng không quá thời hạn quy định tại Khoản này\".Theo Điều 77 Nghị định số43/2014/NĐ-CPngày 15/5/2014 của Chính phủ quy định chi tiết thi hành một số điều của Luật Đất đai:\"Điều 77. Cấp lại Giấy chứng nhận, Giấy chứng nhận quyền sở hữu nhà ở, Giấy chứng nhận quyền sở hữu công trình xây dựng do bị mất1. Hộ gia đình và cá nhân, cộng đồng dân cư phải khai báo với UBND cấp xã nơi có đất về việc bị mất Giấy chứng nhận, Giấy chứng nhận quyền sở hữu nhà ở, Giấy chứng nhận quyền sở hữu công trình xây dựng, UBND cấp xã có trách nhiệm niêm yết thông báo mất Giấy chứng nhận tại trụ sở UBND cấp xã, trừ trường hợp mất giấy do thiên tai, hỏa hoạn.Tổ chức trong nước, cơ sở tôn giáo, tổ chức nước ngoài, cá nhân nước ngoài, người Việt Nam định cư ở nước ngoài phải đăng tin mất Giấy chứng nhận, Giấy chứng nhận quyền sở hữu nhà ở, Giấy chứng nhận quyền sở hữu công trình xây dựng trên phương tiện thông tin đại chúng ở địa phương.2. Sau 30 ngày, kể từ ngày niêm yết thông báo mất Giấy chứng nhận tại trụ sở UBND cấp xã đối với trường hợp của hộ gia đình, cá nhân, cộng đồng dân cư hoặc kể từ ngày đăng tin lần đầu trên phương tiện thông tin đại chúng ở địa phương đối với trường hợp của tổ chức trong nước, cơ sở tôn giáo, tổ chức nước ngoài, cá nhân nước ngoài, người Việt Nam định cư ở nước ngoài, người bị mất Giấy chứng nhận nộp 01 bộ hồ sơ đề nghị cấp lại Giấy chứng nhận.3. Văn phòng đăng ký đất đai có trách nhiệm kiểm tra hồ sơ; trích lục bản đồ địa chính hoặc trích đo địa chính thửa đất đối với trường hợp chưa có bản đồ địa chính và chưa trích đo địa chính thửa đất; lập hồ sơ trình cơ quan nhà nước có thẩm quyền quy định tại Điều 37 của Nghị định này ký quyết định hủy Giấy chứng nhận bị mất, đồng thời ký cấp lại Giấy chứng nhận quyền sử dụng đất, quyền sở hữu nhà ở và tài sản khác gắn liền với đất; chỉnh lý, cập nhật biến động vào hồ sơ địa chính, cơ sở dữ liệu đất đai; trao Giấy chứng nhận quyền sử dụng đất, quyền sở hữu nhà ở và tài sản khác gắn liền với đất cho người được cấp hoặc gửi UBND cấp xã để trao đối với trường hợp nộp hồ sơ tại cấp xã\".Do vậy, ông Phúc tham khảo các quy định nêu trên và liên hệ với cơ quan tài nguyên môi trường nơi có đất để được hướng dẫn giải quyết. \n",
      "\n",
      "Score: 0.9125995 \n",
      "\n",
      "Question:\n",
      " Làm thế nào để được cấp lại sổ BHXH và thay đổi ngày sinh? \n",
      "\n",
      "Context:\n",
      " Tôi được công ty giao lại sổ BHXH, khi nhận sổ phát hiện ngày sinh bị sai và đến cơ quan BHXH hỏi thủ tục điều chỉnh thông tin, tuy nhiên, trên đường về, tôi làm rơi mất sổ BHXH.Công ty của tôi đã hỏi cơ quan BHXH về việc này và được trả lời không thể đồng thời thực hiện thủ tục đề nghị cấp lại sổ và điều chỉnh thông tin trong sổ BHXH. Như vậy có đúng không? Tôi phải làm thế nào để được cấp lại sổ BHXH và thay đổi ngày sinh?\n",
      "BHXH Việt Nam trả lời vấn đề này như sau:Theo quy định tại Điểm 2.1, Khoản 2, Điều 46 quy trình thu BHXH, BHYT, BHTN, bảo hiểm tai nạn lao động, bệnh nghề nghiệp; quản lý sổ BHXH, thẻ BHYT ban hành kèm theo Quyết định số 595/QĐ-BHXH ngày 14/4/2017 của Tổng Giám đốc BHXH Việt Nam thì “Cấp lại sổ BHXH (bìa và tờ rời) các trường hợp: Mất, hỏng; gộp; thay đổi số sổ, họ, tên, chữ đệm; ngày, tháng, năm sinh; người đã hưởng BHXH một lần còn thời gian đóng bảo hiểm thất nghiệp chưa hưởng”.Trường hợp của ông Khoa bị mất sổ BHXH và sai thông tin ngày sinh nên được cấp lại sổ BHXH.Để cấp lại sổ BHXH có thay đổi ngày sinh, ông và đơn vị sử dụng lao động cần nộp tờ khai tham gia, điều chỉnh thông tin BHXH, BHYT (Mẫu TK1-TS); Giấy khai sinh hoặc trích lục khai sinh do cơ quan có thẩm quyền về hộ tịch cấp theo quy định và CMND, thẻ căn cước, hộ chiếu, trường hợp là đảng viên theo hướng dẫn của cơ quan có thẩm quyền và Bảng kê thông tin (Mẫu D01-TS) nộp cho cơ quan BHXH để được xem xét và giải quyết. \n",
      "\n",
      "Score: 0.91231424 \n",
      "\n",
      "Question:\n",
      " Mất sổ BHXH, cấp lại thế nào? \n",
      "\n",
      "Context:\n",
      " Tôi bị mất sổ BHXH. Xin hỏi, tôi muốn cấp lại sổ BHXH thì tôi cần phải làm thủ tục gì?\n",
      "Bảo hiểm xã hội Việt Nam trả lời vấn đề này như sau:Theo quy định tại Tiết a Khoản 1.1 Điểm 1 Điều 27 Văn bản hợp nhất số 2525/VBHN-BHXH ngày 15/8/2023 của BHXH Việt Nam về việc ban hành văn bản hợp nhất quy trình thu BHXH, BHYT, BHTN, BHTNLĐ-BNN thì thành phần hồ sơ trong trường hợp người tham gia đề nghị cấp lại sổ BHXH do mất, hỏng gồm: Tờ khai tham gia, điều chỉnh thông tin BHXH, BHYT (Mẫu TK1- TS).Vì vậy, đề nghị ông lập Tờ khai tham gia, điều chỉnh thông tin BHXH, BHYT (Mẫu TK1-TS) nộp cho cơ quan BHXH để được cấp lại sổ BHXH. \n",
      "\n",
      "Score: 0.9048148 \n",
      "\n"
     ]
    }
   ],
   "source": [
    "for doc,score in results:\n",
    "    print(\"Question:\\n\",doc.page_content,\"\\n\")\n",
    "    print(\"Context:\\n\",doc.metadata['context'],\"\\n\")\n",
    "    print(\"Score:\",score,\"\\n\")"
   ]
  },
  {
   "cell_type": "code",
   "execution_count": null,
   "metadata": {},
   "outputs": [],
   "source": []
  }
 ],
 "metadata": {
  "kernelspec": {
   "display_name": "Python 3",
   "language": "python",
   "name": "python3"
  },
  "language_info": {
   "codemirror_mode": {
    "name": "ipython",
    "version": 3
   },
   "file_extension": ".py",
   "mimetype": "text/x-python",
   "name": "python",
   "nbconvert_exporter": "python",
   "pygments_lexer": "ipython3",
   "version": "3.9.8"
  }
 },
 "nbformat": 4,
 "nbformat_minor": 2
}
