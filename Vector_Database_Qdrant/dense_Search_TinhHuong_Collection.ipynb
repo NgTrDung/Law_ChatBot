{
 "cells": [
  {
   "cell_type": "markdown",
   "metadata": {},
   "source": [
    "# 1. Thư viện"
   ]
  },
  {
   "cell_type": "code",
   "execution_count": 1,
   "metadata": {},
   "outputs": [
    {
     "name": "stderr",
     "output_type": "stream",
     "text": [
      "d:\\Download_Python\\lib\\importlib\\__init__.py:127: LangChainDeprecationWarning: As of langchain-core 0.3.0, LangChain uses pydantic v2 internally. The langchain_core.pydantic_v1 module was a compatibility shim for pydantic v1, and should no longer be used. Please update the code to import from Pydantic directly.\n",
      "\n",
      "For example, replace imports like: `from langchain_core.pydantic_v1 import BaseModel`\n",
      "with: `from pydantic import BaseModel`\n",
      "or the v1 compatibility namespace if you are working in a code base that has not been fully upgraded to pydantic 2 yet. \tfrom pydantic.v1 import BaseModel\n",
      "\n",
      "  return _bootstrap._gcd_import(name[level:], package, level)\n"
     ]
    }
   ],
   "source": [
    "import os\n",
    "import json\n",
    "import re\n",
    "\n",
    "from langchain_community.embeddings import GPT4AllEmbeddings\n",
    "from dotenv import load_dotenv\n",
    "from langchain_qdrant import Qdrant, RetrievalMode\n",
    "from qdrant_client.models import Filter, FieldCondition, MatchValue"
   ]
  },
  {
   "cell_type": "markdown",
   "metadata": {},
   "source": [
    "# 2. Mô hình embedding"
   ]
  },
  {
   "cell_type": "markdown",
   "metadata": {},
   "source": [
    "## 2.1. Mô hình Dense embedding"
   ]
  },
  {
   "cell_type": "code",
   "execution_count": 2,
   "metadata": {},
   "outputs": [],
   "source": [
    "model_name = \"nomic-embed-text-v1.f16.gguf\"\n",
    "gpt4all_kwargs = {'allow_download': 'True'}\n",
    "\n",
    "model_Dense_Embedding = GPT4AllEmbeddings(\n",
    "    model_name=model_name,\n",
    "    gpt4all_kwargs=gpt4all_kwargs\n",
    "    )"
   ]
  },
  {
   "cell_type": "markdown",
   "metadata": {},
   "source": [
    "# 3. Kết nối đến Collection"
   ]
  },
  {
   "cell_type": "code",
   "execution_count": 3,
   "metadata": {},
   "outputs": [],
   "source": [
    "URL_QDRANT = os.getenv(\"URL_QDRANT\")\n",
    "API_QDRANT = os.getenv(\"API_QDRANT\")"
   ]
  },
  {
   "cell_type": "code",
   "execution_count": 4,
   "metadata": {},
   "outputs": [],
   "source": [
    "exist_Qdrant = Qdrant.from_existing_collection(\n",
    "    embedding = model_Dense_Embedding,\n",
    "    url = URL_QDRANT,\n",
    "    api_key = API_QDRANT,\n",
    "    prefer_grpc=True,\n",
    "    collection_name = \"demo_Luat_Keywords\",\n",
    "\tmetadata_payload_key=\"metadata\"\n",
    ")"
   ]
  },
  {
   "cell_type": "markdown",
   "metadata": {},
   "source": [
    "# 4. Similarity Search kèm Metadata filtering"
   ]
  },
  {
   "cell_type": "markdown",
   "metadata": {},
   "source": [
    "## 4.1. Hàm trích xuất key words"
   ]
  },
  {
   "cell_type": "code",
   "execution_count": 5,
   "metadata": {},
   "outputs": [],
   "source": [
    "# Hàm trích xuất từ khóa từ văn bản, loại bỏ dấu câu ngoại trừ \"/\" và \"-\"\n",
    "def extract_keywords(text):\n",
    "    text = re.sub(r'[^\\w\\s/-]', '', text)  # Loại bỏ các dấu câu không mong muốn\n",
    "    words = text.split()                   # Tách các từ theo khoảng trắng\n",
    "    unique_words = list(dict.fromkeys(words))  # Loại bỏ từ trùng lặp\n",
    "    return unique_words"
   ]
  },
  {
   "cell_type": "code",
   "execution_count": 6,
   "metadata": {},
   "outputs": [],
   "source": [
    "# Hàm xử lý các từ khóa: chuyển về chữ thường, giữ nguyên số La Mã và từ khóa có \"/\" hoặc \"-\"\n",
    "def process_keywords(keywords):\n",
    "    result = []\n",
    "    roman_numeral_pattern = re.compile(r\"^(?=[MDCLXVI])M{0,4}(CM|CD|D?C{0,3})(XC|XL|L?X{0,3})(IX|IV|V?I{0,3})$\")\n",
    "    \n",
    "    for word in keywords:\n",
    "        if roman_numeral_pattern.match(word) or any(c in word for c in \"/-\"):\n",
    "            result.append(word)\n",
    "        else:\n",
    "            result.append(word.lower())  # Chuyển các từ còn lại thành chữ thường\n",
    "    return result"
   ]
  },
  {
   "cell_type": "markdown",
   "metadata": {},
   "source": [
    "## 4.2. Truy xuất với 1 query"
   ]
  },
  {
   "cell_type": "code",
   "execution_count": 7,
   "metadata": {},
   "outputs": [
    {
     "name": "stdout",
     "output_type": "stream",
     "text": [
      "should=[FieldCondition(key='metadata.key_words', match=MatchValue(value='trong'), range=None, geo_bounding_box=None, geo_radius=None, geo_polygon=None, values_count=None), FieldCondition(key='metadata.key_words', match=MatchValue(value='lĩnh'), range=None, geo_bounding_box=None, geo_radius=None, geo_polygon=None, values_count=None), FieldCondition(key='metadata.key_words', match=MatchValue(value='vực'), range=None, geo_bounding_box=None, geo_radius=None, geo_polygon=None, values_count=None), FieldCondition(key='metadata.key_words', match=MatchValue(value='dân'), range=None, geo_bounding_box=None, geo_radius=None, geo_polygon=None, values_count=None), FieldCondition(key='metadata.key_words', match=MatchValue(value='sự'), range=None, geo_bounding_box=None, geo_radius=None, geo_polygon=None, values_count=None), FieldCondition(key='metadata.key_words', match=MatchValue(value='do'), range=None, geo_bounding_box=None, geo_radius=None, geo_polygon=None, values_count=None), FieldCondition(key='metadata.key_words', match=MatchValue(value='quốc'), range=None, geo_bounding_box=None, geo_radius=None, geo_polygon=None, values_count=None), FieldCondition(key='metadata.key_words', match=MatchValue(value='hội'), range=None, geo_bounding_box=None, geo_radius=None, geo_polygon=None, values_count=None), FieldCondition(key='metadata.key_words', match=MatchValue(value='ban'), range=None, geo_bounding_box=None, geo_radius=None, geo_polygon=None, values_count=None), FieldCondition(key='metadata.key_words', match=MatchValue(value='hành'), range=None, geo_bounding_box=None, geo_radius=None, geo_polygon=None, values_count=None), FieldCondition(key='metadata.key_words', match=MatchValue(value='thuộc'), range=None, geo_bounding_box=None, geo_radius=None, geo_polygon=None, values_count=None), FieldCondition(key='metadata.key_words', match=MatchValue(value='số'), range=None, geo_bounding_box=None, geo_radius=None, geo_polygon=None, values_count=None), FieldCondition(key='metadata.key_words', match=MatchValue(value='10/2022/QH15'), range=None, geo_bounding_box=None, geo_radius=None, geo_polygon=None, values_count=None), FieldCondition(key='metadata.key_words', match=MatchValue(value='thực'), range=None, geo_bounding_box=None, geo_radius=None, geo_polygon=None, values_count=None), FieldCondition(key='metadata.key_words', match=MatchValue(value='hiện'), range=None, geo_bounding_box=None, geo_radius=None, geo_polygon=None, values_count=None), FieldCondition(key='metadata.key_words', match=MatchValue(value='dân'), range=None, geo_bounding_box=None, geo_radius=None, geo_polygon=None, values_count=None), FieldCondition(key='metadata.key_words', match=MatchValue(value='chủ'), range=None, geo_bounding_box=None, geo_radius=None, geo_polygon=None, values_count=None), FieldCondition(key='metadata.key_words', match=MatchValue(value='ở'), range=None, geo_bounding_box=None, geo_radius=None, geo_polygon=None, values_count=None), FieldCondition(key='metadata.key_words', match=MatchValue(value='cơ'), range=None, geo_bounding_box=None, geo_radius=None, geo_polygon=None, values_count=None), FieldCondition(key='metadata.key_words', match=MatchValue(value='sở'), range=None, geo_bounding_box=None, geo_radius=None, geo_polygon=None, values_count=None), FieldCondition(key='metadata.key_words', match=MatchValue(value='có'), range=None, geo_bounding_box=None, geo_radius=None, geo_polygon=None, values_count=None), FieldCondition(key='metadata.key_words', match=MatchValue(value='nghĩa'), range=None, geo_bounding_box=None, geo_radius=None, geo_polygon=None, values_count=None), FieldCondition(key='metadata.key_words', match=MatchValue(value='là'), range=None, geo_bounding_box=None, geo_radius=None, geo_polygon=None, values_count=None), FieldCondition(key='metadata.key_words', match=MatchValue(value='gì'), range=None, geo_bounding_box=None, geo_radius=None, geo_polygon=None, values_count=None)] min_should=None must=None must_not=None\n"
     ]
    }
   ],
   "source": [
    "# Query của người dùng\n",
    "user_Query = \"Trong lĩnh vực Dân sự do Quốc hội ban hành thuộc số 10/2022/QH15, \\\"Thực hiện dân chủ ở cơ sở\\\" có nghĩa là gì?\"\n",
    "\n",
    "keywords = process_keywords(extract_keywords(user_Query))\n",
    "\n",
    "# Sử dụng should để lọc dựa trên các từ khóa\n",
    "user_Filter = Filter(\n",
    "    should=[\n",
    "        FieldCondition(\n",
    "            key=\"metadata.key_words\",  # Trường metadata chứa các từ khóa\n",
    "            match=MatchValue(value=keyword)\n",
    "        ) for keyword in keywords\n",
    "    ]\n",
    ")\n",
    "\n",
    "print(user_Filter)"
   ]
  },
  {
   "cell_type": "code",
   "execution_count": 8,
   "metadata": {},
   "outputs": [],
   "source": [
    "results = exist_Qdrant.similarity_search_with_score(\n",
    "    query = user_Query,\n",
    "    filter = user_Filter,\n",
    "    k = 5\n",
    ")"
   ]
  },
  {
   "cell_type": "code",
   "execution_count": 9,
   "metadata": {},
   "outputs": [
    {
     "name": "stdout",
     "output_type": "stream",
     "text": [
      "Page_Content:\n",
      " Điều 43. Trách nhiệm của Bộ Quốc phòng\n",
      "1. Ban hành, trình cấp có thẩm quyền ban hành và tổ chức thực hiện văn bản quy phạm pháp luật về phòng thủ dân sự thuộc lĩnh vực quản lý;\n",
      "Số hiệu:\n",
      " 18/2023/QH15\n",
      "Score: 0.842420220375061 \n",
      " -----------------------\n",
      "Page_Content:\n",
      " Điều 9. Các hành vi bị nghiêm cấm trong thực hiện dân chủ ở cơ sở\n",
      "1. Gây khó khăn, phiền hà hoặc cản trở, đe dọa công dân thực hiện dân chủ ở cơ sở.\n",
      "Số hiệu:\n",
      " 10/2022/QH15\n",
      "Score: 0.8407150506973267 \n",
      " -----------------------\n",
      "Page_Content:\n",
      " Điều 44. Trách nhiệm của Bộ Công an\n",
      "1. Ban hành, trình cấp có thẩm quyền ban hành và tổ chức thực hiện văn bản quy phạm pháp luật về phòng thủ dân sự thuộc lĩnh vực quản lý.\n",
      "Số hiệu:\n",
      " 18/2023/QH15\n",
      "Score: 0.8390295505523682 \n",
      " -----------------------\n",
      "Page_Content:\n",
      " Điều 50. Trách nhiệm của Bộ Công Thương\n",
      "1. Ban hành, trình cấp có thẩm quyền ban hành và tổ chức thực hiện văn bản quy phạm pháp luật về phòng thủ dân sự thuộc phạm vi quản lý.\n",
      "Số hiệu:\n",
      " 18/2023/QH15\n",
      "Score: 0.8340569138526917 \n",
      " -----------------------\n",
      "Page_Content:\n",
      " Điều 41. Chế độ, chính sách đối với lực lượng phòng thủ dân sự\n",
      "1. Người làm nhiệm vụ trực tại cơ quan thường trực Ban chỉ đạo Phòng thủ dân sự quốc gia, ban chỉ huy phòng thủ dân sự Bộ, ngành trung ương, cơ quan ngang Bộ, ban chỉ huy phòng thủ dân sự địa phương các cấp được hưởng chế độ khi thực hiện nhiệm vụ.\n",
      "Số hiệu:\n",
      " 18/2023/QH15\n",
      "Score: 0.831674337387085 \n",
      " -----------------------\n"
     ]
    }
   ],
   "source": [
    "for doc,score in results:\n",
    "    print(\"Page_Content:\\n\",doc.page_content)\n",
    "    # print(\"Context:\\n\",doc.metadata['context'],\"\\n\")\n",
    "    print(\"Số hiệu:\\n\",doc.metadata['so_hieu'])\n",
    "    print(\"Score:\",score,\"\\n\",\"-----------------------\")"
   ]
  },
  {
   "cell_type": "markdown",
   "metadata": {},
   "source": [
    "### 4.2.1. Thử với filer dạng dictionary"
   ]
  },
  {
   "cell_type": "code",
   "execution_count": 10,
   "metadata": {},
   "outputs": [],
   "source": [
    "# Query của người dùng\n",
    "user_Query = \"Trong lĩnh vực Dân sự do Quốc hội ban hành thuộc số 10/2022/QH15, \\\"Thực hiện dân chủ ở cơ sở\\\" có nghĩa là gì?\"\n",
    "\n",
    "keywords = process_keywords(extract_keywords(user_Query))\n",
    "\n",
    "# Tạo đối tượng dict từ danh sách key_words\n",
    "filter_data = {\n",
    "    \"key_words\": keywords\n",
    "}"
   ]
  },
  {
   "cell_type": "code",
   "execution_count": 11,
   "metadata": {},
   "outputs": [],
   "source": [
    "# filter_data = {\n",
    "#     \"so_hieu\": \"10/2022/QH15\"\n",
    "# }"
   ]
  },
  {
   "cell_type": "code",
   "execution_count": 12,
   "metadata": {},
   "outputs": [
    {
     "data": {
      "text/plain": [
       "{'key_words': ['trong',\n",
       "  'lĩnh',\n",
       "  'vực',\n",
       "  'dân',\n",
       "  'sự',\n",
       "  'do',\n",
       "  'quốc',\n",
       "  'hội',\n",
       "  'ban',\n",
       "  'hành',\n",
       "  'thuộc',\n",
       "  'số',\n",
       "  '10/2022/QH15',\n",
       "  'thực',\n",
       "  'hiện',\n",
       "  'dân',\n",
       "  'chủ',\n",
       "  'ở',\n",
       "  'cơ',\n",
       "  'sở',\n",
       "  'có',\n",
       "  'nghĩa',\n",
       "  'là',\n",
       "  'gì']}"
      ]
     },
     "execution_count": 12,
     "metadata": {},
     "output_type": "execute_result"
    }
   ],
   "source": [
    "filter_data"
   ]
  },
  {
   "cell_type": "code",
   "execution_count": 13,
   "metadata": {},
   "outputs": [],
   "source": [
    "results_test = exist_Qdrant.similarity_search_with_score(\n",
    "    query = user_Query,\n",
    "    filter = filter_data,\n",
    "    k = 5\n",
    ")"
   ]
  },
  {
   "cell_type": "code",
   "execution_count": 14,
   "metadata": {},
   "outputs": [],
   "source": [
    "for doc,score in results_test:\n",
    "    print(\"Page_Content:\\n\",doc.page_content)\n",
    "    # print(\"Context:\\n\",doc.metadata['context'],\"\\n\")\n",
    "    print(\"Số hiệu:\\n\",doc.metadata['so_hieu'])\n",
    "    print(\"Score:\",score,\"\\n\",\"-----------------------\")"
   ]
  },
  {
   "cell_type": "markdown",
   "metadata": {},
   "source": [
    "# 5. Sinh 3 similarity queries với Gemini"
   ]
  },
  {
   "cell_type": "code",
   "execution_count": 15,
   "metadata": {},
   "outputs": [],
   "source": [
    "from apikeys_GEMINI import APIKeyManager\n",
    "\n",
    "from langchain.load import dumps, loads\n",
    "from langchain_core.prompts import ChatPromptTemplate\n",
    "from langchain_google_genai import ChatGoogleGenerativeAI\n",
    "from langchain_core.output_parsers import StrOutputParser"
   ]
  },
  {
   "cell_type": "code",
   "execution_count": 16,
   "metadata": {},
   "outputs": [],
   "source": [
    "load_dotenv()\n",
    "\n",
    "MODEL_GEMINI = os.getenv(\"MODEL_GEMIMI\")\n",
    "# MODEL_GEMINI = \"models/gemini-1.5-pro\"\n",
    "if MODEL_GEMINI is None:\n",
    "    raise ValueError(\"Environment variable MODEL_GEMINI is not set\")\n",
    "elif not MODEL_GEMINI.startswith(\"models/\"):\n",
    "    MODEL_GEMINI = f\"models/{MODEL_GEMINI}\"\n",
    "\n",
    "APIS_GEMINI_LIST = os.getenv('APIS_GEMINI_LIST').split(',')\n",
    "key_manager = APIKeyManager(APIS_GEMINI_LIST)\n",
    "\n",
    "TOP_K = 5\n",
    "MAX_DOCS_FOR_CONTENT = 5"
   ]
  },
  {
   "cell_type": "markdown",
   "metadata": {},
   "source": [
    "## 5.1. Hàm RFF (Re-rank)"
   ]
  },
  {
   "cell_type": "code",
   "execution_count": 17,
   "metadata": {},
   "outputs": [],
   "source": [
    "def reciprocal_rank_fusion(results: list[list], k=60):\n",
    "    \"\"\"Rerank docs (reciprocal rank fusion)\"\"\"\n",
    "    fused_scores = {}\n",
    "    for docs in results:\n",
    "        for rank, doc in enumerate(docs):\n",
    "            doc_str = dumps(doc)\n",
    "            if doc_str not in fused_scores:\n",
    "                fused_scores[doc_str] = 0\n",
    "            fused_scores[doc_str] += 1 / (rank + k)\n",
    "\n",
    "    reranked_results = [\n",
    "        (loads(doc), score)\n",
    "        for doc, score in sorted(fused_scores.items(), key=lambda x: x[1], reverse=True)\n",
    "    ]\n",
    "\n",
    "    return [x[0] for x in reranked_results[:MAX_DOCS_FOR_CONTENT]]"
   ]
  },
  {
   "cell_type": "markdown",
   "metadata": {},
   "source": [
    "## 5.2. Hàm sinh câu hỏi"
   ]
  },
  {
   "cell_type": "code",
   "execution_count": 18,
   "metadata": {},
   "outputs": [],
   "source": [
    "def query_generator(original_query: str, key_manager) -> list[str]:\n",
    "    \"\"\"Generate queries from original query\"\"\"\n",
    "    # Câu truy vấn gốc\n",
    "    query = original_query\n",
    "    \n",
    "    # Cập nhật prompt để yêu cầu rõ ràng chỉ trả về 3 câu truy vấn và câu gốc\n",
    "    prompt = ChatPromptTemplate.from_messages(\n",
    "        [\n",
    "            (\"system\", \"You are a helpful assistant that generates multiple search queries based on a single query.\"),\n",
    "            (\"human\", \"Generate 3 search queries related to: {original_query}. Provide each query on a new line, and ensure that only the queries are returned, with no additional explanations or text.\"),\n",
    "        ]\n",
    "    )\n",
    "    \n",
    "    model = ChatGoogleGenerativeAI(\n",
    "        # key api google gemini, nếu test mà bị báo lỗi api core thì lấy api khác trong .env để test\n",
    "        google_api_key=key_manager.get_next_key(),\n",
    "        model=MODEL_GEMINI,\n",
    "        temperature=0\n",
    "    )\n",
    "    \n",
    "    query_generator_chain = (\n",
    "        prompt | model | StrOutputParser()\n",
    "    )\n",
    "    \n",
    "    # Kết quả sẽ là một chuỗi các câu truy vấn cách nhau bằng dấu xuống dòng\n",
    "    result = query_generator_chain.invoke({\"original_query\": query})\n",
    "    \n",
    "    # Tách kết quả thành danh sách các câu truy vấn\n",
    "    generated_queries = result.strip().split('\\n')\n",
    "    \n",
    "    # Đảm bảo chỉ lấy 3 câu nếu có nhiều hơn 3 câu truy vấn sinh ra\n",
    "    if len(generated_queries) > 3:\n",
    "        generated_queries = generated_queries[:3]\n",
    "    \n",
    "    # Kết hợp câu gốc với các câu truy vấn sinh ra\n",
    "    queries = [query] + generated_queries\n",
    "    \n",
    "    return queries"
   ]
  },
  {
   "cell_type": "markdown",
   "metadata": {},
   "source": [
    "## 5.3. Hàm lấy collection"
   ]
  },
  {
   "cell_type": "code",
   "execution_count": 19,
   "metadata": {},
   "outputs": [],
   "source": [
    "def get_existing_qdrant_collection(collection_name: str, embedding_model, \n",
    "                                   qdrant_url: str, qdrant_api_key: str):\n",
    "    qdrant_instance = Qdrant.from_existing_collection(\n",
    "        embedding=embedding_model,\n",
    "        url=qdrant_url,\n",
    "        api_key=qdrant_api_key,\n",
    "        prefer_grpc=True,\n",
    "        collection_name=collection_name,\n",
    "        metadata_payload_key=\"metadata\"\n",
    "    )\n",
    "    return qdrant_instance"
   ]
  },
  {
   "cell_type": "markdown",
   "metadata": {},
   "source": [
    "## 5.4. Hàm truy vấn"
   ]
  },
  {
   "cell_type": "code",
   "execution_count": 20,
   "metadata": {},
   "outputs": [],
   "source": [
    "def search_with_qdrant(qdrant_instance, user_query: str, top_k: int = 5):\n",
    "    keywords = process_keywords(extract_keywords(user_Query))\n",
    "    \n",
    "    # Tạo filter dựa trên từ khóa\n",
    "    user_filter = Filter(\n",
    "        should=[\n",
    "            FieldCondition(\n",
    "                key=\"metadata.key_words\",  # Trường metadata chứa từ khóa\n",
    "                match=MatchValue(value=keyword)\n",
    "            ) for keyword in keywords\n",
    "        ]\n",
    "    )\n",
    "    \n",
    "    # Thực hiện truy vấn similarity search\n",
    "    results = qdrant_instance.similarity_search_with_score(\n",
    "        query=user_query,\n",
    "        filter=user_filter,  # Dùng filter để lọc kết quả\n",
    "        k=top_k\n",
    "    )\n",
    "    \n",
    "    return results"
   ]
  },
  {
   "cell_type": "markdown",
   "metadata": {},
   "source": [
    "# 6. Thực hiện truy vấn với similarity queries"
   ]
  },
  {
   "cell_type": "code",
   "execution_count": 21,
   "metadata": {},
   "outputs": [],
   "source": [
    "def search_and_rerank(user_query: str, key_manager, embedding_model, qdrant_url: str, qdrant_api_key: str):\n",
    "    \"\"\"Quy trình tổng hợp: sinh câu hỏi, tìm kiếm và xếp hạng lại\"\"\"\n",
    "    # 1. Sinh ra 4 câu hỏi (gồm câu gốc và 3 câu hỏi tương tự)\n",
    "    queries = query_generator(user_query, key_manager)\n",
    "\n",
    "    for q in queries:\n",
    "        print(q,\"\\n\")\n",
    "    \n",
    "    # 2. Lấy collection từ Qdrant\n",
    "    qdrant_instance = get_existing_qdrant_collection(\"demo_Luat_Keywords\", embedding_model, qdrant_url, qdrant_api_key)\n",
    "    \n",
    "    # 3. Thực hiện tìm kiếm cho mỗi câu hỏi và lưu lại kết quả\n",
    "    all_results = []\n",
    "    for query in queries:\n",
    "        results = search_with_qdrant(qdrant_instance, query, top_k=5)  # Mỗi truy vấn lấy top 5 kết quả\n",
    "        all_results.append(results)\n",
    "    \n",
    "    # 4. Áp dụng hàm Re-rank (RRF) để tái xếp hạng 20 documents\n",
    "    reranked_documents = reciprocal_rank_fusion(all_results)\n",
    "    \n",
    "    return reranked_documents  # Trả về top 5 documents sau khi xếp hạng lại"
   ]
  },
  {
   "cell_type": "code",
   "execution_count": 22,
   "metadata": {},
   "outputs": [
    {
     "name": "stdout",
     "output_type": "stream",
     "text": [
      "Trong lĩnh vực Dân sự do Quốc hội ban hành thuộc số 10/2022/QH15, \"Thực hiện dân chủ ở cơ sở\" có nghĩa là gì? \n",
      "\n",
      "Luật số 10/2022/QH15 thực hiện dân chủ ở cơ sở \n",
      "\n",
      "Nghị quyết 10/2022/QH15 và dân chủ ở cơ sở \n",
      "\n",
      "Giải thích \"Thực hiện dân chủ ở cơ sở\" theo Luật Dân sự 10/2022/QH15 \n",
      "\n",
      "[Document(metadata={'Content': '1. Ban hành, trình cấp có thẩm quyền ban hành và tổ chức thực hiện văn bản quy phạm pháp luật về phòng thủ dân sự thuộc lĩnh vực quản lý;', 'Section': None, 'Chapter': 'Chương VI: TRÁCH NHIỆM CỦA CƠ QUAN, TỔ CHỨC VỀ PHÒNG THỦ DÂN SỰ', 'Article-Section': 'Khoản 1.', 'loai_van_ban': 'Luật', 'Mini-Section': None, 'noi_ban_hanh': 'Quốc hội', 'linhvuc_nganh': 'Bộ máy hành chính', 'stt': '9', 'so_hieu': '18/2023/QH15', 'ngay_ban_hanh': '20/06/2023', 'key_words': ['luật', 'quốc', 'hội', '18/2023/QH15', 'bộ', 'máy', 'hành', 'chính', '20/06/2023', '01/07/2024', 'phòng', 'thủ', 'dân', 'sự', 'điều', '43', 'trách', 'nhiệm', 'của', '1', 'ban', 'trình', 'cấp', 'có', 'thẩm', 'quyền', 'và', 'tổ', 'chức', 'thực', 'hiện', 'văn', 'bản', 'quy', 'phạm', 'pháp', 'về', 'thuộc', 'lĩnh', 'vực', 'quản', 'lý', 'chương', 'VI', 'cơ', 'quan', 'khoản', '18-2023-QH15', '20-06-2023', '01-07-2024'], 'Article': 'Điều 43. Trách nhiệm của Bộ Quốc phòng', 'chu_de': 'Phòng thủ dân sự', 'ngay_hieu_luc': '01/07/2024', '_id': '4cc86220-6dc2-4246-bb3b-48f4140760cd', '_collection_name': 'demo_Luat_Keywords'}, page_content='Điều 43. Trách nhiệm của Bộ Quốc phòng\\n1. Ban hành, trình cấp có thẩm quyền ban hành và tổ chức thực hiện văn bản quy phạm pháp luật về phòng thủ dân sự thuộc lĩnh vực quản lý;'), 0.842420220375061]\n",
      "[Document(metadata={'Content': '3. Luật Căn cước công dân số 59/2014/QH13 đã được sửa đổi, bổ sung một số điều theo Luật số 68/2020/QH14 hết hiệu lực kể từ ngày Luật này có hiệu lực thi hành.', 'Section': None, 'noi_ban_hanh': 'Quốc hội', 'Article-Section': 'Khoản 3.', 'loai_van_ban': 'Luật', 'Mini-Section': None, 'Chapter': 'Chương VII: ĐIỀU KHOẢN THI HÀNH', 'linhvuc_nganh': 'Quyền dân sự', 'stt': '14', 'so_hieu': '26/2023/QH15', 'ngay_ban_hanh': '27/11/2023', 'key_words': ['luật', 'quốc', 'hội', '26/2023/QH15', 'quyền', 'dân', 'sự', '27/11/2023', '01/07/2024', 'căn', 'cước', 'điều', '45', 'hiệu', 'lực', 'thi', 'hành', '3', 'công', 'số', '59/2014/QH13', 'đã', 'được', 'sửa', 'đổi', 'bổ', 'sung', 'một', 'theo', '68/2020/QH14', 'hết', 'kể', 'từ', 'ngày', 'này', 'có', 'chương', 'VII', 'khoản', '26-2023-QH15', '27-11-2023', '01-07-2024', '59-2014-QH13', '68-2020-QH14'], 'Article': 'Điều 45. Hiệu lực thi hành', 'chu_de': 'Căn cước', 'ngay_hieu_luc': '01/07/2024', '_id': '16abc761-b171-4223-ac72-aa63f8781ade', '_collection_name': 'demo_Luat_Keywords'}, page_content='Điều 45. Hiệu lực thi hành\\n3. Luật Căn cước công dân số 59/2014/QH13 đã được sửa đổi, bổ sung một số điều theo Luật số 68/2020/QH14 hết hiệu lực kể từ ngày Luật này có hiệu lực thi hành.'), 0.8288538455963135]\n",
      "[Document(metadata={'Content': '', 'Section': 'Mục 1. SỬA ĐỔI, BỔ SUNG MỘT SỐ ĐIỀU CỦA CÁC LUẬT, NGHỊ QUYẾT CỦA QUỐC HỘI CÓ LIÊN QUAN ĐẾN ĐẤT ĐAI', 'Chapter': 'Chương XVI: ĐIỀU KHOẢN THI HÀNH', 'Article-Section': 'Khoản 7.', 'loai_van_ban': 'Luật', 'Mini-Section': None, 'noi_ban_hanh': 'Quốc hội', 'linhvuc_nganh': 'Bất động sản', 'stt': '18', 'so_hieu': '31/2024/QH15', 'ngay_ban_hanh': '18/01/2024', 'key_words': ['luật', 'quốc', 'hội', '31/2024/QH15', 'bất', 'động', 'sản', '18/01/2024', '01/08/2024', 'đất', 'đai', 'điều', '245', 'sửa', 'đổi', 'bổ', 'sung', 'một', 'số', 'của', 'tổ', 'chức', 'chính', 'quyền', 'địa', 'phương', '77/2015/QH13', 'đã', 'được', 'theo', '21/2017/QH14', '47/2019/QH14', 'và', 'nghị', 'quyết', '96/2023/QH15', 'chương', 'XVI', 'khoản', 'thi', 'hành', 'mục', '1', 'các', 'có', 'liên', 'quan', 'đến', '7', '31-2024-QH15', '18-01-2024', '01-08-2024', '77-2015-QH13', '21-2017-QH14', '47-2019-QH14', '96-2023-QH15'], 'Article': 'Điều 245. Sửa đổi, bổ sung một số điều của Luật Tổ chức chính quyền địa phương số 77/2015/QH13 đã được sửa đổi, bổ sung một số điều theo Luật số 21/2017/QH14, Luật số 47/2019/QH14 và Nghị quyết số 96/2023/QH15', 'chu_de': 'Đất đai', 'ngay_hieu_luc': '01/08/2024', '_id': 'fa5ee092-56b8-4961-a81d-aca274ae3b73', '_collection_name': 'demo_Luat_Keywords'}, page_content='Điều 245. Sửa đổi, bổ sung một số điều của Luật Tổ chức chính quyền địa phương số 77/2015/QH13 đã được sửa đổi, bổ sung một số điều theo Luật số 21/2017/QH14, Luật số 47/2019/QH14 và Nghị quyết số 96/2023/QH15\\n'), 0.8058667182922363]\n",
      "[Document(metadata={'Content': '18. Chủ sở hữu nhà ở là tổ chức, cá nhân có quyền sở hữu nhà ở theo quy định của Luật này.', 'Section': None, 'Chapter': 'Chương I: NHỮNG QUY ĐỊNH CHUNG', 'Article-Section': 'Khoản 18.', 'loai_van_ban': 'Luật', 'Mini-Section': None, 'noi_ban_hanh': 'Quốc hội', 'linhvuc_nganh': 'Bất động sản', 'stt': '15', 'so_hieu': '27/2023/QH15', 'ngay_ban_hanh': '27/11/2023', 'key_words': ['luật', 'quốc', 'hội', '27/2023/QH15', 'bất', 'động', 'sản', '27/11/2023', '01/08/2024', 'nhà', 'ở', 'điều', '2', 'giải', 'thích', 'từ', 'ngữ', '18', 'chủ', 'sở', 'hữu', 'là', 'tổ', 'chức', 'cá', 'nhân', 'có', 'quyền', 'theo', 'quy', 'định', 'của', 'này', 'chương', 'I', 'những', 'chung', 'khoản', '27-2023-QH15', '27-11-2023', '01-08-2024'], 'Article': 'Điều 2. Giải thích từ ngữ', 'chu_de': 'Nhà ở', 'ngay_hieu_luc': '01/08/2024', '_id': '393fbf66-a96c-4cb8-937f-b451a35fc3a7', '_collection_name': 'demo_Luat_Keywords'}, page_content='Điều 2. Giải thích từ ngữ\\n18. Chủ sở hữu nhà ở là tổ chức, cá nhân có quyền sở hữu nhà ở theo quy định của Luật này.'), 0.8396553993225098]\n",
      "[Document(metadata={'Content': '1. Gây khó khăn, phiền hà hoặc cản trở, đe dọa công dân thực hiện dân chủ ở cơ sở.', 'Section': None, 'noi_ban_hanh': 'Quốc hội', 'Article-Section': 'Khoản 1.', 'loai_van_ban': 'Luật', 'Mini-Section': None, 'Chapter': 'Chương I: NHỮNG QUY ĐỊNH CHUNG', 'linhvuc_nganh': 'Quyền dân sự', 'stt': '1', 'so_hieu': '10/2022/QH15', 'ngay_ban_hanh': '10/11/2022', 'key_words': ['luật', 'quốc', 'hội', '10/2022/QH15', 'quyền', 'dân', 'sự', '10/11/2022', '01/07/2023', 'thực', 'hiện', 'chủ', 'ở', 'cơ', 'sở', 'điều', '9', 'các', 'hành', 'vi', 'bị', 'nghiêm', 'cấm', 'trong', '1', 'gây', 'khó', 'khăn', 'phiền', 'hà', 'hoặc', 'cản', 'trở', 'đe', 'dọa', 'công', 'chương', 'I', 'những', 'quy', 'định', 'chung', 'khoản', '10-2022-QH15', '10-11-2022', '01-07-2023'], 'Article': 'Điều 9. Các hành vi bị nghiêm cấm trong thực hiện dân chủ ở cơ sở', 'chu_de': 'Thực hiện dân chủ ở cơ sở', 'ngay_hieu_luc': '01/07/2023', '_id': 'f160d5d1-e7d4-4427-b2c5-730bca30591f', '_collection_name': 'demo_Luat_Keywords'}, page_content='Điều 9. Các hành vi bị nghiêm cấm trong thực hiện dân chủ ở cơ sở\\n1. Gây khó khăn, phiền hà hoặc cản trở, đe dọa công dân thực hiện dân chủ ở cơ sở.'), 0.8407150506973267]\n"
     ]
    },
    {
     "name": "stderr",
     "output_type": "stream",
     "text": [
      "C:\\Users\\ADMIN\\AppData\\Local\\Temp\\ipykernel_15100\\3142861224.py:12: LangChainBetaWarning: The function `loads` is in beta. It is actively being worked on, so the API may change.\n",
      "  (loads(doc), score)\n"
     ]
    }
   ],
   "source": [
    "user_query = \"Trong lĩnh vực Dân sự do Quốc hội ban hành thuộc số 10/2022/QH15, \\\"Thực hiện dân chủ ở cơ sở\\\" có nghĩa là gì?\"\n",
    "embedding_model = model_Dense_Embedding  # Ví dụ về mô hình embedding\n",
    "qdrant_url = URL_QDRANT\n",
    "qdrant_api_key = API_QDRANT\n",
    "\n",
    "top_documents = search_and_rerank(user_query, key_manager, embedding_model, qdrant_url, qdrant_api_key)\n",
    "\n",
    "for doc in top_documents:\n",
    "    print(doc)"
   ]
  },
  {
   "cell_type": "code",
   "execution_count": 23,
   "metadata": {},
   "outputs": [
    {
     "name": "stdout",
     "output_type": "stream",
     "text": [
      "Page_Content:\n",
      " Điều 43. Trách nhiệm của Bộ Quốc phòng\n",
      "1. Ban hành, trình cấp có thẩm quyền ban hành và tổ chức thực hiện văn bản quy phạm pháp luật về phòng thủ dân sự thuộc lĩnh vực quản lý;\n",
      "Score: 0.842420220375061 \n",
      "\n",
      "Page_Content:\n",
      " Điều 45. Hiệu lực thi hành\n",
      "3. Luật Căn cước công dân số 59/2014/QH13 đã được sửa đổi, bổ sung một số điều theo Luật số 68/2020/QH14 hết hiệu lực kể từ ngày Luật này có hiệu lực thi hành.\n",
      "Score: 0.8288538455963135 \n",
      "\n",
      "Page_Content:\n",
      " Điều 245. Sửa đổi, bổ sung một số điều của Luật Tổ chức chính quyền địa phương số 77/2015/QH13 đã được sửa đổi, bổ sung một số điều theo Luật số 21/2017/QH14, Luật số 47/2019/QH14 và Nghị quyết số 96/2023/QH15\n",
      "\n",
      "Score: 0.8058667182922363 \n",
      "\n",
      "Page_Content:\n",
      " Điều 2. Giải thích từ ngữ\n",
      "18. Chủ sở hữu nhà ở là tổ chức, cá nhân có quyền sở hữu nhà ở theo quy định của Luật này.\n",
      "Score: 0.8396553993225098 \n",
      "\n",
      "Page_Content:\n",
      " Điều 9. Các hành vi bị nghiêm cấm trong thực hiện dân chủ ở cơ sở\n",
      "1. Gây khó khăn, phiền hà hoặc cản trở, đe dọa công dân thực hiện dân chủ ở cơ sở.\n",
      "Score: 0.8407150506973267 \n",
      "\n"
     ]
    }
   ],
   "source": [
    "for doc,score in top_documents:\n",
    "    print(\"Page_Content:\\n\",doc.page_content)\n",
    "    # print(\"Context:\\n\",doc.metadata['context'],\"\\n\")\n",
    "    # print(\"Số hiệu:\\n\",doc.metadata['so_hieu'])\n",
    "    print(\"Score:\",score,\"\\n\")"
   ]
  },
  {
   "cell_type": "code",
   "execution_count": null,
   "metadata": {},
   "outputs": [],
   "source": []
  }
 ],
 "metadata": {
  "kernelspec": {
   "display_name": "Python 3",
   "language": "python",
   "name": "python3"
  },
  "language_info": {
   "codemirror_mode": {
    "name": "ipython",
    "version": 3
   },
   "file_extension": ".py",
   "mimetype": "text/x-python",
   "name": "python",
   "nbconvert_exporter": "python",
   "pygments_lexer": "ipython3",
   "version": "3.9.8"
  }
 },
 "nbformat": 4,
 "nbformat_minor": 2
}
