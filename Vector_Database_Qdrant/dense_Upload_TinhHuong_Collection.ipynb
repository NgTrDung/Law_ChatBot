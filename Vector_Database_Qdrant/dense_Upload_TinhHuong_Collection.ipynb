{
 "cells": [
  {
   "cell_type": "markdown",
   "metadata": {},
   "source": [
    "# 1. Thư viện"
   ]
  },
  {
   "cell_type": "code",
   "execution_count": 1,
   "metadata": {},
   "outputs": [],
   "source": [
    "import os\n",
    "import json\n",
    "\n",
    "from dotenv import load_dotenv\n",
    "from langchain_community.embeddings import GPT4AllEmbeddings\n",
    "from langchain.docstore.document import Document\n",
    "from qdrant_client import QdrantClient, models\n",
    "from qdrant_client.http.models import Distance, VectorParams\n",
    "from langchain_qdrant import QdrantVectorStore, RetrievalMode"
   ]
  },
  {
   "cell_type": "markdown",
   "metadata": {},
   "source": [
    "# 2. Model embedding"
   ]
  },
  {
   "cell_type": "markdown",
   "metadata": {},
   "source": [
    "## 2.1. Dùng model embedding gpt4all từ langchain"
   ]
  },
  {
   "cell_type": "code",
   "execution_count": 2,
   "metadata": {},
   "outputs": [],
   "source": [
    "model_name = \"nomic-embed-text-v1.f16.gguf\"\n",
    "gpt4all_kwargs = {'allow_download': 'True'}\n",
    "\n",
    "model_Dense_Embedding = GPT4AllEmbeddings(\n",
    "    model_name=model_name,\n",
    "    gpt4all_kwargs=gpt4all_kwargs,\n",
    "    )"
   ]
  },
  {
   "cell_type": "markdown",
   "metadata": {},
   "source": [
    "# 3. Tạo Collection"
   ]
  },
  {
   "cell_type": "code",
   "execution_count": 3,
   "metadata": {},
   "outputs": [],
   "source": [
    "load_dotenv()\n",
    "\n",
    "URL_QDRANT = os.getenv(\"URL_QDRANT\")\n",
    "API_QDRANT = os.getenv(\"API_QDRANT\")"
   ]
  },
  {
   "cell_type": "code",
   "execution_count": 4,
   "metadata": {},
   "outputs": [],
   "source": [
    "url = URL_QDRANT\n",
    "api_key = API_QDRANT"
   ]
  },
  {
   "cell_type": "markdown",
   "metadata": {},
   "source": [
    "## 3.1. Load file data"
   ]
  },
  {
   "cell_type": "code",
   "execution_count": 5,
   "metadata": {},
   "outputs": [],
   "source": [
    "with open(r'data\\tinh_huong\\json\\page_content.json', 'r', encoding='utf-8') as f:\n",
    "    page_content_list = json.load(f)\n",
    "\n",
    "with open(r'data\\tinh_huong\\json\\metadata.json', 'r', encoding='utf-8') as f:\n",
    "    metadata_list = json.load(f)"
   ]
  },
  {
   "cell_type": "code",
   "execution_count": 6,
   "metadata": {},
   "outputs": [],
   "source": [
    "documents = []\n",
    "for page_content, metadata in zip(page_content_list, metadata_list):\n",
    "    doc = Document(page_content=page_content, metadata=metadata)\n",
    "    documents.append(doc)"
   ]
  },
  {
   "cell_type": "code",
   "execution_count": 7,
   "metadata": {},
   "outputs": [
    {
     "name": "stdout",
     "output_type": "stream",
     "text": [
      "Page Content: Người dân tộc thiểu số xã nông thôn mới có được hỗ trợ BHYT?\n",
      "Metadata: {'key_word': ['người', 'dân', 'tộc', 'thiểu', 'số', 'xã', 'nông', 'thôn', 'mới', 'có', 'được', 'hỗ', 'trợ', 'bhyt'], 'context': 'Tôi xin hỏi, một xã giai đoạn 2016-2020 là xã khu vực III, sang giai đoạn 2021-2025 là xã khu vực I, đã đạt chuẩn xã nông thôn mới thì người dân tộc thiểu số trên địa bàn xã này có thuộc nhóm đối tượng được ngân sách Nhà nước hỗ trợ đóng BHYT không?\\nBộ Y tế trả lời vấn đề này như sau:Ngày 19/10/2023, Chính phủ ban hành Nghị định số75/2023/NĐ-CPsửa đổi, bổ sung một số điều của Nghị định số 146/2023/NĐ-CP ngày 17/10/2018 của Chính phủ quy định chi tiết và hướng dẫn biện pháp thi hành một số điều của Luật BHYT, trong đó có quy định:Người dân tộc thiểu số đang sinh sống tại địa bàn các xã khu vực II, khu vực III, thôn đặc biệt khó khăn thuộc vùng đồng bào dân tộc thiểu số và miền núi giai đoạn 2016-2020 mà các xã này không còn trong danh sách các xã khu vực II, khu vực III, thôn đặc biệt khó khăn thuộc vùng đồng bào dân tộc thiểu số và miền núi giai đoạn 2021-2025 theo quyết định của Thủ tướng Chính phủ tiếp tục được ngân sách Nhà nước hỗ trợ tối thiểu 70% mức đóng BHYT trong thời gian 36 tháng kể từ ngày 1/11/2023.'}\n",
      "--------------------------------------------------\n",
      "Page Content: Có được truy lĩnh chế độ thai sản?\n",
      "Metadata: {'key_word': ['có', 'được', 'truy', 'lĩnh', 'chế', 'độ', 'thai', 'sản'], 'context': 'Tôi đóng BHXH từ tháng 6/2011 đến tháng 12/2014, tháng 8/2014 tôi sinh con. Do công ty nợ tiền BHXH nên hết thời gian nghỉ thai sản tôi chưa được thanh toán chế độ. Năm 2021 công ty đã nộp hết số tiền nợ BHXH và giải thể. Xin hỏi, bây giờ tôi làm đơn xin hưởng chế độ thai sản của năm 2014 có được không?\\nBảo hiểm xã hội Việt Nam trả lời vấn đề này như sau:Tại Khoản 2 Điều 28Luật BHXH năm 2006quy định điều kiện hưởng chế độ thai sản đối với lao động nữ sinh con là: Phải đóng BHXH từ đủ 6 tháng trở lên trong thời gian 12 tháng trước khi sinh con.Đối chiếu quy định nêu trên, trường hợp của bà Ngô Đảm sinh con vào tháng 8/2014, trong thời gian 12 tháng trước khi sinh con (được xác định từ tháng 8/2013 đến tháng 7/2014) bà có 12 tháng đóng BHXH (nếu đóng BHXH liên tục trong khoảng thời gian này), bà đủ điều kiện hưởng chế độ thai sản khi sinh con.Đề nghị bà liên hệ với cơ quan BHXH nơi đơn vị đã đóng BHXH để cơ quan BHXH hướng dẫn, trả lời cụ thể về việc lập hồ sơ, giải quyết chế độ thai sản đối với bà.'}\n",
      "--------------------------------------------------\n",
      "Page Content: Khi nào cần xin thêm Giấy chứng nhận nghỉ việc hưởng BHXH?\n",
      "Metadata: {'key_word': ['khi', 'nào', 'cần', 'xin', 'thêm', 'giấy', 'chứng', 'nhận', 'nghỉ', 'việc', 'hưởng', 'bhxh'], 'context': 'Tôi xin hỏi, trên giấy ra viện có ghi chú người lao động được nghỉ lao động 10 ngày, vậy, có cần xin thêm Giấy chứng nhận nghỉ việc hưởng BHXH để hưởng 10 ngày đó không?\\nBảo hiểm xã hội Việt Nam trả lời vấn đề này như sau:Tại Khoản 14 Điều 1 Thông tư số18/2022/TT-BYTngày 31/12/2022 của Bộ trưởng Bộ Y tế sửa đổi, bổ sung một số điều của Thông tư số 56/2017/TT-BYT ngày 29/12/2017 của Bộ trưởng Bộ Y tế quy định chi tiết thi hành Luật BHXH và Luật An toàn, vệ sinh lao động thuộc lĩnh y tế quy định như sau:Trường hợp người bệnh cần nghỉ để điều trị ngoại trú sau khi ra viện thì cơ quan BHXH căn cứ số ngày nghỉ ghi tại phần ghi chú của giấy ra viện để làm căn cứ thanh toán chế độ BHXH theo quy định.Đối chiếu quy định nêu trên, việc cơ sở khám bệnh, chữa bệnh ghi thêm số ngày nghỉ để điều trị ngoại trú tại phần ghi chú trên giấy ra viện là đúng quy định và số ngày nghỉ điều trị ngoại trú đó sẽ được cơ quan BHXH căn cứ để giải quyết chế độ BHXH đối với bà theo quy định.Do đó, bà không phải xin cấp thêm Giấy chứng nhận nghỉ việc hưởng BHXH đối với 10 ngày nghỉ việc điều trị ngoại trú nêu trên.'}\n",
      "--------------------------------------------------\n"
     ]
    }
   ],
   "source": [
    "# In ra 3 document đầu tiên\n",
    "for doc in documents[:3]:\n",
    "    print(\"Page Content:\", doc.page_content)\n",
    "    print(\"Metadata:\", doc.metadata)\n",
    "    print(\"-\" * 50)  # Để phân cách giữa các document"
   ]
  },
  {
   "cell_type": "code",
   "execution_count": 8,
   "metadata": {},
   "outputs": [],
   "source": [
    "# # Đường dẫn tới file JSON\n",
    "# file_path = r'data\\tinh_huong\\json\\data_context.json'\n",
    "\n",
    "# # Mở và load file JSON\n",
    "# with open(file_path, 'r', encoding='utf-8') as f:\n",
    "#     data = json.load(f)"
   ]
  },
  {
   "cell_type": "code",
   "execution_count": 9,
   "metadata": {},
   "outputs": [],
   "source": [
    "# # In ra 3 đối tượng đầu tiên\n",
    "# for item in data[:3]:\n",
    "#     print(item['question'],\"\\n\")\n",
    "#     print(item['answer'])\n",
    "#     print('-' * 40)  # Đường phân cách giữa các đối tượng"
   ]
  },
  {
   "cell_type": "markdown",
   "metadata": {},
   "source": [
    "## 3.2. Tạo các documents từ data"
   ]
  },
  {
   "cell_type": "code",
   "execution_count": 10,
   "metadata": {},
   "outputs": [],
   "source": [
    "# # Tạo danh sách các Document\n",
    "# documents = [Document(\n",
    "#     page_content = item['question'],\n",
    "#     metadata = {\n",
    "#         \"context\": item['answer'],\n",
    "#         \"key_word\": item['question'].lower().split()  # Tách từ và chuyển thành lowercase\n",
    "#         }\n",
    "# ) for item in data]"
   ]
  },
  {
   "cell_type": "code",
   "execution_count": 11,
   "metadata": {},
   "outputs": [],
   "source": [
    "# # In ra thông tin các Document để kiểm tra\n",
    "# for doc in documents[:3]:  # In 3 đối tượng đầu tiên để kiểm tra\n",
    "#     print('Page Content:', doc.page_content,'\\n')\n",
    "#     print('Metadata \\\"context\\\":', doc.metadata['context'],\"\\n\")\n",
    "#     print('Metadata \\\"key_word\\\":', doc.metadata['key_word'])\n",
    "#     print('-' * 40)"
   ]
  },
  {
   "cell_type": "markdown",
   "metadata": {},
   "source": [
    "## 3.3. Tạo collection"
   ]
  },
  {
   "cell_type": "code",
   "execution_count": 12,
   "metadata": {},
   "outputs": [],
   "source": [
    "qdrant = QdrantVectorStore.from_documents(\n",
    "    documents = documents,\n",
    "    embedding = model_Dense_Embedding,\n",
    "    url = url,\n",
    "    api_key = api_key,\n",
    "    prefer_grpc=True,\n",
    "    collection_name = \"dense_TinhHuong\",\n",
    "    retrieval_mode=RetrievalMode.DENSE,\n",
    "\tmetadata_payload_key=\"metadata\"\n",
    ")"
   ]
  },
  {
   "cell_type": "code",
   "execution_count": null,
   "metadata": {},
   "outputs": [],
   "source": []
  }
 ],
 "metadata": {
  "kernelspec": {
   "display_name": "Python 3",
   "language": "python",
   "name": "python3"
  },
  "language_info": {
   "codemirror_mode": {
    "name": "ipython",
    "version": 3
   },
   "file_extension": ".py",
   "mimetype": "text/x-python",
   "name": "python",
   "nbconvert_exporter": "python",
   "pygments_lexer": "ipython3",
   "version": "3.9.8"
  }
 },
 "nbformat": 4,
 "nbformat_minor": 2
}
