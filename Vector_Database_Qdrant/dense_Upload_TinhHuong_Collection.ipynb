{
 "cells": [
  {
   "cell_type": "markdown",
   "metadata": {},
   "source": [
    "# 1. Thư viện"
   ]
  },
  {
   "cell_type": "code",
   "execution_count": 1,
   "metadata": {},
   "outputs": [
    {
     "name": "stderr",
     "output_type": "stream",
     "text": [
      "d:\\Download_Python\\lib\\importlib\\__init__.py:127: LangChainDeprecationWarning: As of langchain-core 0.3.0, LangChain uses pydantic v2 internally. The langchain_core.pydantic_v1 module was a compatibility shim for pydantic v1, and should no longer be used. Please update the code to import from Pydantic directly.\n",
      "\n",
      "For example, replace imports like: `from langchain_core.pydantic_v1 import BaseModel`\n",
      "with: `from pydantic import BaseModel`\n",
      "or the v1 compatibility namespace if you are working in a code base that has not been fully upgraded to pydantic 2 yet. \tfrom pydantic.v1 import BaseModel\n",
      "\n",
      "  return _bootstrap._gcd_import(name[level:], package, level)\n"
     ]
    }
   ],
   "source": [
    "import os\n",
    "import json\n",
    "\n",
    "from dotenv import load_dotenv\n",
    "from langchain_community.embeddings import GPT4AllEmbeddings\n",
    "from langchain.docstore.document import Document\n",
    "from qdrant_client import QdrantClient, models\n",
    "from qdrant_client.http.models import Distance, VectorParams\n",
    "from langchain_qdrant import QdrantVectorStore, RetrievalMode"
   ]
  },
  {
   "cell_type": "markdown",
   "metadata": {},
   "source": [
    "# 2. Model embedding"
   ]
  },
  {
   "cell_type": "markdown",
   "metadata": {},
   "source": [
    "## 2.1. Dùng model embedding gpt4all từ langchain"
   ]
  },
  {
   "cell_type": "code",
   "execution_count": 2,
   "metadata": {},
   "outputs": [],
   "source": [
    "model_name = \"nomic-embed-text-v1.f16.gguf\"\n",
    "gpt4all_kwargs = {'allow_download': 'True'}\n",
    "\n",
    "model_Dense_Embedding = GPT4AllEmbeddings(\n",
    "    model_name=model_name,\n",
    "    gpt4all_kwargs=gpt4all_kwargs,\n",
    "    )"
   ]
  },
  {
   "cell_type": "markdown",
   "metadata": {},
   "source": [
    "## 2.2. Dùng model Viet-Mistral/Vistral-7B-Chats"
   ]
  },
  {
   "cell_type": "code",
   "execution_count": 3,
   "metadata": {},
   "outputs": [],
   "source": [
    "# nothing here"
   ]
  },
  {
   "cell_type": "markdown",
   "metadata": {},
   "source": [
    "# 3. Tạo Collection"
   ]
  },
  {
   "cell_type": "code",
   "execution_count": 4,
   "metadata": {},
   "outputs": [],
   "source": [
    "load_dotenv()\n",
    "\n",
    "URL_QDRANT = os.getenv(\"URL_QDRANT\")\n",
    "API_QDRANT = os.getenv(\"API_QDRANT\")"
   ]
  },
  {
   "cell_type": "code",
   "execution_count": 5,
   "metadata": {},
   "outputs": [],
   "source": [
    "url = URL_QDRANT\n",
    "api_key = API_QDRANT"
   ]
  },
  {
   "cell_type": "markdown",
   "metadata": {},
   "source": [
    "## 3.1. Load file data"
   ]
  },
  {
   "cell_type": "code",
   "execution_count": 6,
   "metadata": {},
   "outputs": [],
   "source": [
    "# Tải dữ liệu từ file JSON\n",
    "with open(r'data\\trich_dan_luat\\json\\test_Combined_Output_Keywords.json', 'r', encoding='utf-8') as f:\n",
    "    data_list = json.load(f)"
   ]
  },
  {
   "cell_type": "markdown",
   "metadata": {},
   "source": [
    "## 3.2. Tạo các documents từ data"
   ]
  },
  {
   "cell_type": "code",
   "execution_count": 7,
   "metadata": {},
   "outputs": [],
   "source": [
    "documents = []\n",
    "for data in data_list:\n",
    "    # Lấy page_content từ key \"combine_Article_Content\"\n",
    "    page_content = data.get(\"combine_Article_Content\", \"\")\n",
    "    \n",
    "    # Tạo metadata từ các key khác, loại trừ \"combine_Article_Content\"\n",
    "    metadata = {key: value for key, value in data.items() if key != \"combine_Article_Content\"}\n",
    "    \n",
    "    # Tạo Document và thêm vào danh sách documents\n",
    "    doc = Document(page_content=page_content, metadata=metadata)\n",
    "    documents.append(doc)"
   ]
  },
  {
   "cell_type": "code",
   "execution_count": 8,
   "metadata": {},
   "outputs": [
    {
     "name": "stdout",
     "output_type": "stream",
     "text": [
      "Page Content: Điều 1. Phạm vi điều chỉnh\n",
      "1. Luật này quy định việc thực hiện giao dịch bằng phương tiện điện tử.\n",
      "Metadata: {'stt': '10', 'loai_van_ban': 'Luật', 'noi_ban_hanh': 'Quốc hội', 'so_hieu': '20/2023/QH15', 'linhvuc_nganh': 'Thương mại, Công nghệ thông tin, Quyền dân sự', 'ngay_ban_hanh': '22/06/2023', 'ngay_hieu_luc': '01/07/2024', 'chu_de': 'Giao dịch điện tử', 'key_words': ['luật', 'quốc', 'hội', '20/2023/QH15', 'thương', 'mại', 'công', 'nghệ', 'thông', 'tin', 'quyền', 'dân', 'sự', '22/06/2023', '01/07/2024', 'giao', 'dịch', 'điện', 'tử', 'điều', '1', 'phạm', 'vi', 'chỉnh', 'này', 'quy', 'định', 'việc', 'thực', 'hiện', 'bằng', 'phương', 'tiện', 'chương', 'I', 'những', 'chung', 'khoản', '20-2023-QH15', '22-06-2023', '01-07-2024'], 'Chapter': 'Chương I: NHỮNG QUY ĐỊNH CHUNG', 'Section': None, 'Mini-Section': None, 'Article': 'Điều 1. Phạm vi điều chỉnh', 'Content': '1. Luật này quy định việc thực hiện giao dịch bằng phương tiện điện tử.', 'Article-Section': 'Khoản 1.'}\n",
      "--------------------------------------------------\n",
      "Page Content: Điều 1. Phạm vi điều chỉnh\n",
      "2. Luật này không quy định về nội dung, điều kiện, hình thức của giao dịch.\n",
      "Metadata: {'stt': '10', 'loai_van_ban': 'Luật', 'noi_ban_hanh': 'Quốc hội', 'so_hieu': '20/2023/QH15', 'linhvuc_nganh': 'Thương mại, Công nghệ thông tin, Quyền dân sự', 'ngay_ban_hanh': '22/06/2023', 'ngay_hieu_luc': '01/07/2024', 'chu_de': 'Giao dịch điện tử', 'key_words': ['luật', 'quốc', 'hội', '20/2023/QH15', 'thương', 'mại', 'công', 'nghệ', 'thông', 'tin', 'quyền', 'dân', 'sự', '22/06/2023', '01/07/2024', 'giao', 'dịch', 'điện', 'tử', 'điều', '1', 'phạm', 'vi', 'chỉnh', '2', 'này', 'không', 'quy', 'định', 'về', 'nội', 'dung', 'kiện', 'hình', 'thức', 'của', 'chương', 'I', 'những', 'chung', 'khoản', '20-2023-QH15', '22-06-2023', '01-07-2024'], 'Chapter': 'Chương I: NHỮNG QUY ĐỊNH CHUNG', 'Section': None, 'Mini-Section': None, 'Article': 'Điều 1. Phạm vi điều chỉnh', 'Content': '2. Luật này không quy định về nội dung, điều kiện, hình thức của giao dịch.', 'Article-Section': 'Khoản 2.'}\n",
      "--------------------------------------------------\n",
      "Page Content: Điều 1. Phạm vi điều chỉnh\n",
      "3. Trường hợp luật khác quy định hoặc không quy định giao dịch được thực hiện bằng phương tiện điện tử thì được áp dụng theo quy định của Luật này. Trường hợp luật khác quy định không được thực hiện giao dịch bằng phương tiện điện tử thì thực hiện theo quy định của luật đó.\n",
      "Metadata: {'stt': '10', 'loai_van_ban': 'Luật', 'noi_ban_hanh': 'Quốc hội', 'so_hieu': '20/2023/QH15', 'linhvuc_nganh': 'Thương mại, Công nghệ thông tin, Quyền dân sự', 'ngay_ban_hanh': '22/06/2023', 'ngay_hieu_luc': '01/07/2024', 'chu_de': 'Giao dịch điện tử', 'key_words': ['luật', 'quốc', 'hội', '20/2023/QH15', 'thương', 'mại', 'công', 'nghệ', 'thông', 'tin', 'quyền', 'dân', 'sự', '22/06/2023', '01/07/2024', 'giao', 'dịch', 'điện', 'tử', 'điều', '1', 'phạm', 'vi', 'chỉnh', '3', 'trường', 'hợp', 'khác', 'quy', 'định', 'hoặc', 'không', 'được', 'thực', 'hiện', 'bằng', 'phương', 'tiện', 'thì', 'áp', 'dụng', 'theo', 'của', 'này', 'đó', 'chương', 'I', 'những', 'chung', 'khoản', '20-2023-QH15', '22-06-2023', '01-07-2024'], 'Chapter': 'Chương I: NHỮNG QUY ĐỊNH CHUNG', 'Section': None, 'Mini-Section': None, 'Article': 'Điều 1. Phạm vi điều chỉnh', 'Content': '3. Trường hợp luật khác quy định hoặc không quy định giao dịch được thực hiện bằng phương tiện điện tử thì được áp dụng theo quy định của Luật này. Trường hợp luật khác quy định không được thực hiện giao dịch bằng phương tiện điện tử thì thực hiện theo quy định của luật đó.', 'Article-Section': 'Khoản 3.'}\n",
      "--------------------------------------------------\n"
     ]
    }
   ],
   "source": [
    "# In ra 3 document đầu tiên\n",
    "for doc in documents[:3]:\n",
    "    print(\"Page Content:\", doc.page_content)\n",
    "    print(\"Metadata:\", doc.metadata)\n",
    "    print(\"-\" * 50)  # Để phân cách giữa các document"
   ]
  },
  {
   "cell_type": "markdown",
   "metadata": {},
   "source": [
    "## 3.3. Tạo collection"
   ]
  },
  {
   "cell_type": "code",
   "execution_count": 9,
   "metadata": {},
   "outputs": [],
   "source": [
    "qdrant = QdrantVectorStore.from_documents(\n",
    "    documents = documents,\n",
    "    embedding = model_Dense_Embedding,\n",
    "    url = url,\n",
    "    api_key = api_key,\n",
    "    prefer_grpc=True,\n",
    "    collection_name = \"demo_Luat_Keywords\",\n",
    "    retrieval_mode=RetrievalMode.DENSE,\n",
    "\tmetadata_payload_key=\"metadata\"\n",
    ")"
   ]
  },
  {
   "cell_type": "code",
   "execution_count": null,
   "metadata": {},
   "outputs": [],
   "source": []
  }
 ],
 "metadata": {
  "kernelspec": {
   "display_name": "Python 3",
   "language": "python",
   "name": "python3"
  },
  "language_info": {
   "codemirror_mode": {
    "name": "ipython",
    "version": 3
   },
   "file_extension": ".py",
   "mimetype": "text/x-python",
   "name": "python",
   "nbconvert_exporter": "python",
   "pygments_lexer": "ipython3",
   "version": "3.9.8"
  }
 },
 "nbformat": 4,
 "nbformat_minor": 2
}
