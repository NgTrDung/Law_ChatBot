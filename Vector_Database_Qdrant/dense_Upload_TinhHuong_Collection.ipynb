{
 "cells": [
  {
   "cell_type": "markdown",
   "metadata": {},
   "source": [
    "# 1. Thư viện"
   ]
  },
  {
   "cell_type": "code",
   "execution_count": 1,
   "metadata": {},
   "outputs": [
    {
     "name": "stderr",
     "output_type": "stream",
     "text": [
      "d:\\Download_Python\\lib\\importlib\\__init__.py:127: LangChainDeprecationWarning: As of langchain-core 0.3.0, LangChain uses pydantic v2 internally. The langchain_core.pydantic_v1 module was a compatibility shim for pydantic v1, and should no longer be used. Please update the code to import from Pydantic directly.\n",
      "\n",
      "For example, replace imports like: `from langchain_core.pydantic_v1 import BaseModel`\n",
      "with: `from pydantic import BaseModel`\n",
      "or the v1 compatibility namespace if you are working in a code base that has not been fully upgraded to pydantic 2 yet. \tfrom pydantic.v1 import BaseModel\n",
      "\n",
      "  return _bootstrap._gcd_import(name[level:], package, level)\n"
     ]
    }
   ],
   "source": [
    "import os\n",
    "import json\n",
    "\n",
    "from dotenv import load_dotenv\n",
    "from langchain_community.embeddings import GPT4AllEmbeddings\n",
    "from langchain.docstore.document import Document\n",
    "from qdrant_client import QdrantClient, models\n",
    "from qdrant_client.http.models import Distance, VectorParams\n",
    "from langchain_qdrant import QdrantVectorStore, RetrievalMode"
   ]
  },
  {
   "cell_type": "markdown",
   "metadata": {},
   "source": [
    "# 2. Model embedding"
   ]
  },
  {
   "cell_type": "markdown",
   "metadata": {},
   "source": [
    "## 2.1. Dùng model embedding gpt4all từ langchain"
   ]
  },
  {
   "cell_type": "code",
   "execution_count": 2,
   "metadata": {},
   "outputs": [],
   "source": [
    "model_name = \"nomic-embed-text-v1.f16.gguf\"\n",
    "gpt4all_kwargs = {'allow_download': 'True'}\n",
    "\n",
    "model_Dense_Embedding = GPT4AllEmbeddings(\n",
    "    model_name=model_name,\n",
    "    gpt4all_kwargs=gpt4all_kwargs,\n",
    "    )"
   ]
  },
  {
   "cell_type": "markdown",
   "metadata": {},
   "source": [
    "## 2.2. Dùng model Viet-Mistral/Vistral-7B-Chats"
   ]
  },
  {
   "cell_type": "code",
   "execution_count": 3,
   "metadata": {},
   "outputs": [],
   "source": [
    "# nothing here"
   ]
  },
  {
   "cell_type": "markdown",
   "metadata": {},
   "source": [
    "# 3. Tạo Collection"
   ]
  },
  {
   "cell_type": "code",
   "execution_count": 4,
   "metadata": {},
   "outputs": [],
   "source": [
    "load_dotenv()\n",
    "\n",
    "URL_QDRANT = os.getenv(\"URL_QDRANT\")\n",
    "API_QDRANT = os.getenv(\"API_QDRANT\")"
   ]
  },
  {
   "cell_type": "code",
   "execution_count": 5,
   "metadata": {},
   "outputs": [],
   "source": [
    "url = URL_QDRANT\n",
    "api_key = API_QDRANT"
   ]
  },
  {
   "cell_type": "markdown",
   "metadata": {},
   "source": [
    "## 3.1. Load file data"
   ]
  },
  {
   "cell_type": "code",
   "execution_count": 6,
   "metadata": {},
   "outputs": [],
   "source": [
    "# Tải dữ liệu từ file JSON\n",
    "with open(r'data\\trich_dan_luat\\json\\test_Combined_Output_Token.json', 'r', encoding='utf-8') as f:\n",
    "    data_list = json.load(f)"
   ]
  },
  {
   "cell_type": "markdown",
   "metadata": {},
   "source": [
    "## 3.2. Tạo các documents từ data"
   ]
  },
  {
   "cell_type": "code",
   "execution_count": 7,
   "metadata": {},
   "outputs": [],
   "source": [
    "documents = []\n",
    "for data in data_list:\n",
    "    # Lấy page_content từ key \"combine_Article_Content\"\n",
    "    page_content = data.get(\"combine_Article_Content\", \"\")\n",
    "    \n",
    "    # Tạo metadata từ các key khác, loại trừ \"combine_Article_Content\"\n",
    "    metadata = {key: value for key, value in data.items() if key != \"combine_Article_Content\"}\n",
    "    \n",
    "    # Tạo Document và thêm vào danh sách documents\n",
    "    doc = Document(page_content=page_content, metadata=metadata)\n",
    "    documents.append(doc)"
   ]
  },
  {
   "cell_type": "code",
   "execution_count": 8,
   "metadata": {},
   "outputs": [
    {
     "name": "stdout",
     "output_type": "stream",
     "text": [
      "Page Content: Điều 1. Phạm vi điều chỉnh\n",
      "Luật này quy định về nội dung, cách thức thực hiện dân chủ ở cơ sở, quyền và nghĩa vụ của công dân trong thực hiện dân chủ ở cơ sở và trách nhiệm của cơ quan, đơn vị, tổ chức, cá nhân trong việc bảo đảm thực hiện dân chủ ở cơ sở.\n",
      "Metadata: {'loai_van_ban': 'Luật', 'noi_ban_hanh': 'Quốc hội', 'so_hieu': '10/2022/QH15', 'linhvuc_nganh': 'Quyền dân sự', 'ngay_ban_hanh': '10/11/2022', 'ngay_hieu_luc': '01/07/2023', 'chu_de': 'Thực hiện dân chủ ở cơ sở', 'Chapter': 'Chương I: NHỮNG QUY ĐỊNH CHUNG', 'Section': None, 'Mini-Section': None, 'Article': 'Điều 1. Phạm vi điều chỉnh', 'Content': 'Luật này quy định về nội dung, cách thức thực hiện dân chủ ở cơ sở, quyền và nghĩa vụ của công dân trong thực hiện dân chủ ở cơ sở và trách nhiệm của cơ quan, đơn vị, tổ chức, cá nhân trong việc bảo đảm thực hiện dân chủ ở cơ sở.', 'key_words': ['Điều', '1', 'Phạm', 'vi', 'điều', 'chỉnh', 'Luật', 'này', 'quy', 'định', 'về', 'nội', 'dung', 'cách', 'thức', 'thực', 'hiện', 'dân', 'chủ', 'ở', 'cơ', 'sở', 'quyền', 'và', 'nghĩa', 'vụ', 'của', 'công', 'trong', 'trách', 'nhiệm', 'quan', 'đơn', 'vị', 'tổ', 'chức', 'cá', 'nhân', 'việc', 'bảo', 'đảm']}\n",
      "--------------------------------------------------\n",
      "Page Content: Điều 2. Giải thích từ ngữ\n",
      "Trong Luật này, các từ ngữ dưới đây được hiểu như sau:\n",
      "1. Cơ sở là xã, phường, thị trấn (sau đây gọi chung là cấp xã) và cộng đồng dân cư trên địa bàn cấp xã; cơ quan nhà nước, đơn vị sự nghiệp công lập (sau đây gọi chung là cơ quan, đơn vị); tổ chức có sử dụng lao động.\n",
      "2. Thực hiện dân chủ ở cơ sở là phương thức phát huy quyền làm chủ của Nhân dân, để công dân, cán bộ, công chức, viên chức, người lao động được thông tin, thể hiện ý chí, nguyện vọng, chính kiến của mình thông qua việc thảo luận, tham gia ý kiến, quyết định và kiểm tra, giám sát các vấn đề ở cơ sở theo quy định của Hiến pháp và pháp luật.\n",
      "3. Cộng đồng dân cư là nhóm công dân Việt Nam sinh sống trên cùng địa bàn thôn, làng, ấp, bản, buôn, bon, phum, sóc (sau đây gọi chung là thôn), tổ dân phố, khu phố, khối phố, khóm, tiểu khu (sau đây gọi chung là tổ dân phố).\n",
      "4. Tổ chức có sử dụng lao động bao gồm doanh nghiệp nhà nước và doanh nghiệp, tổ chức khác có thuê mướn, sử dụng lao động theo hợp đồng lao động thuộc khu vực ngoài Nhà nước.\n",
      "Metadata: {'loai_van_ban': 'Luật', 'noi_ban_hanh': 'Quốc hội', 'so_hieu': '10/2022/QH15', 'linhvuc_nganh': 'Quyền dân sự', 'ngay_ban_hanh': '10/11/2022', 'ngay_hieu_luc': '01/07/2023', 'chu_de': 'Thực hiện dân chủ ở cơ sở', 'Chapter': 'Chương I: NHỮNG QUY ĐỊNH CHUNG', 'Section': None, 'Mini-Section': None, 'Article': 'Điều 2. Giải thích từ ngữ', 'Content': 'Trong Luật này, các từ ngữ dưới đây được hiểu như sau:\\n1. Cơ sở là xã, phường, thị trấn (sau đây gọi chung là cấp xã) và cộng đồng dân cư trên địa bàn cấp xã; cơ quan nhà nước, đơn vị sự nghiệp công lập (sau đây gọi chung là cơ quan, đơn vị); tổ chức có sử dụng lao động.\\n2. Thực hiện dân chủ ở cơ sở là phương thức phát huy quyền làm chủ của Nhân dân, để công dân, cán bộ, công chức, viên chức, người lao động được thông tin, thể hiện ý chí, nguyện vọng, chính kiến của mình thông qua việc thảo luận, tham gia ý kiến, quyết định và kiểm tra, giám sát các vấn đề ở cơ sở theo quy định của Hiến pháp và pháp luật.\\n3. Cộng đồng dân cư là nhóm công dân Việt Nam sinh sống trên cùng địa bàn thôn, làng, ấp, bản, buôn, bon, phum, sóc (sau đây gọi chung là thôn), tổ dân phố, khu phố, khối phố, khóm, tiểu khu (sau đây gọi chung là tổ dân phố).\\n4. Tổ chức có sử dụng lao động bao gồm doanh nghiệp nhà nước và doanh nghiệp, tổ chức khác có thuê mướn, sử dụng lao động theo hợp đồng lao động thuộc khu vực ngoài Nhà nước.', 'key_words': ['Điều', '2', 'Giải', 'thích', 'từ', 'ngữ', 'Trong', 'Luật', 'này', 'các', 'dưới', 'đây', 'được', 'hiểu', 'như', 'sau', '1', 'Cơ', 'sở', 'là', 'xã', 'phường', 'thị', 'trấn', 'gọi', 'chung', 'cấp', 'và', 'cộng', 'đồng', 'dân', 'cư', 'trên', 'địa', 'bàn', 'cơ', 'quan', 'nhà', 'nước', 'đơn', 'vị', 'sự', 'nghiệp', 'công', 'lập', 'tổ', 'chức', 'có', 'sử', 'dụng', 'lao', 'động', 'Thực', 'hiện', 'chủ', 'ở', 'phương', 'thức', 'phát', 'huy', 'quyền', 'làm', 'của', 'Nhân', 'để', 'cán', 'bộ', 'viên', 'người', 'thông', 'tin', 'thể', 'ý', 'chí', 'nguyện', 'vọng', 'chính', 'kiến', 'mình', 'qua', 'việc', 'thảo', 'luận', 'tham', 'gia', 'quyết', 'định', 'kiểm', 'tra', 'giám', 'sát', 'vấn', 'đề', 'theo', 'quy', 'Hiến', 'pháp', 'luật', '3', 'Cộng', 'nhóm', 'Việt', 'Nam', 'sinh', 'sống', 'cùng', 'thôn', 'làng', 'ấp', 'bản', 'buôn', 'bon', 'phum', 'sóc', 'phố', 'khu', 'khối', 'khóm', 'tiểu', '4', 'Tổ', 'bao', 'gồm', 'doanh', 'khác', 'thuê', 'mướn', 'hợp', 'thuộc', 'vực', 'ngoài', 'Nhà']}\n",
      "--------------------------------------------------\n",
      "Page Content: Điều 3. Nguyên tắc thực hiện dân chủ ở cơ sở\n",
      "1. Bảo đảm quyền của công dân, cán bộ, công chức, viên chức, người lao động được biết, tham gia ý kiến, quyết định và kiểm tra, giám sát việc thực hiện dân chủ ở cơ sở.\n",
      "2. Bảo đảm sự lãnh đạo của Đảng, quản lý của Nhà nước, vai trò nòng cốt của Mặt trận Tổ quốc Việt Nam và các tổ chức chính trị - xã hội trong thực hiện dân chủ ở cơ sở.\n",
      "3. Thực hiện dân chủ ở cơ sở trong khuôn khổ Hiến pháp và pháp luật; bảo đảm trật tự, kỷ cương, không cản trở hoạt động bình thường của chính quyền địa phương cấp xã, cơ quan, đơn vị, tổ chức có sử dụng lao động.\n",
      "4. Bảo vệ lợi ích của Nhà nước, quyền và lợi ích hợp pháp của tổ chức, cá nhân.\n",
      "5. Bảo đảm công khai, minh bạch, tăng cường trách nhiệm giải trình trong quá trình thực hiện dân chủ ở cơ sở.\n",
      "6. Tôn trọng ý kiến đóng góp của Nhân dân, kịp thời giải quyết kiến nghị, phản ánh của Nhân dân.\n",
      "Metadata: {'loai_van_ban': 'Luật', 'noi_ban_hanh': 'Quốc hội', 'so_hieu': '10/2022/QH15', 'linhvuc_nganh': 'Quyền dân sự', 'ngay_ban_hanh': '10/11/2022', 'ngay_hieu_luc': '01/07/2023', 'chu_de': 'Thực hiện dân chủ ở cơ sở', 'Chapter': 'Chương I: NHỮNG QUY ĐỊNH CHUNG', 'Section': None, 'Mini-Section': None, 'Article': 'Điều 3. Nguyên tắc thực hiện dân chủ ở cơ sở', 'Content': '1. Bảo đảm quyền của công dân, cán bộ, công chức, viên chức, người lao động được biết, tham gia ý kiến, quyết định và kiểm tra, giám sát việc thực hiện dân chủ ở cơ sở.\\n2. Bảo đảm sự lãnh đạo của Đảng, quản lý của Nhà nước, vai trò nòng cốt của Mặt trận Tổ quốc Việt Nam và các tổ chức chính trị - xã hội trong thực hiện dân chủ ở cơ sở.\\n3. Thực hiện dân chủ ở cơ sở trong khuôn khổ Hiến pháp và pháp luật; bảo đảm trật tự, kỷ cương, không cản trở hoạt động bình thường của chính quyền địa phương cấp xã, cơ quan, đơn vị, tổ chức có sử dụng lao động.\\n4. Bảo vệ lợi ích của Nhà nước, quyền và lợi ích hợp pháp của tổ chức, cá nhân.\\n5. Bảo đảm công khai, minh bạch, tăng cường trách nhiệm giải trình trong quá trình thực hiện dân chủ ở cơ sở.\\n6. Tôn trọng ý kiến đóng góp của Nhân dân, kịp thời giải quyết kiến nghị, phản ánh của Nhân dân.', 'key_words': ['Điều', '3', 'Nguyên', 'tắc', 'thực', 'hiện', 'dân', 'chủ', 'ở', 'cơ', 'sở', '1', 'Bảo', 'đảm', 'quyền', 'của', 'công', 'cán', 'bộ', 'chức', 'viên', 'người', 'lao', 'động', 'được', 'biết', 'tham', 'gia', 'ý', 'kiến', 'quyết', 'định', 'và', 'kiểm', 'tra', 'giám', 'sát', 'việc', '2', 'sự', 'lãnh', 'đạo', 'Đảng', 'quản', 'lý', 'Nhà', 'nước', 'vai', 'trò', 'nòng', 'cốt', 'Mặt', 'trận', 'Tổ', 'quốc', 'Việt', 'Nam', 'các', 'tổ', 'chính', 'trị', 'xã', 'hội', 'trong', 'Thực', 'khuôn', 'khổ', 'Hiến', 'pháp', 'luật', 'bảo', 'trật', 'tự', 'kỷ', 'cương', 'không', 'cản', 'trở', 'hoạt', 'bình', 'thường', 'địa', 'phương', 'cấp', 'quan', 'đơn', 'vị', 'có', 'sử', 'dụng', '4', 'vệ', 'lợi', 'ích', 'hợp', 'cá', 'nhân', '5', 'khai', 'minh', 'bạch', 'tăng', 'cường', 'trách', 'nhiệm', 'giải', 'trình', 'quá', '6', 'Tôn', 'trọng', 'đóng', 'góp', 'Nhân', 'kịp', 'thời', 'nghị', 'phản', 'ánh']}\n",
      "--------------------------------------------------\n"
     ]
    }
   ],
   "source": [
    "# In ra 3 document đầu tiên\n",
    "for doc in documents[:3]:\n",
    "    print(\"Page Content:\", doc.page_content)\n",
    "    print(\"Metadata:\", doc.metadata)\n",
    "    print(\"-\" * 50)  # Để phân cách giữa các document"
   ]
  },
  {
   "cell_type": "markdown",
   "metadata": {},
   "source": [
    "## 3.3. Tạo collection"
   ]
  },
  {
   "cell_type": "code",
   "execution_count": 9,
   "metadata": {},
   "outputs": [],
   "source": [
    "qdrant = QdrantVectorStore.from_documents(\n",
    "    documents = documents,\n",
    "    embedding = model_Dense_Embedding,\n",
    "    url = url,\n",
    "    api_key = api_key,\n",
    "    prefer_grpc=True,\n",
    "    collection_name = \"demo_Luat_Token\",\n",
    "    retrieval_mode=RetrievalMode.DENSE,\n",
    "\tmetadata_payload_key=\"metadata\"\n",
    ")"
   ]
  },
  {
   "cell_type": "code",
   "execution_count": null,
   "metadata": {},
   "outputs": [],
   "source": []
  }
 ],
 "metadata": {
  "kernelspec": {
   "display_name": "Python 3",
   "language": "python",
   "name": "python3"
  },
  "language_info": {
   "codemirror_mode": {
    "name": "ipython",
    "version": 3
   },
   "file_extension": ".py",
   "mimetype": "text/x-python",
   "name": "python",
   "nbconvert_exporter": "python",
   "pygments_lexer": "ipython3",
   "version": "3.9.8"
  }
 },
 "nbformat": 4,
 "nbformat_minor": 2
}
