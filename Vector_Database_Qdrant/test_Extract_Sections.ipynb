{
 "cells": [
  {
   "cell_type": "code",
   "execution_count": 5,
   "metadata": {},
   "outputs": [
    {
     "name": "stdout",
     "output_type": "stream",
     "text": [
      "Đã lưu thành công vào file: data\\trich_dan_luat\\docx\\test_Sections.json\n"
     ]
    }
   ],
   "source": [
    "import json\n",
    "from docx import Document\n",
    "\n",
    "# Đường dẫn tới file .docx\n",
    "file_path = r'data\\trich_dan_luat\\docx\\Luật_Quốc hội_10-2022-QH15_Nội vụ_Chính quyền địa phương_10-11-2022_01-07-2023_thực hiện dân chủ ở cơ sở.docx'\n",
    "# Đường dẫn để lưu file .json\n",
    "json_file_path = r'data\\trich_dan_luat\\docx\\test_Sections.json'\n",
    "\n",
    "# Đọc file .docx\n",
    "document = Document(file_path)\n",
    "\n",
    "# Tạo danh sách để lưu trữ các mục\n",
    "sections = []\n",
    "\n",
    "# Duyệt qua từng đoạn văn trong tài liệu\n",
    "for paragraph in document.paragraphs:\n",
    "    paragraph_text = paragraph.text.strip()\n",
    "\n",
    "    # Kiểm tra xem đoạn văn có bắt đầu bằng \"Mục\"\n",
    "    if paragraph_text.startswith(\"Mục\"):\n",
    "        # Tạo dictionary cho từng mục\n",
    "        section_entry = {\"Section\": paragraph_text}\n",
    "        sections.append(section_entry)  # Thêm vào danh sách\n",
    "\n",
    "# Lưu kết quả vào file .json\n",
    "with open(json_file_path, 'w', encoding='utf-8') as json_file:\n",
    "    json.dump(sections, json_file, ensure_ascii=False, indent=4)\n",
    "\n",
    "print(f\"Đã lưu thành công vào file: {json_file_path}\")"
   ]
  },
  {
   "cell_type": "code",
   "execution_count": null,
   "metadata": {},
   "outputs": [],
   "source": []
  }
 ],
 "metadata": {
  "kernelspec": {
   "display_name": "Python 3",
   "language": "python",
   "name": "python3"
  },
  "language_info": {
   "codemirror_mode": {
    "name": "ipython",
    "version": 3
   },
   "file_extension": ".py",
   "mimetype": "text/x-python",
   "name": "python",
   "nbconvert_exporter": "python",
   "pygments_lexer": "ipython3",
   "version": "3.9.8"
  }
 },
 "nbformat": 4,
 "nbformat_minor": 2
}
