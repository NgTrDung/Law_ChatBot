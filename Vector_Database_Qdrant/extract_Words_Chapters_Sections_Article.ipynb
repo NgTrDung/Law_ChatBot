{
 "cells": [
  {
   "cell_type": "markdown",
   "metadata": {},
   "source": [
    "# 1. Thư viện"
   ]
  },
  {
   "cell_type": "code",
   "execution_count": 1,
   "metadata": {},
   "outputs": [],
   "source": [
    "import json\n",
    "import re\n",
    "\n",
    "from docx import Document"
   ]
  },
  {
   "cell_type": "markdown",
   "metadata": {},
   "source": [
    "# 2. Thực thi"
   ]
  },
  {
   "cell_type": "markdown",
   "metadata": {},
   "source": [
    "## 2.1. Tách lấy Chapters"
   ]
  },
  {
   "cell_type": "markdown",
   "metadata": {},
   "source": [
    "### 2.1.1. Xử lý tách"
   ]
  },
  {
   "cell_type": "code",
   "execution_count": 2,
   "metadata": {},
   "outputs": [],
   "source": [
    "def extract_chapters(docx_file):\n",
    "    # Mở file docx\n",
    "    doc = Document(docx_file)\n",
    "    chapters = {}\n",
    "\n",
    "    # Biến để lưu tên Chương và mô tả\n",
    "    current_chapter = None\n",
    "    current_description = None\n",
    "    \n",
    "    for paragraph in doc.paragraphs:\n",
    "        text = paragraph.text.strip()\n",
    "        # print(text)  # In nội dung đoạn văn để kiểm tra\n",
    "        \n",
    "        # Kiểm tra định dạng Chương (cả số La Mã và số Ả Rập)\n",
    "        chapter_match = re.match(r'^(Chương\\s+[IVXLCDM\\d]+)\\s*(.*)', text)\n",
    "        if chapter_match:\n",
    "            if current_chapter is not None and current_description is not None:\n",
    "                # Lưu Chương trước đó vào dict\n",
    "                chapters[current_chapter] = current_description\n",
    "            \n",
    "            # Cập nhật Chương hiện tại\n",
    "            current_chapter = chapter_match.group(1)\n",
    "            current_description = chapter_match.group(2).strip()\n",
    "            continue\n",
    "        \n",
    "        # Nếu gặp đoạn văn chứa mô tả của Chương\n",
    "        if current_chapter and not re.match(r'^(Mục|Điều)\\s+\\d+\\.', text):\n",
    "            current_description += ' ' + text.strip()\n",
    "            continue\n",
    "\n",
    "        # Kiểm tra nếu gặp Mục hoặc Điều\n",
    "        if re.match(r'^(Mục|Điều)\\s+\\d+\\.', text):\n",
    "            # Nếu gặp Mục hoặc Điều, lưu lại Chương hiện tại\n",
    "            if current_chapter is not None and current_description is not None:\n",
    "                chapters[current_chapter] = current_description\n",
    "                current_chapter = None\n",
    "                current_description = None\n",
    "\n",
    "    # Lưu Chương cuối cùng nếu có\n",
    "    if current_chapter is not None and current_description is not None:\n",
    "        chapters[current_chapter] = current_description\n",
    "\n",
    "    print(f'Found {len(chapters)} chapters')  # In ra số lượng Chương tìm thấy\n",
    "    return chapters"
   ]
  },
  {
   "cell_type": "markdown",
   "metadata": {},
   "source": [
    "### 2.1.2. Lưu ra .json"
   ]
  },
  {
   "cell_type": "code",
   "execution_count": 3,
   "metadata": {},
   "outputs": [],
   "source": [
    "def save_to_json(data, json_file):\n",
    "    with open(json_file, 'w', encoding='utf-8') as f:\n",
    "        json.dump(data, f, ensure_ascii=False, indent=4)"
   ]
  },
  {
   "cell_type": "markdown",
   "metadata": {},
   "source": [
    "### 2.1.3. Thực thi"
   ]
  },
  {
   "cell_type": "code",
   "execution_count": 4,
   "metadata": {},
   "outputs": [
    {
     "name": "stdout",
     "output_type": "stream",
     "text": [
      "Found 6 chapters\n",
      "Data has been saved to data\\trich_dan_luat\\json\\chapters.json\n"
     ]
    }
   ],
   "source": [
    "# Sử dụng hàm\n",
    "docx_file = r'data\\trich_dan_luat\\docx\\Luật_Quốc hội_10-2022-QH15_Nội vụ_Chính quyền địa phương_10-11-2022_01-07-2023_thực hiện dân chủ ở cơ sở.docx'  # Thay thế bằng đường dẫn đến file .docx của bạn\n",
    "json_file = r'data\\trich_dan_luat\\json\\chapters.json'  # Tên file .json bạn muốn lưu\n",
    "\n",
    "chapters = extract_chapters(docx_file)\n",
    "save_to_json(chapters, json_file)\n",
    "print(f'Data has been saved to {json_file}')"
   ]
  },
  {
   "cell_type": "markdown",
   "metadata": {},
   "source": [
    "## 2.2. Tách lấy Sections"
   ]
  },
  {
   "cell_type": "markdown",
   "metadata": {},
   "source": [
    "### 2.2.1. Xử lý tách"
   ]
  },
  {
   "cell_type": "code",
   "execution_count": 5,
   "metadata": {},
   "outputs": [],
   "source": [
    "def extract_sections(docx_file):\n",
    "    # Mở file docx\n",
    "    doc = Document(docx_file)\n",
    "    sections = {}\n",
    "\n",
    "    # Biến để lưu tên Mục và mô tả\n",
    "    current_section = None\n",
    "    current_description = None\n",
    "    \n",
    "    for paragraph in doc.paragraphs:\n",
    "        text = paragraph.text.strip()\n",
    "        \n",
    "        # Kiểm tra định dạng Mục\n",
    "        section_match = re.match(r'^(Mục\\s+\\d+)\\.\\s*(.*)', text)\n",
    "        if section_match:\n",
    "            if current_section is not None and current_description is not None:\n",
    "                # Lưu Mục trước đó vào dict\n",
    "                sections[current_section] = current_description.strip()\n",
    "            \n",
    "            # Cập nhật Mục hiện tại\n",
    "            current_section = section_match.group(1)\n",
    "            current_description = section_match.group(2).strip()\n",
    "            continue\n",
    "        \n",
    "        # Nếu gặp Điều thì dừng tích lũy mô tả của Mục\n",
    "        if re.match(r'^Điều\\s+\\d+\\.', text):\n",
    "            if current_section is not None and current_description is not None:\n",
    "                sections[current_section] = current_description.strip()\n",
    "                current_section = None\n",
    "                current_description = None\n",
    "            continue\n",
    "        \n",
    "        # Tích lũy mô tả của Mục nếu không gặp Điều hoặc Chương\n",
    "        if current_section and not re.match(r'^(Chương|Điều)\\s+[IVXLCDM\\d]+', text):\n",
    "            current_description += ' ' + text.strip()\n",
    "    \n",
    "    # Lưu Mục cuối cùng nếu có\n",
    "    if current_section is not None and current_description is not None:\n",
    "        sections[current_section] = current_description.strip()\n",
    "\n",
    "    print(f'Found {len(sections)} sections')  # In ra số lượng Mục tìm thấy\n",
    "    return sections"
   ]
  },
  {
   "cell_type": "markdown",
   "metadata": {},
   "source": [
    "### 2.2.2. Lưu thành .json"
   ]
  },
  {
   "cell_type": "code",
   "execution_count": 6,
   "metadata": {},
   "outputs": [],
   "source": [
    "def save_to_json(data, json_file):\n",
    "    with open(json_file, 'w', encoding='utf-8') as f:\n",
    "        json.dump(data, f, ensure_ascii=False, indent=4)"
   ]
  },
  {
   "cell_type": "markdown",
   "metadata": {},
   "source": [
    "### 2.2.3. Thực thi"
   ]
  },
  {
   "cell_type": "code",
   "execution_count": 7,
   "metadata": {},
   "outputs": [
    {
     "name": "stdout",
     "output_type": "stream",
     "text": [
      "Found 4 sections\n",
      "Data has been saved to data\\trich_dan_luat\\json\\sections.json\n"
     ]
    }
   ],
   "source": [
    "# Sử dụng hàm\n",
    "docx_file = r'data\\trich_dan_luat\\docx\\Luật_Quốc hội_10-2022-QH15_Nội vụ_Chính quyền địa phương_10-11-2022_01-07-2023_thực hiện dân chủ ở cơ sở.docx'  # Thay thế bằng đường dẫn đến file .docx của bạn\n",
    "json_file = r'data\\trich_dan_luat\\json\\sections.json'  # Tên file .json bạn muốn lưu\n",
    "\n",
    "sections = extract_sections(docx_file)\n",
    "save_to_json(sections, json_file)\n",
    "print(f'Data has been saved to {json_file}')"
   ]
  },
  {
   "cell_type": "code",
   "execution_count": null,
   "metadata": {},
   "outputs": [],
   "source": []
  }
 ],
 "metadata": {
  "kernelspec": {
   "display_name": "Python 3",
   "language": "python",
   "name": "python3"
  },
  "language_info": {
   "codemirror_mode": {
    "name": "ipython",
    "version": 3
   },
   "file_extension": ".py",
   "mimetype": "text/x-python",
   "name": "python",
   "nbconvert_exporter": "python",
   "pygments_lexer": "ipython3",
   "version": "3.9.8"
  }
 },
 "nbformat": 4,
 "nbformat_minor": 2
}
