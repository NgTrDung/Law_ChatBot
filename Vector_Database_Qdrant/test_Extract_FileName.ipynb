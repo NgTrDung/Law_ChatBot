{
 "cells": [
  {
   "cell_type": "code",
   "execution_count": 1,
   "metadata": {},
   "outputs": [
    {
     "name": "stdout",
     "output_type": "stream",
     "text": [
      "Dữ liệu đã được lưu vào file data\\trich_dan_luat\\json\\test_Output_FileName.json\n"
     ]
    }
   ],
   "source": [
    "import os\n",
    "import json\n",
    "\n",
    "# Thư mục chứa các file .docx\n",
    "folder_path = r'data\\trich_dan_luat\\docx\\Luat'\n",
    "\n",
    "# Danh sách chứa dữ liệu từ các file\n",
    "data = []\n",
    "\n",
    "# Duyệt qua tất cả các file trong thư mục\n",
    "for file_name in os.listdir(folder_path):\n",
    "    if file_name.endswith(\".docx\"):\n",
    "        # Tách tên file theo ký tự \"_\"\n",
    "        parts = file_name.replace('.docx', '').split('_')\n",
    "\n",
    "        # Kiểm tra xem số lượng phần có đủ theo yêu cầu\n",
    "        if len(parts) == 7:\n",
    "            loai_van_ban = parts[0]\n",
    "            noi_ban_hanh = parts[1]\n",
    "            so_hieu = parts[2].replace(\"-\", \"/\")\n",
    "            linhvuc_nganh = parts[3]\n",
    "            ngay_ban_hanh = parts[4].replace(\"-\", \"/\")\n",
    "\n",
    "            # Kiểm tra nếu \"ngay_hieu_luc\" là \"Đã biết\"\n",
    "            if parts[5] == \"Đã biết\":\n",
    "                ngay_hieu_luc = parts[5]\n",
    "            else:\n",
    "                ngay_hieu_luc = parts[5].replace(\"-\", \"/\")\n",
    "\n",
    "            chu_de = parts[6]\n",
    "\n",
    "            # Thêm thông tin vào danh sách\n",
    "            data.append({\n",
    "                \"loai_van_ban\": loai_van_ban,\n",
    "                \"noi_ban_hanh\": noi_ban_hanh,\n",
    "                \"so_hieu\": so_hieu,\n",
    "                \"linhvuc_nganh\": linhvuc_nganh,\n",
    "                \"ngay_ban_hanh\": ngay_ban_hanh,\n",
    "                \"ngay_hieu_luc\": ngay_hieu_luc,\n",
    "                \"chu_de\": chu_de\n",
    "            })\n",
    "\n",
    "# Lưu danh sách dữ liệu thành file .json\n",
    "json_file_path = r'data\\trich_dan_luat\\json\\test_Output_FileName.json'\n",
    "with open(json_file_path, 'w', encoding='utf-8') as json_file:\n",
    "    json.dump(data, json_file, ensure_ascii=False, indent=4)\n",
    "\n",
    "print(f\"Dữ liệu đã được lưu vào file {json_file_path}\")"
   ]
  }
 ],
 "metadata": {
  "kernelspec": {
   "display_name": "Python 3",
   "language": "python",
   "name": "python3"
  },
  "language_info": {
   "codemirror_mode": {
    "name": "ipython",
    "version": 3
   },
   "file_extension": ".py",
   "mimetype": "text/x-python",
   "name": "python",
   "nbconvert_exporter": "python",
   "pygments_lexer": "ipython3",
   "version": "3.9.8"
  }
 },
 "nbformat": 4,
 "nbformat_minor": 2
}
