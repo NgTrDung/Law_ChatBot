{
 "cells": [
  {
   "cell_type": "markdown",
   "metadata": {},
   "source": [
    "# 1. Thư viện"
   ]
  },
  {
   "cell_type": "code",
   "execution_count": 1,
   "metadata": {},
   "outputs": [],
   "source": [
    "import os\n",
    "import pandas as pd\n",
    "\n",
    "from dotenv import load_dotenv\n",
    "from langchain.docstore.document import Document\n",
    "from langchain_community.embeddings import GPT4AllEmbeddings\n",
    "from langchain_experimental.text_splitter import SemanticChunker\n",
    "from langchain_qdrant import QdrantVectorStore"
   ]
  },
  {
   "cell_type": "code",
   "execution_count": 2,
   "metadata": {},
   "outputs": [
    {
     "data": {
      "text/plain": [
       "True"
      ]
     },
     "execution_count": 2,
     "metadata": {},
     "output_type": "execute_result"
    }
   ],
   "source": [
    "load_dotenv()"
   ]
  },
  {
   "cell_type": "code",
   "execution_count": 3,
   "metadata": {},
   "outputs": [],
   "source": [
    "URL_QDRANT = os.getenv('URL_QDRANT')\n",
    "API_QDRANT = os.getenv('API_QDRANT')\n",
    "COLLECTION_NAME_COMMON_DB_TINH_HUONG_TEST_CSV=os.getenv(\"COLLECTION_NAME_COMMON_DB_TINH_HUONG_TEST_CSV\")\n",
    "CONTENT_PAYLOAD_KEY=os.getenv(\"CONTENT_PAYLOAD_KEY\")\n",
    "METADATA_PAYLOAD_KEY=os.getenv(\"METADATA_PAYLOAD_KEY\")\n",
    "\n",
    "BREAKPOINT_THRESHOLD_TYPE = os.getenv(\"BREAKPOINT_THRESHOLD_TYPE\")"
   ]
  },
  {
   "cell_type": "markdown",
   "metadata": {},
   "source": [
    "# 2. Đọc file data"
   ]
  },
  {
   "cell_type": "code",
   "execution_count": 4,
   "metadata": {},
   "outputs": [],
   "source": [
    "# Đọc dữ liệu từ file CSV và chỉ lấy các cột 'Situation' và 'Answer'\n",
    "csv_file = r'data\\tinh_huong\\bhxh_bhyt_bhtn_data.csv'\n",
    "df = pd.read_csv(csv_file, usecols=['Situation', 'Answer'])"
   ]
  },
  {
   "cell_type": "code",
   "execution_count": 5,
   "metadata": {},
   "outputs": [
    {
     "data": {
      "text/html": [
       "<div>\n",
       "<style scoped>\n",
       "    .dataframe tbody tr th:only-of-type {\n",
       "        vertical-align: middle;\n",
       "    }\n",
       "\n",
       "    .dataframe tbody tr th {\n",
       "        vertical-align: top;\n",
       "    }\n",
       "\n",
       "    .dataframe thead th {\n",
       "        text-align: right;\n",
       "    }\n",
       "</style>\n",
       "<table border=\"1\" class=\"dataframe\">\n",
       "  <thead>\n",
       "    <tr style=\"text-align: right;\">\n",
       "      <th></th>\n",
       "      <th>Situation</th>\n",
       "      <th>Answer</th>\n",
       "    </tr>\n",
       "  </thead>\n",
       "  <tbody>\n",
       "    <tr>\n",
       "      <th>0</th>\n",
       "      <td>Tôi xin hỏi, một xã giai đoạn 2016-2020 là xã ...</td>\n",
       "      <td>Bộ Y tế trả lời vấn đề này như sau:Ngày 19/10/...</td>\n",
       "    </tr>\n",
       "    <tr>\n",
       "      <th>1</th>\n",
       "      <td>Tôi đóng BHXH từ tháng 6/2011 đến tháng 12/201...</td>\n",
       "      <td>Bảo hiểm xã hội Việt Nam trả lời vấn đề này nh...</td>\n",
       "    </tr>\n",
       "    <tr>\n",
       "      <th>2</th>\n",
       "      <td>Tôi xin hỏi, trên giấy ra viện có ghi chú ngườ...</td>\n",
       "      <td>Bảo hiểm xã hội Việt Nam trả lời vấn đề này nh...</td>\n",
       "    </tr>\n",
       "    <tr>\n",
       "      <th>3</th>\n",
       "      <td>Tôi năm nay 53 tuổi, đóng BHXH tự nguyện được ...</td>\n",
       "      <td>Bảo hiểm xã hội Việt Nam trả lời vấn đề này nh...</td>\n",
       "    </tr>\n",
       "    <tr>\n",
       "      <th>4</th>\n",
       "      <td>Tôi đóng BHXH từ tháng 1/2020 đến tháng 12/202...</td>\n",
       "      <td>Bảo hiểm xã hội Việt Nam trả lời vấn đề này nh...</td>\n",
       "    </tr>\n",
       "    <tr>\n",
       "      <th>...</th>\n",
       "      <td>...</td>\n",
       "      <td>...</td>\n",
       "    </tr>\n",
       "    <tr>\n",
       "      <th>1853</th>\n",
       "      <td>Theo quy định tại Điều 187 Bộ luật Lao động: “...</td>\n",
       "      <td>Bộ Lao động – Thương binh và Xã hội trả lời vấ...</td>\n",
       "    </tr>\n",
       "    <tr>\n",
       "      <th>1854</th>\n",
       "      <td>Tôi là giáo viên tại Trung tâm Kỹ thuật tổng h...</td>\n",
       "      <td>Bộ Lao động – Thương binh và Xã hội trả lời vấ...</td>\n",
       "    </tr>\n",
       "    <tr>\n",
       "      <th>1855</th>\n",
       "      <td>Tôi có 11 năm tham gia BHXH và được BHXH TP Hà...</td>\n",
       "      <td>BHXH Việt Nam trả lờivấn đề nàynhư sau:Theo qu...</td>\n",
       "    </tr>\n",
       "    <tr>\n",
       "      <th>1856</th>\n",
       "      <td>Bố đẻ của tôi công tác tại xã, đóng BHXH từ nă...</td>\n",
       "      <td>Bảo hiểm xã hội Việt Nam trả lời vấn đề này nh...</td>\n",
       "    </tr>\n",
       "    <tr>\n",
       "      <th>1857</th>\n",
       "      <td>Tôi bị ốm, đi khám bệnh được bác sỹ cho nghỉ 2...</td>\n",
       "      <td>BHXH Việt Nam trả lời vấn đề này như sau:Tại Đ...</td>\n",
       "    </tr>\n",
       "  </tbody>\n",
       "</table>\n",
       "<p>1858 rows × 2 columns</p>\n",
       "</div>"
      ],
      "text/plain": [
       "                                              Situation  \\\n",
       "0     Tôi xin hỏi, một xã giai đoạn 2016-2020 là xã ...   \n",
       "1     Tôi đóng BHXH từ tháng 6/2011 đến tháng 12/201...   \n",
       "2     Tôi xin hỏi, trên giấy ra viện có ghi chú ngườ...   \n",
       "3     Tôi năm nay 53 tuổi, đóng BHXH tự nguyện được ...   \n",
       "4     Tôi đóng BHXH từ tháng 1/2020 đến tháng 12/202...   \n",
       "...                                                 ...   \n",
       "1853  Theo quy định tại Điều 187 Bộ luật Lao động: “...   \n",
       "1854  Tôi là giáo viên tại Trung tâm Kỹ thuật tổng h...   \n",
       "1855  Tôi có 11 năm tham gia BHXH và được BHXH TP Hà...   \n",
       "1856  Bố đẻ của tôi công tác tại xã, đóng BHXH từ nă...   \n",
       "1857  Tôi bị ốm, đi khám bệnh được bác sỹ cho nghỉ 2...   \n",
       "\n",
       "                                                 Answer  \n",
       "0     Bộ Y tế trả lời vấn đề này như sau:Ngày 19/10/...  \n",
       "1     Bảo hiểm xã hội Việt Nam trả lời vấn đề này nh...  \n",
       "2     Bảo hiểm xã hội Việt Nam trả lời vấn đề này nh...  \n",
       "3     Bảo hiểm xã hội Việt Nam trả lời vấn đề này nh...  \n",
       "4     Bảo hiểm xã hội Việt Nam trả lời vấn đề này nh...  \n",
       "...                                                 ...  \n",
       "1853  Bộ Lao động – Thương binh và Xã hội trả lời vấ...  \n",
       "1854  Bộ Lao động – Thương binh và Xã hội trả lời vấ...  \n",
       "1855  BHXH Việt Nam trả lờivấn đề nàynhư sau:Theo qu...  \n",
       "1856  Bảo hiểm xã hội Việt Nam trả lời vấn đề này nh...  \n",
       "1857  BHXH Việt Nam trả lời vấn đề này như sau:Tại Đ...  \n",
       "\n",
       "[1858 rows x 2 columns]"
      ]
     },
     "metadata": {},
     "output_type": "display_data"
    }
   ],
   "source": [
    "display(df)"
   ]
  },
  {
   "cell_type": "markdown",
   "metadata": {},
   "source": [
    "# 3. Load 2 cột Situation và Answer vào Documents"
   ]
  },
  {
   "cell_type": "code",
   "execution_count": 6,
   "metadata": {},
   "outputs": [],
   "source": [
    "# Tạo tài liệu từ các cột 'Situation' và 'Answer'\n",
    "documents = []\n",
    "for _, row in df.iterrows():\n",
    "    situation = row['Situation']\n",
    "    answer = row['Answer']\n",
    "    document = f\"Situation: {situation}\\nAnswer: {answer}\"\n",
    "    documents.append(document)"
   ]
  },
  {
   "cell_type": "code",
   "execution_count": 7,
   "metadata": {},
   "outputs": [
    {
     "name": "stdout",
     "output_type": "stream",
     "text": [
      "Document 1:\n",
      "Situation: Tôi xin hỏi, một xã giai đoạn 2016-2020 là xã khu vực III, sang giai đoạn 2021-2025 là xã khu vực I, đã đạt chuẩn xã nông thôn mới thì người dân tộc thiểu số trên địa bàn xã này có thuộc nhóm đối tượng được ngân sách Nhà nước hỗ trợ đóng BHYT không?\n",
      "Answer: Bộ Y tế trả lời vấn đề này như sau:Ngày 19/10/2023, Chính phủ ban hành Nghị định số75/2023/NĐ-CPsửa đổi, bổ sung một số điều của Nghị định số 146/2023/NĐ-CP ngày 17/10/2018 của Chính phủ quy định chi tiết và hướng dẫn biện pháp thi hành một số điều của Luật BHYT, trong đó có quy định:Người dân tộc thiểu số đang sinh sống tại địa bàn các xã khu vực II, khu vực III, thôn đặc biệt khó khăn thuộc vùng đồng bào dân tộc thiểu số và miền núi giai đoạn 2016-2020 mà các xã này không còn trong danh sách các xã khu vực II, khu vực III, thôn đặc biệt khó khăn thuộc vùng đồng bào dân tộc thiểu số và miền núi giai đoạn 2021-2025 theo quyết định của Thủ tướng Chính phủ tiếp tục được ngân sách Nhà nước hỗ trợ tối thiểu 70% mức đóng BHYT trong thời gian 36 tháng kể từ ngày 1/11/2023.\n",
      "\n",
      "Document 2:\n",
      "Situation: Tôi đóng BHXH từ tháng 6/2011 đến tháng 12/2014, tháng 8/2014 tôi sinh con. Do công ty nợ tiền BHXH nên hết thời gian nghỉ thai sản tôi chưa được thanh toán chế độ. Năm 2021 công ty đã nộp hết số tiền nợ BHXH và giải thể. Xin hỏi, bây giờ tôi làm đơn xin hưởng chế độ thai sản của năm 2014 có được không?\n",
      "Answer: Bảo hiểm xã hội Việt Nam trả lời vấn đề này như sau:Tại Khoản 2 Điều 28Luật BHXH năm 2006quy định điều kiện hưởng chế độ thai sản đối với lao động nữ sinh con là: Phải đóng BHXH từ đủ 6 tháng trở lên trong thời gian 12 tháng trước khi sinh con.Đối chiếu quy định nêu trên, trường hợp của bà Ngô Đảm sinh con vào tháng 8/2014, trong thời gian 12 tháng trước khi sinh con (được xác định từ tháng 8/2013 đến tháng 7/2014) bà có 12 tháng đóng BHXH (nếu đóng BHXH liên tục trong khoảng thời gian này), bà đủ điều kiện hưởng chế độ thai sản khi sinh con.Đề nghị bà liên hệ với cơ quan BHXH nơi đơn vị đã đóng BHXH để cơ quan BHXH hướng dẫn, trả lời cụ thể về việc lập hồ sơ, giải quyết chế độ thai sản đối với bà.\n",
      "\n",
      "Document 3:\n",
      "Situation: Tôi xin hỏi, trên giấy ra viện có ghi chú người lao động được nghỉ lao động 10 ngày, vậy, có cần xin thêm Giấy chứng nhận nghỉ việc hưởng BHXH để hưởng 10 ngày đó không?\n",
      "Answer: Bảo hiểm xã hội Việt Nam trả lời vấn đề này như sau:Tại Khoản 14 Điều 1 Thông tư số18/2022/TT-BYTngày 31/12/2022 của Bộ trưởng Bộ Y tế sửa đổi, bổ sung một số điều của Thông tư số 56/2017/TT-BYT ngày 29/12/2017 của Bộ trưởng Bộ Y tế quy định chi tiết thi hành Luật BHXH và Luật An toàn, vệ sinh lao động thuộc lĩnh y tế quy định như sau:Trường hợp người bệnh cần nghỉ để điều trị ngoại trú sau khi ra viện thì cơ quan BHXH căn cứ số ngày nghỉ ghi tại phần ghi chú của giấy ra viện để làm căn cứ thanh toán chế độ BHXH theo quy định.Đối chiếu quy định nêu trên, việc cơ sở khám bệnh, chữa bệnh ghi thêm số ngày nghỉ để điều trị ngoại trú tại phần ghi chú trên giấy ra viện là đúng quy định và số ngày nghỉ điều trị ngoại trú đó sẽ được cơ quan BHXH căn cứ để giải quyết chế độ BHXH đối với bà theo quy định.Do đó, bà không phải xin cấp thêm Giấy chứng nhận nghỉ việc hưởng BHXH đối với 10 ngày nghỉ việc điều trị ngoại trú nêu trên.\n",
      "\n"
     ]
    }
   ],
   "source": [
    "# In ra 3 document đầu tiên\n",
    "for i in range(3):\n",
    "    print(f\"Document {i + 1}:\\n{documents[i]}\\n\")"
   ]
  },
  {
   "cell_type": "code",
   "execution_count": 8,
   "metadata": {},
   "outputs": [],
   "source": [
    "# Chuyển đổi các chuỗi thành các đối tượng Document\n",
    "documents = [Document(page_content=doc) for doc in documents]"
   ]
  },
  {
   "cell_type": "code",
   "execution_count": 15,
   "metadata": {},
   "outputs": [
    {
     "data": {
      "text/plain": [
       "Document(page_content='Situation: Tôi xin hỏi, một xã giai đoạn 2016-2020 là xã khu vực III, sang giai đoạn 2021-2025 là xã khu vực I, đã đạt chuẩn xã nông thôn mới thì người dân tộc thiểu số trên địa bàn xã này có thuộc nhóm đối tượng được ngân sách Nhà nước hỗ trợ đóng BHYT không?\\nAnswer: Bộ Y tế trả lời vấn đề này như sau:Ngày 19/10/2023, Chính phủ ban hành Nghị định số75/2023/NĐ-CPsửa đổi, bổ sung một số điều của Nghị định số 146/2023/NĐ-CP ngày 17/10/2018 của Chính phủ quy định chi tiết và hướng dẫn biện pháp thi hành một số điều của Luật BHYT, trong đó có quy định:Người dân tộc thiểu số đang sinh sống tại địa bàn các xã khu vực II, khu vực III, thôn đặc biệt khó khăn thuộc vùng đồng bào dân tộc thiểu số và miền núi giai đoạn 2016-2020 mà các xã này không còn trong danh sách các xã khu vực II, khu vực III, thôn đặc biệt khó khăn thuộc vùng đồng bào dân tộc thiểu số và miền núi giai đoạn 2021-2025 theo quyết định của Thủ tướng Chính phủ tiếp tục được ngân sách Nhà nước hỗ trợ tối thiểu 70% mức đóng BHYT trong thời gian 36 tháng kể từ ngày 1/11/2023.')"
      ]
     },
     "execution_count": 15,
     "metadata": {},
     "output_type": "execute_result"
    }
   ],
   "source": [
    "documents[0]"
   ]
  },
  {
   "cell_type": "markdown",
   "metadata": {},
   "source": [
    "# 4. Model Embedding"
   ]
  },
  {
   "cell_type": "code",
   "execution_count": 9,
   "metadata": {},
   "outputs": [],
   "source": [
    "model_name = \"all-MiniLM-L6-v2.gguf2.f16.gguf\"\n",
    "gpt4all_kwargs = {'allow_download': 'True'}\n",
    "\n",
    "gpt4all_embedding = GPT4AllEmbeddings(\n",
    "    model_name=model_name,\n",
    "    gpt4all_kwargs=gpt4all_kwargs\n",
    "    )"
   ]
  },
  {
   "cell_type": "markdown",
   "metadata": {},
   "source": [
    "# 5. Semantic Chunker"
   ]
  },
  {
   "cell_type": "code",
   "execution_count": 10,
   "metadata": {},
   "outputs": [],
   "source": [
    "text_splitter = SemanticChunker(\n",
    "    embeddings = gpt4all_embedding, breakpoint_threshold_type = BREAKPOINT_THRESHOLD_TYPE\n",
    "    )"
   ]
  },
  {
   "cell_type": "markdown",
   "metadata": {},
   "source": [
    "# 6. Tạo 1 Collection mới"
   ]
  },
  {
   "cell_type": "code",
   "execution_count": 11,
   "metadata": {},
   "outputs": [],
   "source": [
    "url = URL_QDRANT\n",
    "api_key = API_QDRANT\n",
    "\n",
    "# Chia các tài liệu thành các đoạn nhỏ\n",
    "docs = text_splitter.split_documents(documents)\n",
    "\n",
    "qdrant = QdrantVectorStore.from_documents(\n",
    "    documents = docs,\n",
    "    embedding = gpt4all_embedding,\n",
    "    url=url,\n",
    "    prefer_grpc=True,\n",
    "    api_key=api_key,\n",
    "    collection_name=COLLECTION_NAME_COMMON_DB_TINH_HUONG_TEST_CSV,\n",
    ")"
   ]
  },
  {
   "cell_type": "markdown",
   "metadata": {},
   "source": [
    "# 7. Sử dụng Collection đã có"
   ]
  },
  {
   "cell_type": "code",
   "execution_count": 12,
   "metadata": {},
   "outputs": [],
   "source": [
    "qdrant = QdrantVectorStore.from_existing_collection(\n",
    "    embedding = gpt4all_embedding,\n",
    "    collection_name=COLLECTION_NAME_COMMON_DB_TINH_HUONG_TEST_CSV,\n",
    "    url = URL_QDRANT,\n",
    "    api_key= API_QDRANT,\n",
    ")"
   ]
  },
  {
   "cell_type": "code",
   "execution_count": 19,
   "metadata": {},
   "outputs": [],
   "source": [
    "query = \"\"\"Tôi đóng BHXH từ tháng 6/2011 đến tháng 12/2014, tháng 8/2014 tôi sinh con. Do công ty nợ tiền BHXH nên hết thời gian nghỉ thai sản tôi chưa được thanh toán chế độ. Năm 2021 công ty đã nộp hết số tiền nợ BHXH và giải thể. Xin hỏi, bây giờ tôi làm đơn xin hưởng chế độ thai sản của năm 2014 có được không?\"\"\"\n",
    "found_docs = qdrant.similarity_search_with_score(\n",
    "    query = query,\n",
    "    k = 5,\n",
    "    )"
   ]
  },
  {
   "cell_type": "code",
   "execution_count": 20,
   "metadata": {},
   "outputs": [
    {
     "data": {
      "text/plain": [
       "[(Document(page_content='Situation: Tôi đóng BHXH từ tháng 6/2011 đến tháng 12/2014, tháng 8/2014 tôi sinh con. Do công ty nợ tiền BHXH nên hết thời gian nghỉ thai sản tôi chưa được thanh toán chế độ. Năm 2021 công ty đã nộp hết số tiền nợ BHXH và giải thể.', metadata={'_id': '7d765244-f11d-4e7b-9b7a-b2e6acfdd745', '_collection_name': 'Common_Law_Database_Tinh_Huong_CSV'}),\n",
       "  0.9544498),\n",
       " (Document(page_content='Situation: Tôi đóng BHXH từ tháng 4/2019. Tháng 2/2020 đến tháng 7/2020, tôi nghỉ chế độ thai sản. Tháng 8/2020, tôi đi làm trở lại và tháng 10/2020 chấm dứt hợp đồng lao động. Xin hỏi, công ty đang nợ BHXH thì có cách nào để tôi được nhận tiền thai sản khi đã nghỉ việc không?', metadata={'_id': 'af7a7b39-f5e1-42aa-9d34-878e5c1114e5', '_collection_name': 'Common_Law_Database_Tinh_Huong_CSV'}),\n",
       "  0.90431654),\n",
       " (Document(page_content='Situation: Trước đây, tôi công tác\\xa0tại một đơn vị,\\xa0tham gia\\xa0BHXH được 3 năm. Tháng 1/2014 tôi chuyển công tác sang đơn vị\\xa0khác và\\xa0cũng tiếp tục\\xa0đóng BHXH. Hiện tôi đang mang thai,\\xa0dự\\xa0sinh vào khoảng tháng 5/2014. Vậy tôi có\\xa0được tính thời gian đóng BHXH ở đơn vị\\xa0cũ, cộng với thời gian đóng BHXH ở\\xa0đơn vị mới\\xa0để hưởng chế\\xa0độ thai sản không?', metadata={'_id': 'dad49add-0358-4b7b-bc64-e5f6857f6967', '_collection_name': 'Common_Law_Database_Tinh_Huong_CSV'}),\n",
       "  0.90318817),\n",
       " (Document(page_content='Situation: Tôi sinh con ngày 15/7/2015 nhưng công ty lại báo giảm thai sản vào tháng 8/2015 và thu tiền BHXH tháng 7/2015 của bà. Xin hỏi, thời gian nghỉ thai sản của tôi được tính từ khi nào? Tôi đã đi làm từ tháng 2/2016 thì có phải truy đóng BHXH tháng 1/2016 không?', metadata={'_id': 'e445e2c1-6400-4883-895f-333c068926f2', '_collection_name': 'Common_Law_Database_Tinh_Huong_CSV'}),\n",
       "  0.8940461),\n",
       " (Document(page_content='Situation: Tôi sinh con ngày 25/12/2018, công ty đã đóng BHXH cho tôi đến hết tháng 12/2018. Từ tháng 1/2019 đến nay công ty nợ tiền BHXH. Công ty đã gửi hồ sơ hưởng chế độ thai sản của tôi đến BHXH quận Thanh Xuân và đã được trả kết quả về công ty nhưng tiền vẫn chưa được chuyển về do công ty nợ BHXH. Vậy, BHXH quận Thanh Xuân làm thế có đúng không? tôi phải làm gì để nhận được tiền thai sản? Cơ quan BHXH có biện pháp gì để bảo vệ quyền lợi của người lao động?', metadata={'_id': 'ccacb393-4fdd-4e38-8e56-75b0a840a662', '_collection_name': 'Common_Law_Database_Tinh_Huong_CSV'}),\n",
       "  0.8879124)]"
      ]
     },
     "execution_count": 20,
     "metadata": {},
     "output_type": "execute_result"
    }
   ],
   "source": [
    "found_docs"
   ]
  },
  {
   "cell_type": "code",
   "execution_count": 21,
   "metadata": {},
   "outputs": [
    {
     "name": "stdout",
     "output_type": "stream",
     "text": [
      "Situation: Tôi đóng BHXH từ tháng 6/2011 đến tháng 12/2014, tháng 8/2014 tôi sinh con. Do công ty nợ tiền BHXH nên hết thời gian nghỉ thai sản tôi chưa được thanh toán chế độ. Năm 2021 công ty đã nộp hết số tiền nợ BHXH và giải thể.\n",
      "0.9544498\n",
      "\n",
      "\n",
      "Situation: Tôi đóng BHXH từ tháng 4/2019. Tháng 2/2020 đến tháng 7/2020, tôi nghỉ chế độ thai sản. Tháng 8/2020, tôi đi làm trở lại và tháng 10/2020 chấm dứt hợp đồng lao động. Xin hỏi, công ty đang nợ BHXH thì có cách nào để tôi được nhận tiền thai sản khi đã nghỉ việc không?\n",
      "0.90431654\n",
      "\n",
      "\n",
      "Situation: Trước đây, tôi công tác tại một đơn vị, tham gia BHXH được 3 năm. Tháng 1/2014 tôi chuyển công tác sang đơn vị khác và cũng tiếp tục đóng BHXH. Hiện tôi đang mang thai, dự sinh vào khoảng tháng 5/2014. Vậy tôi có được tính thời gian đóng BHXH ở đơn vị cũ, cộng với thời gian đóng BHXH ở đơn vị mới để hưởng chế độ thai sản không?\n",
      "0.90318817\n",
      "\n",
      "\n",
      "Situation: Tôi sinh con ngày 15/7/2015 nhưng công ty lại báo giảm thai sản vào tháng 8/2015 và thu tiền BHXH tháng 7/2015 của bà. Xin hỏi, thời gian nghỉ thai sản của tôi được tính từ khi nào? Tôi đã đi làm từ tháng 2/2016 thì có phải truy đóng BHXH tháng 1/2016 không?\n",
      "0.8940461\n",
      "\n",
      "\n",
      "Situation: Tôi sinh con ngày 25/12/2018, công ty đã đóng BHXH cho tôi đến hết tháng 12/2018. Từ tháng 1/2019 đến nay công ty nợ tiền BHXH. Công ty đã gửi hồ sơ hưởng chế độ thai sản của tôi đến BHXH quận Thanh Xuân và đã được trả kết quả về công ty nhưng tiền vẫn chưa được chuyển về do công ty nợ BHXH. Vậy, BHXH quận Thanh Xuân làm thế có đúng không? tôi phải làm gì để nhận được tiền thai sản? Cơ quan BHXH có biện pháp gì để bảo vệ quyền lợi của người lao động?\n",
      "0.8879124\n",
      "\n",
      "\n"
     ]
    }
   ],
   "source": [
    "for doc, score in found_docs:\n",
    "    print(doc.page_content)\n",
    "    print(score)\n",
    "    print(\"\\n\")"
   ]
  },
  {
   "cell_type": "code",
   "execution_count": null,
   "metadata": {},
   "outputs": [],
   "source": []
  }
 ],
 "metadata": {
  "kernelspec": {
   "display_name": "Python 3",
   "language": "python",
   "name": "python3"
  },
  "language_info": {
   "codemirror_mode": {
    "name": "ipython",
    "version": 3
   },
   "file_extension": ".py",
   "mimetype": "text/x-python",
   "name": "python",
   "nbconvert_exporter": "python",
   "pygments_lexer": "ipython3",
   "version": "3.9.8"
  }
 },
 "nbformat": 4,
 "nbformat_minor": 2
}
