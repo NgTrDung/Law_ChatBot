{
 "cells": [
  {
   "cell_type": "markdown",
   "metadata": {},
   "source": [
    "## I.Import library"
   ]
  },
  {
   "cell_type": "code",
   "execution_count": 1,
   "metadata": {},
   "outputs": [],
   "source": [
    "import pandas as pd\n",
    "import json\n",
    "pd.set_option('display.max_columns', None)  \n",
    "pd.set_option('display.max_rows', None)     \n",
    "pd.set_option('display.max_colwidth', None) "
   ]
  },
  {
   "cell_type": "markdown",
   "metadata": {},
   "source": [
    "## II.Explore Data Analysis"
   ]
  },
  {
   "cell_type": "markdown",
   "metadata": {},
   "source": [
    ">  Function Read data_origin"
   ]
  },
  {
   "cell_type": "code",
   "execution_count": 2,
   "metadata": {},
   "outputs": [],
   "source": [
    "def read_data(data_dir):\n",
    "    with open(data_dir, 'r', encoding = 'utf-8') as f:\n",
    "        data = json.load(f)\n",
    "    return data"
   ]
  },
  {
   "cell_type": "markdown",
   "metadata": {},
   "source": [
    ">  Execute Function"
   ]
  },
  {
   "cell_type": "code",
   "execution_count": 3,
   "metadata": {},
   "outputs": [],
   "source": [
    "data_origin = read_data(\"../data/data_origin/data_train/UIT-ViQuAD.json\")"
   ]
  },
  {
   "cell_type": "code",
   "execution_count": 4,
   "metadata": {},
   "outputs": [
    {
     "name": "stdout",
     "output_type": "stream",
     "text": [
      "{'title': 'Phạm Văn Đồng', 'paragraphs': [{'qas': [{'question': 'Tên gọi nào được Phạm Văn Đồng sử dụng khi làm Phó chủ nhiệm cơ quan Biện sự xứ tại Quế Lâm?', 'answers': [{'answer_start': 507, 'text': 'Lâm Bá Kiệt'}], 'id': 'uit_000001', 'is_impossible': False}, {'question': 'Phạm Văn Đồng giữ chức vụ gì trong bộ máy Nhà nước Cộng hòa Xã hội chủ nghĩa Việt Nam?', 'answers': [{'answer_start': 60, 'text': 'Thủ tướng'}], 'id': 'uit_000002', 'is_impossible': False}, {'question': 'Giai đoạn năm 1955-1976, Phạm Văn Đồng nắm giữ chức vụ gì?', 'answers': [{'answer_start': 245, 'text': 'Thủ tướng Chính phủ Việt Nam Dân chủ Cộng hòa'}], 'id': 'uit_000003', 'is_impossible': False}, {'question': 'Tên gọi nào được Phạm Văn Đồng sử dụng trước khi làm Phó chủ nhiệm cơ quan Biện sự xứ tại Quế Lâm?', 'answers': [], 'plausible_answers': [{'answer_start': 507, 'text': 'Lâm Bá Kiệt'}], 'id': 'uit_000004', 'is_impossible': True}, {'question': 'Hồ Học Lãm giữ chức vụ gì trong bộ máy Nhà nước Cộng hòa Xã hội chủ nghĩa Việt Nam?', 'answers': [], 'plausible_answers': [{'answer_start': 60, 'text': 'Thủ tướng'}], 'id': 'uit_000005', 'is_impossible': True}, {'question': 'Giai đoạn năm 1987-2000, Phạm Văn Đồng nắm giữ chức vụ gì?', 'answers': [], 'plausible_answers': [{'answer_start': 245, 'text': 'Thủ tướng Chính phủ Việt Nam Dân chủ Cộng hòa'}], 'id': 'uit_000006', 'is_impossible': True}, {'question': 'Chủ tịch Hội đồng Bộ trưởng đầu tiên của nước Cộng hòa xã hội chủ nghĩa Việt Nam là ai?', 'answers': [{'answer_start': 0, 'text': 'Phạm Văn Đồng'}], 'id': 'uit_000007', 'is_impossible': False}], 'context': 'Phạm Văn Đồng (1 tháng 3 năm 1906 – 29 tháng 4 năm 2000) là Thủ tướng đầu tiên của nước Cộng hòa Xã hội chủ nghĩa Việt Nam từ năm 1976 (từ năm 1981 gọi là Chủ tịch Hội đồng Bộ trưởng) cho đến khi nghỉ hưu năm 1987. Trước đó ông từng giữ chức vụ Thủ tướng Chính phủ Việt Nam Dân chủ Cộng hòa từ năm 1955 đến năm 1976. Ông là vị Thủ tướng Việt Nam tại vị lâu nhất (1955–1987). Ông là học trò, cộng sự của Chủ tịch Hồ Chí Minh. Ông có tên gọi thân mật là Tô, đây từng là bí danh của ông. Ông còn có tên gọi là Lâm Bá Kiệt khi làm Phó chủ nhiệm cơ quan Biện sự xứ tại Quế Lâm (Chủ nhiệm là Hồ Học Lãm).'}, {'qas': [{'question': 'Sự kiện quan trọng nào đã diễn ra vào ngày 20/7/1954?', 'answers': [{'answer_start': 364, 'text': 'bản Hiệp định đình chỉ chiến sự ở Việt Nam, Campuchia và Lào đã được ký kết thừa nhận tôn trọng độc lập, chủ quyền, của nước Việt Nam, Lào và Campuchia'}], 'id': 'uit_000008', 'is_impossible': False}, {'question': 'Chức vụ mà Phạm Văn Đồng đảm nhiệm tại Hội nghị Genève về Đông Dương?', 'answers': [{'answer_start': 33, 'text': 'Trưởng phái đoàn Chính phủ'}], 'id': 'uit_000009', 'is_impossible': False}, {'question': 'Hội nghị Genève về Đông Dương có tính chất như thế nào?', 'answers': [{'answer_start': 262, 'text': 'rất căng thẳng và phức tạp'}], 'id': 'uit_000010', 'is_impossible': False}, {'question': 'Hội nghị Đông Dương về Genève có tính chất như thế nào?', 'answers': [], 'plausible_answers': [{'answer_start': 262, 'text': 'rất căng thẳng và phức tạp'}], 'id': 'uit_000011', 'is_impossible': True}, {'question': 'Đoàn Chính phủ Việt Nam dự hội nghị Genève về Đông Dương vì bản Hiệp ước nào?', 'answers': [{'answer_start': 364, 'text': 'bản Hiệp định đình chỉ chiến sự ở Việt Nam, Campuchia và Lào'}], 'id': 'uit_000012', 'is_impossible': False}], 'context': 'Năm 1954, ông được giao nhiệm vụ Trưởng phái đoàn Chính phủ dự Hội nghị Genève về Đông Dương. Những đóng góp của đoàn Việt Nam do ông đứng đầu là vô cùng quan trọng, tạo ra những đột phá đưa Hội nghị tới thành công. Trải qua 8 phiên họp toàn thể và 23 phiên họp rất căng thẳng và phức tạp, với tinh thần chủ động và cố gắng của phái đoàn Việt Nam, ngày 20/7/1954, bản Hiệp định đình chỉ chiến sự ở Việt Nam, Campuchia và Lào đã được ký kết thừa nhận tôn trọng độc lập, chủ quyền, của nước Việt Nam, Lào và Campuchia.'}, {'qas': [{'question': 'Phạm Sơn Dương, con trai của Phạm Văn Đồng, đang giữ chức vụ gì?', 'answers': [{'answer_start': 101, 'text': 'thiếu tướng Quân đội Nhân dân Việt Nam, phó giám đốc Viện Khoa học và Công nghệ Quân sự'}], 'id': 'uit_000013', 'is_impossible': False}, {'question': 'Phạm Văn Đồng từng cố gắng đưa bà Cúc đến nơi nào để chữa bệnh?', 'answers': [{'answer_start': 565, 'text': 'Trung Quốc, Liên Xô'}], 'id': 'uit_000014', 'is_impossible': False}, {'question': 'Chứng bệnh mà bà Cúc mắc phải đến tận bây giò là gì?', 'answers': [{'answer_start': 402, 'text': 'nửa quên nửa nhớ'}], 'id': 'uit_000015', 'is_impossible': False}, {'question': 'Bà Cúc từng cố gắng đưa Phạm Văn Đồng đến nơi nào để chữa bệnh?', 'answers': [], 'plausible_answers': [{'answer_start': 565, 'text': 'Trung Quốc, Liên Xô'}], 'id': 'uit_000016', 'is_impossible': True}, {'question': 'Phó giám đốc Viện Khoa học và Công nghệ Quân sự hiện nay là con của ai?', 'answers': [{'answer_start': 0, 'text': 'Phạm Văn Đồng'}], 'id': 'uit_000017', 'is_impossible': False}], 'context': 'Phạm Văn Đồng có vợ là bà Phạm Thị Cúc và một người con trai duy nhất tên là Phạm Sơn Dương, hiện là thiếu tướng Quân đội Nhân dân Việt Nam, phó giám đốc Viện Khoa học và Công nghệ Quân sự. Sau khi lấy bà Cúc (tháng 10 năm 1946) Phạm Văn Đồng vào công tác trong liên khu 5. Mấy năm sau bà Cúc được phép vào Nam sống với chồng. Vào đến nơi thì Phạm Văn Đồng lại được lệnh ra Bắc. Sau đó bà Cúc bị bệnh \"nửa quên nửa nhớ\" (theo lời của Việt Phương, người từng làm thư ký cho Phạm Văn Đồng trong 53 năm) kéo dài cho đến tận bây giờ. Phạm Văn Đồng từng đưa bà Cúc sang Trung Quốc, Liên Xô chữa bệnh nhưng vẫn không khỏi. Phạm Văn Đồng mất trước bà Cúc.'}, {'qas': [{'question': 'Sai lầm mà cố thủ tướng Phạm Văn Đồng mắc phải khi đàm phán hiệp định Geneva là gì?', 'answers': [{'answer_start': 280, 'text': 'nhờ Trung Quốc chuyển các bức điện về nước'}], 'id': 'uit_000018', 'is_impossible': False}, {'question': 'Tại sao việc Phạm Văn Đồng sử dụng phiên dịch người Trung Quốc tại cuộc đàm phán là sai lầm?', 'answers': [{'answer_start': 515, 'text': 'nội dung liên lạc giữa đoàn đàm phán và Trung ương, Trung Quốc đều biết trước và tìm cách ngăn chặn'}], 'id': 'uit_000019', 'is_impossible': False}, {'question': 'Nguyên nhân nào dẫn đến các sai lầm mà Phạm Văn Đồng mắc phải?', 'answers': [{'answer_start': 660, 'text': 'đoàn Việt Nam khi đó quá tin đoàn Trung Quốc'}], 'id': 'uit_000020', 'is_impossible': False}, {'question': 'Từ những sai lầm tại cuộc đàm phán hiệp định Geneva, Trung Quốc đã tận dụng chúng như thế nào?', 'answers': [{'answer_start': 381, 'text': 'sử dụng chúng để ép Việt Nam ký hiệp định theo lợi ích của Trung Quốc'}], 'id': 'uit_000021', 'is_impossible': False}, {'question': 'Sai lầm mà cố thủ tướng Phạm Văn Đồng mắc phải khi đàm phán hiệp định với Trung Quốc là gì?', 'answers': [], 'plausible_answers': [{'answer_start': 280, 'text': 'nhờ Trung Quốc chuyển các bức điện về nước'}], 'id': 'uit_000022', 'is_impossible': True}, {'question': 'Nguyên nhân nào dẫn đến các sai lầm mà Việt Phương mắc phải?', 'answers': [], 'plausible_answers': [{'answer_start': 660, 'text': 'đoàn Việt Nam khi đó quá tin đoàn Trung Quốc'}], 'id': 'uit_000023', 'is_impossible': True}, {'question': 'Vì sao Trung Quốc có thể ép Việt Nam ký hiệp định theo lợi ích của họ?', 'answers': [{'answer_start': 173, 'text': 'do đoàn Việt Nam không có điện đài nên Bộ trưởng Ngoại giao lúc đó là Phạm Văn Đồng đã mắc một sai lầm khi nhờ Trung Quốc chuyển các bức điện về nước, do vậy Trung Quốc biết hết các sách lược của Việt Nam'}], 'id': 'uit_000024', 'is_impossible': False}], 'context': 'Ông Việt Phương, nguyên thư ký của Thủ tướng Phạm Văn Đồng, trong buổi họp báo giới thiệu sách của các nhà ngoại giao, đã tiết lộ rằng khi đàm phán hiệp định Geneva (1954), do đoàn Việt Nam không có điện đài nên Bộ trưởng Ngoại giao lúc đó là Phạm Văn Đồng đã mắc một sai lầm khi nhờ Trung Quốc chuyển các bức điện về nước, do vậy Trung Quốc biết hết các sách lược của Việt Nam và sử dụng chúng để ép Việt Nam ký hiệp định theo lợi ích của Trung Quốc. Trong đàm phán Phạm Văn Đồng sử dụng phiên dịch Trung Quốc nên nội dung liên lạc giữa đoàn đàm phán và Trung ương, Trung Quốc đều biết trước và tìm cách ngăn chặn. Ông Phạm Văn Đồng sau này cũng thừa nhận là đoàn Việt Nam khi đó quá tin đoàn Trung Quốc. Tại hội nghị ấy, ông Đồng chỉ chủ yếu tiếp xúc với đoàn Liên Xô và đoàn Trung Quốc, trong khi Anh là đồng chủ tịch, quan điểm lại khác với Pháp, nhưng ông lại không tranh thủ, không hề tiếp xúc với phái đoàn Anh.'}, {'qas': [{'question': 'Trung Quốc đã làm gì để làm sai lệch thông tin văn kiện đến quần chúng nhân dân Trung Quốc?', 'answers': [{'answer_start': 427, 'text': 'Các tài liệu công bố công khai cho công chúng Trung Quốc bản dịch tiếng Trung đều không dịch đầy đủ nội dung của văn kiện'}], 'id': 'uit_000025', 'is_impossible': False}, {'question': 'Quan điểm của Trung Quốc là gì đối với công hàm của Thủ tướng nước Việt Nam Dân Chủ Cộng Hoà Phạm Văn Đồng?', 'answers': [{'answer_start': 124, 'text': 'đương nhiên \"công nhận\" chủ quyền của Trung Quốc đối với các quần đảo trên biển Đông'}], 'id': 'uit_000026', 'is_impossible': False}, {'question': 'Nội dung nào được đề cập trong báo Nhân dân ngày 6 tháng 9?', 'answers': [{'answer_start': 283, 'text': 'Tuyên bố Lãnh hải của chính phủ Trung Quốc trong đó đường cơ sở để tính lãnh hải bao gồm bờ biển hai quần đảo Tây Sa và Nam Sa trên biển Đông'}], 'id': 'uit_000027', 'is_impossible': False}, {'question': 'Trung Quốc đã làm gì để làm sai lệch thông tin văn kiện đến quần chúng nhân dân Nam Sa?', 'answers': [], 'plausible_answers': [{'answer_start': 427, 'text': 'Các tài liệu công bố công khai cho công chúng Trung Quốc bản dịch tiếng Trung đều không dịch đầy đủ nội dung của văn kiện'}], 'id': 'uit_000028', 'is_impossible': True}, {'question': 'Quan điểm của Trung Quốc là gì đối với thư ký của Thủ tướng nước Việt Nam Dân Chủ Cộng Hoà Phạm Văn Đồng?', 'answers': [], 'plausible_answers': [{'answer_start': 124, 'text': 'đương nhiên \"công nhận\" chủ quyền của Trung Quốc đối với các quần đảo trên biển Đông'}], 'id': 'uit_000029', 'is_impossible': True}, {'question': 'Nội dung nào được đề cập trong báo Trung Quốc ngày 6 tháng 9?', 'answers': [], 'plausible_answers': [{'answer_start': 283, 'text': 'Tuyên bố Lãnh hải của chính phủ Trung Quốc trong đó đường cơ sở để tính lãnh hải bao gồm bờ biển hai quần đảo Tây Sa và Nam Sa trên biển Đông'}], 'id': 'uit_000030', 'is_impossible': True}, {'question': 'Các tài liệu công bố công khai cho công chúng Trung Quốc bản dịch tiếng Trung thiếu đoạn quan trọng nào?', 'answers': [{'answer_start': 594, 'text': 'triệt để tôn trọng hải phận 12 hải lý của Trung Quốc'}], 'id': 'uit_000031', 'is_impossible': False}], 'context': 'Theo quan điểm của Trung Quốc (tài liệu Bộ Ngoại giao), công hàm của Thủ tướng nước Việt Nam Dân Chủ Cộng Hoà Phạm Văn Đồng đương nhiên \"công nhận\" chủ quyền của Trung Quốc đối với các quần đảo trên biển Đông vì trước đó trong số báo ngày 6 tháng 9 báo Nhân dân \"đã đăng chi tiết về Tuyên bố Lãnh hải của chính phủ Trung Quốc trong đó đường cơ sở để tính lãnh hải bao gồm bờ biển hai quần đảo Tây Sa và Nam Sa trên biển Đông\". Các tài liệu công bố công khai cho công chúng Trung Quốc bản dịch tiếng Trung đều không dịch đầy đủ nội dung của văn kiện này, thiếu một số nội dung trong đó có đoạn \"triệt để tôn trọng hải phận 12 hải lý của Trung Quốc\".'}, {'qas': [{'question': 'Lập trường của Việt Nam trong việc giải quyết các vấn đề tranh chấp quần đảo Hoàng Sa và Trường Sa là gì?', 'answers': [{'answer_start': 837, 'text': 'thương lượng hoà bình'}], 'id': 'uit_000032', 'is_impossible': False}, {'question': 'Nội dung chủ yếu trong tuyên bố của Bộ Ngoại giao nước CHXHCN Việt Nam về quần đảo Hoàng Sa và Trường Sa ngày 7 tháng 8 năm 1979 là gì?', 'answers': [{'answer_start': 680, 'text': 'Việt Nam khẳng định lại chủ quyền đối với 2 quần đảo này, nhắc lại lập trường của Việt Nam về việc giải quyết sự tranh chấp về 2 quần đảo giữa hai nước bằng thương lượng hoà bình'}], 'id': 'uit_000033', 'is_impossible': False}, {'question': 'Lời diễn giải về bản công hàm ngày 14 tháng 9 năm 1958 được Bộ Ngoại giao nước CHXHCN Việt Nam nhìn nhận như thế nào?', 'answers': [{'answer_start': 302, 'text': 'một sự xuyên tạc trắng trợn'}], 'id': 'uit_000034', 'is_impossible': False}, {'question': 'Lập trường của Hoàng Sa trong việc giải quyết các vấn đề tranh chấp quần đảo Việt Nam và Trường Sa là gì?', 'answers': [], 'plausible_answers': [{'answer_start': 837, 'text': 'thương lượng hoà bình'}], 'id': 'uit_000035', 'is_impossible': True}, {'question': 'Lời diễn giải về bản công hàm ngày 7 tháng 8 năm 1979 được Bộ Ngoại giao nước CHXHCN Việt Nam nhìn nhận như thế nào?', 'answers': [], 'plausible_answers': [{'answer_start': 302, 'text': 'một sự xuyên tạc trắng trợn'}], 'id': 'uit_000036', 'is_impossible': True}], 'context': 'Theo Tuyên bố của Bộ Ngoại giao nước CHXHCN Việt Nam về quần đảo Hoàng Sa và Trường Sa ngày 7 tháng 8 năm 1979 thì: Sự diễn giải của Trung quốc về bản công hàm ngày 14 tháng 9 năm 1958 của Thủ tướng nước Việt Nam Dân chủ Cộng Hoà như một sự công nhận chủ quyền của phía Trung quốc trên các quần đảo là một sự xuyên tạc trắng trợn khi tinh thần và ý nghĩa của bản công hàm chỉ có ý định công nhận giới hạn 12 hải lý của lãnh hải Trung quốc. (Tức là khoảng 22 km, mà không cho biết đường cơ sở để tính chủ quyền 12 hải lý có bao gồm đường bờ biển hai quần đảo đó hay không). Văn bản này không đề cập đến hai quần đảo (chỉ là cơ sở Trung Quốc tính hải phận và không thuộc hải phận). Việt Nam khẳng định lại chủ quyền đối với 2 quần đảo này, nhắc lại lập trường của Việt Nam về việc giải quyết sự tranh chấp về 2 quần đảo giữa hai nước bằng thương lượng hoà bình.'}, {'qas': [{'question': 'Tại sao lòng tin của nhân dân vào Đảng lại giảm sút?', 'answers': [{'answer_start': 51, 'text': 'nhiều người có chức, có quyền trong hệ thống tổ chức của Đảng, Nhà nước, các đoàn thể quần chúng hư hỏng quá, thoái hóa biến chất, chạy theo chức quyền, tiền và danh lợi'}], 'id': 'uit_000037', 'is_impossible': False}, {'question': 'Việc dân mất niềm tin vào Đảng mang lại hậu quả như thế nào?', 'answers': [{'answer_start': 440, 'text': 'có thể đưa đến sự mất còn của chế độ và sự nghiệp cách mạng'}], 'id': 'uit_000038', 'is_impossible': False}, {'question': 'Điều gì có thể đẩy Đảng vào trong tình thế nguy kịch?', 'answers': [{'answer_start': 278, 'text': 'nhân dân ta ngày càng giảm lòng tin vào Đảng'}], 'id': 'uit_000039', 'is_impossible': False}, {'question': 'Tại sao nhân dân lại mất hoàn toàn lòng tin vào Đảng?', 'answers': [], 'plausible_answers': [{'answer_start': 51, 'text': 'nhiều người có chức, có quyền trong hệ thống tổ chức của Đảng, Nhà nước, các đoàn thể quần chúng hư hỏng quá, thoái hóa biến chất, chạy theo chức quyền, tiền và danh lợi'}], 'id': 'uit_000040', 'is_impossible': True}, {'question': 'Điều gì có thể đẩy nhân dân vào trong tình thế nguy kịch?', 'answers': [], 'plausible_answers': [{'answer_start': 278, 'text': 'nhân dân ta ngày càng giảm lòng tin vào Đảng'}], 'id': 'uit_000041', 'is_impossible': True}], 'context': 'Điều chủ yếu phải nhấn mạnh theo tinh thần trên là nhiều người có chức, có quyền trong hệ thống tổ chức của Đảng, Nhà nước, các đoàn thể quần chúng hư hỏng quá, thoái hóa biến chất, chạy theo chức quyền, tiền và danh lợi, những người ấy đang làm cho một bộ phận không nhỏ trong nhân dân ta ngày càng giảm lòng tin vào Đảng ta, đưa đến tình hình nguy kịch, không thể coi thường, là sự hội nhập của \"bốn nguy cơ\" tác động lẫn nhau và phá ta, có thể đưa đến sự mất còn của chế độ và sự nghiệp cách mạng của chúng ta.'}]}\n"
     ]
    }
   ],
   "source": [
    "print(data_origin['data'][0])"
   ]
  },
  {
   "cell_type": "markdown",
   "metadata": {},
   "source": [
    "> Organizes data as data_frame"
   ]
  },
  {
   "cell_type": "code",
   "execution_count": 5,
   "metadata": {},
   "outputs": [],
   "source": [
    "def Create_CSV (dataset):\n",
    "    contexts = []\n",
    "    questions = []\n",
    "    answers = []\n",
    "    ids = []\n",
    "    for data in dataset['data']:\n",
    "        for para in data['paragraphs']:\n",
    "            context = para['context']\n",
    "            for qa in para['qas']:\n",
    "                question = qa['question']\n",
    "                for answer in qa['answers']:\n",
    "                    contexts.append(context)\n",
    "                    questions.append(question)\n",
    "                    answers.append({'answer_start': [answer['answer_start']], 'text': [answer['text']]})\n",
    "                    ids.append(qa['id'])\n",
    "    df = pd.DataFrame(list(zip(ids, contexts, questions, answers)),\n",
    "               columns =['ids', 'contexts', 'questions', 'answers'])\n",
    "    df.to_csv(\"../data/data_origin/data_eda/dataset.csv\",index=False)\n",
    "    return df"
   ]
  },
  {
   "cell_type": "markdown",
   "metadata": {},
   "source": [
    "> Execute function"
   ]
  },
  {
   "cell_type": "code",
   "execution_count": 6,
   "metadata": {},
   "outputs": [],
   "source": [
    "df_origin=Create_CSV(data_origin)"
   ]
  },
  {
   "cell_type": "code",
   "execution_count": 7,
   "metadata": {},
   "outputs": [
    {
     "name": "stdout",
     "output_type": "stream",
     "text": [
      "          ids  \\\n",
      "0  uit_000001   \n",
      "1  uit_000002   \n",
      "2  uit_000003   \n",
      "3  uit_000007   \n",
      "4  uit_000008   \n",
      "\n",
      "                                                                                                                                                                                                                                                                                                                                                                                                                                                                                                                                                                                                                 contexts  \\\n",
      "0  Phạm Văn Đồng (1 tháng 3 năm 1906 – 29 tháng 4 năm 2000) là Thủ tướng đầu tiên của nước Cộng hòa Xã hội chủ nghĩa Việt Nam từ năm 1976 (từ năm 1981 gọi là Chủ tịch Hội đồng Bộ trưởng) cho đến khi nghỉ hưu năm 1987. Trước đó ông từng giữ chức vụ Thủ tướng Chính phủ Việt Nam Dân chủ Cộng hòa từ năm 1955 đến năm 1976. Ông là vị Thủ tướng Việt Nam tại vị lâu nhất (1955–1987). Ông là học trò, cộng sự của Chủ tịch Hồ Chí Minh. Ông có tên gọi thân mật là Tô, đây từng là bí danh của ông. Ông còn có tên gọi là Lâm Bá Kiệt khi làm Phó chủ nhiệm cơ quan Biện sự xứ tại Quế Lâm (Chủ nhiệm là Hồ Học Lãm).   \n",
      "1  Phạm Văn Đồng (1 tháng 3 năm 1906 – 29 tháng 4 năm 2000) là Thủ tướng đầu tiên của nước Cộng hòa Xã hội chủ nghĩa Việt Nam từ năm 1976 (từ năm 1981 gọi là Chủ tịch Hội đồng Bộ trưởng) cho đến khi nghỉ hưu năm 1987. Trước đó ông từng giữ chức vụ Thủ tướng Chính phủ Việt Nam Dân chủ Cộng hòa từ năm 1955 đến năm 1976. Ông là vị Thủ tướng Việt Nam tại vị lâu nhất (1955–1987). Ông là học trò, cộng sự của Chủ tịch Hồ Chí Minh. Ông có tên gọi thân mật là Tô, đây từng là bí danh của ông. Ông còn có tên gọi là Lâm Bá Kiệt khi làm Phó chủ nhiệm cơ quan Biện sự xứ tại Quế Lâm (Chủ nhiệm là Hồ Học Lãm).   \n",
      "2  Phạm Văn Đồng (1 tháng 3 năm 1906 – 29 tháng 4 năm 2000) là Thủ tướng đầu tiên của nước Cộng hòa Xã hội chủ nghĩa Việt Nam từ năm 1976 (từ năm 1981 gọi là Chủ tịch Hội đồng Bộ trưởng) cho đến khi nghỉ hưu năm 1987. Trước đó ông từng giữ chức vụ Thủ tướng Chính phủ Việt Nam Dân chủ Cộng hòa từ năm 1955 đến năm 1976. Ông là vị Thủ tướng Việt Nam tại vị lâu nhất (1955–1987). Ông là học trò, cộng sự của Chủ tịch Hồ Chí Minh. Ông có tên gọi thân mật là Tô, đây từng là bí danh của ông. Ông còn có tên gọi là Lâm Bá Kiệt khi làm Phó chủ nhiệm cơ quan Biện sự xứ tại Quế Lâm (Chủ nhiệm là Hồ Học Lãm).   \n",
      "3  Phạm Văn Đồng (1 tháng 3 năm 1906 – 29 tháng 4 năm 2000) là Thủ tướng đầu tiên của nước Cộng hòa Xã hội chủ nghĩa Việt Nam từ năm 1976 (từ năm 1981 gọi là Chủ tịch Hội đồng Bộ trưởng) cho đến khi nghỉ hưu năm 1987. Trước đó ông từng giữ chức vụ Thủ tướng Chính phủ Việt Nam Dân chủ Cộng hòa từ năm 1955 đến năm 1976. Ông là vị Thủ tướng Việt Nam tại vị lâu nhất (1955–1987). Ông là học trò, cộng sự của Chủ tịch Hồ Chí Minh. Ông có tên gọi thân mật là Tô, đây từng là bí danh của ông. Ông còn có tên gọi là Lâm Bá Kiệt khi làm Phó chủ nhiệm cơ quan Biện sự xứ tại Quế Lâm (Chủ nhiệm là Hồ Học Lãm).   \n",
      "4                                                                                    Năm 1954, ông được giao nhiệm vụ Trưởng phái đoàn Chính phủ dự Hội nghị Genève về Đông Dương. Những đóng góp của đoàn Việt Nam do ông đứng đầu là vô cùng quan trọng, tạo ra những đột phá đưa Hội nghị tới thành công. Trải qua 8 phiên họp toàn thể và 23 phiên họp rất căng thẳng và phức tạp, với tinh thần chủ động và cố gắng của phái đoàn Việt Nam, ngày 20/7/1954, bản Hiệp định đình chỉ chiến sự ở Việt Nam, Campuchia và Lào đã được ký kết thừa nhận tôn trọng độc lập, chủ quyền, của nước Việt Nam, Lào và Campuchia.   \n",
      "\n",
      "                                                                                      questions  \\\n",
      "0  Tên gọi nào được Phạm Văn Đồng sử dụng khi làm Phó chủ nhiệm cơ quan Biện sự xứ tại Quế Lâm?   \n",
      "1        Phạm Văn Đồng giữ chức vụ gì trong bộ máy Nhà nước Cộng hòa Xã hội chủ nghĩa Việt Nam?   \n",
      "2                                    Giai đoạn năm 1955-1976, Phạm Văn Đồng nắm giữ chức vụ gì?   \n",
      "3       Chủ tịch Hội đồng Bộ trưởng đầu tiên của nước Cộng hòa xã hội chủ nghĩa Việt Nam là ai?   \n",
      "4                                         Sự kiện quan trọng nào đã diễn ra vào ngày 20/7/1954?   \n",
      "\n",
      "                                                                                                                                                                                        answers  \n",
      "0                                                                                                                                              {'answer_start': [507], 'text': ['Lâm Bá Kiệt']}  \n",
      "1                                                                                                                                                 {'answer_start': [60], 'text': ['Thủ tướng']}  \n",
      "2                                                                                                            {'answer_start': [245], 'text': ['Thủ tướng Chính phủ Việt Nam Dân chủ Cộng hòa']}  \n",
      "3                                                                                                                                              {'answer_start': [0], 'text': ['Phạm Văn Đồng']}  \n",
      "4  {'answer_start': [364], 'text': ['bản Hiệp định đình chỉ chiến sự ở Việt Nam, Campuchia và Lào đã được ký kết thừa nhận tôn trọng độc lập, chủ quyền, của nước Việt Nam, Lào và Campuchia']}  \n"
     ]
    }
   ],
   "source": [
    "print(df_origin.head(5))"
   ]
  }
 ],
 "metadata": {
  "kernelspec": {
   "display_name": "machinelearning-lTTH8rYd",
   "language": "python",
   "name": "python3"
  },
  "language_info": {
   "codemirror_mode": {
    "name": "ipython",
    "version": 3
   },
   "file_extension": ".py",
   "mimetype": "text/x-python",
   "name": "python",
   "nbconvert_exporter": "python",
   "pygments_lexer": "ipython3",
   "version": "3.11.5"
  }
 },
 "nbformat": 4,
 "nbformat_minor": 2
}
