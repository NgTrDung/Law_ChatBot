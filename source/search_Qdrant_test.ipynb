{
 "cells": [
  {
   "cell_type": "markdown",
   "metadata": {},
   "source": [
    "# 1. Thư viện"
   ]
  },
  {
   "cell_type": "code",
   "execution_count": 1,
   "metadata": {},
   "outputs": [
    {
     "name": "stderr",
     "output_type": "stream",
     "text": [
      "d:\\Download_Python\\lib\\importlib\\__init__.py:127: LangChainDeprecationWarning: As of langchain-core 0.3.0, LangChain uses pydantic v2 internally. The langchain_core.pydantic_v1 module was a compatibility shim for pydantic v1, and should no longer be used. Please update the code to import from Pydantic directly.\n",
      "\n",
      "For example, replace imports like: `from langchain_core.pydantic_v1 import BaseModel`\n",
      "with: `from pydantic import BaseModel`\n",
      "or the v1 compatibility namespace if you are working in a code base that has not been fully upgraded to pydantic 2 yet. \tfrom pydantic.v1 import BaseModel\n",
      "\n",
      "  return _bootstrap._gcd_import(name[level:], package, level)\n"
     ]
    },
    {
     "name": "stdout",
     "output_type": "stream",
     "text": [
      "WARNING:tensorflow:From d:\\Download_Python\\lib\\site-packages\\tf_keras\\src\\losses.py:2976: The name tf.losses.sparse_softmax_cross_entropy is deprecated. Please use tf.compat.v1.losses.sparse_softmax_cross_entropy instead.\n",
      "\n"
     ]
    },
    {
     "name": "stderr",
     "output_type": "stream",
     "text": [
      "d:\\Download_Python\\lib\\site-packages\\transformers\\tokenization_utils_base.py:1601: FutureWarning: `clean_up_tokenization_spaces` was not set. It will be set to `True` by default. This behavior will be depracted in transformers v4.45, and will be then set to `False` by default. For more details check this issue: https://github.com/huggingface/transformers/issues/31884\n",
      "  warnings.warn(\n"
     ]
    }
   ],
   "source": [
    "import os\n",
    "import search_Qdrant as s_Q\n",
    "\n",
    "from dotenv import load_dotenv\n",
    "from apikeys_GEMINI import APIKeyManager"
   ]
  },
  {
   "cell_type": "code",
   "execution_count": 2,
   "metadata": {},
   "outputs": [],
   "source": [
    "load_dotenv()\n",
    "APIS_GEMINI_LIST = os.getenv('APIS_GEMINI_LIST').split(',')\n",
    "key_manager = APIKeyManager(APIS_GEMINI_LIST)"
   ]
  },
  {
   "cell_type": "markdown",
   "metadata": {},
   "source": [
    "# 2. Thực thi search Điều"
   ]
  },
  {
   "cell_type": "code",
   "execution_count": 5,
   "metadata": {},
   "outputs": [
    {
     "name": "stdout",
     "output_type": "stream",
     "text": [
      "\n",
      "Các kết quả trả về:\n",
      "\n",
      "Điều 4. Chính sách của Nhà nước về khám bệnh, chữa bệnh\n",
      "1. Nhà nước giữ vai trò chủ đạo trong phát triển hoạt động khám bệnh, chữa bệnh; huy động các nguồn lực xã hội cho hoạt động khám bệnh, chữa bệnh.\n",
      "2. Ưu tiên bố trí ngân sách nhà nước cho các hoạt động sau đây:\n",
      "a) Phát triển cơ sở khám bệnh, chữa bệnh thuộc y tế cơ sở, hệ thống cấp cứu ngoại viện; tập trung đầu tư cho cơ sở khám bệnh, chữa bệnh tại khu vực biên giới, hải đảo, vùng đồng bào dân tộc thiểu số và miền núi, vùng có điều kiện kinh tế - xã hội khó khăn và vùng có điều kiện kinh tế - xã hội đặc biệt khó khăn;\n",
      "b) Khám bệnh, chữa bệnh đối với người có công với cách mạng; trẻ em, người cao tuổi, người khuyết tật, người thuộc hộ nghèo, người thuộc hộ cận nghèo; người đang sinh sống ở khu vực biên giới, hải đảo, vùng có điều kiện kinh tế - xã hội khó khăn và vùng có điều kiện kinh tế - xã hội đặc biệt khó khăn; người mắc bệnh tâm thần, bệnh phong; người mắc bệnh truyền nhiễm thuộc nhóm A; người mắc bệnh truyền nhiễm thuộc nhóm B theo danh mục do Bộ trưởng Bộ Y tế quy định;\n",
      "c) Tăng cường phát triển nguồn nhân lực y tế, đặc biệt là nguồn nhân lực thuộc các lĩnh vực truyền nhiễm, tâm thần, giải phẫu bệnh, pháp y, pháp y tâm thần, hồi sức cấp cứu và chuyên ngành, lĩnh vực khác cần ưu tiên để đáp ứng nhu cầu, điều kiện phát triển kinh tế - xã hội trong từng thời kỳ theo quy định của Chính phủ;\n",
      "d) Nghiên cứu, ứng dụng khoa học, công nghệ, chuyển đổi số trong khám bệnh, chữa bệnh.\n",
      "3. Khuyến khích thực hiện hợp tác công tư; thực hiện ưu đãi đầu tư trong lĩnh vực khám bệnh, chữa bệnh. Cơ sở khám bệnh, chữa bệnh được ưu đãi về tín dụng để đầu tư nâng cao chất lượng khám bệnh, chữa bệnh; được miễn thuế thu nhập doanh nghiệp đối với phần thu nhập không chia mà để lại để đầu tư phát triển cơ sở khám bệnh, chữa bệnh.\n",
      "4. Đầu tư cơ sở khám bệnh, chữa bệnh tại vùng có điều kiện kinh tế - xã hội khó khăn, vùng có điều kiện kinh tế - xã hội đặc biệt khó khăn và cơ sở khám bệnh, chữa bệnh hoạt động không vì mục đích lợi nhuận được xác định thuộc ngành, nghề đặc biệt ưu đãi đầu tư trong Danh mục ngành, nghề ưu đãi đầu tư.\n",
      "5. Thực hiện chế độ luân phiên có thời hạn đối với người hành nghề giữa các cơ sở khám bệnh, chữa bệnh của Nhà nước.\n",
      "6. Có chính sách đãi ngộ đặc biệt đối với người hành nghề.\n",
      "7. Có chính sách phát triển nguồn nhân lực quản lý, quản trị bệnh viện.\n",
      "8. Phát huy vai trò của các tổ chức xã hội - nghề nghiệp về khám bệnh, chữa bệnh trong hoạt động khám bệnh, chữa bệnh.\n",
      "9. Kế thừa và phát huy y học cổ truyền; kết hợp y học cổ truyền với y học hiện đại.\n",
      "10. Kết hợp quân y và dân y trong khám bệnh, chữa bệnh. \n",
      "-----------------\n",
      "Điều 95. Điều kiện của người tham gia thử nghiệm lâm sàng trong khám bệnh, chữa bệnh\n",
      "1. Người đáp ứng yêu cầu chuyên môn của việc thử nghiệm lâm sàng kỹ thuật mới, phương pháp mới, thiết bị y tế trong khám bệnh, chữa bệnh (sau đây gọi là thử nghiệm lâm sàng) và tự nguyện tham gia thử nghiệm lâm sàng.\n",
      "2. Trường hợp người tham gia thử nghiệm lâm sàng là người bị mất năng lực hành vi dân sự, có khó khăn trong nhận thức, làm chủ hành vi, hạn chế năng lực hành vi dân sự, người chưa thành niên thì phải được sự đồng ý của người đại diện hoặc người giám hộ theo quy định của pháp luật về dân sự.\n",
      "3. Trường hợp người tham gia thử nghiệm lâm sàng là đối tượng quy định tại khoản 2 Điều này, phụ nữ đang mang thai hoặc đang cho con bú thì hồ sơ nghiên cứu phải ghi rõ lý do tuyển chọn và biện pháp phù hợp để bảo vệ người tham gia thử nghiệm lâm sàng, thai nhi hoặc trẻ em đang trong thời gian sử dụng sữa của người mẹ tham gia thử nghiệm lâm sàng. \n",
      "-----------------\n",
      "Điều 23. Thực hành khám bệnh, chữa bệnh\n",
      "1. Người đề nghị cấp giấy phép hành nghề theo một trong các chức danh bác sỹ, y sỹ, điều dưỡng, hộ sinh, kỹ thuật y, dinh dưỡng lâm sàng, cấp cứu viên ngoại viện và tâm lý lâm sàng phải thực hành khám bệnh, chữa bệnh theo nguyên tắc quy định tại khoản 2 Điều này, trừ các trường hợp sau đây:\n",
      "a) Đã hoàn thành chương trình đào tạo chuyên khoa;\n",
      "b) Đã được cấp giấy phép hành nghề do cơ quan, tổ chức có thẩm quyền của nước ngoài cấp và được thừa nhận theo quy định tại Điều 29 của Luật này.\n",
      "2. Thực hành khám bệnh, chữa bệnh được thực hiện theo nguyên tắc sau đây:\n",
      "a) Phù hợp với văn bằng chuyên môn được cấp;\n",
      "b) Thực hiện tại các cơ sở khám bệnh, chữa bệnh có phạm vi hoạt động chuyên môn phù hợp với nội dung thực hành;\n",
      "c) Thời gian thực hành phù hợp với từng chức danh chuyên môn;\n",
      "d) Cơ sở hướng dẫn thực hành phải phân công người hướng dẫn thực hành, phải đăng ký danh sách người thực hành tại cơ sở trên Hệ thống thông tin về quản lý hoạt động khám bệnh, chữa bệnh và cấp giấy xác nhận việc thực hành cho người thực hành;\n",
      "đ) Người hướng dẫn thực hành phải là người hành nghề có phạm vi hành nghề phù hợp với nội dung hướng dẫn thực hành và phải chịu trách nhiệm về hoạt động chuyên môn của người thực hành trong quá trình thực hành, trừ trường hợp người thực hành cố ý vi phạm pháp luật;\n",
      "e) Người thực hành phải tuân thủ sự phân công, hướng dẫn của người hướng dẫn thực hành và phải tôn trọng các quyền, nghĩa vụ của người bệnh.\n",
      "3. Chính phủ quy định chi tiết Điều này. \n",
      "-----------------\n",
      "Điều 3. Nguyên tắc trong khám bệnh, chữa bệnh\n",
      "1. Tôn trọng, bảo vệ, đối xử bình đẳng và không kỳ thị, phân biệt đối xử đối với người bệnh.\n",
      "2. Ưu tiên khám bệnh, chữa bệnh đối với trường hợp người bệnh trong tình trạng cấp cứu, trẻ em dưới 06 tuổi, phụ nữ có thai, người khuyết tật đặc biệt nặng, người khuyết tật nặng, người từ đủ 75 tuổi trở lên, người có công với cách mạng phù hợp với đặc thù của cơ sở khám bệnh, chữa bệnh.\n",
      "3. Tôn trọng, hợp tác, bảo vệ người hành nghề, người khác đang thực hiện nhiệm vụ tại cơ sở khám bệnh, chữa bệnh.\n",
      "4. Thực hiện kịp thời và tuân thủ quy định về chuyên môn kỹ thuật.\n",
      "5. Tuân thủ quy tắc đạo đức nghề nghiệp trong hành nghề khám bệnh, chữa bệnh do Bộ trưởng Bộ Y tế ban hành.\n",
      "6. Bình đẳng, công bằng giữa các cơ sở khám bệnh, chữa bệnh. \n",
      "-----------------\n",
      "Điều 17. Nghĩa vụ chấp hành các quy định trong khám bệnh, chữa bệnh\n",
      "1. Cung cấp trung thực và chịu trách nhiệm về thông tin liên quan đến nhân thân, tình trạng sức khỏe của mình, hợp tác đầy đủ với người hành nghề và người khác làm việc tại cơ sở khám bệnh, chữa bệnh.\n",
      "2. Chấp hành chỉ định về chẩn đoán, phương pháp chữa bệnh của người hành nghề.\n",
      "3. Chấp hành và yêu cầu thân nhân, người đến thăm mình chấp hành nội quy của cơ sở khám bệnh, chữa bệnh, quy định của pháp luật về khám bệnh, chữa bệnh. \n",
      "-----------------\n"
     ]
    }
   ],
   "source": [
    "user_input = \"Nguyên tắc nào cần tuân thủ khi thực hiện các kỹ thuật chuyên môn trong khám bệnh, chữa bệnh?\"\n",
    "\n",
    "contexts= s_Q.search_Article(user_input, key_manager)\n",
    "\n",
    "for c in contexts:\n",
    "    print(c,\"\\n-----------------\")"
   ]
  },
  {
   "cell_type": "code",
   "execution_count": null,
   "metadata": {},
   "outputs": [],
   "source": []
  }
 ],
 "metadata": {
  "kernelspec": {
   "display_name": "Python 3",
   "language": "python",
   "name": "python3"
  },
  "language_info": {
   "codemirror_mode": {
    "name": "ipython",
    "version": 3
   },
   "file_extension": ".py",
   "mimetype": "text/x-python",
   "name": "python",
   "nbconvert_exporter": "python",
   "pygments_lexer": "ipython3",
   "version": "3.9.8"
  }
 },
 "nbformat": 4,
 "nbformat_minor": 2
}
