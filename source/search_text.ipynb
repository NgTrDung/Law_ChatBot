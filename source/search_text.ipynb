{
 "cells": [
  {
   "cell_type": "code",
   "execution_count": 1,
   "metadata": {},
   "outputs": [
    {
     "name": "stdout",
     "output_type": "stream",
     "text": [
      "WARNING:tensorflow:From c:\\Users\\hdang\\.virtualenvs\\machinelearning-lTTH8rYd\\Lib\\site-packages\\keras\\src\\losses.py:2976: The name tf.losses.sparse_softmax_cross_entropy is deprecated. Please use tf.compat.v1.losses.sparse_softmax_cross_entropy instead.\n",
      "\n"
     ]
    },
    {
     "name": "stderr",
     "output_type": "stream",
     "text": [
      "c:\\Users\\hdang\\.virtualenvs\\machinelearning-lTTH8rYd\\Lib\\site-packages\\transformers\\tokenization_utils_base.py:1601: FutureWarning: `clean_up_tokenization_spaces` was not set. It will be set to `True` by default. This behavior will be depracted in transformers v4.45, and will be then set to `False` by default. For more details check this issue: https://github.com/huggingface/transformers/issues/31884\n",
      "  warnings.warn(\n"
     ]
    }
   ],
   "source": [
    "import os\n",
    "import search_Qdrant as sq\n",
    "import numpy as np\n",
    "from dotenv import load_dotenv\n",
    "from apikeys_GEMINI import APIKeyManager\n",
    "import numpy as np\n",
    "import torch\n",
    "from transformers import AutoTokenizer, AutoModelForQuestionAnswering\n",
    "from sentence_transformers import SentenceTransformer\n",
    "from sklearn.feature_extraction.text import TfidfVectorizer\n",
    "from sklearn.metrics.pairwise import cosine_similarity\n",
    "from peft import PeftModel, PeftConfig"
   ]
  },
  {
   "cell_type": "code",
   "execution_count": 2,
   "metadata": {},
   "outputs": [],
   "source": [
    "load_dotenv()\n",
    "APIS_GEMINI_LIST = os.getenv('APIS_GEMINI_LIST').split(',')\n",
    "key_manager = APIKeyManager(APIS_GEMINI_LIST)"
   ]
  },
  {
   "cell_type": "code",
   "execution_count": 3,
   "metadata": {},
   "outputs": [],
   "source": [
    "# config = PeftConfig.from_pretrained('../model/lora/')\n",
    "# tokenizer=AutoTokenizer.from_pretrained(config.base_model_name_or_path)\n",
    "# base_model = AutoModelForQuestionAnswering.from_pretrained(\n",
    "#     config.base_model_name_or_path,\n",
    "#     trust_remote_code=True, \n",
    "#      torch_dtype=torch.float32\n",
    "# )   \n",
    "# # Load the Peft/Lora model\n",
    "# model = PeftModel.from_pretrained(base_model, '../model/lora/')"
   ]
  },
  {
   "cell_type": "code",
   "execution_count": 4,
   "metadata": {},
   "outputs": [],
   "source": [
    "tokenizer=AutoTokenizer.from_pretrained(\"google-bert/bert-base-multilingual-cased\")\n",
    "model =AutoModelForQuestionAnswering.from_pretrained('quanghuy123/fine-tuning-bert-for-Question-Answer')"
   ]
  },
  {
   "cell_type": "code",
   "execution_count": 5,
   "metadata": {},
   "outputs": [],
   "source": [
    "MODEL_RERANK = \"sentence-transformers/paraphrase-multilingual-mpnet-base-v2\"\n",
    "rerank_model = SentenceTransformer(MODEL_RERANK)\n",
    "MAX_LENGTH = 512\n",
    "STRIDE = 400\n",
    "N_BEST = 200\n",
    "MAX_ANSWER_LENGTH = 2000"
   ]
  },
  {
   "cell_type": "code",
   "execution_count": 6,
   "metadata": {},
   "outputs": [],
   "source": [
    "def predict(contexts, question):\n",
    "    answer_final = []\n",
    "    for context in contexts:\n",
    "        inputs = tokenizer(\n",
    "            question,\n",
    "            context,\n",
    "            max_length=MAX_LENGTH,\n",
    "            truncation=\"only_second\",\n",
    "            stride=STRIDE,\n",
    "            return_offsets_mapping=True,\n",
    "            padding=\"max_length\",\n",
    "            return_tensors=\"pt\"\n",
    "        )\n",
    "        with torch.no_grad():\n",
    "            outputs = model(**{k: v for k, v in inputs.items() if k in ['input_ids', 'attention_mask']})\n",
    "        start_logits = outputs.start_logits.squeeze().cpu().numpy()\n",
    "        end_logits = outputs.end_logits.squeeze().cpu().numpy()\n",
    "        offsets = inputs[\"offset_mapping\"][0].cpu().numpy()\n",
    "        answers = []\n",
    "        start_indexes = np.argsort(start_logits)[-N_BEST:][::-1].tolist()\n",
    "        end_indexes = np.argsort(end_logits)[-N_BEST:][::-1].tolist()\n",
    "\n",
    "        for start_index in start_indexes:\n",
    "            for end_index in end_indexes:\n",
    "                if end_index < start_index or end_index - start_index + 1 > MAX_ANSWER_LENGTH:\n",
    "                    continue\n",
    "                if offsets[start_index][0] is not None and offsets[end_index][1] is not None:\n",
    "                    answer_text = context[offsets[start_index][0]: offsets[end_index][1]].strip()\n",
    "                    if answer_text:\n",
    "                        answer = {\n",
    "                            \"text\": answer_text,\n",
    "                            \"score\": start_logits[start_index] + end_logits[end_index],\n",
    "                        }\n",
    "                        answers.append(answer)\n",
    "        if answers:\n",
    "            answers.sort(key=lambda x: x[\"score\"], reverse=True)\n",
    "            best_answer = answers[0]['text']\n",
    "            if best_answer not in answer_final:\n",
    "                answer_final.append(best_answer)\n",
    "        else: \n",
    "            return \"Không có câu trả lời\"\n",
    "    return answer_final  \n",
    " "
   ]
  },
  {
   "cell_type": "code",
   "execution_count": 7,
   "metadata": {},
   "outputs": [
    {
     "name": "stdout",
     "output_type": "stream",
     "text": [
      "\n",
      "Các kết quả trả về:\n",
      "\n",
      "Điều 27. Hồ sơ đăng ký tham gia bảo hiểm xã hội bắt buộc và bảo hiểm xã hội tự nguyện\n",
      "1. Hồ sơ đăng ký tham gia bảo hiểm xã hội bắt buộc của đối tượng tham gia bảo hiểm xã hội bắt buộc, trừ đối tượng quy định tại điểm m và điểm n khoản 1 Điều 2 của Luật này bao gồm:\n",
      "a) Tờ khai đăng ký tham gia bảo hiểm xã hội của người sử dụng lao động kèm theo danh sách người lao động tham gia bảo hiểm xã hội;\n",
      "b) Tờ khai đăng ký tham gia bảo hiểm xã hội của người lao động.\n",
      "2. Hồ sơ đăng ký tham gia bảo hiểm xã hội bắt buộc của đối tượng quy định tại điểm m và điểm n khoản 1 Điều 2 của Luật này nếu nộp qua người sử dụng lao động thì thực hiện theo quy định tại khoản 1 Điều này, nếu tự nộp thì hồ sơ là tờ khai quy định tại điểm b khoản 1 Điều này.\n",
      "3. Hồ sơ đăng ký tham gia bảo hiểm xã hội tự nguyện là tờ khai đăng ký tham gia bảo hiểm xã hội của người tham gia bảo hiểm xã hội tự nguyện. \n",
      "----------------------------------------------------------------\n",
      "Điều 3. Giải thích từ ngữ\n",
      "Trong Luật này, các từ ngữ dưới đây được hiểu như sau:\n",
      "1. Bảo hiểm xã hội là sự bảo đảm thay thế hoặc bù đắp một phần thu nhập của người tham gia bảo hiểm xã hội khi họ bị giảm hoặc mất thu nhập do ốm đau, thai sản, tai nạn lao động, bệnh nghề nghiệp, khi nghỉ hưu hoặc chết, trên cơ sở đóng vào quỹ bảo hiểm xã hội hoặc do ngân sách nhà nước bảo đảm.\n",
      "2. Trợ cấp hưu trí xã hội là loại hình bảo hiểm xã hội do ngân sách nhà nước bảo đảm cho người cao tuổi đủ điều kiện theo quy định của Luật này.\n",
      "3. Bảo hiểm xã hội bắt buộc là loại hình bảo hiểm xã hội do Nhà nước tổ chức mà người lao động, người sử dụng lao động thuộc đối tượng tham gia bảo hiểm xã hội bắt buộc phải tham gia.\n",
      "4. Bảo hiểm xã hội tự nguyện là loại hình bảo hiểm xã hội do Nhà nước tổ chức mà công dân Việt Nam tự nguyện tham gia và được lựa chọn mức đóng, phương thức đóng phù hợp với thu nhập của mình.\n",
      "5. Bảo hiểm hưu trí bổ sung là loại hình bảo hiểm mang tính chất tự nguyện theo nguyên tắc thị trường nhằm bổ sung cho chế độ hưu trí trong bảo hiểm xã hội bắt buộc, có cơ chế tạo lập quỹ từ đóng góp của người sử dụng lao động hoặc của người sử dụng lao động và người lao động.\n",
      "6. Thời gian đóng bảo hiểm xã hội là tổng thời gian đã đóng bảo hiểm xã hội bắt buộc, bảo hiểm xã hội tự nguyện theo quy định của Luật này, trừ trường hợp điều ước quốc tế mà nước Cộng hòa xã hội chủ nghĩa Việt Nam là thành viên có quy định khác.\n",
      "7. Thân nhân là con đẻ, con nuôi, vợ hoặc chồng, cha đẻ, mẹ đẻ, cha nuôi, mẹ nuôi, cha vợ hoặc cha chồng, mẹ vợ hoặc mẹ chồng của người tham gia bảo hiểm xã hội hoặc thành viên khác trong gia đình mà người tham gia bảo hiểm xã hội đang có nghĩa vụ nuôi dưỡng theo quy định của pháp luật về hôn nhân và gia đình.\n",
      "8. Người thụ hưởng là đối tượng đủ điều kiện hưởng chế độ bảo hiểm xã hội theo quy định của Luật này.\n",
      "9. Đăng ký tham gia bảo hiểm xã hội là việc người sử dụng lao động, người lao động nộp hồ sơ kê khai thông tin về người lao động, người sử dụng lao động, tiền lương, thu nhập làm căn cứ đóng bảo hiểm xã hội, phương thức đóng và các nội dung khác có liên quan theo quy định của pháp luật để tham gia bảo hiểm xã hội cho cơ quan bảo hiểm xã hội.\n",
      "10. Giao dịch điện tử trong lĩnh vực bảo hiểm xã hội là giao dịch được thực hiện bằng phương tiện điện tử bao gồm đăng ký tham gia, cấp sổ bảo hiểm xã hội, đóng bảo hiểm xã hội; giải quyết, chi trả chế độ bảo hiểm xã hội và các hoạt động khác trong lĩnh vực bảo hiểm xã hội.\n",
      "11. Cơ sở dữ liệu quốc gia về bảo hiểm là cơ sở dữ liệu dùng chung tập hợp thông tin về bảo hiểm xã hội, bảo hiểm thất nghiệp, bảo hiểm y tế được số hóa, chuẩn hóa, lưu trữ, quản lý bằng cơ sở hạ tầng thông tin để phục vụ quản lý nhà nước và giao dịch của cơ quan, tổ chức, cá nhân.\n",
      "12. Bản sao các giấy tờ dùng để thực hiện bảo hiểm xã hội quy định tại Luật này là giấy tờ thuộc một trong các trường hợp sau đây:\n",
      "a) Được cơ quan, tổ chức có thẩm quyền cấp từ sổ gốc;\n",
      "b) Được cơ quan, tổ chức có thẩm quyền chứng thực từ bản chính;\n",
      "c) Trường hợp khác do Chính phủ quy định. \n",
      "----------------------------------------------------------------\n",
      "Điều 2. Đối tượng tham gia bảo hiểm xã hội bắt buộc và bảo hiểm xã hội tự nguyện\n",
      "1. Người lao động là công dân Việt Nam thuộc đối tượng tham gia bảo hiểm xã hội bắt buộc bao gồm:\n",
      "a) Người làm việc theo hợp đồng lao động không xác định thời hạn, hợp đồng lao động xác định thời hạn có thời hạn từ đủ 01 tháng trở lên, kể cả trường hợp người lao động và người sử dụng lao động thỏa thuận bằng tên gọi khác nhưng có nội dung thể hiện về việc làm có trả công, tiền lương và sự quản lý, điều hành, giám sát của một bên;\n",
      "b) Cán bộ, công chức, viên chức;\n",
      "c) Công nhân và viên chức quốc phòng, công nhân công an, người làm công tác khác trong tổ chức cơ yếu;\n",
      "d) Sĩ quan, quân nhân chuyên nghiệp quân đội nhân dân; sĩ quan, hạ sĩ quan nghiệp vụ, sĩ quan, hạ sĩ quan chuyên môn kỹ thuật công an nhân dân; người làm công tác cơ yếu hưởng lương như đối với quân nhân;\n",
      "đ) Hạ sĩ quan, binh sĩ quân đội nhân dân; hạ sĩ quan, chiến sĩ nghĩa vụ công an nhân dân; học viên quân đội, công an, cơ yếu đang theo học được hưởng sinh hoạt phí;\n",
      "e) Dân quân thường trực;\n",
      "g) Người lao động đi làm việc ở nước ngoài theo hợp đồng quy định tại Luật Người lao động Việt Nam đi làm việc ở nước ngoài theo hợp đồng, trừ trường hợp điều ước quốc tế mà nước Cộng hòa xã hội chủ nghĩa Việt Nam là thành viên có quy định khác;\n",
      "h) Vợ hoặc chồng không hưởng lương từ ngân sách nhà nước được cử đi công tác nhiệm kỳ cùng thành viên cơ quan đại diện nước Cộng hòa xã hội chủ nghĩa Việt Nam ở nước ngoài được hưởng chế độ sinh hoạt phí;\n",
      "i) Người quản lý doanh nghiệp, kiểm soát viên, người đại diện phần vốn nhà nước, người đại diện phần vốn của doanh nghiệp theo quy định của pháp luật; thành viên Hội đồng quản trị, Tổng giám đốc, Giám đốc, thành viên Ban kiểm soát hoặc kiểm soát viên và các chức danh quản lý khác được bầu của hợp tác xã, liên hiệp hợp tác xã theo quy định của Luật Hợp tác xã có hưởng tiền lương;\n",
      "k) Người hoạt động không chuyên trách ở cấp xã, ở thôn, tổ dân phố;\n",
      "l) Đối tượng quy định tại điểm a khoản này làm việc không trọn thời gian, có tiền lương trong tháng bằng hoặc cao hơn tiền lương làm căn cứ đóng bảo hiểm xã hội bắt buộc thấp nhất;\n",
      "m) Chủ hộ kinh doanh của hộ kinh doanh có đăng ký kinh doanh tham gia theo quy định của Chính phủ;\n",
      "n) Người quản lý doanh nghiệp, kiểm soát viên, người đại diện phần vốn nhà nước, người đại diện phần vốn của doanh nghiệp theo quy định của pháp luật; thành viên Hội đồng quản trị, Tổng giám đốc, Giám đốc, thành viên Ban kiểm soát hoặc kiểm soát viên và các chức danh quản lý khác được bầu của hợp tác xã, liên hiệp hợp tác xã theo quy định của Luật Hợp tác xã không hưởng tiền lương.\n",
      "2. Người lao động là công dân nước ngoài làm việc tại Việt Nam thuộc đối tượng tham gia bảo hiểm xã hội bắt buộc khi làm việc theo hợp đồng lao động xác định thời hạn có thời hạn từ đủ 12 tháng trở lên với người sử dụng lao động tại Việt Nam, trừ các trường hợp sau đây:\n",
      "a) Di chuyển trong nội bộ doanh nghiệp theo quy định của pháp luật về người lao động nước ngoài làm việc tại Việt Nam;\n",
      "b) Tại thời điểm giao kết hợp đồng lao động đã đủ tuổi nghỉ hưu theo quy định tại khoản 2 Điều 169 của Bộ luật Lao động;\n",
      "c) Điều ước quốc tế mà nước Cộng hòa xã hội chủ nghĩa Việt Nam là thành viên có quy định khác.\n",
      "3. Người sử dụng lao động thuộc đối tượng tham gia bảo hiểm xã hội bắt buộc bao gồm cơ quan nhà nước, đơn vị sự nghiệp công lập; cơ quan, đơn vị, doanh nghiệp thuộc Quân đội nhân dân, Công an nhân dân và tổ chức cơ yếu; tổ chức chính trị, tổ chức chính trị - xã hội, tổ chức chính trị xã hội - nghề nghiệp, tổ chức xã hội - nghề nghiệp, tổ chức xã hội khác; cơ quan, tổ chức nước ngoài, tổ chức quốc tế hoạt động trên lãnh thổ Việt Nam; doanh nghiệp, tổ hợp tác, hợp tác xã, liên hiệp hợp tác xã, hộ kinh doanh, tổ chức khác và cá nhân có thuê mướn, sử dụng lao động theo hợp đồng lao động.\n",
      "4. Đối tượng tham gia bảo hiểm xã hội tự nguyện bao gồm:\n",
      "a) Công dân Việt Nam từ đủ 15 tuổi trở lên không thuộc đối tượng tham gia bảo hiểm xã hội bắt buộc và không phải là người đang hưởng lương hưu, trợ cấp bảo hiểm xã hội, trợ cấp hằng tháng;\n",
      "b) Đối tượng quy định tại điểm a và điểm b khoản 1 Điều này đang tạm hoãn thực hiện hợp đồng lao động, hợp đồng làm việc, trừ trường hợp hai bên có thỏa thuận về việc đóng bảo hiểm xã hội bắt buộc trong thời gian này.\n",
      "5. Người đồng thời thuộc nhiều đối tượng tham gia bảo hiểm xã hội bắt buộc khác nhau quy định tại khoản 1 Điều này thì việc tham gia bảo hiểm xã hội bắt buộc theo quy định như sau:\n",
      "a) Đối tượng quy định tại điểm a và điểm l khoản 1 Điều này mà giao kết hợp đồng lao động với nhiều người sử dụng lao động thì tham gia bảo hiểm xã hội bắt buộc theo hợp đồng lao động giao kết đầu tiên.\n",
      "Trường hợp hợp đồng lao động đang sử dụng làm căn cứ tham gia bảo hiểm xã hội bắt buộc đang tạm hoãn thực hiện hợp đồng mà hai bên không có thỏa thuận về việc đóng bảo hiểm xã hội bắt buộc trong thời gian tạm hoãn thì tham gia bảo hiểm xã hội bắt buộc theo thứ tự về thời gian có hiệu lực của hợp đồng được ký kết;\n",
      "b) Đối tượng quy định tại điểm b và điểm i khoản 1 Điều này đồng thời cũng thuộc đối tượng quy định tại điểm a hoặc điểm l khoản 1 Điều này thì tham gia bảo hiểm xã hội bắt buộc theo đối tượng tương ứng quy định tại điểm b hoặc điểm i khoản 1 Điều này;\n",
      "c) Đối tượng quy định tại điểm i và điểm n khoản 1 Điều này làm việc tại nhiều doanh nghiệp, hợp tác xã, liên hiệp hợp tác xã thì tham gia bảo hiểm xã hội bắt buộc tại doanh nghiệp, hợp tác xã hoặc liên hiệp hợp tác xã đầu tiên tham gia quản lý, điều hành;\n",
      "d) Đối tượng quy định tại điểm g và điểm k khoản 1 Điều này đồng thời thuộc đối tượng quy định tại một trong các điểm a, i và l khoản 1 Điều này thì tham gia bảo hiểm xã hội bắt buộc theo đối tượng tương ứng quy định tại điểm a, i hoặc l khoản 1 Điều này theo thứ tự đến trước;\n",
      "đ) Đối tượng quy định tại điểm k khoản 1 Điều này đồng thời thuộc đối tượng quy định tại điểm m hoặc điểm n khoản 1 Điều này thì tham gia bảo hiểm xã hội bắt buộc theo đối tượng quy định tại điểm k khoản 1 Điều này;\n",
      "e) Đối tượng quy định tại điểm m và điểm n khoản 1 Điều này đồng thời thuộc nhiều đối tượng quy định tại khoản 1 Điều này thì việc tham gia bảo hiểm xã hội bắt buộc theo quy định của Chính phủ;\n",
      "g) Đối tượng quy định tại điểm e khoản 1 Điều này đồng thời thuộc đối tượng quy định tại điểm k hoặc điểm m khoản 1 Điều này thì tham gia bảo hiểm xã hội bắt buộc theo đối tượng quy định tại điểm e khoản 1 Điều này.\n",
      "6. Ủy ban Thường vụ Quốc hội quyết định việc tham gia bảo hiểm xã hội bắt buộc đối với đối tượng khác ngoài đối tượng quy định tại khoản 1 Điều này mà có việc làm, thu nhập ổn định, thường xuyên trên cơ sở đề xuất của Chính phủ phù hợp với điều kiện phát triển kinh tế - xã hội từng thời kỳ.\n",
      "7. Trường hợp không thuộc đối tượng tham gia bảo hiểm xã hội bắt buộc bao gồm:\n",
      "a) Người đang hưởng lương hưu, trợ cấp bảo hiểm xã hội, trợ cấp hằng tháng.\n",
      "Chính phủ quy định đối tượng hưởng trợ cấp bảo hiểm xã hội, trợ cấp hằng tháng không thuộc đối tượng tham gia bảo hiểm xã hội bắt buộc;\n",
      "b) Lao động là người giúp việc gia đình;\n",
      "c) Đối tượng quy định tại điểm m và điểm n khoản 1 Điều này đã đủ tuổi nghỉ hưu theo quy định tại khoản 2 Điều 169 của Bộ luật Lao động, trừ trường hợp thời gian đóng bảo hiểm xã hội còn thiếu tối đa 06 tháng quy định tại khoản 7 Điều 33 của Luật này. \n",
      "----------------------------------------------------------------\n"
     ]
    }
   ],
   "source": [
    "question=\"Hãy cho tôi biết đối tượng tham gia bảo hiểm xã hội bắt buộc và bảo hiểm xã hội tự nguyện là ai ?\"\n",
    "contexts=sq.search_Article(question,key_manager)\n",
    "for context in contexts:\n",
    "    print(context,\"\\n----------------------------------------------------------------\")"
   ]
  },
  {
   "cell_type": "code",
   "execution_count": 8,
   "metadata": {},
   "outputs": [
    {
     "name": "stdout",
     "output_type": "stream",
     "text": [
      "Hồ sơ đăng ký tham gia bảo hiểm xã hội tự nguyện là tờ khai đăng ký tham gia bảo hiểm xã hội của người tham gia bảo hiểm xã hội tự nguyện. \n",
      "----------------------------------------------------------------\n",
      "Bảo hiểm xã hội là sự bảo đảm thay thế hoặc bù đắp một phần thu nhập của người tham gia bảo hiểm xã hội khi họ bị giảm hoặc mất thu nhập do ốm đau, thai sản, tai nạn lao động, bệnh nghề nghiệp, khi nghỉ hưu hoặc chết, trên cơ sở đóng vào quỹ bảo hiểm xã hội hoặc do ngân sách nhà nước bảo đảm.\n",
      "2. Trợ cấp hưu trí xã hội là loại hình bảo hiểm xã hội do ngân sách nhà nước bảo đảm cho người cao tuổi đủ điều kiện theo quy định của Luật này.\n",
      "3. Bảo hiểm xã hội bắt buộc là loại hình bảo hiểm xã hội do Nhà nước tổ chức mà người lao động, người sử dụng lao động thuộc đối tượng tham gia bảo hiểm xã hội bắt buộc phải tham gia.\n",
      "4. Bảo hiểm xã hội tự nguyện là loại hình bảo hiểm xã hội do Nhà nước tổ chức mà công dân Việt Nam tự nguyện tham gia và được lựa chọn mức đóng, phương thức đóng phù hợp với thu nhập của mình.\n",
      "5. Bảo hiểm hưu trí bổ sung là loại hình bảo hiểm mang tính chất tự nguyện theo nguyên tắc thị trường nhằm bổ sung cho chế độ hưu trí trong bảo hiểm xã hội bắt buộc, có cơ chế tạo lập quỹ từ đóng góp của người sử dụng lao động hoặc của người sử dụng lao động và người lao động. \n",
      "----------------------------------------------------------------\n",
      "Điều 2. Đối tượng tham gia bảo hiểm xã hội bắt buộc và bảo hiểm xã hội tự nguyện\n",
      "1. Người lao động là công dân Việt Nam thuộc đối tượng tham gia bảo hiểm xã hội bắt buộc bao gồm:\n",
      "a) Người làm việc theo hợp đồng lao động không xác định thời hạn, hợp đồng lao động xác định thời hạn có thời hạn từ đủ 01 tháng \n",
      "----------------------------------------------------------------\n"
     ]
    }
   ],
   "source": [
    "results=predict(contexts,question)\n",
    "for result in results:\n",
    "    print(result,\"\\n----------------------------------------------------------------\")"
   ]
  },
  {
   "cell_type": "code",
   "execution_count": 9,
   "metadata": {},
   "outputs": [],
   "source": [
    "def rerank_By_Cosin_TF_IDF(user_query, documents):\n",
    "    user_query_embedding = rerank_model.encode(user_query)\n",
    "    vectorizer = TfidfVectorizer()\n",
    "    tfidf_matrix = vectorizer.fit_transform(documents)  \n",
    "    user_query_tfidf = vectorizer.transform([user_query]) \n",
    "    tfidf_scores = cosine_similarity(user_query_tfidf, tfidf_matrix).flatten() \n",
    "    \n",
    "    combined_scores = []\n",
    "    for i, document in enumerate(documents):\n",
    "        document_embedding = rerank_model.encode(document) \n",
    "        cos_sim = cosine_similarity([user_query_embedding], [document_embedding])[0][0]  \n",
    "        combined_score = 0.7 * cos_sim + 0.3 * tfidf_scores[i]  \n",
    "        combined_scores.append(combined_score)\n",
    "    \n",
    "    results_with_scores = [(documents[i], combined_scores[i]) for i in range(len(documents))]\n",
    "    results_with_scores.sort(key=lambda x: x[1], reverse=True)\n",
    "    \n",
    "    top_results = [results_with_scores[i][0] for i in range(min(2, len(documents)))]\n",
    "    return top_results"
   ]
  },
  {
   "cell_type": "code",
   "execution_count": 10,
   "metadata": {},
   "outputs": [
    {
     "name": "stdout",
     "output_type": "stream",
     "text": [
      "Hồ sơ đăng ký tham gia bảo hiểm xã hội tự nguyện là tờ khai đăng ký tham gia bảo hiểm xã hội của người tham gia bảo hiểm xã hội tự nguyện. \n",
      "----------------------------------------------------------------\n",
      "Bảo hiểm xã hội là sự bảo đảm thay thế hoặc bù đắp một phần thu nhập của người tham gia bảo hiểm xã hội khi họ bị giảm hoặc mất thu nhập do ốm đau, thai sản, tai nạn lao động, bệnh nghề nghiệp, khi nghỉ hưu hoặc chết, trên cơ sở đóng vào quỹ bảo hiểm xã hội hoặc do ngân sách nhà nước bảo đảm.\n",
      "2. Trợ cấp hưu trí xã hội là loại hình bảo hiểm xã hội do ngân sách nhà nước bảo đảm cho người cao tuổi đủ điều kiện theo quy định của Luật này.\n",
      "3. Bảo hiểm xã hội bắt buộc là loại hình bảo hiểm xã hội do Nhà nước tổ chức mà người lao động, người sử dụng lao động thuộc đối tượng tham gia bảo hiểm xã hội bắt buộc phải tham gia.\n",
      "4. Bảo hiểm xã hội tự nguyện là loại hình bảo hiểm xã hội do Nhà nước tổ chức mà công dân Việt Nam tự nguyện tham gia và được lựa chọn mức đóng, phương thức đóng phù hợp với thu nhập của mình.\n",
      "5. Bảo hiểm hưu trí bổ sung là loại hình bảo hiểm mang tính chất tự nguyện theo nguyên tắc thị trường nhằm bổ sung cho chế độ hưu trí trong bảo hiểm xã hội bắt buộc, có cơ chế tạo lập quỹ từ đóng góp của người sử dụng lao động hoặc của người sử dụng lao động và người lao động. \n",
      "----------------------------------------------------------------\n"
     ]
    }
   ],
   "source": [
    "finals=rerank_By_Cosin_TF_IDF(question,results)\n",
    "for final in finals:\n",
    "    print(final,\"\\n----------------------------------------------------------------\")"
   ]
  },
  {
   "cell_type": "code",
   "execution_count": null,
   "metadata": {},
   "outputs": [],
   "source": []
  }
 ],
 "metadata": {
  "kernelspec": {
   "display_name": "machinelearning-lTTH8rYd",
   "language": "python",
   "name": "python3"
  },
  "language_info": {
   "codemirror_mode": {
    "name": "ipython",
    "version": 3
   },
   "file_extension": ".py",
   "mimetype": "text/x-python",
   "name": "python",
   "nbconvert_exporter": "python",
   "pygments_lexer": "ipython3",
   "version": "3.11.5"
  }
 },
 "nbformat": 4,
 "nbformat_minor": 2
}
