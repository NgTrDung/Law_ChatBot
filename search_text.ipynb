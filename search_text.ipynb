{
 "cells": [
  {
   "cell_type": "code",
   "execution_count": 1,
   "metadata": {},
   "outputs": [
    {
     "name": "stderr",
     "output_type": "stream",
     "text": [
      "c:\\Users\\hdang\\.virtualenvs\\machinelearning-lTTH8rYd\\Lib\\site-packages\\transformers\\tokenization_utils_base.py:1601: FutureWarning: `clean_up_tokenization_spaces` was not set. It will be set to `True` by default. This behavior will be depracted in transformers v4.45, and will be then set to `False` by default. For more details check this issue: https://github.com/huggingface/transformers/issues/31884\n",
      "  warnings.warn(\n"
     ]
    },
    {
     "name": "stdout",
     "output_type": "stream",
     "text": [
      "WARNING:tensorflow:From c:\\Users\\hdang\\.virtualenvs\\machinelearning-lTTH8rYd\\Lib\\site-packages\\keras\\src\\losses.py:2976: The name tf.losses.sparse_softmax_cross_entropy is deprecated. Please use tf.compat.v1.losses.sparse_softmax_cross_entropy instead.\n",
      "\n"
     ]
    },
    {
     "name": "stderr",
     "output_type": "stream",
     "text": [
      "c:\\Users\\hdang\\.virtualenvs\\machinelearning-lTTH8rYd\\Lib\\site-packages\\transformers\\tokenization_utils_base.py:1601: FutureWarning: `clean_up_tokenization_spaces` was not set. It will be set to `True` by default. This behavior will be depracted in transformers v4.45, and will be then set to `False` by default. For more details check this issue: https://github.com/huggingface/transformers/issues/31884\n",
      "  warnings.warn(\n"
     ]
    }
   ],
   "source": [
    "import os\n",
    "from source.Generate.generate import predict\n",
    "from source.Function.search_Qdrant import  search_Article\n",
    "from source.Function.utils import find_relevant_contexts"
   ]
  },
  {
   "cell_type": "code",
   "execution_count": 8,
   "metadata": {},
   "outputs": [
    {
     "name": "stdout",
     "output_type": "stream",
     "text": [
      "\n",
      "Các kết quả trả về:\n",
      "\n"
     ]
    }
   ],
   "source": [
    "question=\"Hợp đồng lao động là gì ?\"\n",
    "contexts, lst_Article_Quote = search_Article(question)"
   ]
  },
  {
   "cell_type": "code",
   "execution_count": 9,
   "metadata": {},
   "outputs": [
    {
     "name": "stdout",
     "output_type": "stream",
     "text": [
      "Điều 9. Nguyên tắc hỗ trợ người lao động\n",
      "1. Người lao động được hỗ trợ theo quy định tại Quyết định này khi đóng góp Quỹ đầy đủ. Thời điểm áp dụng hỗ trợ tính từ thời điểm người lao động đóng góp quỹ.\n",
      "2. Người lao động được hỗ trợ 01 lần đối với từng nội dung hỗ trợ quy định tại Quyết định này cho 01 lần đóng góp Quỹ.\n",
      "3. Các nội dung quy định tại Điều 10, Điều 11, Điều 12, Điều 13 của Quyết định này chỉ áp dụng đối với các vụ việc phát sinh trong thời gian người lao động làm việc ở nước ngoài theo hợp đồng.\n",
      "4. Trường hợp người lao động đã hưởng chính sách hỗ trợ đào tạo nghề từ các chương trình, dự án, chính sách thuộc ngân sách nhà nước thì không hưởng hỗ trợ theo quy định tại Điều 15 Quyết định này và ngược lại.\n",
      "5. Các nội dung hỗ trợ từ Quỹ không làm giảm, thay đổi hoặc loại bỏ quyền, nghĩa vụ của người lao động, nghĩa vụ của người sử dụng lao động, doanh nghiệp, tổ chức đưa đi đối với người lao động theo quy định của Luật Người lao động Việt Nam đi làm việc ở nước ngoài theo hợp đồng và các quy định pháp luật khác. \n",
      "--------------------------------------------------------\n",
      "Điều 27. Hồ sơ đăng ký tham gia bảo hiểm xã hội bắt buộc và bảo hiểm xã hội tự nguyện\n",
      "1. Hồ sơ đăng ký tham gia bảo hiểm xã hội bắt buộc của đối tượng tham gia bảo hiểm xã hội bắt buộc, trừ đối tượng quy định tại điểm m và điểm n khoản 1 Điều 2 của Luật này bao gồm:\n",
      "a) Tờ khai đăng ký tham gia bảo hiểm xã hội của người sử dụng lao động kèm theo danh sách người lao động tham gia bảo hiểm xã hội;\n",
      "b) Tờ khai đăng ký tham gia bảo hiểm xã hội của người lao động.\n",
      "2. Hồ sơ đăng ký tham gia bảo hiểm xã hội bắt buộc của đối tượng quy định tại điểm m và điểm n khoản 1 Điều 2 của Luật này nếu nộp qua người sử dụng lao động thì thực hiện theo quy định tại khoản 1 Điều này, nếu tự nộp thì hồ sơ là tờ khai quy định tại điểm b khoản 1 Điều này.\n",
      "3. Hồ sơ đăng ký tham gia bảo hiểm xã hội tự nguyện là tờ khai đăng ký tham gia bảo hiểm xã hội của người tham gia bảo hiểm xã hội tự nguyện. \n",
      "--------------------------------------------------------\n",
      "Điều 2. Đối tượng tham gia bảo hiểm xã hội bắt buộc và bảo hiểm xã hội tự nguyện\n",
      "1. Người lao động là công dân Việt Nam thuộc đối tượng tham gia bảo hiểm xã hội bắt buộc bao gồm:\n",
      "a) Người làm việc theo hợp đồng lao động không xác định thời hạn, hợp đồng lao động xác định thời hạn có thời hạn từ đủ 01 tháng trở lên, kể cả trường hợp người lao động và người sử dụng lao động thỏa thuận bằng tên gọi khác nhưng có nội dung thể hiện về việc làm có trả công, tiền lương và sự quản lý, điều hành, giám sát của một bên;\n",
      "b) Cán bộ, công chức, viên chức;\n",
      "c) Công nhân và viên chức quốc phòng, công nhân công an, người làm công tác khác trong tổ chức cơ yếu;\n",
      "d) Sĩ quan, quân nhân chuyên nghiệp quân đội nhân dân; sĩ quan, hạ sĩ quan nghiệp vụ, sĩ quan, hạ sĩ quan chuyên môn kỹ thuật công an nhân dân; người làm công tác cơ yếu hưởng lương như đối với quân nhân;\n",
      "đ) Hạ sĩ quan, binh sĩ quân đội nhân dân; hạ sĩ quan, chiến sĩ nghĩa vụ công an nhân dân; học viên quân đội, công an, cơ yếu đang theo học được hưởng sinh hoạt phí;\n",
      "e) Dân quân thường trực;\n",
      "g) Người lao động đi làm việc ở nước ngoài theo hợp đồng quy định tại Luật Người lao động Việt Nam đi làm việc ở nước ngoài theo hợp đồng, trừ trường hợp điều ước quốc tế mà nước Cộng hòa xã hội chủ nghĩa Việt Nam là thành viên có quy định khác;\n",
      "h) Vợ hoặc chồng không hưởng lương từ ngân sách nhà nước được cử đi công tác nhiệm kỳ cùng thành viên cơ quan đại diện nước Cộng hòa xã hội chủ nghĩa Việt Nam ở nước ngoài được hưởng chế độ sinh hoạt phí;\n",
      "i) Người quản lý doanh nghiệp, kiểm soát viên, người đại diện phần vốn nhà nước, người đại diện phần vốn của doanh nghiệp theo quy định của pháp luật; thành viên Hội đồng quản trị, Tổng giám đốc, Giám đốc, thành viên Ban kiểm soát hoặc kiểm soát viên và các chức danh quản lý khác được bầu của hợp tác xã, liên hiệp hợp tác xã theo quy định của Luật Hợp tác xã có hưởng tiền lương;\n",
      "k) Người hoạt động không chuyên trách ở cấp xã, ở thôn, tổ dân phố;\n",
      "l) Đối tượng quy định tại điểm a khoản này làm việc không trọn thời gian, có tiền lương trong tháng bằng hoặc cao hơn tiền lương làm căn cứ đóng bảo hiểm xã hội bắt buộc thấp nhất;\n",
      "m) Chủ hộ kinh doanh của hộ kinh doanh có đăng ký kinh doanh tham gia theo quy định của Chính phủ;\n",
      "n) Người quản lý doanh nghiệp, kiểm soát viên, người đại diện phần vốn nhà nước, người đại diện phần vốn của doanh nghiệp theo quy định của pháp luật; thành viên Hội đồng quản trị, Tổng giám đốc, Giám đốc, thành viên Ban kiểm soát hoặc kiểm soát viên và các chức danh quản lý khác được bầu của hợp tác xã, liên hiệp hợp tác xã theo quy định của Luật Hợp tác xã không hưởng tiền lương.\n",
      "2. Người lao động là công dân nước ngoài làm việc tại Việt Nam thuộc đối tượng tham gia bảo hiểm xã hội bắt buộc khi làm việc theo hợp đồng lao động xác định thời hạn có thời hạn từ đủ 12 tháng trở lên với người sử dụng lao động tại Việt Nam, trừ các trường hợp sau đây:\n",
      "a) Di chuyển trong nội bộ doanh nghiệp theo quy định của pháp luật về người lao động nước ngoài làm việc tại Việt Nam;\n",
      "b) Tại thời điểm giao kết hợp đồng lao động đã đủ tuổi nghỉ hưu theo quy định tại khoản 2 Điều 169 của Bộ luật Lao động;\n",
      "c) Điều ước quốc tế mà nước Cộng hòa xã hội chủ nghĩa Việt Nam là thành viên có quy định khác.\n",
      "3. Người sử dụng lao động thuộc đối tượng tham gia bảo hiểm xã hội bắt buộc bao gồm cơ quan nhà nước, đơn vị sự nghiệp công lập; cơ quan, đơn vị, doanh nghiệp thuộc Quân đội nhân dân, Công an nhân dân và tổ chức cơ yếu; tổ chức chính trị, tổ chức chính trị - xã hội, tổ chức chính trị xã hội - nghề nghiệp, tổ chức xã hội - nghề nghiệp, tổ chức xã hội khác; cơ quan, tổ chức nước ngoài, tổ chức quốc tế hoạt động trên lãnh thổ Việt Nam; doanh nghiệp, tổ hợp tác, hợp tác xã, liên hiệp hợp tác xã, hộ kinh doanh, tổ chức khác và cá nhân có thuê mướn, sử dụng lao động theo hợp đồng lao động.\n",
      "4. Đối tượng tham gia bảo hiểm xã hội tự nguyện bao gồm:\n",
      "a) Công dân Việt Nam từ đủ 15 tuổi trở lên không thuộc đối tượng tham gia bảo hiểm xã hội bắt buộc và không phải là người đang hưởng lương hưu, trợ cấp bảo hiểm xã hội, trợ cấp hằng tháng;\n",
      "b) Đối tượng quy định tại điểm a và điểm b khoản 1 Điều này đang tạm hoãn thực hiện hợp đồng lao động, hợp đồng làm việc, trừ trường hợp hai bên có thỏa thuận về việc đóng bảo hiểm xã hội bắt buộc trong thời gian này.\n",
      "5. Người đồng thời thuộc nhiều đối tượng tham gia bảo hiểm xã hội bắt buộc khác nhau quy định tại khoản 1 Điều này thì việc tham gia bảo hiểm xã hội bắt buộc theo quy định như sau:\n",
      "a) Đối tượng quy định tại điểm a và điểm l khoản 1 Điều này mà giao kết hợp đồng lao động với nhiều người sử dụng lao động thì tham gia bảo hiểm xã hội bắt buộc theo hợp đồng lao động giao kết đầu tiên.\n",
      "Trường hợp hợp đồng lao động đang sử dụng làm căn cứ tham gia bảo hiểm xã hội bắt buộc đang tạm hoãn thực hiện hợp đồng mà hai bên không có thỏa thuận về việc đóng bảo hiểm xã hội bắt buộc trong thời gian tạm hoãn thì tham gia bảo hiểm xã hội bắt buộc theo thứ tự về thời gian có hiệu lực của hợp đồng được ký kết;\n",
      "b) Đối tượng quy định tại điểm b và điểm i khoản 1 Điều này đồng thời cũng thuộc đối tượng quy định tại điểm a hoặc điểm l khoản 1 Điều này thì tham gia bảo hiểm xã hội bắt buộc theo đối tượng tương ứng quy định tại điểm b hoặc điểm i khoản 1 Điều này;\n",
      "c) Đối tượng quy định tại điểm i và điểm n khoản 1 Điều này làm việc tại nhiều doanh nghiệp, hợp tác xã, liên hiệp hợp tác xã thì tham gia bảo hiểm xã hội bắt buộc tại doanh nghiệp, hợp tác xã hoặc liên hiệp hợp tác xã đầu tiên tham gia quản lý, điều hành;\n",
      "d) Đối tượng quy định tại điểm g và điểm k khoản 1 Điều này đồng thời thuộc đối tượng quy định tại một trong các điểm a, i và l khoản 1 Điều này thì tham gia bảo hiểm xã hội bắt buộc theo đối tượng tương ứng quy định tại điểm a, i hoặc l khoản 1 Điều này theo thứ tự đến trước;\n",
      "đ) Đối tượng quy định tại điểm k khoản 1 Điều này đồng thời thuộc đối tượng quy định tại điểm m hoặc điểm n khoản 1 Điều này thì tham gia bảo hiểm xã hội bắt buộc theo đối tượng quy định tại điểm k khoản 1 Điều này;\n",
      "e) Đối tượng quy định tại điểm m và điểm n khoản 1 Điều này đồng thời thuộc nhiều đối tượng quy định tại khoản 1 Điều này thì việc tham gia bảo hiểm xã hội bắt buộc theo quy định của Chính phủ;\n",
      "g) Đối tượng quy định tại điểm e khoản 1 Điều này đồng thời thuộc đối tượng quy định tại điểm k hoặc điểm m khoản 1 Điều này thì tham gia bảo hiểm xã hội bắt buộc theo đối tượng quy định tại điểm e khoản 1 Điều này.\n",
      "6. Ủy ban Thường vụ Quốc hội quyết định việc tham gia bảo hiểm xã hội bắt buộc đối với đối tượng khác ngoài đối tượng quy định tại khoản 1 Điều này mà có việc làm, thu nhập ổn định, thường xuyên trên cơ sở đề xuất của Chính phủ phù hợp với điều kiện phát triển kinh tế - xã hội từng thời kỳ.\n",
      "7. Trường hợp không thuộc đối tượng tham gia bảo hiểm xã hội bắt buộc bao gồm:\n",
      "a) Người đang hưởng lương hưu, trợ cấp bảo hiểm xã hội, trợ cấp hằng tháng.\n",
      "Chính phủ quy định đối tượng hưởng trợ cấp bảo hiểm xã hội, trợ cấp hằng tháng không thuộc đối tượng tham gia bảo hiểm xã hội bắt buộc;\n",
      "b) Lao động là người giúp việc gia đình;\n",
      "c) Đối tượng quy định tại điểm m và điểm n khoản 1 Điều này đã đủ tuổi nghỉ hưu theo quy định tại khoản 2 Điều 169 của Bộ luật Lao động, trừ trường hợp thời gian đóng bảo hiểm xã hội còn thiếu tối đa 06 tháng quy định tại khoản 7 Điều 33 của Luật này. \n",
      "--------------------------------------------------------\n",
      "Điều 74. Trách nhiệm trong việc tổ chức để người lao động tham gia ý kiến\n",
      "1. Ban lãnh đạo doanh nghiệp nhà nước có trách nhiệm tổ chức lấy ý kiến người lao động về các nội dung quy định tại Điều 71 của Luật này; chịu trách nhiệm chỉ đạo, tổ chức việc tiếp nhận, tổng hợp ý kiến, thông tin phản hồi của người lao động; nghiên cứu, tiếp thu, giải trình ý kiến tham gia và thực hiện việc công khai nội dung giải trình, tiếp thu đến người lao động.\n",
      "2. Ban Chấp hành Công đoàn ở doanh nghiệp, tổ chức đại diện khác của người lao động ở cơ sở (nếu có) tham gia phối hợp thực hiện việc tổ chức lấy ý kiến; giám sát việc lấy ý kiến của người lao động, kết quả giải trình, tiếp thu và tổ chức thực hiện các nội dung người lao động đã tham gia ý kiến; tham gia ý kiến trước khi doanh nghiệp quyết định ban hành quy chế thực hiện dân chủ của doanh nghiệp.\n",
      "3. Đảng viên, đoàn viên công đoàn, người lao động tại doanh nghiệp nhà nước có trách nhiệm tích cực đóng góp, tham gia ý kiến với doanh nghiệp nhằm bảo đảm tốt hơn quyền, lợi ích của người lao động, xây dựng mối quan hệ lao động hài hòa, ổn định, góp phần vào sự phát triển bền vững của doanh nghiệp; theo dõi, đánh giá, giám sát việc tổng hợp, giải trình, tiếp thu ý kiến đối với các nội dung đã được đưa ra lấy ý kiến người lao động và quá trình tổ chức thực hiện quyết định về các nội dung này. \n",
      "--------------------------------------------------------\n",
      "Điều 40. Nội dung của Điều lệ hợp tác xã, liên hiệp hợp tác xã\n",
      "Nội dung của Điều lệ không được trái với quy định của Luật này và pháp luật có liên quan, bao gồm các nội dung chủ yếu sau đây:\n",
      "1. Tên, địa chỉ trụ sở chính; biểu tượng (nếu có);\n",
      "2. Ngành, nghề kinh doanh;\n",
      "3. Điều kiện, thủ tục kết nạp thành viên;\n",
      "4. Các trường hợp chấm dứt và thủ tục chấm dứt tư cách thành viên, trong đó quy định cụ thể về điều kiện chấm dứt tư cách thành viên, bao gồm:\n",
      "a) Trường hợp khai trừ thành viên;\n",
      "b) Mức độ thường xuyên sử dụng sản phẩm, dịch vụ hoặc thời gian liên tục không góp sức lao động của thành viên chính thức;\n",
      "c) Giá trị tối thiểu của sản phẩm, dịch vụ mà thành viên chính thức phải sử dụng;\n",
      "5. Quyền, nghĩa vụ của thành viên;\n",
      "6. Tổ chức quản trị; thẩm quyền của Đại hội thành viên; nhiệm vụ, quyền hạn của Hội đồng quản trị, Giám đốc (Tổng giám đốc), Ban kiểm soát đối với tổ chức quản trị đầy đủ hoặc nhiệm vụ, quyền hạn của Giám đốc, kiểm soát viên đối với tổ chức quản trị rút gọn;\n",
      "7. Số lượng, chức danh và quyền, nghĩa vụ của người đại diện theo pháp luật; phân chia quyền, nghĩa vụ của người đại diện theo pháp luật trong trường hợp hợp tác xã, liên hiệp hợp tác xã có nhiều hơn một người đại diện theo pháp luật;\n",
      "8. Vốn điều lệ; tăng, giảm vốn điều lệ; vốn góp tối thiểu, vốn góp tối đa, hình thức, thời hạn góp vốn; định giá tài sản góp vốn; trả lại một phần hoặc toàn bộ phần vốn góp của thành viên chính thức, thành viên liên kết góp vốn;\n",
      "9. Phí thành viên trong trường hợp có thành viên liên kết không góp vốn;\n",
      "10. Hình thức tổ chức Đại hội thành viên; cách thức biểu quyết tại Đại hội thành viên; cách thức bầu đại biểu tham dự và biểu quyết tại Đại hội thành viên trong trường hợp Đại hội thành viên tổ chức theo hình thức đại hội đại biểu;\n",
      "11. Tỷ lệ giá trị giao dịch nội bộ tối thiểu;\n",
      "12. Đầu tư, góp vốn, mua cổ phần, thành lập doanh nghiệp, liên danh, liên kết với tổ chức kinh tế;\n",
      "13. Lập quỹ; tỷ lệ trích lập quỹ; tỷ lệ, phương thức phân phối thu nhập;\n",
      "14. Quản lý tài chính, sử dụng và xử lý tài sản, vốn, quỹ và khoản lỗ;\n",
      "15. Nguyên tắc trả thù lao, tiền lương, tiền công, tiền thưởng và chế độ khác cho thành viên Hội đồng quản trị, Giám đốc (Tổng giám đốc), thành viên Ban kiểm soát hoặc kiểm soát viên, người lao động;\n",
      "16. Trình tự, thủ tục cấp, cấp lại, cấp đổi, thu hồi Giấy chứng nhận phần vốn góp;\n",
      "17. Trình tự, thủ tục sửa đổi, bổ sung Điều lệ;\n",
      "18. Biện pháp xử lý thành viên nợ quá hạn;\n",
      "19. Xử lý vi phạm Điều lệ và nguyên tắc giải quyết tranh chấp nội bộ. \n",
      "--------------------------------------------------------\n"
     ]
    }
   ],
   "source": [
    "for context in contexts:\n",
    "    print(context,\"\\n--------------------------------------------------------\")"
   ]
  },
  {
   "cell_type": "code",
   "execution_count": 10,
   "metadata": {},
   "outputs": [
    {
     "name": "stdout",
     "output_type": "stream",
     "text": [
      "01 lần đối với từng nội dung hỗ trợ quy định tại Quyết định này cho 01 lần đóng góp Quỹ.\n",
      "3. Các nội dung quy định tại Điều 10, Điều 11, Điều 12, Điều 13 của Quyết định này chỉ áp dụng đối với các vụ việc phát sinh trong thời gian người lao động làm việc ở nước ngoài theo hợp đồng.\n",
      "Điều 27. Hồ sơ đăng ký tham gia bảo hiểm xã hội bắt buộc và bảo hiểm xã hội tự nguyện\n",
      "1. Hồ sơ đăng ký tham gia bảo hiểm xã hội bắt buộc của đối tượng tham gia bảo hiểm xã hội bắt buộc, trừ đối tượng quy định tại điểm m và điểm n khoản 1 Điều 2 của Luật này bao gồm:\n",
      "a) Tờ khai đăng ký tham gia bảo hiểm xã hội của người sử dụng lao động kèm theo danh sách người lao động tham gia bảo hiểm xã hội;\n",
      "b) Tờ khai đăng ký tham gia bảo hiểm xã hội của người lao động.\n",
      "Điều 2. Đối tượng tham gia bảo hiểm xã hội bắt buộc và bảo hiểm xã hội tự nguyện\n",
      "1. Người lao động là công dân Việt Nam thuộc đối tượng tham gia bảo hiểm xã hội bắt buộc bao gồm:\n",
      "a) Người làm việc theo hợp đồng lao động không xác định thời hạn, hợp đồng lao động xác định thời hạn có thời hạn từ đủ 01 tháng\n",
      "Điều 74. Trách nhiệm trong việc tổ chức để người lao động tham gia ý kiến\n",
      "1. Ban lãnh đạo doanh nghiệp nhà nước có trách nhiệm tổ chức lấy ý kiến người lao động về các nội dung quy định tại Điều 71 của Luật này; chịu trách nhiệm chỉ đạo, tổ chức việc tiếp nhận, tổng hợp ý kiến, thông tin phản hồi của người lao động; nghiên cứu, tiếp thu, giải trình ý kiến tham gia và thực hiện việc công khai nội dung giải trình, tiếp thu đến người lao động.\n",
      "2. Ban Chấp hành Công đoàn ở doanh nghiệp, tổ chức đại diện khác của người lao động ở cơ sở (nếu có) tham gia phối hợp thực hiện việc tổ chức lấy ý kiến; giám sát việc lấy ý kiến của người lao động, kết quả giải trình, tiếp thu và tổ chức thực hiện các nội dung người lao động đã tham gia ý kiến; tham gia ý kiến trước khi doanh nghiệp quyết định ban hành quy chế thực hiện dân chủ của doanh nghiệp.\n",
      "Điều 40. Nội dung của Điều lệ hợp tác xã, liên hiệp hợp tác xã\n",
      "Nội dung của Điều lệ không được trái với quy định của Luật này và pháp luật có liên quan, bao gồm các nội dung chủ yếu sau đây:\n",
      "1. Tên, địa chỉ trụ sở chính; biểu tượng (nếu có);\n",
      "2. Ngành, nghề kinh doanh;\n",
      "3. Điều kiện, thủ tục kết nạp thành viên;\n",
      "4. Các trường hợp chấm dứt và thủ tục chấm dứt tư cách thành viên, trong đó quy định cụ thể về điều kiện chấm dứt tư cách thành viên, bao gồm:\n",
      "a) Trường hợp khai trừ thành viên;\n",
      "b) Mức độ thường xuyên sử dụng sản phẩm, dịch vụ hoặc thời gian liên tục không góp sức lao động của thành viên chính thức;\n",
      "c) Giá trị tối thiểu của sản phẩm, dịch vụ mà thành viên chính thức phải sử dụng;\n",
      "5. Quyền, nghĩa vụ của thành viên;\n",
      "6. Tổ chức quản trị; thẩm quyền của Đại hội thành viên; nhiệm vụ, quyền hạn của Hội đồng quản trị, Giám đốc (Tổng giám đốc), Ban kiểm soát đối với tổ chức quản trị đầy đủ hoặc nhiệm vụ, quyền hạn của Giám đốc, kiểm soát viên đối với tổ chức quản trị rút gọn;\n",
      "7. Số lượng, chức danh và quyền, nghĩa vụ của người đại diện theo pháp luật; phân chia quyền, nghĩa vụ của người đại diện theo pháp luật trong trường hợp hợp tác xã, liên hiệp hợp tác xã có nhiều hơn một người đại diện theo pháp luật;\n",
      "8. Vốn điều lệ; tăng, giảm vốn điều lệ; vốn góp tối thiểu, vốn góp tối đa, hình thức, thời hạn góp vốn; định giá tài sản góp vốn; trả lại một phần hoặc toàn bộ phần vốn góp của thành viên chính thức, thành viên liên kết góp vốn\n",
      "Hợp đồng lao động được hiểu là một thỏa thuận giữa người lao động và người sử dụng lao động, theo đó người lao động làm việc và nhận lương, còn người sử dụng lao động trả lương và tạo điều kiện làm việc.  Cụ thể dựa trên dữ liệu được cung cấp, có thể hiểu như sau:\n",
      "\n",
      "1. **Sự tồn tại của hợp đồng lao động:** Dữ liệu đề cập đến \"người làm việc theo hợp đồng lao động không xác định thời hạn, hợp đồng lao động xác định thời hạn có thời hạn từ đủ 01 tháng\" trong Điều 2 về đối tượng tham gia bảo hiểm xã hội bắt buộc.  Điều này khẳng định sự tồn tại của hợp đồng lao động như một loại thỏa thuận pháp lý trong quan hệ lao động.\n",
      "\n",
      "2. **Các loại hợp đồng lao động:** Thông tin cung cấp cho thấy có ít nhất hai loại hợp đồng lao động:\n",
      "\n",
      "    * Hợp đồng lao động không xác định thời hạn.\n",
      "    * Hợp đồng lao động xác định thời hạn (tối thiểu 1 tháng).\n",
      "\n",
      "3. **Hợp đồng lao động và bảo hiểm xã hội:**  Việc người lao động làm việc theo hợp đồng lao động (cả xác định thời hạn và không xác định thời hạn) là một trong những điều kiện để họ thuộc đối tượng tham gia bảo hiểm xã hội bắt buộc.  Điều này thể hiện mối liên hệ chặt chẽ giữa hợp đồng lao động và quyền lợi bảo hiểm xã hội của người lao động.\n",
      "\n",
      "4. **Hợp đồng lao động và làm việc ở nước ngoài:**  Điều 3 đề cập đến việc áp dụng các điều khoản nhất định cho \"các vụ việc phát sinh trong thời gian người lao động làm việc ở nước ngoài theo hợp đồng\".  Điều này ngụ ý rằng hợp đồng lao động cũng được áp dụng cho trường hợp người lao động làm việc tại nước ngoài.\n"
     ]
    }
   ],
   "source": [
    "answer_candidates = predict(contexts,question)\n",
    "print(answer_candidates)"
   ]
  },
  {
   "cell_type": "code",
   "execution_count": null,
   "metadata": {},
   "outputs": [],
   "source": [
    "lst_Relevant_Documents = find_relevant_contexts(lst_Article_Quote, answer_candidates)\n",
    "print(lst_Relevant_Documents)"
   ]
  }
 ],
 "metadata": {
  "kernelspec": {
   "display_name": "machinelearning-lTTH8rYd",
   "language": "python",
   "name": "python3"
  },
  "language_info": {
   "codemirror_mode": {
    "name": "ipython",
    "version": 3
   },
   "file_extension": ".py",
   "mimetype": "text/x-python",
   "name": "python",
   "nbconvert_exporter": "python",
   "pygments_lexer": "ipython3",
   "version": "3.11.5"
  }
 },
 "nbformat": 4,
 "nbformat_minor": 2
}
