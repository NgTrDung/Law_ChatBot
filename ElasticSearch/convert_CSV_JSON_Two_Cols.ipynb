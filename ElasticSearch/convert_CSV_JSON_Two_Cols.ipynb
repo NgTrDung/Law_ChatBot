{
 "cells": [
  {
   "cell_type": "code",
   "execution_count": 1,
   "metadata": {},
   "outputs": [],
   "source": [
    "import pandas as pd\n",
    "import json"
   ]
  },
  {
   "cell_type": "code",
   "execution_count": 2,
   "metadata": {},
   "outputs": [],
   "source": [
    "df_0 = pd.read_csv(r\"data\\csv\\3_Cols\\3C_bhxh_bhyt_bhtn_data.csv\")\n",
    "df_1 = pd.read_csv(r\"data\\csv\\3_Cols\\3C_chinhsach_nguoicocong_data.csv\")\n",
    "df_2 = pd.read_csv(r\"data\\csv\\3_Cols\\3C_giaoduc_daotao_yte_data.csv\")\n",
    "df_3 = pd.read_csv(r\"data\\csv\\3_Cols\\3C_giaothong_xaydung_tainguyen_moitruong_data.csv\")\n",
    "df_4 = pd.read_csv(r\"data\\csv\\3_Cols\\3C_laodong_tienthuong_data.csv\")\n",
    "df_5 = pd.read_csv(r\"data\\csv\\3_Cols\\3C_linhvuckhac_data.csv\")\n",
    "df_6 = pd.read_csv(r\"data\\csv\\3_Cols\\3C_taichinh_nganhang_dautu_congthuong_data.csv\")"
   ]
  },
  {
   "cell_type": "code",
   "execution_count": 3,
   "metadata": {},
   "outputs": [],
   "source": [
    "# Danh sách các DataFrame và loại tương ứng\n",
    "dfs = [\n",
    "    (df_0, \"bhxh_bhyt_bhtn\"),\n",
    "    (df_1, \"chinhsach_nguoicocong\"),\n",
    "    (df_2, \"giaoduc_daotao_yte\"),\n",
    "    (df_3, \"giaothong_xaydung_tainguyen_moitruong\"),\n",
    "    (df_4, \"laodong_tienthuong\"),\n",
    "    (df_5, \"linhvuckhac\"),\n",
    "    (df_6, \"taichinh_nganhang_dautu_congthuong\")\n",
    "]\n",
    "\n",
    "# Tạo danh sách chứa các đối tượng JSON\n",
    "json_data = []"
   ]
  },
  {
   "cell_type": "code",
   "execution_count": 4,
   "metadata": {},
   "outputs": [],
   "source": [
    "# Lặp qua từng DataFrame và loại tương ứng\n",
    "for df, type_value in dfs:\n",
    "    for index, row in df.iterrows():\n",
    "        item = {\n",
    "            \"type\": type_value,\n",
    "            \"question\": f\"{row['Question']}\\n\\n{row['Situation']}\",\n",
    "            \"answer\": f\"{row['Situation']}\\n\\n{row['Answer']}\"\n",
    "        }\n",
    "        json_data.append(item)"
   ]
  },
  {
   "cell_type": "code",
   "execution_count": 5,
   "metadata": {},
   "outputs": [],
   "source": [
    "# Ghi danh sách vào file JSON\n",
    "with open(r'data\\json\\tinhhhuong_context.json', 'w', encoding='utf-8') as f:\n",
    "    json.dump(json_data, f, ensure_ascii=False, indent=2)"
   ]
  },
  {
   "cell_type": "code",
   "execution_count": 7,
   "metadata": {},
   "outputs": [
    {
     "name": "stdout",
     "output_type": "stream",
     "text": [
      "Người dân tộc thiểu số xã nông thôn mới có được hỗ trợ BHYT?\n",
      "\n",
      "Tôi xin hỏi, một xã giai đoạn 2016-2020 là xã khu vực III, sang giai đoạn 2021-2025 là xã khu vực I, đã đạt chuẩn xã nông thôn mới thì người dân tộc thiểu số trên địa bàn xã này có thuộc nhóm đối tượng được ngân sách Nhà nước hỗ trợ đóng BHYT không?\n"
     ]
    }
   ],
   "source": [
    "# In ra thử item đầu tiên\n",
    "if json_data:\n",
    "    print(json_data[0]['question'])\n",
    "else:\n",
    "    print(\"Danh sách json_data rỗng\")"
   ]
  },
  {
   "cell_type": "code",
   "execution_count": null,
   "metadata": {},
   "outputs": [],
   "source": []
  }
 ],
 "metadata": {
  "kernelspec": {
   "display_name": "Python 3",
   "language": "python",
   "name": "python3"
  },
  "language_info": {
   "codemirror_mode": {
    "name": "ipython",
    "version": 3
   },
   "file_extension": ".py",
   "mimetype": "text/x-python",
   "name": "python",
   "nbconvert_exporter": "python",
   "pygments_lexer": "ipython3",
   "version": "3.9.8"
  }
 },
 "nbformat": 4,
 "nbformat_minor": 2
}
