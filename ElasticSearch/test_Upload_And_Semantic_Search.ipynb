{
 "cells": [
  {
   "cell_type": "markdown",
   "metadata": {},
   "source": [
    "# 3. Test Semantic Search with Semantic Text\n",
    "- Link Doc tham khảo: https://www.elastic.co/guide/en/elasticsearch/reference/current/semantic-search.html"
   ]
  },
  {
   "cell_type": "markdown",
   "metadata": {},
   "source": [
    "## 3.1. Thư viện"
   ]
  },
  {
   "cell_type": "code",
   "execution_count": 1,
   "metadata": {},
   "outputs": [],
   "source": [
    "from elasticsearch import Elasticsearch, exceptions\n",
    "from urllib.request import urlopen\n",
    "from getpass import getpass\n",
    "import json\n",
    "import time"
   ]
  },
  {
   "cell_type": "markdown",
   "metadata": {},
   "source": [
    "## 3.2 Khởi tạo Elasticsearch Client"
   ]
  },
  {
   "cell_type": "code",
   "execution_count": 2,
   "metadata": {},
   "outputs": [],
   "source": [
    "# Trang chủ ElasticCloud: https://cloud.elastic.co/login?redirectTo=%2Fhome\n",
    "\n",
    "# https://www.elastic.co/search-labs/tutorials/install-elasticsearch/elastic-cloud#finding-your-cloud-id\n",
    "ELASTIC_CLOUD_ID = \"law_chatbot:dXMtZWFzdDQuZ2NwLmVsYXN0aWMtY2xvdWQuY29tOjQ0MyQ0MWJmNDlmMjUzMjQ0OTczODIzNTZlMzQxOTVhMzM4MCRkODk4OTNkMWE5MjI0MTdmOWZlYWJlNDdmNjEyZTdhZQ==\"\n",
    "\n",
    "# https://www.elastic.co/search-labs/tutorials/install-elasticsearch/elastic-cloud#creating-an-api-key\n",
    "ELASTIC_API_KEY = \"RC1jb2daRUJ1clhCLU5mb2YxbWs6VG84ZUk3STJTcVduNUd4dktuRU5mQQ==\""
   ]
  },
  {
   "cell_type": "code",
   "execution_count": 3,
   "metadata": {},
   "outputs": [
    {
     "name": "stderr",
     "output_type": "stream",
     "text": [
      "C:\\Users\\ADMIN\\AppData\\Local\\Temp\\ipykernel_17448\\96837577.py:2: DeprecationWarning: The 'timeout' parameter is deprecated in favor of 'request_timeout'\n",
      "  client = Elasticsearch(\n"
     ]
    }
   ],
   "source": [
    "# Create the client instance\n",
    "client = Elasticsearch(\n",
    "    # For local development\n",
    "    # hosts=[\"http://localhost:9200\"]\n",
    "    cloud_id=ELASTIC_CLOUD_ID,\n",
    "    api_key=ELASTIC_API_KEY,\n",
    "    timeout=None\n",
    ")"
   ]
  },
  {
   "cell_type": "markdown",
   "metadata": {},
   "source": [
    "## 3.3. Create the Inference Endpoint"
   ]
  },
  {
   "cell_type": "markdown",
   "metadata": {},
   "source": [
    "**Link Document:**\n",
    "https://www.elastic.co/guide/en/elasticsearch/reference/current/inference-apis.html\n",
    "\n",
    "Elasticsearch exposes REST APIs that are used by the UI components and can be called directly to configure and access Elasticsearch features, including Inference APIs.\n",
    "\n",
    "An inference endpoint enables you to use the corresponding machine learning model without manual deployment and apply it to your data at ingestion time through semantic text.\n",
    "\n",
    "![Alt text](data\\images\\inference-landscape.png)"
   ]
  },
  {
   "cell_type": "code",
   "execution_count": 4,
   "metadata": {},
   "outputs": [],
   "source": [
    "# Link Document: https://www.elastic.co/guide/en/elasticsearch/reference/current/delete-inference-api.html\n",
    "\n",
    "try:\n",
    "    client.inference.delete(inference_id=\"my-elser-endpoint\")\n",
    "except exceptions.NotFoundError:\n",
    "    # Inference endpoint does not exist\n",
    "    print(\"Inference endpoint does not exist\")\n",
    "    pass"
   ]
  },
  {
   "cell_type": "code",
   "execution_count": 5,
   "metadata": {},
   "outputs": [
    {
     "name": "stdout",
     "output_type": "stream",
     "text": [
      "Inference endpoint created successfully\n"
     ]
    }
   ],
   "source": [
    "# Link Docs:\n",
    "# - Tạo Inference: https://www.elastic.co/guide/en/elasticsearch/reference/current/put-inference-api.html\n",
    "# - Tạo Inference với ELSER – a retrieval model trained by Elastic: https://www.elastic.co/guide/en/elasticsearch/reference/current/infer-service-elser.html\n",
    "\n",
    "try:\n",
    "    client.options(\n",
    "        request_timeout=60, max_retries=3, retry_on_timeout=True\n",
    "    ).inference.put(\n",
    "        task_type=\"sparse_embedding\",\n",
    "        inference_id=\"my-elser-endpoint\",\n",
    "        body={\n",
    "            \"service\": \"elser\",\n",
    "            \"service_settings\": {\n",
    "                \"num_allocations\": 1, \n",
    "                \"num_threads\": 1\n",
    "            },\n",
    "        },\n",
    "    )\n",
    "    print(\"Inference endpoint created successfully\")\n",
    "except exceptions.BadRequestError as e:\n",
    "    if e.error == \"resource_already_exists_exception\":\n",
    "        print(\"Inference endpoint created successfully\")\n",
    "    else:\n",
    "        raise e"
   ]
  },
  {
   "cell_type": "code",
   "execution_count": 6,
   "metadata": {},
   "outputs": [
    {
     "name": "stdout",
     "output_type": "stream",
     "text": [
      "{'endpoints': [{'inference_id': 'my-elser-endpoint', 'task_type': 'sparse_embedding', 'service': 'elser', 'service_settings': {'num_allocations': 1, 'num_threads': 1, 'model_id': '.elser_model_2_linux-x86_64'}, 'task_settings': {}}]}\n"
     ]
    }
   ],
   "source": [
    "# Link Docs: https://www.elastic.co/guide/en/elasticsearch/reference/current/get-inference-api.html\n",
    "\n",
    "inference_endpoint_info = client.inference.get(\n",
    "    inference_id=\"my-elser-endpoint\",\n",
    ")\n",
    "\n",
    "print(inference_endpoint_info)"
   ]
  },
  {
   "cell_type": "code",
   "execution_count": 7,
   "metadata": {},
   "outputs": [],
   "source": [
    "model_id = inference_endpoint_info[\"endpoints\"][0][\"service_settings\"][\"model_id\"]"
   ]
  },
  {
   "cell_type": "code",
   "execution_count": 8,
   "metadata": {},
   "outputs": [
    {
     "name": "stdout",
     "output_type": "stream",
     "text": [
      "ELSER Model has been successfully deployed.\n"
     ]
    }
   ],
   "source": [
    "while True:\n",
    "    status = client.ml.get_trained_models_stats(\n",
    "        model_id=model_id,\n",
    "    )\n",
    "\n",
    "    deployment_stats = status[\"trained_model_stats\"][0].get(\"deployment_stats\")\n",
    "    if deployment_stats is None:\n",
    "        print(\"ELSER Model is currently being deployed.\")\n",
    "        time.sleep(5)\n",
    "        continue\n",
    "\n",
    "    nodes = deployment_stats.get(\"nodes\")\n",
    "    if nodes is not None and len(nodes) > 0:\n",
    "        print(\"ELSER Model has been successfully deployed.\")\n",
    "        break\n",
    "    else:\n",
    "        print(\"ELSER Model is currently being deployed.\")\n",
    "    time.sleep(5)"
   ]
  },
  {
   "cell_type": "markdown",
   "metadata": {},
   "source": [
    "## 3.4. Create the Index"
   ]
  },
  {
   "cell_type": "markdown",
   "metadata": {},
   "source": [
    "ElasticSearch stores its data in one or more indices. Using analogies from the SQL\n",
    "world, index is something similar to a database. It is used to store the documents\n",
    "and read them from it. As we already mentioned, under the hood, ElasticSearch\n",
    "uses Apache Lucene library to write and read the data from the index. What one\n",
    "should remember about is that a single ElasticSearch index may be built of more\n",
    "than a single Apache Lucene index, by using shards and replicas. (Source: Page 15, Mastering ElasticSearch_ Extend your knowledge on ElasticSearch, and querying and data handling, along with its internal working (2013, Packt Publishing), https://drive.google.com/file/d/1uU4-Qd_D9B3wzAsEbrKetqoQZCqNGtvy/view?usp=drive_link)"
   ]
  },
  {
   "cell_type": "code",
   "execution_count": 9,
   "metadata": {},
   "outputs": [
    {
     "data": {
      "text/plain": [
       "ObjectApiResponse({'acknowledged': True, 'shards_acknowledged': True, 'index': 'semantic-text-qa-gd_dt_yt_100'})"
      ]
     },
     "execution_count": 9,
     "metadata": {},
     "output_type": "execute_result"
    }
   ],
   "source": [
    "# Link Doc: https://www.elastic.co/guide/en/elasticsearch/reference/current/indices.html\n",
    "\n",
    "client.indices.delete(index=\"semantic-text-qa-gd_dt_yt_100\", ignore_unavailable=True)\n",
    "client.indices.create(\n",
    "    index=\"semantic-text-qa-gd_dt_yt_100\",\n",
    "    mappings={\n",
    "        \"properties\": {\n",
    "            \"situation\": {\"type\": \"text\", \"copy_to\": \"situation_semantic\"},\n",
    "            \"answer\": {\"type\": \"text\"},\n",
    "            \"situation_semantic\": {\n",
    "                \"type\": \"semantic_text\",\n",
    "                \"inference_id\": \"my-elser-endpoint\",\n",
    "            },\n",
    "        }\n",
    "    },\n",
    ")"
   ]
  },
  {
   "cell_type": "markdown",
   "metadata": {},
   "source": [
    "## 3.5. Populate the Index"
   ]
  },
  {
   "cell_type": "code",
   "execution_count": 10,
   "metadata": {},
   "outputs": [],
   "source": [
    "import json\n",
    "\n",
    "# Đọc dữ liệu từ file .json\n",
    "with open(r'data\\tinh_huong\\output.json', 'r', encoding='utf-8') as file:\n",
    "    qa_gd_dt_yt_100 = json.load(file)"
   ]
  },
  {
   "cell_type": "code",
   "execution_count": 11,
   "metadata": {},
   "outputs": [
    {
     "data": {
      "text/plain": [
       "ObjectApiResponse({'errors': False, 'took': 1720857309, 'items': [{'index': {'_index': 'semantic-text-qa-gd_dt_yt_100', '_id': 'Pef2gZEBurXB-Nfo-1pN', '_version': 1, 'result': 'created', 'forced_refresh': True, '_shards': {'total': 2, 'successful': 2, 'failed': 0}, '_seq_no': 0, '_primary_term': 1, 'status': 201}}, {'index': {'_index': 'semantic-text-qa-gd_dt_yt_100', '_id': 'Puf2gZEBurXB-Nfo-1pN', '_version': 1, 'result': 'created', 'forced_refresh': True, '_shards': {'total': 2, 'successful': 2, 'failed': 0}, '_seq_no': 1, '_primary_term': 1, 'status': 201}}, {'index': {'_index': 'semantic-text-qa-gd_dt_yt_100', '_id': 'P-f2gZEBurXB-Nfo-1pN', '_version': 1, 'result': 'created', 'forced_refresh': True, '_shards': {'total': 2, 'successful': 2, 'failed': 0}, '_seq_no': 2, '_primary_term': 1, 'status': 201}}, {'index': {'_index': 'semantic-text-qa-gd_dt_yt_100', '_id': 'QOf2gZEBurXB-Nfo-1pN', '_version': 1, 'result': 'created', 'forced_refresh': True, '_shards': {'total': 2, 'successful': 2, 'failed': 0}, '_seq_no': 3, '_primary_term': 1, 'status': 201}}, {'index': {'_index': 'semantic-text-qa-gd_dt_yt_100', '_id': 'Qef2gZEBurXB-Nfo-1pN', '_version': 1, 'result': 'created', 'forced_refresh': True, '_shards': {'total': 2, 'successful': 2, 'failed': 0}, '_seq_no': 4, '_primary_term': 1, 'status': 201}}, {'index': {'_index': 'semantic-text-qa-gd_dt_yt_100', '_id': 'Quf2gZEBurXB-Nfo-1pN', '_version': 1, 'result': 'created', 'forced_refresh': True, '_shards': {'total': 2, 'successful': 2, 'failed': 0}, '_seq_no': 5, '_primary_term': 1, 'status': 201}}, {'index': {'_index': 'semantic-text-qa-gd_dt_yt_100', '_id': 'Q-f2gZEBurXB-Nfo-1pN', '_version': 1, 'result': 'created', 'forced_refresh': True, '_shards': {'total': 2, 'successful': 2, 'failed': 0}, '_seq_no': 6, '_primary_term': 1, 'status': 201}}, {'index': {'_index': 'semantic-text-qa-gd_dt_yt_100', '_id': 'ROf2gZEBurXB-Nfo-1pN', '_version': 1, 'result': 'created', 'forced_refresh': True, '_shards': {'total': 2, 'successful': 2, 'failed': 0}, '_seq_no': 7, '_primary_term': 1, 'status': 201}}, {'index': {'_index': 'semantic-text-qa-gd_dt_yt_100', '_id': 'Ref2gZEBurXB-Nfo-1pN', '_version': 1, 'result': 'created', 'forced_refresh': True, '_shards': {'total': 2, 'successful': 2, 'failed': 0}, '_seq_no': 8, '_primary_term': 1, 'status': 201}}, {'index': {'_index': 'semantic-text-qa-gd_dt_yt_100', '_id': 'Ruf2gZEBurXB-Nfo-1pN', '_version': 1, 'result': 'created', 'forced_refresh': True, '_shards': {'total': 2, 'successful': 2, 'failed': 0}, '_seq_no': 9, '_primary_term': 1, 'status': 201}}, {'index': {'_index': 'semantic-text-qa-gd_dt_yt_100', '_id': 'R-f2gZEBurXB-Nfo-1pN', '_version': 1, 'result': 'created', 'forced_refresh': True, '_shards': {'total': 2, 'successful': 2, 'failed': 0}, '_seq_no': 10, '_primary_term': 1, 'status': 201}}, {'index': {'_index': 'semantic-text-qa-gd_dt_yt_100', '_id': 'SOf2gZEBurXB-Nfo-1pN', '_version': 1, 'result': 'created', 'forced_refresh': True, '_shards': {'total': 2, 'successful': 2, 'failed': 0}, '_seq_no': 11, '_primary_term': 1, 'status': 201}}, {'index': {'_index': 'semantic-text-qa-gd_dt_yt_100', '_id': 'Sef2gZEBurXB-Nfo-1pN', '_version': 1, 'result': 'created', 'forced_refresh': True, '_shards': {'total': 2, 'successful': 2, 'failed': 0}, '_seq_no': 12, '_primary_term': 1, 'status': 201}}, {'index': {'_index': 'semantic-text-qa-gd_dt_yt_100', '_id': 'Suf2gZEBurXB-Nfo-1pN', '_version': 1, 'result': 'created', 'forced_refresh': True, '_shards': {'total': 2, 'successful': 2, 'failed': 0}, '_seq_no': 13, '_primary_term': 1, 'status': 201}}, {'index': {'_index': 'semantic-text-qa-gd_dt_yt_100', '_id': 'S-f2gZEBurXB-Nfo-1pN', '_version': 1, 'result': 'created', 'forced_refresh': True, '_shards': {'total': 2, 'successful': 2, 'failed': 0}, '_seq_no': 14, '_primary_term': 1, 'status': 201}}, {'index': {'_index': 'semantic-text-qa-gd_dt_yt_100', '_id': 'TOf2gZEBurXB-Nfo-1pN', '_version': 1, 'result': 'created', 'forced_refresh': True, '_shards': {'total': 2, 'successful': 2, 'failed': 0}, '_seq_no': 15, '_primary_term': 1, 'status': 201}}, {'index': {'_index': 'semantic-text-qa-gd_dt_yt_100', '_id': 'Tef2gZEBurXB-Nfo-1pN', '_version': 1, 'result': 'created', 'forced_refresh': True, '_shards': {'total': 2, 'successful': 2, 'failed': 0}, '_seq_no': 16, '_primary_term': 1, 'status': 201}}, {'index': {'_index': 'semantic-text-qa-gd_dt_yt_100', '_id': 'Tuf2gZEBurXB-Nfo-1pN', '_version': 1, 'result': 'created', 'forced_refresh': True, '_shards': {'total': 2, 'successful': 2, 'failed': 0}, '_seq_no': 17, '_primary_term': 1, 'status': 201}}, {'index': {'_index': 'semantic-text-qa-gd_dt_yt_100', '_id': 'T-f2gZEBurXB-Nfo-1pN', '_version': 1, 'result': 'created', 'forced_refresh': True, '_shards': {'total': 2, 'successful': 2, 'failed': 0}, '_seq_no': 18, '_primary_term': 1, 'status': 201}}, {'index': {'_index': 'semantic-text-qa-gd_dt_yt_100', '_id': 'UOf2gZEBurXB-Nfo-1pN', '_version': 1, 'result': 'created', 'forced_refresh': True, '_shards': {'total': 2, 'successful': 2, 'failed': 0}, '_seq_no': 19, '_primary_term': 1, 'status': 201}}, {'index': {'_index': 'semantic-text-qa-gd_dt_yt_100', '_id': 'Uef2gZEBurXB-Nfo-1pN', '_version': 1, 'result': 'created', 'forced_refresh': True, '_shards': {'total': 2, 'successful': 2, 'failed': 0}, '_seq_no': 20, '_primary_term': 1, 'status': 201}}, {'index': {'_index': 'semantic-text-qa-gd_dt_yt_100', '_id': 'Uuf2gZEBurXB-Nfo-1pN', '_version': 1, 'result': 'created', 'forced_refresh': True, '_shards': {'total': 2, 'successful': 2, 'failed': 0}, '_seq_no': 21, '_primary_term': 1, 'status': 201}}, {'index': {'_index': 'semantic-text-qa-gd_dt_yt_100', '_id': 'U-f2gZEBurXB-Nfo-1pN', '_version': 1, 'result': 'created', 'forced_refresh': True, '_shards': {'total': 2, 'successful': 2, 'failed': 0}, '_seq_no': 22, '_primary_term': 1, 'status': 201}}, {'index': {'_index': 'semantic-text-qa-gd_dt_yt_100', '_id': 'VOf2gZEBurXB-Nfo-1pN', '_version': 1, 'result': 'created', 'forced_refresh': True, '_shards': {'total': 2, 'successful': 2, 'failed': 0}, '_seq_no': 23, '_primary_term': 1, 'status': 201}}, {'index': {'_index': 'semantic-text-qa-gd_dt_yt_100', '_id': 'Vef2gZEBurXB-Nfo-1pN', '_version': 1, 'result': 'created', 'forced_refresh': True, '_shards': {'total': 2, 'successful': 2, 'failed': 0}, '_seq_no': 24, '_primary_term': 1, 'status': 201}}, {'index': {'_index': 'semantic-text-qa-gd_dt_yt_100', '_id': 'Vuf2gZEBurXB-Nfo-1pN', '_version': 1, 'result': 'created', 'forced_refresh': True, '_shards': {'total': 2, 'successful': 2, 'failed': 0}, '_seq_no': 25, '_primary_term': 1, 'status': 201}}, {'index': {'_index': 'semantic-text-qa-gd_dt_yt_100', '_id': 'V-f2gZEBurXB-Nfo-1pN', '_version': 1, 'result': 'created', 'forced_refresh': True, '_shards': {'total': 2, 'successful': 2, 'failed': 0}, '_seq_no': 26, '_primary_term': 1, 'status': 201}}, {'index': {'_index': 'semantic-text-qa-gd_dt_yt_100', '_id': 'WOf2gZEBurXB-Nfo-1pN', '_version': 1, 'result': 'created', 'forced_refresh': True, '_shards': {'total': 2, 'successful': 2, 'failed': 0}, '_seq_no': 27, '_primary_term': 1, 'status': 201}}, {'index': {'_index': 'semantic-text-qa-gd_dt_yt_100', '_id': 'Wef2gZEBurXB-Nfo-1pN', '_version': 1, 'result': 'created', 'forced_refresh': True, '_shards': {'total': 2, 'successful': 2, 'failed': 0}, '_seq_no': 28, '_primary_term': 1, 'status': 201}}, {'index': {'_index': 'semantic-text-qa-gd_dt_yt_100', '_id': 'Wuf2gZEBurXB-Nfo-1pN', '_version': 1, 'result': 'created', 'forced_refresh': True, '_shards': {'total': 2, 'successful': 2, 'failed': 0}, '_seq_no': 29, '_primary_term': 1, 'status': 201}}, {'index': {'_index': 'semantic-text-qa-gd_dt_yt_100', '_id': 'W-f2gZEBurXB-Nfo-1pN', '_version': 1, 'result': 'created', 'forced_refresh': True, '_shards': {'total': 2, 'successful': 2, 'failed': 0}, '_seq_no': 30, '_primary_term': 1, 'status': 201}}, {'index': {'_index': 'semantic-text-qa-gd_dt_yt_100', '_id': 'XOf2gZEBurXB-Nfo-1pN', '_version': 1, 'result': 'created', 'forced_refresh': True, '_shards': {'total': 2, 'successful': 2, 'failed': 0}, '_seq_no': 31, '_primary_term': 1, 'status': 201}}, {'index': {'_index': 'semantic-text-qa-gd_dt_yt_100', '_id': 'Xef2gZEBurXB-Nfo-1pN', '_version': 1, 'result': 'created', 'forced_refresh': True, '_shards': {'total': 2, 'successful': 2, 'failed': 0}, '_seq_no': 32, '_primary_term': 1, 'status': 201}}, {'index': {'_index': 'semantic-text-qa-gd_dt_yt_100', '_id': 'Xuf2gZEBurXB-Nfo-1pN', '_version': 1, 'result': 'created', 'forced_refresh': True, '_shards': {'total': 2, 'successful': 2, 'failed': 0}, '_seq_no': 33, '_primary_term': 1, 'status': 201}}, {'index': {'_index': 'semantic-text-qa-gd_dt_yt_100', '_id': 'X-f2gZEBurXB-Nfo-1pN', '_version': 1, 'result': 'created', 'forced_refresh': True, '_shards': {'total': 2, 'successful': 2, 'failed': 0}, '_seq_no': 34, '_primary_term': 1, 'status': 201}}, {'index': {'_index': 'semantic-text-qa-gd_dt_yt_100', '_id': 'YOf2gZEBurXB-Nfo-1pN', '_version': 1, 'result': 'created', 'forced_refresh': True, '_shards': {'total': 2, 'successful': 2, 'failed': 0}, '_seq_no': 35, '_primary_term': 1, 'status': 201}}, {'index': {'_index': 'semantic-text-qa-gd_dt_yt_100', '_id': 'Yef2gZEBurXB-Nfo-1pN', '_version': 1, 'result': 'created', 'forced_refresh': True, '_shards': {'total': 2, 'successful': 2, 'failed': 0}, '_seq_no': 36, '_primary_term': 1, 'status': 201}}, {'index': {'_index': 'semantic-text-qa-gd_dt_yt_100', '_id': 'Yuf2gZEBurXB-Nfo-1pN', '_version': 1, 'result': 'created', 'forced_refresh': True, '_shards': {'total': 2, 'successful': 2, 'failed': 0}, '_seq_no': 37, '_primary_term': 1, 'status': 201}}, {'index': {'_index': 'semantic-text-qa-gd_dt_yt_100', '_id': 'Y-f2gZEBurXB-Nfo-1pN', '_version': 1, 'result': 'created', 'forced_refresh': True, '_shards': {'total': 2, 'successful': 2, 'failed': 0}, '_seq_no': 38, '_primary_term': 1, 'status': 201}}, {'index': {'_index': 'semantic-text-qa-gd_dt_yt_100', '_id': 'ZOf2gZEBurXB-Nfo-1pN', '_version': 1, 'result': 'created', 'forced_refresh': True, '_shards': {'total': 2, 'successful': 2, 'failed': 0}, '_seq_no': 39, '_primary_term': 1, 'status': 201}}, {'index': {'_index': 'semantic-text-qa-gd_dt_yt_100', '_id': 'Zef2gZEBurXB-Nfo-1pN', '_version': 1, 'result': 'created', 'forced_refresh': True, '_shards': {'total': 2, 'successful': 2, 'failed': 0}, '_seq_no': 40, '_primary_term': 1, 'status': 201}}, {'index': {'_index': 'semantic-text-qa-gd_dt_yt_100', '_id': 'Zuf2gZEBurXB-Nfo-1pN', '_version': 1, 'result': 'created', 'forced_refresh': True, '_shards': {'total': 2, 'successful': 2, 'failed': 0}, '_seq_no': 41, '_primary_term': 1, 'status': 201}}, {'index': {'_index': 'semantic-text-qa-gd_dt_yt_100', '_id': 'Z-f2gZEBurXB-Nfo-1pN', '_version': 1, 'result': 'created', 'forced_refresh': True, '_shards': {'total': 2, 'successful': 2, 'failed': 0}, '_seq_no': 42, '_primary_term': 1, 'status': 201}}, {'index': {'_index': 'semantic-text-qa-gd_dt_yt_100', '_id': 'aOf2gZEBurXB-Nfo-1pN', '_version': 1, 'result': 'created', 'forced_refresh': True, '_shards': {'total': 2, 'successful': 2, 'failed': 0}, '_seq_no': 43, '_primary_term': 1, 'status': 201}}, {'index': {'_index': 'semantic-text-qa-gd_dt_yt_100', '_id': 'aef2gZEBurXB-Nfo-1pN', '_version': 1, 'result': 'created', 'forced_refresh': True, '_shards': {'total': 2, 'successful': 2, 'failed': 0}, '_seq_no': 44, '_primary_term': 1, 'status': 201}}, {'index': {'_index': 'semantic-text-qa-gd_dt_yt_100', '_id': 'auf2gZEBurXB-Nfo-1pN', '_version': 1, 'result': 'created', 'forced_refresh': True, '_shards': {'total': 2, 'successful': 2, 'failed': 0}, '_seq_no': 45, '_primary_term': 1, 'status': 201}}, {'index': {'_index': 'semantic-text-qa-gd_dt_yt_100', '_id': 'a-f2gZEBurXB-Nfo-1pN', '_version': 1, 'result': 'created', 'forced_refresh': True, '_shards': {'total': 2, 'successful': 2, 'failed': 0}, '_seq_no': 46, '_primary_term': 1, 'status': 201}}, {'index': {'_index': 'semantic-text-qa-gd_dt_yt_100', '_id': 'bOf2gZEBurXB-Nfo-1pN', '_version': 1, 'result': 'created', 'forced_refresh': True, '_shards': {'total': 2, 'successful': 2, 'failed': 0}, '_seq_no': 47, '_primary_term': 1, 'status': 201}}, {'index': {'_index': 'semantic-text-qa-gd_dt_yt_100', '_id': 'bef2gZEBurXB-Nfo-1pN', '_version': 1, 'result': 'created', 'forced_refresh': True, '_shards': {'total': 2, 'successful': 2, 'failed': 0}, '_seq_no': 48, '_primary_term': 1, 'status': 201}}, {'index': {'_index': 'semantic-text-qa-gd_dt_yt_100', '_id': 'buf2gZEBurXB-Nfo-1pN', '_version': 1, 'result': 'created', 'forced_refresh': True, '_shards': {'total': 2, 'successful': 2, 'failed': 0}, '_seq_no': 49, '_primary_term': 1, 'status': 201}}, {'index': {'_index': 'semantic-text-qa-gd_dt_yt_100', '_id': 'b-f2gZEBurXB-Nfo-1pN', '_version': 1, 'result': 'created', 'forced_refresh': True, '_shards': {'total': 2, 'successful': 2, 'failed': 0}, '_seq_no': 50, '_primary_term': 1, 'status': 201}}, {'index': {'_index': 'semantic-text-qa-gd_dt_yt_100', '_id': 'cOf2gZEBurXB-Nfo-1pN', '_version': 1, 'result': 'created', 'forced_refresh': True, '_shards': {'total': 2, 'successful': 2, 'failed': 0}, '_seq_no': 51, '_primary_term': 1, 'status': 201}}, {'index': {'_index': 'semantic-text-qa-gd_dt_yt_100', '_id': 'cef2gZEBurXB-Nfo-1pN', '_version': 1, 'result': 'created', 'forced_refresh': True, '_shards': {'total': 2, 'successful': 2, 'failed': 0}, '_seq_no': 52, '_primary_term': 1, 'status': 201}}, {'index': {'_index': 'semantic-text-qa-gd_dt_yt_100', '_id': 'cuf2gZEBurXB-Nfo-1pN', '_version': 1, 'result': 'created', 'forced_refresh': True, '_shards': {'total': 2, 'successful': 2, 'failed': 0}, '_seq_no': 53, '_primary_term': 1, 'status': 201}}, {'index': {'_index': 'semantic-text-qa-gd_dt_yt_100', '_id': 'c-f2gZEBurXB-Nfo-1pN', '_version': 1, 'result': 'created', 'forced_refresh': True, '_shards': {'total': 2, 'successful': 2, 'failed': 0}, '_seq_no': 54, '_primary_term': 1, 'status': 201}}, {'index': {'_index': 'semantic-text-qa-gd_dt_yt_100', '_id': 'dOf2gZEBurXB-Nfo-1pN', '_version': 1, 'result': 'created', 'forced_refresh': True, '_shards': {'total': 2, 'successful': 2, 'failed': 0}, '_seq_no': 55, '_primary_term': 1, 'status': 201}}, {'index': {'_index': 'semantic-text-qa-gd_dt_yt_100', '_id': 'def2gZEBurXB-Nfo-1pN', '_version': 1, 'result': 'created', 'forced_refresh': True, '_shards': {'total': 2, 'successful': 2, 'failed': 0}, '_seq_no': 56, '_primary_term': 1, 'status': 201}}, {'index': {'_index': 'semantic-text-qa-gd_dt_yt_100', '_id': 'duf2gZEBurXB-Nfo-1pN', '_version': 1, 'result': 'created', 'forced_refresh': True, '_shards': {'total': 2, 'successful': 2, 'failed': 0}, '_seq_no': 57, '_primary_term': 1, 'status': 201}}, {'index': {'_index': 'semantic-text-qa-gd_dt_yt_100', '_id': 'd-f2gZEBurXB-Nfo-1pN', '_version': 1, 'result': 'created', 'forced_refresh': True, '_shards': {'total': 2, 'successful': 2, 'failed': 0}, '_seq_no': 58, '_primary_term': 1, 'status': 201}}, {'index': {'_index': 'semantic-text-qa-gd_dt_yt_100', '_id': 'eOf2gZEBurXB-Nfo-1pN', '_version': 1, 'result': 'created', 'forced_refresh': True, '_shards': {'total': 2, 'successful': 2, 'failed': 0}, '_seq_no': 59, '_primary_term': 1, 'status': 201}}, {'index': {'_index': 'semantic-text-qa-gd_dt_yt_100', '_id': 'eef2gZEBurXB-Nfo-1pN', '_version': 1, 'result': 'created', 'forced_refresh': True, '_shards': {'total': 2, 'successful': 2, 'failed': 0}, '_seq_no': 60, '_primary_term': 1, 'status': 201}}, {'index': {'_index': 'semantic-text-qa-gd_dt_yt_100', '_id': 'euf2gZEBurXB-Nfo-1pN', '_version': 1, 'result': 'created', 'forced_refresh': True, '_shards': {'total': 2, 'successful': 2, 'failed': 0}, '_seq_no': 61, '_primary_term': 1, 'status': 201}}, {'index': {'_index': 'semantic-text-qa-gd_dt_yt_100', '_id': 'e-f2gZEBurXB-Nfo-1pN', '_version': 1, 'result': 'created', 'forced_refresh': True, '_shards': {'total': 2, 'successful': 2, 'failed': 0}, '_seq_no': 62, '_primary_term': 1, 'status': 201}}, {'index': {'_index': 'semantic-text-qa-gd_dt_yt_100', '_id': 'fOf2gZEBurXB-Nfo-1pN', '_version': 1, 'result': 'created', 'forced_refresh': True, '_shards': {'total': 2, 'successful': 2, 'failed': 0}, '_seq_no': 63, '_primary_term': 1, 'status': 201}}, {'index': {'_index': 'semantic-text-qa-gd_dt_yt_100', '_id': 'fef2gZEBurXB-Nfo-1pN', '_version': 1, 'result': 'created', 'forced_refresh': True, '_shards': {'total': 2, 'successful': 2, 'failed': 0}, '_seq_no': 64, '_primary_term': 1, 'status': 201}}, {'index': {'_index': 'semantic-text-qa-gd_dt_yt_100', '_id': 'fuf2gZEBurXB-Nfo-1pN', '_version': 1, 'result': 'created', 'forced_refresh': True, '_shards': {'total': 2, 'successful': 2, 'failed': 0}, '_seq_no': 65, '_primary_term': 1, 'status': 201}}, {'index': {'_index': 'semantic-text-qa-gd_dt_yt_100', '_id': 'f-f2gZEBurXB-Nfo-1pN', '_version': 1, 'result': 'created', 'forced_refresh': True, '_shards': {'total': 2, 'successful': 2, 'failed': 0}, '_seq_no': 66, '_primary_term': 1, 'status': 201}}, {'index': {'_index': 'semantic-text-qa-gd_dt_yt_100', '_id': 'gOf2gZEBurXB-Nfo-1pN', '_version': 1, 'result': 'created', 'forced_refresh': True, '_shards': {'total': 2, 'successful': 2, 'failed': 0}, '_seq_no': 67, '_primary_term': 1, 'status': 201}}, {'index': {'_index': 'semantic-text-qa-gd_dt_yt_100', '_id': 'gef2gZEBurXB-Nfo-1pN', '_version': 1, 'result': 'created', 'forced_refresh': True, '_shards': {'total': 2, 'successful': 2, 'failed': 0}, '_seq_no': 68, '_primary_term': 1, 'status': 201}}, {'index': {'_index': 'semantic-text-qa-gd_dt_yt_100', '_id': 'guf2gZEBurXB-Nfo-1pN', '_version': 1, 'result': 'created', 'forced_refresh': True, '_shards': {'total': 2, 'successful': 2, 'failed': 0}, '_seq_no': 69, '_primary_term': 1, 'status': 201}}, {'index': {'_index': 'semantic-text-qa-gd_dt_yt_100', '_id': 'g-f2gZEBurXB-Nfo-1pN', '_version': 1, 'result': 'created', 'forced_refresh': True, '_shards': {'total': 2, 'successful': 2, 'failed': 0}, '_seq_no': 70, '_primary_term': 1, 'status': 201}}, {'index': {'_index': 'semantic-text-qa-gd_dt_yt_100', '_id': 'hOf2gZEBurXB-Nfo-1pN', '_version': 1, 'result': 'created', 'forced_refresh': True, '_shards': {'total': 2, 'successful': 2, 'failed': 0}, '_seq_no': 71, '_primary_term': 1, 'status': 201}}, {'index': {'_index': 'semantic-text-qa-gd_dt_yt_100', '_id': 'hef2gZEBurXB-Nfo-1pN', '_version': 1, 'result': 'created', 'forced_refresh': True, '_shards': {'total': 2, 'successful': 2, 'failed': 0}, '_seq_no': 72, '_primary_term': 1, 'status': 201}}, {'index': {'_index': 'semantic-text-qa-gd_dt_yt_100', '_id': 'huf2gZEBurXB-Nfo-1pN', '_version': 1, 'result': 'created', 'forced_refresh': True, '_shards': {'total': 2, 'successful': 2, 'failed': 0}, '_seq_no': 73, '_primary_term': 1, 'status': 201}}, {'index': {'_index': 'semantic-text-qa-gd_dt_yt_100', '_id': 'h-f2gZEBurXB-Nfo-1pN', '_version': 1, 'result': 'created', 'forced_refresh': True, '_shards': {'total': 2, 'successful': 2, 'failed': 0}, '_seq_no': 74, '_primary_term': 1, 'status': 201}}, {'index': {'_index': 'semantic-text-qa-gd_dt_yt_100', '_id': 'iOf2gZEBurXB-Nfo-1pN', '_version': 1, 'result': 'created', 'forced_refresh': True, '_shards': {'total': 2, 'successful': 2, 'failed': 0}, '_seq_no': 75, '_primary_term': 1, 'status': 201}}, {'index': {'_index': 'semantic-text-qa-gd_dt_yt_100', '_id': 'ief2gZEBurXB-Nfo-1pN', '_version': 1, 'result': 'created', 'forced_refresh': True, '_shards': {'total': 2, 'successful': 2, 'failed': 0}, '_seq_no': 76, '_primary_term': 1, 'status': 201}}, {'index': {'_index': 'semantic-text-qa-gd_dt_yt_100', '_id': 'iuf2gZEBurXB-Nfo-1pN', '_version': 1, 'result': 'created', 'forced_refresh': True, '_shards': {'total': 2, 'successful': 2, 'failed': 0}, '_seq_no': 77, '_primary_term': 1, 'status': 201}}, {'index': {'_index': 'semantic-text-qa-gd_dt_yt_100', '_id': 'i-f2gZEBurXB-Nfo-1pN', '_version': 1, 'result': 'created', 'forced_refresh': True, '_shards': {'total': 2, 'successful': 2, 'failed': 0}, '_seq_no': 78, '_primary_term': 1, 'status': 201}}, {'index': {'_index': 'semantic-text-qa-gd_dt_yt_100', '_id': 'jOf2gZEBurXB-Nfo-1pN', '_version': 1, 'result': 'created', 'forced_refresh': True, '_shards': {'total': 2, 'successful': 2, 'failed': 0}, '_seq_no': 79, '_primary_term': 1, 'status': 201}}, {'index': {'_index': 'semantic-text-qa-gd_dt_yt_100', '_id': 'jef2gZEBurXB-Nfo-1pN', '_version': 1, 'result': 'created', 'forced_refresh': True, '_shards': {'total': 2, 'successful': 2, 'failed': 0}, '_seq_no': 80, '_primary_term': 1, 'status': 201}}, {'index': {'_index': 'semantic-text-qa-gd_dt_yt_100', '_id': 'juf2gZEBurXB-Nfo-1pN', '_version': 1, 'result': 'created', 'forced_refresh': True, '_shards': {'total': 2, 'successful': 2, 'failed': 0}, '_seq_no': 81, '_primary_term': 1, 'status': 201}}, {'index': {'_index': 'semantic-text-qa-gd_dt_yt_100', '_id': 'j-f2gZEBurXB-Nfo-1pN', '_version': 1, 'result': 'created', 'forced_refresh': True, '_shards': {'total': 2, 'successful': 2, 'failed': 0}, '_seq_no': 82, '_primary_term': 1, 'status': 201}}, {'index': {'_index': 'semantic-text-qa-gd_dt_yt_100', '_id': 'kOf2gZEBurXB-Nfo-1pN', '_version': 1, 'result': 'created', 'forced_refresh': True, '_shards': {'total': 2, 'successful': 2, 'failed': 0}, '_seq_no': 83, '_primary_term': 1, 'status': 201}}, {'index': {'_index': 'semantic-text-qa-gd_dt_yt_100', '_id': 'kef2gZEBurXB-Nfo-1pN', '_version': 1, 'result': 'created', 'forced_refresh': True, '_shards': {'total': 2, 'successful': 2, 'failed': 0}, '_seq_no': 84, '_primary_term': 1, 'status': 201}}, {'index': {'_index': 'semantic-text-qa-gd_dt_yt_100', '_id': 'kuf2gZEBurXB-Nfo-1pN', '_version': 1, 'result': 'created', 'forced_refresh': True, '_shards': {'total': 2, 'successful': 2, 'failed': 0}, '_seq_no': 85, '_primary_term': 1, 'status': 201}}, {'index': {'_index': 'semantic-text-qa-gd_dt_yt_100', '_id': 'k-f2gZEBurXB-Nfo-1pN', '_version': 1, 'result': 'created', 'forced_refresh': True, '_shards': {'total': 2, 'successful': 2, 'failed': 0}, '_seq_no': 86, '_primary_term': 1, 'status': 201}}, {'index': {'_index': 'semantic-text-qa-gd_dt_yt_100', '_id': 'lOf2gZEBurXB-Nfo-1pN', '_version': 1, 'result': 'created', 'forced_refresh': True, '_shards': {'total': 2, 'successful': 2, 'failed': 0}, '_seq_no': 87, '_primary_term': 1, 'status': 201}}, {'index': {'_index': 'semantic-text-qa-gd_dt_yt_100', '_id': 'lef2gZEBurXB-Nfo-1pN', '_version': 1, 'result': 'created', 'forced_refresh': True, '_shards': {'total': 2, 'successful': 2, 'failed': 0}, '_seq_no': 88, '_primary_term': 1, 'status': 201}}, {'index': {'_index': 'semantic-text-qa-gd_dt_yt_100', '_id': 'luf2gZEBurXB-Nfo-1pN', '_version': 1, 'result': 'created', 'forced_refresh': True, '_shards': {'total': 2, 'successful': 2, 'failed': 0}, '_seq_no': 89, '_primary_term': 1, 'status': 201}}, {'index': {'_index': 'semantic-text-qa-gd_dt_yt_100', '_id': 'l-f2gZEBurXB-Nfo-1pN', '_version': 1, 'result': 'created', 'forced_refresh': True, '_shards': {'total': 2, 'successful': 2, 'failed': 0}, '_seq_no': 90, '_primary_term': 1, 'status': 201}}, {'index': {'_index': 'semantic-text-qa-gd_dt_yt_100', '_id': 'mOf2gZEBurXB-Nfo-1pN', '_version': 1, 'result': 'created', 'forced_refresh': True, '_shards': {'total': 2, 'successful': 2, 'failed': 0}, '_seq_no': 91, '_primary_term': 1, 'status': 201}}, {'index': {'_index': 'semantic-text-qa-gd_dt_yt_100', '_id': 'mef2gZEBurXB-Nfo-1pN', '_version': 1, 'result': 'created', 'forced_refresh': True, '_shards': {'total': 2, 'successful': 2, 'failed': 0}, '_seq_no': 92, '_primary_term': 1, 'status': 201}}, {'index': {'_index': 'semantic-text-qa-gd_dt_yt_100', '_id': 'muf2gZEBurXB-Nfo-1pN', '_version': 1, 'result': 'created', 'forced_refresh': True, '_shards': {'total': 2, 'successful': 2, 'failed': 0}, '_seq_no': 93, '_primary_term': 1, 'status': 201}}, {'index': {'_index': 'semantic-text-qa-gd_dt_yt_100', '_id': 'm-f2gZEBurXB-Nfo-1pN', '_version': 1, 'result': 'created', 'forced_refresh': True, '_shards': {'total': 2, 'successful': 2, 'failed': 0}, '_seq_no': 94, '_primary_term': 1, 'status': 201}}, {'index': {'_index': 'semantic-text-qa-gd_dt_yt_100', '_id': 'nOf2gZEBurXB-Nfo-1pN', '_version': 1, 'result': 'created', 'forced_refresh': True, '_shards': {'total': 2, 'successful': 2, 'failed': 0}, '_seq_no': 95, '_primary_term': 1, 'status': 201}}, {'index': {'_index': 'semantic-text-qa-gd_dt_yt_100', '_id': 'nef2gZEBurXB-Nfo-1pN', '_version': 1, 'result': 'created', 'forced_refresh': True, '_shards': {'total': 2, 'successful': 2, 'failed': 0}, '_seq_no': 96, '_primary_term': 1, 'status': 201}}, {'index': {'_index': 'semantic-text-qa-gd_dt_yt_100', '_id': 'nuf2gZEBurXB-Nfo-1pN', '_version': 1, 'result': 'created', 'forced_refresh': True, '_shards': {'total': 2, 'successful': 2, 'failed': 0}, '_seq_no': 97, '_primary_term': 1, 'status': 201}}, {'index': {'_index': 'semantic-text-qa-gd_dt_yt_100', '_id': 'n-f2gZEBurXB-Nfo-1pN', '_version': 1, 'result': 'created', 'forced_refresh': True, '_shards': {'total': 2, 'successful': 2, 'failed': 0}, '_seq_no': 98, '_primary_term': 1, 'status': 201}}, {'index': {'_index': 'semantic-text-qa-gd_dt_yt_100', '_id': 'oOf2gZEBurXB-Nfo-1pN', '_version': 1, 'result': 'created', 'forced_refresh': True, '_shards': {'total': 2, 'successful': 2, 'failed': 0}, '_seq_no': 99, '_primary_term': 1, 'status': 201}}]})"
      ]
     },
     "execution_count": 11,
     "metadata": {},
     "output_type": "execute_result"
    }
   ],
   "source": [
    "operations = []\n",
    "for qa in qa_gd_dt_yt_100:\n",
    "    operations.append({\"index\": {\"_index\": \"semantic-text-qa-gd_dt_yt_100\"}})\n",
    "    operations.append(qa)\n",
    "client.bulk(index=\"semantic-text-qa-gd_dt_yt_100\", operations=operations, refresh=True)"
   ]
  },
  {
   "cell_type": "markdown",
   "metadata": {},
   "source": [
    "## 3.5. Semantic Search"
   ]
  },
  {
   "cell_type": "markdown",
   "metadata": {},
   "source": [
    "### 3.5.1. Pretty printing Elasticsearch search results"
   ]
  },
  {
   "cell_type": "code",
   "execution_count": 12,
   "metadata": {},
   "outputs": [],
   "source": [
    "def pretty_search_response(response):\n",
    "    if len(response[\"hits\"][\"hits\"]) == 0:\n",
    "        print(\"Your search returned no results.\")\n",
    "    else:\n",
    "        for hit in response[\"hits\"][\"hits\"]:\n",
    "            id = hit[\"_id\"]\n",
    "            score = hit[\"_score\"]\n",
    "            situation = hit[\"_source\"][\"situation\"]\n",
    "            answer = hit[\"_source\"][\"answer\"]\n",
    "\n",
    "            pretty_output = f\"\\nID: {id}\\nScore: {score}\\nSituation: {situation}\\nAnswer: {answer}\"\n",
    "\n",
    "            print(pretty_output)"
   ]
  },
  {
   "cell_type": "markdown",
   "metadata": {},
   "source": [
    "### 3.5.2. Semantic Search with the semantic Query"
   ]
  },
  {
   "cell_type": "code",
   "execution_count": 13,
   "metadata": {},
   "outputs": [
    {
     "name": "stdout",
     "output_type": "stream",
     "text": [
      "\n",
      "ID: c-f2gZEBurXB-Nfo-1pN\n",
      "Score: 34.47626\n",
      "Situation: Tôi xin  hỏi, trẻ em mẫu giáo và học sinh theo học tại các trường đóng trên địa bàn xã, thị trấn thuộc xã khu vực I, II; có hộ khẩu ở thôn, bản đặc biệt khó khăn, xã khu vực III, nhưng bố mẹ có nhà cửa và đang sinh sống làm việc tại khu vực I thì có được hỗ trợ chi phí học tập theo Nghị định số 81/2021/NĐ-CP không?\n",
      "Answer: Bộ Giáo dục và Đào tạo trả lời vấn đề này như sau:Khoản 4 Điều 18 Nghị định số81/2021/NĐ-CPquy định đối tượng được hưởng hỗ trợ chi phí học tập gồm: Trẻ em học mẫu giáo và học sinh phổ thông, học viên học tại cơ sở giáo dục thường xuyên theo chương trình giáo dục phổ thông ở thôn/bản đặc biệt khó khăn, xã khu vực III vùng dân tộc và miền núi, xã đặc biệt khó khăn vùng bãi ngang ven biển hải đảo theo quy định của cơ quan có thẩm quyền.Trường hợp trẻ em học mẫu giáo và học sinh đang theo học tại các trường đóng trên địa bàn xã, thị trấn thuộc xã khu vực I, II; có hộ khẩu thường trú ở thôn, bản đặc biệt khó khăn, xã khu vực III, nhưng bố mẹ hiện tại có nhà cửa và đang sinh sống làm việc tại khu vực I thì không được hưởng hỗ trợ chi phí học tập theo quy định nêu trên (do trẻ em mẫu giáo, học sinh và cha mẹ hiện tại đang sinh sống và làm việc tại khu vực I, không phải khu vực có điều kiện kinh tế xã hội đặc biệt khó khăn).\n",
      "\n",
      "ID: Pef2gZEBurXB-Nfo-1pN\n",
      "Score: 32.93516\n",
      "Situation: Tôi xin hỏi, học sinh vừa tốt nghiệp THPT khi xét tuyển vào các trường cao đẳng thì có được tạm miễn thực hiện nghĩa vụ quân sự không?\n",
      "Answer: Bộ Quốc phòng trả lời vấn đề này như sau:Theo quy định tại Điểm g Khoản 1 Điều 41Luật Nghĩa vụ quân sựnăm 2015, những công dân sau đây được tạm hoãn gọi nhập ngũ:\"g) Đang học tại cơ sở giáo dục phổ thông; đang được đào tạo trình độ đại học hệ chính quy thuộc cơ sở giáo dục đại học, trình độ cao đẳng hệ chính quy thuộc các cơ sở giáo dục nghề nghiệp trong một khóa đào tạo của một trình độ đào tạo\".Như vậy, công dân thuộc trường hợp nêu tại Điểm g Khoản 1 Điều 41 Luật Nghĩa vụ quân sự năm 2015 được tạm hoãn từ ngày công dân đã làm xong thủ tục nhập học và đang học tập tại trường; chỉ được tạm hoãn gọi nhập ngũ trong một khóa đào tạo tập trung đầu tiên, còn các khóa học tiếp theo thì không được tạm hoãn.\n",
      "\n",
      "ID: W-f2gZEBurXB-Nfo-1pN\n",
      "Score: 32.58119\n",
      "Situation: Tôi là giáo viên tiểu học, được phân công chủ nhiệm và được giao nhiệm vụ Tổ trưởng chuyên môn. Theo quy định giảm số tiết thì giáo viên chủ nhiệm được giảm 3 tiết/tuần và Tổ trưởng chuyên môn 3 tiết/tuần. Xin hỏi, trường hợp của tôi có được giảm cộng dồn số tiết là 6 tiết/tuần không? Tôi có được coi là đang kiêm nhiệm 2 chức vụ không? Hiện nay tôi chỉ được trừ 3 tiết/tuần do đang áp dụng cách tính chỉ được hưởng giảm số tiết của chức vụ cao nhất.\n",
      "Answer: Bộ Giáo dục và Đào tạo trả lời vấn đề này như sau:Theo quy định tại Khoản 5 Điều 9 Thông tư số 28/2009/TT-BGDĐT ngày 21/10/2009 của Bộ Giáo dục và Đào tạo ban hành quy định về chế độ làm việc đối với giáo viên phổ thông:\"Để bảo đảm chất lượng giảng dạy và chất lượng công tác, mỗi giáo viên không làm kiêm nhiệm quá 2 chức vụ và được hưởng chế độ giảm định mức tiết dạy của chức vụ có số tiết giảm cao nhất\".Tuy nhiên, ông Dương Văn Thao được phân công kiêm nhiệm cả công việc chuyên môn, như vậy ông được hưởng chế độ giảm định mức tiết dạy đối với quy định về kiêm nhiệm các công việc chuyên môn và quy định về kiêm nhiệm công tác Đảng, đoàn thể và các tổ chức trong nhà trường.\n",
      "\n",
      "ID: Ref2gZEBurXB-Nfo-1pN\n",
      "Score: 32.39271\n",
      "Situation: Tôi học chuyên ngành Công nghệ sinh học, được tuyển dụng viên chức từ năm 2014 vào Trung tâm y tế dự phòng, công tác tại Khoa Xét nghiệm, với mã ngạch kỹ thuật viên. Sau khi sáp nhập các đơn vị thành Trung tâm Kiểm soát bệnh tật, tôi vẫn công tác tại Khoa Xét nghiệm với mã ngạch V.08, Kỹ thuật y hạng 3.  Khi cơ quan sắp xếp lại vị trí việc làm, có yêu cầu cần chứng chỉ hành nghề hoặc chứng chỉ chức danh nghề nghiệp hạng 3. Theo tôi hiểu, đầu vào đủ điều kiện hạng 3 và đang giữ vị trí hạng 3 không cần học chứng chỉ bồi dưỡng chức danh nghề nghiệp, thay vào đó sẽ đăng ký lớp kỹ thuật y học cơ bản 3-6 tháng.  Tôi đề nghị giải đáp về vấn đề nêu trên và đề nghị cơ quan có thẩm quyền sớm có văn bản công nhận hệ đào tạo Công nghệ sinh học là hệ đào tạo gần với kỹ thuật y học, và có văn bản quy định việc cấp chứng chỉ hành nghề cho những đối tượng có bằng Công nghệ sinh học.\n",
      "Answer: Bộ Y tế trả lời vấn đề này như sau:Tại Điểm g Khoản 4 Điều 40 Nghị định số96/2023/NĐ-CPngày 30/12/2023 của Chính phủ quy định chi tiết một số điều của Luật Khám bệnh, chữa bệnh về điều kiện cấp giấy phép hoạt động chung đối với cơ sở khám bệnh, chữa bệnh quy định:Các đối tượng khác tham gia vào quá trình khám bệnh, chữa bệnh nhưng không cần phải cấp giấy phép hành nghề theo quy định tại Điểm d Khoản 2 Điều 19 của Luật Khám bệnh, chữa bệnh (kỹ sư vật lý y học, kỹ sư xạ trị, kỹ sư công nghệ sinh học, cử nhân công nghệ sinh học và các đối tượng khác, sau đây gọi là người làm việc) được phép thực hiện các hoạt động chuyên môn theo phân công của người chịu trách nhiệm chuyên môn kỹ thuật của cơ sở khám bệnh, chữa bệnh, việc phân công phải phù hợp với văn bằng chuyên môn và khả năng của người đó.\n",
      "\n",
      "ID: f-f2gZEBurXB-Nfo-1pN\n",
      "Score: 32.31908\n",
      "Situation: Tôi là người dân tộc thiểu số tại xã khu vực III, đang học trường Cao đẳng Công Thương Việt Nam (cơ sở TPHCM). Xin hỏi, tôi có đủ điều kiện được giảm 70% học phí không?\n",
      "Answer: Bộ Giáo dục và Đào tạo trả lời vấn đề này như sau:Điểm c Khoản 1 Điều 16 Nghị định số81/2021/NĐ-CPquy định đối tượng được giảm 70% học phí gồm: \"Trẻ em học mẫu giáo và học sinh, sinh viên là người dân tộc thiểu số (ngoài đối tượng dân tộc thiểu số rất ít người) ở thôn/bản đặc biệt khó khăn, xã khu vực III vùng dân tộc và miền núi, xã đặc biệt khó khăn vùng bãi ngang ven biển hải đảo theo quy định của cơ quan có thẩm quyền\".Như vậy, trường hợp của sinh viên Thạch Hiền, theo học trường Cao đẳng Công Thương Việt Nam (cơ sở TPHCM), thuộc diện là dân tộc thiểu số (ngoài dân tộc thiểu số rất ít người) sống tại thôn/bản đặc biệt khó khăn, xã khu vực III vùng dân tộc và miền núi, xã đặc biệt khó khăn vùng bãi ngang ven biển hải đảo, xã khu vực III theo quy định của cơ quan có thẩm quyền thì được giảm 70% học phí.\n",
      "\n",
      "ID: lef2gZEBurXB-Nfo-1pN\n",
      "Score: 32.15655\n",
      "Situation: Tôi có bằng Cao đẳng sư phạm Hóa – Kỹ thuật và bằng Đại học sư phạm Hóa. Tôi đã được bổ nhiệm ngạch Nhân viên thiết bị - thí nghiệm trường tiểu học. Hiện nay, trường tôi công tác đang thiếu giáo viên môn Tin học và Công nghệ nên tôi muốn xin chuyển ngạch sang làm giáo viên tiểu học hạng 3 dạy môn Tin học và Công nghệ. Tôi dự định học thêm chứng chỉ bồi dưỡng dành cho giáo viên dạy môn Tin học và Công nghệ tiểu học, chứng chỉ chức danh nghề nghiệp dành cho giáo viên tiểu học để xin chuyển ngạch.   Xin hỏi, tôi có chuyển ngạch được không hay chỉ chuyển sang được ngạch giáo viên THCS và THPT?\n",
      "Answer: Bộ Giáo dục và Đào tạo trả lời vấn đề này như sau:Theo quy định của Chính phủ tại Nghị định số115/2020/NĐ-CPngày 25/9/2020 về tuyển dụng, sử dụng và quản lý viên chức thì khi viên chức thay đổi vị trí việc làm mà chức danh nghề nghiệp đang giữ không phù hợp với yêu cầu của vị trí việc làm mới thì được cơ quan có thẩm quyền thực hiện việc xét chuyển chức danh nghề nghiệp (Khoản 1 Điều 30) và phải bảo đảm nguyên tắc xét chuyển từ chức danh nghề nghiệp này sang chức danh nghề nghiệp khác tương ứng cùng mức độ phức tạp công việc theo yêu cầu của vị trí việc làm (Khoản 1 Điều 29) và viên chức được xét chuyển chức danh nghề nghiệp phải đáp ứng đủ tiêu chuẩn chức danh nghề nghiệp được chuyển (Khoản 2 Điều 30).Đồng thời, thẩm quyền thực hiện việc xét chuyển chức danh nghề nghiệp được Chính phủ quy định tại Khoản 3 Điều 30 như sau: \"Người đứng đầu đơn vị sự nghiệp công lập quyết định hoặc đề nghị cấp có thẩm quyền quyết định việc xét chuyển chức danh nghề nghiệp theo thẩm quyền phân cấp\".Do đó, đề nghị ông Ngô Kim Thanh liên hệ trực tiếp với hiệu trưởng nhà trường và cấp có thẩm quyền thực hiện việc xét chuyển chức danh nghề nghiệp giáo viên theo phân cấp của địa phương để xác định các vị trí việc làm có cùng mức độ phức tạp công việc với vị trí việc làm mà ông đang đảm nhận và mức độ đáp ứng về tiêu chuẩn chức danh nghề nghiệp của ông đối với vị trí việc làm tương ứng cùng mức độ phức tạp công việc đó để có phương án chuyển chức danh nghề nghiệp đúng quy định của pháp luật.\n",
      "\n",
      "ID: oOf2gZEBurXB-Nfo-1pN\n",
      "Score: 31.689299\n",
      "Situation: Tôi tốt nghiệp ngành cử nhân Khúc xạ nhãn khoa tại Trường Đại học Y khoa Phạm Ngọc Thạch. Tôi được học bài bản về cấu trúc giải phẫu mắt, bệnh học mắt, các thủ thuật khám tật khúc xạ, kiểm tra các bệnh về mắt, đọc kết quả chẩn đoán và phương giao tiếp và tiếp xúc với bệnh nhân.... Hiện nay, công việc chính của tôi là giảng dạy tại trường về ngành Khúc xạ nhãn khoa. Ngoài ra, tôi cũng được cùng bác sĩ khám tại phòng khám đa khoa của trường, đi cùng bác sĩ khám sàng lọc ngoại viện về tật khúc xạ, lác/lé, khiếm thị, bệnh về mắt...  Tôi được biết ngành y muốn hành nghề chính thức cần phải có chứng chỉ hành nghề, nhưng từ khi ra trường được tiếp xúc nhiều bệnh nhân, tôi vẫn chưa thể nghĩ đến việc được cấp chứng chỉ hành nghề vì ngành cử nhân Khúc xạ nhãn khoa vẫn chưa có quyết định về chứng chỉ hành nghề từ cơ quan có thẩm quyền.   Việc không có chứng chỉ hành nghề khiến các đồng nghiệp trong ngành của tôi và bản thân tôi mất định hướng về việc phát triển bản thân trong tương lai, cũng như gặp khó khăn trong việc hướng nghiệp các tân sinh viên và các sinh viên Khúc xạ nhãn khoa vừa tốt nghiệp.  Tôi mong cơ quan có thẩm quyền sớm có phương án hợp lý và có quyết định trong việc cấp chứng chỉ hành nghề cho ngành cử nhân Khúc xạ nhãn khoa. Đây là một ngành thực sự cần thiết cho hệ thống chăm sóc mắt Việt Nam hiện nay.\n",
      "Answer: Bộ Y tế trả lời vấn đề này như sau:Để khuyến khích và tạo điều kiện chuyên ngành cử nhân Khúc xạ nhãn khoa, Bộ Y tế đã ban hành thông tư quy định mã số, tiêu chuẩn chức danh nghề nghiệp và xếp lương viên chức Khúc xạ nhãn khoa được Bộ Y tế ban hành vào tháng 9/2021 như ông đề cập.Hiện nay,Luật Khám bệnh, chữa bệnhsửa đổi ban hành năm 2023 trong đó các nội dung liên quan đến điều kiện, hồ sơ cấp chứng chỉ hành nghề cử nhân Khúc xạ nhãn khoa đã được đề cập. Các nội dung này có hiệu lực từ tháng 1/2024.\n",
      "\n",
      "ID: i-f2gZEBurXB-Nfo-1pN\n",
      "Score: 31.429035\n",
      "Situation: Tôi là cử nhân hóa học, đã được cấp chứng chỉ hành nghề xét nghiệm y học. Xin hỏi, tôi có đủ điều kiện về văn bằng để tham gia thi tuyển viên chức vị trí kỹ thuật viên xét nghiệm hay không?\n",
      "Answer: Bộ Y tế trả lời vấn đề này như sau:Ngày 26/4/2022, Bộ trưởng Bộ Y tế đã ban hành Thông tư số03/2022/TT-BYTsửa đổi, bổ sung một số quy định về tiêu chuẩn chức danh nghề nghiệp viên chức chuyên ngành y tế, trong đó quy định người được tuyển dụng vào chức danh nghề nghiệp hạng III Kỹ thuật y phải có trình độ tốt nghiệp đại học nhóm ngành kỹ thuật y học (kỹ thuật xét nghiệm y học, kỹ thuật hình ảnh y học, kỹ thuật phục hồi chức năng).Trường hợp bằng cử nhân hoá học chưa đáp ứng được yêu cầu trình độ đào tạo của chức danh nghề nghiệp Kỹ thuật y hạng III, vì vậy chưa đủ điều kiện để được tuyển dụng vào vị trí việc làm Kỹ thuật y hạng III.\n",
      "\n",
      "ID: Vuf2gZEBurXB-Nfo-1pN\n",
      "Score: 31.376717\n",
      "Situation: Tôi đang công tác tại trường tiểu học và THCS (trường liên cấp). Trường tôi có giáo viên A kiêm nhiệm chức vụ Phó Chủ tịch công đoàn trường (giáo viên A thuộc biên chế cấp THCS).   Theo Điểm c Khoản 2 Điều 3 Thông tư số 08/2016/TT-BGDĐT ngày 28/3/2016, đối với trường phổ thông có nhiều cấp học, định mức giảm giờ dạy cho giáo viên làm công tác công đoàn không chuyên trách được tính theo định mức giảm giờ dạy cao nhất đã quy định cho mỗi cấp học.  Với nội dung này thì ở trường tôi có 2 cách hiểu:   (1) Giáo viên A cho rằng đây là trường liên cấp nên giáo viên A phải được giảm định mức giờ dạy cao nhất tức là giảm 4 tiết/tuần theo quy định tại Điểm a Khoản 2 Điều 3 dành cho giáo viên tiểu học.   (2) Lãnh đạo nhà trường cho rằng giáo viên A thuộc biên chế cấp THCS nên chỉ được giảm 3 tiết/tuần theo quy định tại Điểm a Khoản 2 dành cho giáo viên THCS.   Tôi xin hỏi, cách hiểu nào là đúng, giáo viên A được giảm 3 tiết/tuần hay 4 tiết/tuần?\n",
      "Answer: Bộ Giáo dục và Đào tạo trả lời vấn đề này như sau:Theo quy định tại Điểm c Khoản 2 Điều 3 Thông tư số08/2016/TT-BGDĐT:\"Đối với trường phổ thông có nhiều cấp học, định mức giảm giờ dạy cho giáo viên làm công tác công đoàn không chuyên trách được tính theo định mức giảm giờ dạy cao nhất đã quy định cho mỗi cấp học\".Trong đó, theo quy định tại Điểm a Khoản 2 Điều 3 Thông tư số 08/2016/TT-BGDĐT thì giáo viên làm Phó Chủ tịch công đoàn cơ sở không chuyên trách trường tiểu học được giảm 4 giờ dạy trong một tuần, trường THCS được giảm 3 giờ dạy trong một tuần.Do đó, trường hợp này giáo viên A kiêm nhiệm chức vụ Phó Chủ tịch công đoàn của trường tiểu học và THCS được giảm định mức tiết dạy như giáo viên kiêm nhiệm Phó Chủ tịch công đoàn trường tiểu học.\n",
      "\n",
      "ID: cuf2gZEBurXB-Nfo-1pN\n",
      "Score: 31.253523\n",
      "Situation: Tôi là bác sĩ y học dự phòng, đã tốt nghiệp chuyên khoa I bác sĩ y học gia đình, được Sở Y tế cấp chứng chỉ hành nghề y học gia đình. Tôi làm việc tại Trung tâm y tế huyện, cơ quan muốn phân công tôi làm việc tại Khoa Khám bệnh, nhưng BHXH huyện trả lời sẽ từ chối thanh toán BHYT các toa thuốc do tôi khám cho người bệnh.  Xin hỏi, BHXH huyện sẽ từ chối thanh toán BHYT các toa thuốc do tôi khám cho người bệnh có đúng quy định không? Hiện việc khám chữa bệnh của bác sĩ y học dự phòng có thêm chứng chỉ hành nghề y học gia đình tại Trung tâm y tế và thanh toán BHYT căn cứ theo quy định, hướng dẫn nào?\n",
      "Answer: Bảo hiểm xã hội Việt Nam trả lời vấn đề này như sau:Tại Khoản 3 Điều 4 Thông tư số21/2019/TT-BYTngày 21/8/2019 của Bộ trưởng Bộ Y tế hướng dẫn thí điểm về hoạt động y học gia đình quy định, bác sĩ y học dự phòng đã được cấp chứng chỉ hành nghề khám bệnh, chữa bệnh trước và sau ngày Thông tư này có hiệu lực, có giấy chứng nhận đào tạo, bồi dưỡng về y học gia đình tối thiểu 3 tháng được tham gia khám bệnh, chữa bệnh y học gia đình tại trạm y tế xã, phường, thị trấn (tuyến 4).Qua trao đổi thông tin với bà Nga, thì hiện tại bà chỉ có chứng chỉ hành nghề khám bệnh, chữa bệnh do Sở Y tế tỉnh Đồng Nai cấp năm 2020 với phạm vi hoạt động chuyên môn là \"phát hiện và xử trí các bệnh thông thường; xử trí ban đầu một số trường hợp cấp cứu tại cộng đồng\".TạiLuật Khám bệnh, chữa bệnhquy định các hành vi bị cấm, trong đó có trường hợp hành nghề khám bệnh, chữa bệnh, cung cấp dịch vụ khám bệnh, chữa bệnh vượt quá phạm vi hoạt động chuyên môn được ghi trong chứng chỉ hành nghề, giấy phép hoạt động, trừ trường hợp cấp cứu.Ngày 26/12/2023, Bộ Y tế có Công văn số 8193/BYT-BH trả lời BHXH Việt Nam đối với vướng mắc trong giám định, thanh toán chi phí khám bệnh, chữa bệnh BHYT.Theo đó, hướng dẫn trong thời gian chờ có văn bản hướng dẫn của Bộ Y tế, bác sĩ y học dự phòng tạm thời chỉ thực hiện khám bệnh nội khoa, chỉ định và thực hiện các kỹ thuật, thủ thuật loại 2, 3 và không phân loại tại Phụ lục I ban hành kèm theo Thông tư số 35/2019/TT-BYT ngày 30/12/2019 của Bộ trưởng Bộ Y tế.Sau khi có ý kiến trả lời của Bộ Y tế, BHXH Việt Nam đã có Công văn số 109/BHXH-CSYT ngày 16/1/2024 hướng dẫn BHXH các tỉnh, thành phố trực thuộc Trung ương về nội dung này.\n"
     ]
    }
   ],
   "source": [
    "response = client.search(\n",
    "    index=\"semantic-text-qa-gd_dt_yt_100\",\n",
    "    query={\n",
    "        \"semantic\": {\n",
    "            \"field\": \"situation_semantic\", \n",
    "            \"query\": \"tôi vừa thi đại học xong, điểm khá cao và đang đăng ký xét nguyện vọng, thì có phải thực hiện đi nghĩa vụ không nếu địa phương yêu cầu?\"\n",
    "        }\n",
    "    },\n",
    ")\n",
    "\n",
    "pretty_search_response(response)"
   ]
  },
  {
   "cell_type": "markdown",
   "metadata": {},
   "source": [
    "**Nhận Xét:**\n",
    "- Phương pháp Semantic Search này đôi khi sẽ cho ra kết quả không được quá tốt, chẳng hạn như ở trường hợp trên, kết quả mong muốn lại xếp ở vị trí số 2.\n",
    "- Kết quả này cũng cho thấy điểm yếu của Semantic Search. Vì Semantic Search dựa trên sự tương đồng của vector, nên có đôi lúc câu hỏi truy vấn của người dùng có độ tương đồng với dữ liệu khác so với kết quả mong muốn (độ sai lệch có thể khá nhỏ). Đó là lý do tại sao ở ví dụ trên, kết quả mong muốn lại đứng ở vị trí số 2."
   ]
  },
  {
   "cell_type": "code",
   "execution_count": 14,
   "metadata": {},
   "outputs": [
    {
     "name": "stdout",
     "output_type": "stream",
     "text": [
      "\n",
      "ID: Pef2gZEBurXB-Nfo-1pN\n",
      "Score: 134.07864\n",
      "Situation: Tôi xin hỏi, học sinh vừa tốt nghiệp THPT khi xét tuyển vào các trường cao đẳng thì có được tạm miễn thực hiện nghĩa vụ quân sự không?\n",
      "Answer: Bộ Quốc phòng trả lời vấn đề này như sau:Theo quy định tại Điểm g Khoản 1 Điều 41Luật Nghĩa vụ quân sựnăm 2015, những công dân sau đây được tạm hoãn gọi nhập ngũ:\"g) Đang học tại cơ sở giáo dục phổ thông; đang được đào tạo trình độ đại học hệ chính quy thuộc cơ sở giáo dục đại học, trình độ cao đẳng hệ chính quy thuộc các cơ sở giáo dục nghề nghiệp trong một khóa đào tạo của một trình độ đào tạo\".Như vậy, công dân thuộc trường hợp nêu tại Điểm g Khoản 1 Điều 41 Luật Nghĩa vụ quân sự năm 2015 được tạm hoãn từ ngày công dân đã làm xong thủ tục nhập học và đang học tập tại trường; chỉ được tạm hoãn gọi nhập ngũ trong một khóa đào tạo tập trung đầu tiên, còn các khóa học tiếp theo thì không được tạm hoãn.\n",
      "\n",
      "ID: h-f2gZEBurXB-Nfo-1pN\n",
      "Score: 129.90456\n",
      "Situation: Tôi tốt nghiệp Cao đẳng sư phạm Toán - Lý năm 2002 và nhận công tác tại trường cấp II với quyết định tuyển dụng là giáo viên Toán - Lý. Thời điểm đó, nhà trường thiếu giáo viên môn Vật lý nên phân công tôi giảng dạy môn Vật lý, không phân giảng dạy môn Toán. Sau đó, tôi học và tốt nghiệp đại học chuyên ngành Toán, nhưng nhà trường vẫn không phân công tôi giảng dạy môn Toán dù tôi đã nhiều lần trao đổi với Ban lãnh đạo nhà trường.  Năm 2020, theo chương trình giáo dục phổ thông 2018, bộ môn Khoa học tự nhiên gồm 3 phân môn: Toán, Lý, Hóa, nhà trường lập danh sách đưa tôi vào diện chưa đạt trình độ chuẩn và yêu cầu tôi phải đi học đại học môn Vật lý để đạt trình độ chuẩn và giảng dạy môn Khoa học tự nhiên.  Nhà trường không căn cứ vào quyết định tuyển dụng và bằng đại học Toán của tôi để phân công tôi giảng dạy chuyên môn chính là Toán mà phân công giảng dạy phân môn phụ (môn Vật  lý) vì lý do nhà trường thiếu giáo viên môn Vật lý.   Xin hỏi, trong trường hợp này nhà trường buộc tôi phải đi học đại học môn Vật lý có phù hợp không?\n",
      "Answer: Bộ Giáo dục và Đào tạo trả lời vấn đề này như sau:Khoản 10 Điều 5 Thông tư số08/2023/TT-BGDĐTngày 14/4/2023 của Bộ trưởng Bộ Giáo dục và Đào tạo sửa đổi, bổ sung một số điều của các Thông tư số 01, 02, 03, 04/2021/TT-BGDĐT ngày 2/2/2021 của Bộ trưởng Bộ Giáo dục và Đào tạo quy định mã số, tiêu chuẩn chức danh nghề nghiệp và bổ nhiệm, xếp lương viên chức giảng dạy trong các cơ sở giáo dục mầm non, phổ thông công lập quy định:\"Trường hợp giáo viên đã có bằng cử nhân trở lên thuộc ngành đào tạo giáo viên, hoặc có bằng cử nhân và có chứng chỉ bồi dưỡng nghiệp vụ sư phạm được phân công giảng dạy môn học khác với chuyên ngành được đào tạo và được người đứng đầu cơ sở giáo dục đánh giá đạt tiêu chuẩn về năng lực chuyên môn, nghiệp vụ để giảng dạy môn học được phân công thì được bổ nhiệm chức danh nghề nghiệp, xếp lương và được đăng ký dự thi hoặc xét thăng hạng chức danh nghề nghiệp theo quy định\".Trường hợp bà Nguyễn Thị Thanh Thủy đã có bằng cử nhân chuyên ngành Toán và bằng tốt nghiệp cao đẳng sư phạm Toán – Lý, đồng thời, được hiệu trưởng đánh giá đạt tiêu chuẩn về năng lực chuyên môn, nghiệp vụ để giảng dạy môn Vật lý thì bà được xác định là đủ tiêu chuẩn về trình độ đào tạo của cấp trung học cơ sở để bổ nhiệm chức danh nghề nghiệp giáo viên trung học cơ sở và được đăng ký dự xét thăng hạng chức danh nghề nghiệp giáo viên trung học cơ sở.Theo quyết định tuyển dụng, bà Thủy được tuyển dụng vào vị trí giáo viên Toán – Lý, thời điểm bà được tuyển dụng thì trình độ chuẩn được đào tạo của giáo viên trung học cơ sở là cao đẳng, nên việc hiệu trưởng phân công bà dạy môn Vật lý là phù hợp và đúng thẩm quyền.Trường hợp bà có nhu cầu được bố trí giảng dạy môn Toán theo đúng chuyên ngành được đào tạo thì bà đề đạt nguyện vọng với hiệu trưởng và cơ quan có thẩm quyền để được bố trí lại nhiệm vụ trong trường hợp cơ sở giáo dục nơi bà đang công tác hoặc cơ sở giáo dục khác có nhu cầu bổ sung giáo viên dạy môn Toán.\n",
      "\n",
      "ID: buf2gZEBurXB-Nfo-1pN\n",
      "Score: 123.962746\n",
      "Situation: Tôi có bằng tốt nghiệp Trường Cao đẳng Dược, muốn xin vào cơ sở dược để thực hành và xin giấy xác nhận thời gian thực hành. Nhưng cơ sở dược yêu cầu tôi phải tìm nhà thuốc chuẩn bị thẩm định tiêu chuẩn GPP để làm hồ sơ đăng ký. Tôi xin hỏi, yêu cầu này có đúng không?\n",
      "Answer: Bộ Y tế trả lời vấn đề này như sau:Cá nhân đề nghị cấp chứng chỉ hành nghề dược phải đáp ứng điều kiện về văn bằng chuyên môn, thời gian thực hành chuyên môn và các điều kiện khác theo quy định tại Điều 13Luật Dược năm 2016.Người có bằng tốt nghiệp cao đẳng ngành dược đáp ứng các điều kiện trên có thể đề nghị cấp chứng chỉ hành nghề dược đối với các vị trí công việc theo quy định tại Điểm b Khoản 3 Điều 15 và Khoản 2, Khoản 3, Khoản 4 Điều 18 Luật Dược năm 2016.Đối với từng vị trí công việc, người đề nghị cấp chứng chỉ hành nghề dược phải có thời gian thực hành chuyên môn về dược tại cơ sở dược phù hợp theo quy định tại Điều 19, Điều 20 Nghị định số54/2017/NĐ-CPngày 8/5/2017 của Chính phủ quy định chi tiết một số điều và biện pháp thi hành Luật Dược (được sửa đổi, bổ sung theo quy định tại Nghị định số155/2018/NĐ-CPngày 12/11/2018 của Chính phủ sửa đổi, bổ sung một số quy định liên quan đến điều kiện đầu tư kinh doanh thuộc phạm vi quản lý nhà nước của Bộ Y tế).\n",
      "\n",
      "ID: lef2gZEBurXB-Nfo-1pN\n",
      "Score: 123.37191\n",
      "Situation: Tôi có bằng Cao đẳng sư phạm Hóa – Kỹ thuật và bằng Đại học sư phạm Hóa. Tôi đã được bổ nhiệm ngạch Nhân viên thiết bị - thí nghiệm trường tiểu học. Hiện nay, trường tôi công tác đang thiếu giáo viên môn Tin học và Công nghệ nên tôi muốn xin chuyển ngạch sang làm giáo viên tiểu học hạng 3 dạy môn Tin học và Công nghệ. Tôi dự định học thêm chứng chỉ bồi dưỡng dành cho giáo viên dạy môn Tin học và Công nghệ tiểu học, chứng chỉ chức danh nghề nghiệp dành cho giáo viên tiểu học để xin chuyển ngạch.   Xin hỏi, tôi có chuyển ngạch được không hay chỉ chuyển sang được ngạch giáo viên THCS và THPT?\n",
      "Answer: Bộ Giáo dục và Đào tạo trả lời vấn đề này như sau:Theo quy định của Chính phủ tại Nghị định số115/2020/NĐ-CPngày 25/9/2020 về tuyển dụng, sử dụng và quản lý viên chức thì khi viên chức thay đổi vị trí việc làm mà chức danh nghề nghiệp đang giữ không phù hợp với yêu cầu của vị trí việc làm mới thì được cơ quan có thẩm quyền thực hiện việc xét chuyển chức danh nghề nghiệp (Khoản 1 Điều 30) và phải bảo đảm nguyên tắc xét chuyển từ chức danh nghề nghiệp này sang chức danh nghề nghiệp khác tương ứng cùng mức độ phức tạp công việc theo yêu cầu của vị trí việc làm (Khoản 1 Điều 29) và viên chức được xét chuyển chức danh nghề nghiệp phải đáp ứng đủ tiêu chuẩn chức danh nghề nghiệp được chuyển (Khoản 2 Điều 30).Đồng thời, thẩm quyền thực hiện việc xét chuyển chức danh nghề nghiệp được Chính phủ quy định tại Khoản 3 Điều 30 như sau: \"Người đứng đầu đơn vị sự nghiệp công lập quyết định hoặc đề nghị cấp có thẩm quyền quyết định việc xét chuyển chức danh nghề nghiệp theo thẩm quyền phân cấp\".Do đó, đề nghị ông Ngô Kim Thanh liên hệ trực tiếp với hiệu trưởng nhà trường và cấp có thẩm quyền thực hiện việc xét chuyển chức danh nghề nghiệp giáo viên theo phân cấp của địa phương để xác định các vị trí việc làm có cùng mức độ phức tạp công việc với vị trí việc làm mà ông đang đảm nhận và mức độ đáp ứng về tiêu chuẩn chức danh nghề nghiệp của ông đối với vị trí việc làm tương ứng cùng mức độ phức tạp công việc đó để có phương án chuyển chức danh nghề nghiệp đúng quy định của pháp luật.\n",
      "\n",
      "ID: XOf2gZEBurXB-Nfo-1pN\n",
      "Score: 118.62134\n",
      "Situation: Tôi có hộ khẩu tại TP. Hà Nội, tốt nghiệp bác sĩ y học cổ truyền năm 2019. Tôi đi làm tại bệnh viện tư nhân ở tỉnh Thanh Hóa, được Sở Y tế tỉnh Thanh Hóa cấp chứng chỉ hành nghề. Sau đó, tôi về TP. Hà Nội đăng ký hành nghề tại một phòng khám chuyên khoa và vừa học xong chứng chỉ phục hồi chức năng. Xin hỏi, tôi muốn mở rộng phạm vi hành nghề thì đăng ký hồ sơ tại Sở Y tế TP. Hà Nội hay Sở Y tế tỉnh Thanh Hóa?\n",
      "Answer: Bộ Y tế trả lời vấn đề này như sau:Cục Quản lý Y, Dược cổ truyền không có thông tin cụ thể việc thực hiện đăng ký hành nghề của bà Đặng Huyền đối với Sở Y tế TP. Hà Nội, do vậy đề nghị bà liên hệ với Sở Y tế nơi đăng ký hành nghề để được hướng dẫn chi tiết.Đề nghị bà và cơ sở khám bệnh chữa bệnh nơi bà đăng ký hành nghề thực hiện việc đăng ký hành nghề theo đúng quy định tại Điều 27, Điều 28 và Điều 29 Nghị định số96/2023/NĐ-CPngày 30/12/2023 của Chính phủ quy định chi tiết một số điều của Luật Khám bệnh, chữa bệnh.\n",
      "\n",
      "ID: c-f2gZEBurXB-Nfo-1pN\n",
      "Score: 118.08919\n",
      "Situation: Tôi xin  hỏi, trẻ em mẫu giáo và học sinh theo học tại các trường đóng trên địa bàn xã, thị trấn thuộc xã khu vực I, II; có hộ khẩu ở thôn, bản đặc biệt khó khăn, xã khu vực III, nhưng bố mẹ có nhà cửa và đang sinh sống làm việc tại khu vực I thì có được hỗ trợ chi phí học tập theo Nghị định số 81/2021/NĐ-CP không?\n",
      "Answer: Bộ Giáo dục và Đào tạo trả lời vấn đề này như sau:Khoản 4 Điều 18 Nghị định số81/2021/NĐ-CPquy định đối tượng được hưởng hỗ trợ chi phí học tập gồm: Trẻ em học mẫu giáo và học sinh phổ thông, học viên học tại cơ sở giáo dục thường xuyên theo chương trình giáo dục phổ thông ở thôn/bản đặc biệt khó khăn, xã khu vực III vùng dân tộc và miền núi, xã đặc biệt khó khăn vùng bãi ngang ven biển hải đảo theo quy định của cơ quan có thẩm quyền.Trường hợp trẻ em học mẫu giáo và học sinh đang theo học tại các trường đóng trên địa bàn xã, thị trấn thuộc xã khu vực I, II; có hộ khẩu thường trú ở thôn, bản đặc biệt khó khăn, xã khu vực III, nhưng bố mẹ hiện tại có nhà cửa và đang sinh sống làm việc tại khu vực I thì không được hưởng hỗ trợ chi phí học tập theo quy định nêu trên (do trẻ em mẫu giáo, học sinh và cha mẹ hiện tại đang sinh sống và làm việc tại khu vực I, không phải khu vực có điều kiện kinh tế xã hội đặc biệt khó khăn).\n",
      "\n",
      "ID: Ref2gZEBurXB-Nfo-1pN\n",
      "Score: 114.801216\n",
      "Situation: Tôi học chuyên ngành Công nghệ sinh học, được tuyển dụng viên chức từ năm 2014 vào Trung tâm y tế dự phòng, công tác tại Khoa Xét nghiệm, với mã ngạch kỹ thuật viên. Sau khi sáp nhập các đơn vị thành Trung tâm Kiểm soát bệnh tật, tôi vẫn công tác tại Khoa Xét nghiệm với mã ngạch V.08, Kỹ thuật y hạng 3.  Khi cơ quan sắp xếp lại vị trí việc làm, có yêu cầu cần chứng chỉ hành nghề hoặc chứng chỉ chức danh nghề nghiệp hạng 3. Theo tôi hiểu, đầu vào đủ điều kiện hạng 3 và đang giữ vị trí hạng 3 không cần học chứng chỉ bồi dưỡng chức danh nghề nghiệp, thay vào đó sẽ đăng ký lớp kỹ thuật y học cơ bản 3-6 tháng.  Tôi đề nghị giải đáp về vấn đề nêu trên và đề nghị cơ quan có thẩm quyền sớm có văn bản công nhận hệ đào tạo Công nghệ sinh học là hệ đào tạo gần với kỹ thuật y học, và có văn bản quy định việc cấp chứng chỉ hành nghề cho những đối tượng có bằng Công nghệ sinh học.\n",
      "Answer: Bộ Y tế trả lời vấn đề này như sau:Tại Điểm g Khoản 4 Điều 40 Nghị định số96/2023/NĐ-CPngày 30/12/2023 của Chính phủ quy định chi tiết một số điều của Luật Khám bệnh, chữa bệnh về điều kiện cấp giấy phép hoạt động chung đối với cơ sở khám bệnh, chữa bệnh quy định:Các đối tượng khác tham gia vào quá trình khám bệnh, chữa bệnh nhưng không cần phải cấp giấy phép hành nghề theo quy định tại Điểm d Khoản 2 Điều 19 của Luật Khám bệnh, chữa bệnh (kỹ sư vật lý y học, kỹ sư xạ trị, kỹ sư công nghệ sinh học, cử nhân công nghệ sinh học và các đối tượng khác, sau đây gọi là người làm việc) được phép thực hiện các hoạt động chuyên môn theo phân công của người chịu trách nhiệm chuyên môn kỹ thuật của cơ sở khám bệnh, chữa bệnh, việc phân công phải phù hợp với văn bằng chuyên môn và khả năng của người đó.\n",
      "\n",
      "ID: Sef2gZEBurXB-Nfo-1pN\n",
      "Score: 113.65767\n",
      "Situation: Khi chưa có chuyên ngành xét nghiệm thì cử nhân sinh học, công nghệ sinh học và dược sĩ là những kỹ thuật viên xét nghiệm tiên phong, chủ chốt trong phòng xét nghiệm. Sau khi hoàn thành khóa bổ sung kiến thức kỹ thuật xét nghiệm 6 tháng thì được phép thi và học lên thạc sĩ xét nghiệm, sau đó được cấp bằng thạc sĩ xét nghiệm. Tuy nhiên, theo Dự thảo lần 2 Nghị định quy định chi tiết và hướng dẫn thi hành Luật Khám bệnh, chữa bệnh, bắt buộc thạc sĩ xét nghiệm, tiến sĩ xét nghiệm (không xuất phát từ cử nhân xét nghiệm như cử nhân sinh học, công nghệ sinh học, dược sĩ trước đây) đều phải đi học cử nhân xét nghiệm.  Quy định như vậy không hợp lý vì kỹ thuật viên xét nghiệm là những cán bộ kì cựu trong lĩnh vực này và đã có bằng thạc sĩ xét nghiệm rồi, nếu không đi học lại cử nhân xét nghiệm sẽ buộc phải nghỉ việc, còn đi học lại thì chỉ mang hình thức bằng cấp đối phó.  Tôi đề nghị cơ quan soạn thảo xem xét lại bất cập này, bổ sung đối tượng thạc sĩ xét nghiệm (những đối tượng không xuất phát từ cử nhân xét nghiệm) được cấp giấy phép hành nghề.\n",
      "Answer: Bộ Y tế trả lời vấn đề này như sau:Theo quy định tại Nghị định số96/2023/NĐ-CPngày 30/12/2023 của Chính phủ quy định chi tiết một số điều của Luật Khám bệnh, chữa bệnh thì việc cấp giấy phép hành nghề đối với người có văn bằng chuyên môn là thạc sĩ thuộc lĩnh vực y học đã được đưa vào trong Nghị định là một trong những văn bản được xem xét cấp giấy phép hành nghề đáp ứng theo quy định tại Điều 125, 126, 127.\n",
      "\n",
      "ID: nuf2gZEBurXB-Nfo-1pN\n",
      "Score: 112.75878\n",
      "Situation: Tôi xin hỏi, những người trong biên chế đang làm việc tại các bệnh viện, trạm y tế, có bắt buộc phải học nâng cao lớp cao đẳng y sĩ không? Sau khi học xong có được chuyển bậc lương không? Nếu không học lớp nâng cao khi chuẩn hóa không còn hệ trung cấp thì có bị cho thôi việc không?\n",
      "Answer: Bộ Y tế trả lời vấn đề này như sau:Luật Khám bệnh, chữa bệnh số15/2023/QH15ngày 9/1/2023 quy định, người được cấp văn bằng đào tạo y sĩ trình độ trung cấp sau ngày 31/12/2026 thì không được cấp giấy phép hành nghề đối với chức danh y sĩ.Như vậy, người được cấp giấy phép hành nghề y sĩ được cấp trước ngày 31/12/2026 không bắt buộc phải học nâng cao lớp cao đẳng y sĩ, vẫn tiếp tục làm việc tại vị trí việc làm và chứng chỉ hành nghề y sĩ trung cấp đã được cấp.Hiện nay chưa có quy định của pháp luật quy định cho thôi việc đối với y sĩ trung cấp và quy định chuyển xếp lương đối với y sĩ trung cấp.\n",
      "\n",
      "ID: Vef2gZEBurXB-Nfo-1pN\n",
      "Score: 112.65087\n",
      "Situation: Tôi xin hỏi, người lao động đã có chứng chỉ bồi dưỡng theo tiêu chuẩn chức danh nghề nghiệp giảng viên đại học thì có thay thế cho chứng chỉ nghiệp vụ sư phạm giảng dạy cho trình độ cao đẳng, đại học không?\n",
      "Answer: Bộ Giáo dục và Đào tạo trả lời vấn đề này như sau:Căn cứ quy định tại Nghị định số115/2020/NĐ-CPngày 25/9/2020 của Chính phủ về tuyển dụng, sử dụng và quản lý viên chức, Bộ trưởng Bộ Giáo dục và Đào tạo đã ký ban hành Thông tư số40/2020/TT-BGDĐTngày 26/10/2020 quy định mã số, tiêu chuẩn chức danh nghề nghiệp (CDNN), bổ nhiệm và xếp lương đối với viên chức giảng dạy trong các cơ sở giáo dục đại học công lập; Thông tư số35/2020/TT-BGDĐTquy định mã số, tiêu chuẩn CDNN, bổ nhiệm và xếp lương đối với viên chức giảng dạy trong các trường cao đẳng sư phạm công lập.Ngày 18/10/2021, Chính phủ đã ban hành Nghị định số89/2021/NĐ-CPsửa đổi, bổ sung một số điều của Nghị định số 101/2017/NĐ-CP ngày 1/9/2017 của Chính phủ về đào tạo, bồi dưỡng cán bộ, công chức, viên chức. Theo đó, Chính phủ điều chỉnh quy định về chương trình bồi dưỡng theo tiêu chuẩn CDNN viên chức chuyên ngành. Vì vậy, ngày 4/3/2022, Bộ trưởng Bộ Giáo dục và Đào tạo đã ban hành Thông tư số04/2022/TT-BGDĐTsửa đổi, bổ sung một số Điều của Thông tư số 35/2020/TT-BGDĐT và Thông tư số 40/2020/TT-BGDĐT.Giảng viên đại học yêu cầu phải có chứng chỉ bồi dưỡng theo tiêu chuẩn chức danh nghề nghiệp giảng viên đại học; giảng viên cao đẳng sư phạm yêu cầu phải có chứng chỉ bồi dưỡng theo tiêu chuẩn chức danh nghề nghiệp giảng viên cao đẳng sư phạm.Các chứng chỉ này không thay thế cho chứng chỉ nghiệp vụ sư phạm giảng dạy cho trình độ cao đẳng, đại học.\n"
     ]
    }
   ],
   "source": [
    "response = client.search(\n",
    "    index=\"semantic-text-qa-gd_dt_yt_100\",\n",
    "    query={\n",
    "        \"bool\": {\n",
    "            \"must\": {\n",
    "                \"multi_match\": {\n",
    "                    \"fields\": [\"situation\", \"answer\"],\n",
    "                    \"query\": \"tôi vừa thi đại học xong, điểm khá cao và đang đăng ký xét nguyện vọng, thì có phải thực hiện đi nghĩa vụ không nếu địa phương yêu cầu?\",\n",
    "                    \"boost\": 1.5\n",
    "                }\n",
    "            },\n",
    "            \"should\": {\n",
    "                \"semantic\": {\n",
    "                    \"field\": \"situation_semantic\",\n",
    "                    \"query\": \"tôi vừa thi đại học xong, điểm khá cao và đang đăng ký xét nguyện vọng, thì có phải thực hiện đi nghĩa vụ không nếu địa phương yêu cầu?\",\n",
    "                    \"boost\": 3.0\n",
    "                }\n",
    "            },\n",
    "        }\n",
    "    },\n",
    ")\n",
    "\n",
    "pretty_search_response(response)"
   ]
  },
  {
   "cell_type": "markdown",
   "metadata": {},
   "source": [
    "**Nhận xét:**\n",
    "- Những kết quả này chứng minh rằng việc áp dụng kỹ thuật tìm kiếm từ khóa có thể giúp tập trung kết quả, đồng thời vẫn giữ được nhiều lợi thế của tìm kiếm ngữ nghĩa. Trong ví dụ này, top 1 kết quả truy vấn đã trả về kết quả mà ta mong muốn."
   ]
  },
  {
   "cell_type": "code",
   "execution_count": null,
   "metadata": {},
   "outputs": [],
   "source": []
  },
  {
   "cell_type": "code",
   "execution_count": null,
   "metadata": {},
   "outputs": [],
   "source": []
  },
  {
   "cell_type": "code",
   "execution_count": null,
   "metadata": {},
   "outputs": [],
   "source": []
  }
 ],
 "metadata": {
  "kernelspec": {
   "display_name": "Python 3",
   "language": "python",
   "name": "python3"
  },
  "language_info": {
   "codemirror_mode": {
    "name": "ipython",
    "version": 3
   },
   "file_extension": ".py",
   "mimetype": "text/x-python",
   "name": "python",
   "nbconvert_exporter": "python",
   "pygments_lexer": "ipython3",
   "version": "3.9.8"
  }
 },
 "nbformat": 4,
 "nbformat_minor": 2
}
