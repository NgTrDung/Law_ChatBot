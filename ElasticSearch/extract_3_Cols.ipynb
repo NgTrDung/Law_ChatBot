{
 "cells": [
  {
   "cell_type": "code",
   "execution_count": 1,
   "metadata": {},
   "outputs": [],
   "source": [
    "import pandas as pd"
   ]
  },
  {
   "cell_type": "code",
   "execution_count": 2,
   "metadata": {},
   "outputs": [],
   "source": [
    "df_0 = pd.read_csv(r\"data\\csv\\raw\\bhxh_bhyt_bhtn_data.csv\")\n",
    "df_1 = pd.read_csv(r\"data\\csv\\raw\\chinhsach_nguoicocong_data.csv\")\n",
    "df_2 = pd.read_csv(r\"data\\csv\\raw\\giaoduc_daotao_yte_data.csv\")\n",
    "df_3 = pd.read_csv(r\"data\\csv\\raw\\giaothong_xaydung_tainguyen_moitruong_data.csv\")\n",
    "df_4 = pd.read_csv(r\"data\\csv\\raw\\laodong_tienthuong_data.csv\")\n",
    "df_5 = pd.read_csv(r\"data\\csv\\raw\\linhvuckhac_data.csv\")\n",
    "df_6 = pd.read_csv(r\"data\\csv\\raw\\taichinh_nganhang_dautu_congthuong_data.csv\")"
   ]
  },
  {
   "cell_type": "code",
   "execution_count": 3,
   "metadata": {},
   "outputs": [
    {
     "data": {
      "text/plain": [
       "12818"
      ]
     },
     "execution_count": 3,
     "metadata": {},
     "output_type": "execute_result"
    }
   ],
   "source": [
    "len(df_0)+len(df_1)+len(df_2)+len(df_3)+len(df_4)+len(df_5)+len(df_6)"
   ]
  },
  {
   "cell_type": "code",
   "execution_count": 4,
   "metadata": {},
   "outputs": [],
   "source": [
    "# Lấy hai cột Situation và Answer\n",
    "df_0_selected = df_0[['Question', 'Situation', 'Answer']]\n",
    "df_1_selected = df_1[['Question', 'Situation', 'Answer']]\n",
    "df_2_selected = df_2[['Question', 'Situation', 'Answer']]\n",
    "df_3_selected = df_3[['Question', 'Situation', 'Answer']]\n",
    "df_4_selected = df_4[['Question', 'Situation', 'Answer']]\n",
    "df_5_selected = df_5[['Question', 'Situation', 'Answer']]\n",
    "df_6_selected = df_6[['Question', 'Situation', 'Answer']]"
   ]
  },
  {
   "cell_type": "code",
   "execution_count": 5,
   "metadata": {},
   "outputs": [],
   "source": [
    "# Lưu kết quả vào file mới output.csv\n",
    "df_0_selected.to_csv(r\"data\\csv\\3_Cols\\3C_bhxh_bhyt_bhtn_data.csv\", index=False, encoding='utf-8')\n",
    "df_1_selected.to_csv(r\"data\\csv\\3_Cols\\3C_chinhsach_nguoicocong_data.csv\", index=False, encoding='utf-8')\n",
    "df_2_selected.to_csv(r\"data\\csv\\3_Cols\\3C_giaoduc_daotao_yte_data.csv\", index=False, encoding='utf-8')\n",
    "df_3_selected.to_csv(r\"data\\csv\\3_Cols\\3C_giaothong_xaydung_tainguyen_moitruong_data.csv\", index=False, encoding='utf-8')\n",
    "df_4_selected.to_csv(r\"data\\csv\\3_Cols\\3C_laodong_tienthuong_data.csv\", index=False, encoding='utf-8')\n",
    "df_5_selected.to_csv(r\"data\\csv\\3_Cols\\3C_linhvuckhac_data.csv\", index=False, encoding='utf-8')\n",
    "df_6_selected.to_csv(r\"data\\csv\\3_Cols\\3C_taichinh_nganhang_dautu_congthuong_data.csv\", index=False, encoding='utf-8')"
   ]
  },
  {
   "cell_type": "code",
   "execution_count": null,
   "metadata": {},
   "outputs": [],
   "source": []
  }
 ],
 "metadata": {
  "kernelspec": {
   "display_name": "Python 3",
   "language": "python",
   "name": "python3"
  },
  "language_info": {
   "codemirror_mode": {
    "name": "ipython",
    "version": 3
   },
   "file_extension": ".py",
   "mimetype": "text/x-python",
   "name": "python",
   "nbconvert_exporter": "python",
   "pygments_lexer": "ipython3",
   "version": "3.9.8"
  }
 },
 "nbformat": 4,
 "nbformat_minor": 2
}
